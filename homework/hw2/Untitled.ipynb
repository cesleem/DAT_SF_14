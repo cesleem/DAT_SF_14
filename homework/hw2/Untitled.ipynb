{
 "cells": [
  {
   "cell_type": "code",
   "execution_count": null,
   "metadata": {
    "collapsed": true
   },
   "outputs": [],
   "source": [
    "def dividedata(data,test=0.05):\n",
    "  trainset=[]\n",
    "  testset=[]\n",
    "  for row in data:\n",
    "    if random()<test:\n",
    "      testset.append(row)\n",
    "    else:\n",
    "      trainset.append(row)\n",
    "  return trainset,testset\n",
    "\n",
    "def testalgorithm(algf,trainset,testset):\n",
    "  error=0.0\n",
    "  for row in testset:\n",
    "    guess=algf(trainset,row['input'])\n",
    "    error+=(row['result']-guess)**2\n",
    "    #print row['result'],guess\n",
    "  #print error/len(testset)\n",
    "  return error/len(testset)\n",
    "\n",
    "def crossvalidate(algf,data,trials=100,test=0.1):\n",
    "  error=0.0\n",
    "  for i in range(trials):\n",
    "    trainset,testset=dividedata(data,test)\n",
    "    error+=testalgorithm(algf,trainset,testset)\n",
    "  return error/trials\n",
    "\n",
    "    \n",
    "    \n",
    "    data = Xy[:, 0:4]\n",
    "    target = Xy[:,4:5]\n",
    "    fold_size = len(data)/float(fold)\n",
    "    fold_range = range(0, (len(data)+1), int(fold_size))\n",
    "    fold_slices = zip(fold_range[:-1], fold_range[1:])\n",
    "#     print fold_size\n",
    "#     print fold_range\n",
    "#     print fold_slices\n",
    "#     print len(data)\n",
    "    scores = []\n",
    "    #get Gen. Error\n",
    "    for (start_index, stop_index) in fold_slices:\n",
    "        predicted = clf.predict(data[start_index:stop_index])\n",
    "        expected = target[start_index:stop_index]\n",
    "        correct = (predicted == expected).astype(int)\n",
    "        scores.append(correct.mean())\n",
    "    return scores"
   ]
  }
 ],
 "metadata": {
  "kernelspec": {
   "display_name": "Python 2",
   "language": "python",
   "name": "python2"
  },
  "language_info": {
   "codemirror_mode": {
    "name": "ipython",
    "version": 2
   },
   "file_extension": ".py",
   "mimetype": "text/x-python",
   "name": "python",
   "nbconvert_exporter": "python",
   "pygments_lexer": "ipython2",
   "version": "2.7.9"
  }
 },
 "nbformat": 4,
 "nbformat_minor": 0
}
