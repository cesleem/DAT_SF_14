{
 "cells": [
  {
   "cell_type": "code",
   "execution_count": 1,
   "metadata": {
    "collapsed": true
   },
   "outputs": [],
   "source": [
    "import os.path\n",
    "\n",
    "%matplotlib inline\n",
    "import matplotlib.pyplot as plt\n",
    "import pandas as pd\n",
    "import numpy as np\n",
    "import seaborn as sns\n",
    "\n",
    "sns.set(style=\"darkgrid\")"
   ]
  },
  {
   "cell_type": "code",
   "execution_count": 11,
   "metadata": {
    "collapsed": true
   },
   "outputs": [],
   "source": [
    "SOURCE_DATA_PATH = 'source_data'\n",
    "DERIVED_DATA_PATH = 'derived_data'\n",
    "\n",
    "CSV_PATH = os.path.join(SOURCE_DATA_PATH,'vizrisk/BRFS2012.csv')\n",
    "TSV_PATH = os.path.join(SOURCE_DATA_PATH,'vizrisk/data.tsv')"
   ]
  },
  {
   "cell_type": "code",
   "execution_count": 10,
   "metadata": {
    "collapsed": false
   },
   "outputs": [
    {
     "name": "stdout",
     "output_type": "stream",
     "text": [
      "Record Count: \n",
      "---------------\n",
      "  475688 source_data/vizrisk/BRFS2012.csv\n",
      "\n",
      "Last Record: \n",
      "---------------\n",
      "72,99,9,1,120042,20,12,12182012,12,18,2012,00182,1100,2012006323,2012006323,2,13299,4548040.1384,1,,,,,,,,2,3,88,3,2,3,1,3,2,2,2,2,2,,2,2,2,1,2,2,1,3,1,1,59,1,6,,2,1,2,4,3,1,160,503,63,,,,,1,2,,2,2,1,3,,5,3,888,,,,2,,,2,88,,2,,2,,2,,1,5,2,,,,,,,2,,2,,,2,,2,20,2,72999,341.9836182,,341.9836182,1,341.9836182,1,59,5,,319.31956092,1,2,2,1,1,3,1,2,,1,6,6,6,6,8,2,5,3,0,,8,1,5,63,160,7257,2834,3,2,3,2,1,3,1,2,0,1,0,0,1,,1,,,1,2,2,2,2,,2,2,2\n"
     ]
    }
   ],
   "source": [
    "print 'Record Count: '\n",
    "print '---------------'\n",
    "!wc -l '$CSV_PATH'\n",
    "print '\\nLast Record: '\n",
    "print '---------------'\n",
    "!tail -n 1 '$CSV_PATH'"
   ]
  },
  {
   "cell_type": "code",
   "execution_count": 14,
   "metadata": {
    "collapsed": false
   },
   "outputs": [
    {
     "data": {
      "text/html": [
       "<div>\n",
       "<table border=\"1\" class=\"dataframe\">\n",
       "  <thead>\n",
       "    <tr style=\"text-align: right;\">\n",
       "      <th></th>\n",
       "      <th>_STATE</th>\n",
       "      <th>_GEOSTR</th>\n",
       "      <th>_DENSTR2</th>\n",
       "      <th>PRECALL</th>\n",
       "      <th>REPNUM</th>\n",
       "      <th>REPDEPTH</th>\n",
       "      <th>FMONTH</th>\n",
       "      <th>IDATE</th>\n",
       "      <th>IMONTH</th>\n",
       "      <th>IDAY</th>\n",
       "      <th>...</th>\n",
       "      <th>_PNEUMO2</th>\n",
       "      <th>_RFSEAT2</th>\n",
       "      <th>_RFSEAT3</th>\n",
       "      <th>_RFMAM2Y</th>\n",
       "      <th>_MAM502Y</th>\n",
       "      <th>_RFPAP32</th>\n",
       "      <th>_RFPSA21</th>\n",
       "      <th>_RFBLDS2</th>\n",
       "      <th>_RFSIGM2</th>\n",
       "      <th>_AIDTST3</th>\n",
       "    </tr>\n",
       "  </thead>\n",
       "  <tbody>\n",
       "    <tr>\n",
       "      <th>0</th>\n",
       "      <td>1</td>\n",
       "      <td>1</td>\n",
       "      <td>1</td>\n",
       "      <td>1</td>\n",
       "      <td>10001</td>\n",
       "      <td>9</td>\n",
       "      <td>1</td>\n",
       "      <td>1102012</td>\n",
       "      <td>1</td>\n",
       "      <td>10</td>\n",
       "      <td>...</td>\n",
       "      <td>9</td>\n",
       "      <td>1</td>\n",
       "      <td>1</td>\n",
       "      <td>2</td>\n",
       "      <td>2</td>\n",
       "      <td>NaN</td>\n",
       "      <td>NaN</td>\n",
       "      <td>2</td>\n",
       "      <td>2</td>\n",
       "      <td>2</td>\n",
       "    </tr>\n",
       "    <tr>\n",
       "      <th>1</th>\n",
       "      <td>1</td>\n",
       "      <td>1</td>\n",
       "      <td>1</td>\n",
       "      <td>1</td>\n",
       "      <td>10002</td>\n",
       "      <td>15</td>\n",
       "      <td>1</td>\n",
       "      <td>1212012</td>\n",
       "      <td>1</td>\n",
       "      <td>21</td>\n",
       "      <td>...</td>\n",
       "      <td>NaN</td>\n",
       "      <td>1</td>\n",
       "      <td>1</td>\n",
       "      <td>1</td>\n",
       "      <td>1</td>\n",
       "      <td>NaN</td>\n",
       "      <td>NaN</td>\n",
       "      <td>2</td>\n",
       "      <td>1</td>\n",
       "      <td>1</td>\n",
       "    </tr>\n",
       "    <tr>\n",
       "      <th>2</th>\n",
       "      <td>1</td>\n",
       "      <td>1</td>\n",
       "      <td>1</td>\n",
       "      <td>1</td>\n",
       "      <td>10002</td>\n",
       "      <td>16</td>\n",
       "      <td>1</td>\n",
       "      <td>1032012</td>\n",
       "      <td>1</td>\n",
       "      <td>3</td>\n",
       "      <td>...</td>\n",
       "      <td>2</td>\n",
       "      <td>1</td>\n",
       "      <td>1</td>\n",
       "      <td>1</td>\n",
       "      <td>1</td>\n",
       "      <td>1</td>\n",
       "      <td>NaN</td>\n",
       "      <td>2</td>\n",
       "      <td>2</td>\n",
       "      <td>2</td>\n",
       "    </tr>\n",
       "    <tr>\n",
       "      <th>3</th>\n",
       "      <td>1</td>\n",
       "      <td>1</td>\n",
       "      <td>1</td>\n",
       "      <td>1</td>\n",
       "      <td>10002</td>\n",
       "      <td>23</td>\n",
       "      <td>1</td>\n",
       "      <td>1102012</td>\n",
       "      <td>1</td>\n",
       "      <td>10</td>\n",
       "      <td>...</td>\n",
       "      <td>1</td>\n",
       "      <td>1</td>\n",
       "      <td>1</td>\n",
       "      <td>NaN</td>\n",
       "      <td>NaN</td>\n",
       "      <td>NaN</td>\n",
       "      <td>1</td>\n",
       "      <td>1</td>\n",
       "      <td>1</td>\n",
       "      <td>2</td>\n",
       "    </tr>\n",
       "    <tr>\n",
       "      <th>4</th>\n",
       "      <td>1</td>\n",
       "      <td>1</td>\n",
       "      <td>1</td>\n",
       "      <td>1</td>\n",
       "      <td>10003</td>\n",
       "      <td>28</td>\n",
       "      <td>1</td>\n",
       "      <td>1102012</td>\n",
       "      <td>1</td>\n",
       "      <td>10</td>\n",
       "      <td>...</td>\n",
       "      <td>NaN</td>\n",
       "      <td>1</td>\n",
       "      <td>2</td>\n",
       "      <td>1</td>\n",
       "      <td>1</td>\n",
       "      <td>NaN</td>\n",
       "      <td>NaN</td>\n",
       "      <td>2</td>\n",
       "      <td>1</td>\n",
       "      <td>2</td>\n",
       "    </tr>\n",
       "  </tbody>\n",
       "</table>\n",
       "<p>5 rows × 176 columns</p>\n",
       "</div>"
      ],
      "text/plain": [
       "   _STATE  _GEOSTR  _DENSTR2  PRECALL  REPNUM  REPDEPTH  FMONTH    IDATE  \\\n",
       "0       1        1         1        1   10001         9       1  1102012   \n",
       "1       1        1         1        1   10002        15       1  1212012   \n",
       "2       1        1         1        1   10002        16       1  1032012   \n",
       "3       1        1         1        1   10002        23       1  1102012   \n",
       "4       1        1         1        1   10003        28       1  1102012   \n",
       "\n",
       "   IMONTH  IDAY    ...     _PNEUMO2 _RFSEAT2  _RFSEAT3  _RFMAM2Y  _MAM502Y  \\\n",
       "0       1    10    ...            9        1         1         2         2   \n",
       "1       1    21    ...          NaN        1         1         1         1   \n",
       "2       1     3    ...            2        1         1         1         1   \n",
       "3       1    10    ...            1        1         1       NaN       NaN   \n",
       "4       1    10    ...          NaN        1         2         1         1   \n",
       "\n",
       "   _RFPAP32  _RFPSA21  _RFBLDS2  _RFSIGM2  _AIDTST3  \n",
       "0       NaN       NaN         2         2         2  \n",
       "1       NaN       NaN         2         1         1  \n",
       "2         1       NaN         2         2         2  \n",
       "3       NaN         1         1         1         2  \n",
       "4       NaN       NaN         2         1         2  \n",
       "\n",
       "[5 rows x 176 columns]"
      ]
     },
     "execution_count": 14,
     "metadata": {},
     "output_type": "execute_result"
    }
   ],
   "source": [
    "data = pd.read_csv(CSV_PATH)\n",
    "data.head()"
   ]
  },
  {
   "cell_type": "markdown",
   "metadata": {},
   "source": [
    "*Change mixed types to strings until cleaning necessary*"
   ]
  },
  {
   "cell_type": "code",
   "execution_count": 16,
   "metadata": {
    "collapsed": false
   },
   "outputs": [],
   "source": [
    "data['MRACE'] = data['MRACE'].astype(str)"
   ]
  },
  {
   "cell_type": "code",
   "execution_count": 21,
   "metadata": {
    "collapsed": false
   },
   "outputs": [],
   "source": [
    "data['INTVID'] = data['INTVID'].astype(str)  "
   ]
  },
  {
   "cell_type": "code",
   "execution_count": 28,
   "metadata": {
    "collapsed": false
   },
   "outputs": [
    {
     "data": {
      "text/plain": [
       "array([  3.,   4.,   2.,   5.,   0.,   7.,  10.,   6.,  30.,  nan,  20.,\n",
       "        15.,  14.,   9.,   1.,   8.,  19.,  17.,  21.,  28.,  12.,  25.,\n",
       "        18.,  26.,  13.,  16.,  29.,  22.,  27.,  11.,  23.,  24.])"
      ]
     },
     "execution_count": 28,
     "metadata": {},
     "output_type": "execute_result"
    }
   ],
   "source": [
    "#PHYSHLTH recodes\n",
    "data['PHYSHLTH'] = data['PHYSHLTH'].replace({88:0, 77:np.nan, 99:np.nan})\n",
    "data['PHYSHLTH'].unique()"
   ]
  },
  {
   "cell_type": "code",
   "execution_count": 25,
   "metadata": {
    "collapsed": false
   },
   "outputs": [
    {
     "data": {
      "text/plain": [
       "<matplotlib.axes._subplots.AxesSubplot at 0x105ba4e50>"
      ]
     },
     "execution_count": 25,
     "metadata": {},
     "output_type": "execute_result"
    },
    {
     "data": {
      "image/png": "[encoded data removed]",
      "text/plain": [
       "<matplotlib.figure.Figure at 0x105ba4710>"
      ]
     },
     "metadata": {},
     "output_type": "display_data"
    }
   ],
   "source": [
    "data['PHYSHLTH'].hist()"
   ]
  },
  {
   "cell_type": "code",
   "execution_count": 29,
   "metadata": {
    "collapsed": false
   },
   "outputs": [
    {
     "data": {
      "text/plain": [
       "<matplotlib.axes._subplots.AxesSubplot at 0x1106b9e50>"
      ]
     },
     "execution_count": 29,
     "metadata": {},
     "output_type": "execute_result"
    },
    {
     "data": {
      "image/png": "[encoded data removed]",
      "text/plain": [
       "<matplotlib.figure.Figure at 0x1106b9a90>"
      ]
     },
     "metadata": {},
     "output_type": "display_data"
    }
   ],
   "source": [
    "#GENHLTH recodes\n",
    "data['GENHLTH'] = data['GENHLTH'].replace({7:np.nan, 9:np.nan}) \n",
    "data['GENHLTH'].hist()"
   ]
  },
  {
   "cell_type": "code",
   "execution_count": 30,
   "metadata": {
    "collapsed": false
   },
   "outputs": [
    {
     "data": {
      "image/png": "[encoded data removed]",
      "text/plain": [
       "<matplotlib.figure.Figure at 0x1106fafd0>"
      ]
     },
     "metadata": {},
     "output_type": "display_data"
    }
   ],
   "source": [
    "data.plot(kind='scatter', x='GENHLTH', y='PHYSHLTH');"
   ]
  },
  {
   "cell_type": "code",
   "execution_count": null,
   "metadata": {
    "collapsed": true
   },
   "outputs": [],
   "source": []
  }
 ],
 "metadata": {
  "kernelspec": {
   "display_name": "Python 2",
   "language": "python",
   "name": "python2"
  },
  "language_info": {
   "codemirror_mode": {
    "name": "ipython",
    "version": 2
   },
   "file_extension": ".py",
   "mimetype": "text/x-python",
   "name": "python",
   "nbconvert_exporter": "python",
   "pygments_lexer": "ipython2",
   "version": "2.7.10"
  }
 },
 "nbformat": 4,
 "nbformat_minor": 0
}
