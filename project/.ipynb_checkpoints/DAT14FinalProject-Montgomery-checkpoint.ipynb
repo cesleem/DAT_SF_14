{
 "cells": [
  {
   "cell_type": "markdown",
   "metadata": {},
   "source": [
    "#Mine the Gap: Targeting High Risk Patients for Care Coordination & Social Support Services\n",
    "\n",
    "<img src=http://files.obshandinhand.webnode.nl/200000026-f2e8cf3e1e/200000000.jpg>"
   ]
  },
  {
   "cell_type": "markdown",
   "metadata": {},
   "source": [
    "*This notebook originally appeared as a [post](http://jakevdp.github.io/blog/2014/11/11/the-hipster-effect-interactive/) on the blog [Pythonic Perambulations](http://jakevdp.github.io). The content is BSD licensed.*"
   ]
  },
  {
   "cell_type": "markdown",
   "metadata": {},
   "source": [
    "This week I started seeing references all over the internet to [this paper](http://arxiv.org/abs/1410.8001): *The Hipster Effect: When Anticonformists All Look The Same*. It essentially describes a simple mathematical model which models conformity and non-conformity among a mutually interacting population, and finds some interesting results: namely, **conformity among a population of self-conscious non-conformists is similar to a phase transition in a time-delayed thermodynamic system**. In other words, with enough hipsters around responding to delayed fashion trends, a plethora of facial hair and fixed gear bikes is a natural result.\n",
    "\n",
    "Also naturally, upon reading the paper I wanted to try to reproduce the work. The paper solves the problem analytically for a continuous system and shows the precise values of certain phase transitions within the long-term limit of the postulated system. Though such theoretical derivations are useful, I often find it more intuitive to simulate systems like this in a more approximate manner to gain hands-on understanding. By the end of this notebook, we'll be using IPython's incredible [interactive widgets](http://nbviewer.ipython.org/github/ipython/ipython/blob/master/examples/Interactive%20Widgets/Index.ipynb) to explore how the inputs to this model affect the results."
   ]
  },
  {
   "cell_type": "markdown",
   "metadata": {},
   "source": [
    "___"
   ]
  },
  {
   "cell_type": "markdown",
   "metadata": {},
   "source": [
    "Contents:\n",
    "\n",
    "* [Think Python](http://www.greenteapress.com/thinkpython/thinkpython.pdf)\n",
    "* [MIT Open Courseware: A Gentle Introduction to Programming Using Python](http://ocw.mit.edu/courses/electrical-engineering-and-computer-science/6-189-a-gentle-introduction-to-programming-using-python-january-iap-2008/index.htm)\n",
    "* [Learn Python the Hard Way](http://learnpythonthehardway.org/book/)\n",
    "* [Python Koans](https://github.com/gregmalcolm/python_koans/wiki)"
   ]
  },
  {
   "cell_type": "markdown",
   "metadata": {},
   "source": [
    "___"
   ]
  },
  {
   "cell_type": "markdown",
   "metadata": {},
   "source": [
    "## ___Project Overview___\n",
    "\n",
    "<img src=http://www.cambridgeshireinsight.org.uk/files/caminsight/resize/widerdeterminants-500x337.jpg>"
   ]
  },
  {
   "cell_type": "code",
   "execution_count": 2,
   "metadata": {
    "collapsed": true
   },
   "outputs": [],
   "source": [
    "#project overview text"
   ]
  },
  {
   "cell_type": "code",
   "execution_count": 3,
   "metadata": {
    "collapsed": true
   },
   "outputs": [],
   "source": [
    "#project overview viz"
   ]
  },
  {
   "cell_type": "code",
   "execution_count": 4,
   "metadata": {
    "collapsed": true
   },
   "outputs": [],
   "source": [
    "#project overview viz text"
   ]
  },
  {
   "cell_type": "markdown",
   "metadata": {},
   "source": [
    "### Problem\n",
    "\n",
    "> ###From an at-risk patient's perspective, where are the gaps in care?\n",
    "> ###Ultimately, where are the opportunities for improved system management for most at-risk enrollees?"
   ]
  },
  {
   "cell_type": "markdown",
   "metadata": {},
   "source": [
    "<a id=\"goals\"></a>\n",
    "###Goal\n",
    "\n",
    "Let's ask further questions to better define what we hope to achieve.\n",
    "\n",
    "> ####Exploratory Analysis\n",
    "\n",
    "> What factors are associated with poor and good health status?\n",
    "\n",
    "> Are there any general patterns in comorbidity?\n",
    "\n",
    "> What is the impact of pain on physical and mental quality of living?\n",
    "\n",
    "> What is the relationship between mental health and presence of multiple chronic conditions?\n",
    "\n",
    "> Regional Differences?\n",
    "\n",
    "> ####Cohort Analysis\n",
    "\n",
    "> Among Medicare enrollees, which patients are among the most at-risk?\n",
    "\n",
    "> What are there corresponding demographic and outcomes profiles on total health dimensions? (Heuristic Model)\n",
    "\n",
    "> How does an individual enrollee's profile compare to Medicaid population? (Radar Chart)\n",
    "\n",
    "> ####Predictive Modeling\n",
    "\n",
    "> Can we approximate/predict a new enrollee's risk/gap profile from historical data?"
   ]
  },
  {
   "cell_type": "code",
   "execution_count": 5,
   "metadata": {
    "collapsed": true
   },
   "outputs": [],
   "source": [
    "# import warnings\n",
    "# warnings.filterwarnings('ignore')\n",
    "\n",
    "import os.path\n",
    "\n",
    "%matplotlib inline\n",
    "import matplotlib.pyplot as plt\n",
    "import pandas as pd\n",
    "import numpy as np\n",
    "import seaborn as sns\n",
    "\n",
    "sns.set(style=\"darkgrid\")"
   ]
  },
  {
   "cell_type": "markdown",
   "metadata": {},
   "source": [
    "##___Acquire___"
   ]
  },
  {
   "cell_type": "markdown",
   "metadata": {
    "collapsed": true
   },
   "source": [
    "The data comes from an HOS Outcomes Survey from 2012. "
   ]
  },
  {
   "cell_type": "code",
   "execution_count": 6,
   "metadata": {
    "collapsed": true
   },
   "outputs": [],
   "source": [
    "#graphic of data dictionary - pre clean"
   ]
  },
  {
   "cell_type": "code",
   "execution_count": 7,
   "metadata": {
    "collapsed": true
   },
   "outputs": [],
   "source": [
    "#graphic of data dictionary - post clean"
   ]
  },
  {
   "cell_type": "code",
   "execution_count": 8,
   "metadata": {
    "collapsed": true
   },
   "outputs": [],
   "source": [
    "SOURCE_DATA_PATH = 'source_data'\n",
    "DERIVED_DATA_PATH = 'derived_data'"
   ]
  },
  {
   "cell_type": "markdown",
   "metadata": {},
   "source": [
    "####Raw data from [hosonline.org](hosonline.org):"
   ]
  },
  {
   "cell_type": "code",
   "execution_count": 9,
   "metadata": {
    "collapsed": false
   },
   "outputs": [
    {
     "name": "stdout",
     "output_type": "stream",
     "text": [
      "C010000603 211141144333455433111221111 6 0 021224122222121112222     43 611432   11221111M10M1 97.3C16 81\r",
      "\r\n"
     ]
    }
   ],
   "source": [
    "!head -n 1 source_data/C16B_PUF.txt"
   ]
  },
  {
   "cell_type": "markdown",
   "metadata": {},
   "source": [
    "####Intermediary parsing into csv"
   ]
  },
  {
   "cell_type": "code",
   "execution_count": 10,
   "metadata": {
    "collapsed": false
   },
   "outputs": [
    {
     "name": "stdout",
     "output_type": "stream",
     "text": [
      "C01000060,3, ,2,1,1,1,4,1,1,4,4,3,3,3,4,5,5,4,3,3,1,1,1,2,2,1,1,1,1, 6, 0, 0,2,1,2,2,4,1,2,2,2,2,2,1,2,1,1,1,2,2,2,2, , , , , ,4,3, 6,1,1,4,3,2, , , ,1,1,2,2,1,1,1,1,M10,M1, 97.3,C16, 8,1\r",
      "\r\n"
     ]
    }
   ],
   "source": [
    "!head -n 1 source_data/C16B_PUF.csv"
   ]
  },
  {
   "cell_type": "markdown",
   "metadata": {},
   "source": [
    "#### The Final Dataset(s)"
   ]
  },
  {
   "cell_type": "markdown",
   "metadata": {},
   "source": [
    "- Profile Dimensions\n",
    "- Needs Dimensions\n",
    "- Wellness Dimensions"
   ]
  },
  {
   "cell_type": "markdown",
   "metadata": {},
   "source": [
    "original data major components\n",
    "- Profile: (1) Demographics, (2) presence of risk factors (depression, smoking, obesity), (3) Targets - At-Risk, Care Coordination Risk"
   ]
  },
  {
   "cell_type": "markdown",
   "metadata": {},
   "source": [
    "The dataset consists of XXXX elements comprised of XXXX unique songs from XXXX artists, spanning   XXX weeks."
   ]
  },
  {
   "cell_type": "code",
   "execution_count": 11,
   "metadata": {
    "collapsed": false,
    "scrolled": true
   },
   "outputs": [
    {
     "data": {
      "text/html": [
       "<div>\n",
       "<table border=\"1\" class=\"dataframe\">\n",
       "  <thead>\n",
       "    <tr style=\"text-align: right;\">\n",
       "      <th></th>\n",
       "      <th>AGE</th>\n",
       "      <th>RACE</th>\n",
       "      <th>GENDER</th>\n",
       "      <th>MARITALSTAT</th>\n",
       "      <th>EDUCATION</th>\n",
       "      <th>REGION</th>\n",
       "      <th>LANGUAGE</th>\n",
       "      <th>OBESE</th>\n",
       "      <th>SMOKER</th>\n",
       "      <th>DEPRESSION</th>\n",
       "      <th>MCC</th>\n",
       "      <th>AT-RISK</th>\n",
       "      <th>CC-NEED</th>\n",
       "    </tr>\n",
       "    <tr>\n",
       "      <th>ID</th>\n",
       "      <th></th>\n",
       "      <th></th>\n",
       "      <th></th>\n",
       "      <th></th>\n",
       "      <th></th>\n",
       "      <th></th>\n",
       "      <th></th>\n",
       "      <th></th>\n",
       "      <th></th>\n",
       "      <th></th>\n",
       "      <th></th>\n",
       "      <th></th>\n",
       "      <th></th>\n",
       "    </tr>\n",
       "  </thead>\n",
       "  <tbody>\n",
       "    <tr>\n",
       "      <th>C01000060</th>\n",
       "      <td>&gt;74</td>\n",
       "      <td>NaN</td>\n",
       "      <td>F</td>\n",
       "      <td>Married</td>\n",
       "      <td>Less than HS/GED</td>\n",
       "      <td>Region 8 (Denver)</td>\n",
       "      <td>English</td>\n",
       "      <td>Not obese (BMI &lt; 30)</td>\n",
       "      <td>0</td>\n",
       "      <td>0</td>\n",
       "      <td>5</td>\n",
       "      <td>True</td>\n",
       "      <td>True</td>\n",
       "    </tr>\n",
       "    <tr>\n",
       "      <th>C01000361</th>\n",
       "      <td>&gt;74</td>\n",
       "      <td>White</td>\n",
       "      <td>M</td>\n",
       "      <td>Married</td>\n",
       "      <td>HS/GED</td>\n",
       "      <td>Region 9 (San Francisco)</td>\n",
       "      <td>English</td>\n",
       "      <td>Not obese (BMI &lt; 30)</td>\n",
       "      <td>1</td>\n",
       "      <td>0</td>\n",
       "      <td>2</td>\n",
       "      <td>True</td>\n",
       "      <td>False</td>\n",
       "    </tr>\n",
       "    <tr>\n",
       "      <th>C01000455</th>\n",
       "      <td>&gt;74</td>\n",
       "      <td>NaN</td>\n",
       "      <td>NaN</td>\n",
       "      <td>NaN</td>\n",
       "      <td>NaN</td>\n",
       "      <td>Region 10 (Seattle)</td>\n",
       "      <td>English</td>\n",
       "      <td>NaN</td>\n",
       "      <td>NaN</td>\n",
       "      <td>NaN</td>\n",
       "      <td>0</td>\n",
       "      <td>False</td>\n",
       "      <td>False</td>\n",
       "    </tr>\n",
       "  </tbody>\n",
       "</table>\n",
       "</div>"
      ],
      "text/plain": [
       "           AGE   RACE GENDER MARITALSTAT         EDUCATION  \\\n",
       "ID                                                           \n",
       "C01000060  >74    NaN      F     Married  Less than HS/GED   \n",
       "C01000361  >74  White      M     Married            HS/GED   \n",
       "C01000455  >74    NaN    NaN         NaN               NaN   \n",
       "\n",
       "                             REGION LANGUAGE                 OBESE  SMOKER  \\\n",
       "ID                                                                           \n",
       "C01000060         Region 8 (Denver)  English  Not obese (BMI < 30)       0   \n",
       "C01000361  Region 9 (San Francisco)  English  Not obese (BMI < 30)       1   \n",
       "C01000455       Region 10 (Seattle)  English                   NaN     NaN   \n",
       "\n",
       "           DEPRESSION  MCC AT-RISK CC-NEED  \n",
       "ID                                          \n",
       "C01000060           0    5    True    True  \n",
       "C01000361           0    2    True   False  \n",
       "C01000455         NaN    0   False   False  "
      ]
     },
     "execution_count": 11,
     "metadata": {},
     "output_type": "execute_result"
    }
   ],
   "source": [
    "profile = pd.read_csv(os.path.join(DERIVED_DATA_PATH,'C16B_PUF_cleaned_profile.csv'), na_values=' ', index_col='ID')\n",
    "profile.head(3)"
   ]
  },
  {
   "cell_type": "code",
   "execution_count": 12,
   "metadata": {
    "collapsed": false
   },
   "outputs": [
    {
     "data": {
      "text/html": [
       "<div>\n",
       "<table border=\"1\" class=\"dataframe\">\n",
       "  <thead>\n",
       "    <tr style=\"text-align: right;\">\n",
       "      <th></th>\n",
       "      <th>FELTNP</th>\n",
       "      <th>FELTSD</th>\n",
       "      <th>PNIACT</th>\n",
       "      <th>SCLACT</th>\n",
       "      <th>DIFBTH</th>\n",
       "      <th>DIFDRS</th>\n",
       "      <th>DIFEAT</th>\n",
       "      <th>DIFCHR</th>\n",
       "      <th>DIFWLK</th>\n",
       "      <th>DIFTOL</th>\n",
       "      <th>DIFPRM</th>\n",
       "      <th>DIFMON</th>\n",
       "      <th>DIFMED</th>\n",
       "      <th>BLIND</th>\n",
       "      <th>DEAF</th>\n",
       "      <th>DIFCON</th>\n",
       "      <th>DIFERR</th>\n",
       "    </tr>\n",
       "    <tr>\n",
       "      <th>ID</th>\n",
       "      <th></th>\n",
       "      <th></th>\n",
       "      <th></th>\n",
       "      <th></th>\n",
       "      <th></th>\n",
       "      <th></th>\n",
       "      <th></th>\n",
       "      <th></th>\n",
       "      <th></th>\n",
       "      <th></th>\n",
       "      <th></th>\n",
       "      <th></th>\n",
       "      <th></th>\n",
       "      <th></th>\n",
       "      <th></th>\n",
       "      <th></th>\n",
       "      <th></th>\n",
       "    </tr>\n",
       "  </thead>\n",
       "  <tbody>\n",
       "    <tr>\n",
       "      <th>C01000060</th>\n",
       "      <td>0</td>\n",
       "      <td>0</td>\n",
       "      <td>1</td>\n",
       "      <td>1</td>\n",
       "      <td>0</td>\n",
       "      <td>0</td>\n",
       "      <td>0</td>\n",
       "      <td>1</td>\n",
       "      <td>1</td>\n",
       "      <td>0</td>\n",
       "      <td>0</td>\n",
       "      <td>0</td>\n",
       "      <td>0</td>\n",
       "      <td>0</td>\n",
       "      <td>1</td>\n",
       "      <td>0</td>\n",
       "      <td>0</td>\n",
       "    </tr>\n",
       "    <tr>\n",
       "      <th>C01000361</th>\n",
       "      <td>0</td>\n",
       "      <td>0</td>\n",
       "      <td>0</td>\n",
       "      <td>0</td>\n",
       "      <td>0</td>\n",
       "      <td>0</td>\n",
       "      <td>0</td>\n",
       "      <td>0</td>\n",
       "      <td>1</td>\n",
       "      <td>0</td>\n",
       "      <td>0</td>\n",
       "      <td>0</td>\n",
       "      <td>0</td>\n",
       "      <td>0</td>\n",
       "      <td>0</td>\n",
       "      <td>0</td>\n",
       "      <td>0</td>\n",
       "    </tr>\n",
       "    <tr>\n",
       "      <th>C01000455</th>\n",
       "      <td>NaN</td>\n",
       "      <td>NaN</td>\n",
       "      <td>NaN</td>\n",
       "      <td>NaN</td>\n",
       "      <td>NaN</td>\n",
       "      <td>NaN</td>\n",
       "      <td>NaN</td>\n",
       "      <td>NaN</td>\n",
       "      <td>NaN</td>\n",
       "      <td>NaN</td>\n",
       "      <td>NaN</td>\n",
       "      <td>NaN</td>\n",
       "      <td>NaN</td>\n",
       "      <td>NaN</td>\n",
       "      <td>NaN</td>\n",
       "      <td>NaN</td>\n",
       "      <td>NaN</td>\n",
       "    </tr>\n",
       "    <tr>\n",
       "      <th>C01000542</th>\n",
       "      <td>0</td>\n",
       "      <td>0</td>\n",
       "      <td>1</td>\n",
       "      <td>1</td>\n",
       "      <td>0</td>\n",
       "      <td>0</td>\n",
       "      <td>0</td>\n",
       "      <td>1</td>\n",
       "      <td>1</td>\n",
       "      <td>0</td>\n",
       "      <td>0</td>\n",
       "      <td>0</td>\n",
       "      <td>0</td>\n",
       "      <td>0</td>\n",
       "      <td>0</td>\n",
       "      <td>0</td>\n",
       "      <td>1</td>\n",
       "    </tr>\n",
       "    <tr>\n",
       "      <th>C01000633</th>\n",
       "      <td>1</td>\n",
       "      <td>1</td>\n",
       "      <td>1</td>\n",
       "      <td>1</td>\n",
       "      <td>0</td>\n",
       "      <td>1</td>\n",
       "      <td>0</td>\n",
       "      <td>1</td>\n",
       "      <td>1</td>\n",
       "      <td>0</td>\n",
       "      <td>1</td>\n",
       "      <td>0</td>\n",
       "      <td>1</td>\n",
       "      <td>0</td>\n",
       "      <td>1</td>\n",
       "      <td>1</td>\n",
       "      <td>1</td>\n",
       "    </tr>\n",
       "  </tbody>\n",
       "</table>\n",
       "</div>"
      ],
      "text/plain": [
       "           FELTNP  FELTSD  PNIACT  SCLACT  DIFBTH  DIFDRS  DIFEAT  DIFCHR  \\\n",
       "ID                                                                          \n",
       "C01000060       0       0       1       1       0       0       0       1   \n",
       "C01000361       0       0       0       0       0       0       0       0   \n",
       "C01000455     NaN     NaN     NaN     NaN     NaN     NaN     NaN     NaN   \n",
       "C01000542       0       0       1       1       0       0       0       1   \n",
       "C01000633       1       1       1       1       0       1       0       1   \n",
       "\n",
       "           DIFWLK  DIFTOL  DIFPRM  DIFMON  DIFMED  BLIND  DEAF  DIFCON  DIFERR  \n",
       "ID                                                                              \n",
       "C01000060       1       0       0       0       0      0     1       0       0  \n",
       "C01000361       1       0       0       0       0      0     0       0       0  \n",
       "C01000455     NaN     NaN     NaN     NaN     NaN    NaN   NaN     NaN     NaN  \n",
       "C01000542       1       0       0       0       0      0     0       0       1  \n",
       "C01000633       1       0       1       0       1      0     1       1       1  "
      ]
     },
     "execution_count": 12,
     "metadata": {},
     "output_type": "execute_result"
    }
   ],
   "source": [
    "needs = pd.read_csv(os.path.join(DERIVED_DATA_PATH,'C16B_PUF_cleaned_needs.csv'), na_values=' ', index_col='ID')\n",
    "needs.head()"
   ]
  },
  {
   "cell_type": "code",
   "execution_count": 13,
   "metadata": {
    "collapsed": false
   },
   "outputs": [
    {
     "data": {
      "text/html": [
       "<div>\n",
       "<table border=\"1\" class=\"dataframe\">\n",
       "  <thead>\n",
       "    <tr style=\"text-align: right;\">\n",
       "      <th></th>\n",
       "      <th>Bodily Pain</th>\n",
       "      <th>General Health</th>\n",
       "      <th>Vitality</th>\n",
       "      <th>Social Functioning</th>\n",
       "      <th>Physical Functioning</th>\n",
       "      <th>Role Physical</th>\n",
       "      <th>Role Emotional</th>\n",
       "      <th>Mental Health</th>\n",
       "    </tr>\n",
       "    <tr>\n",
       "      <th>ID</th>\n",
       "      <th></th>\n",
       "      <th></th>\n",
       "      <th></th>\n",
       "      <th></th>\n",
       "      <th></th>\n",
       "      <th></th>\n",
       "      <th></th>\n",
       "      <th></th>\n",
       "    </tr>\n",
       "  </thead>\n",
       "  <tbody>\n",
       "    <tr>\n",
       "      <th>C01000060</th>\n",
       "      <td>3</td>\n",
       "      <td>4</td>\n",
       "      <td>5</td>\n",
       "      <td>1</td>\n",
       "      <td>2.0</td>\n",
       "      <td>4.0</td>\n",
       "      <td>3</td>\n",
       "      <td>2.5</td>\n",
       "    </tr>\n",
       "    <tr>\n",
       "      <th>C01000361</th>\n",
       "      <td>2</td>\n",
       "      <td>3</td>\n",
       "      <td>4</td>\n",
       "      <td>0</td>\n",
       "      <td>0.5</td>\n",
       "      <td>1.5</td>\n",
       "      <td>1</td>\n",
       "      <td>1.0</td>\n",
       "    </tr>\n",
       "    <tr>\n",
       "      <th>C01000455</th>\n",
       "      <td>NaN</td>\n",
       "      <td>NaN</td>\n",
       "      <td>NaN</td>\n",
       "      <td>NaN</td>\n",
       "      <td>NaN</td>\n",
       "      <td>NaN</td>\n",
       "      <td>NaN</td>\n",
       "      <td>NaN</td>\n",
       "    </tr>\n",
       "    <tr>\n",
       "      <th>C01000542</th>\n",
       "      <td>2</td>\n",
       "      <td>3</td>\n",
       "      <td>6</td>\n",
       "      <td>1</td>\n",
       "      <td>2.0</td>\n",
       "      <td>2.5</td>\n",
       "      <td>1</td>\n",
       "      <td>1.0</td>\n",
       "    </tr>\n",
       "    <tr>\n",
       "      <th>C01000633</th>\n",
       "      <td>5</td>\n",
       "      <td>5</td>\n",
       "      <td>6</td>\n",
       "      <td>3</td>\n",
       "      <td>0.0</td>\n",
       "      <td>5.0</td>\n",
       "      <td>5</td>\n",
       "      <td>4.0</td>\n",
       "    </tr>\n",
       "  </tbody>\n",
       "</table>\n",
       "</div>"
      ],
      "text/plain": [
       "           Bodily Pain  General Health  Vitality  Social Functioning  \\\n",
       "ID                                                                     \n",
       "C01000060            3               4         5                   1   \n",
       "C01000361            2               3         4                   0   \n",
       "C01000455          NaN             NaN       NaN                 NaN   \n",
       "C01000542            2               3         6                   1   \n",
       "C01000633            5               5         6                   3   \n",
       "\n",
       "           Physical Functioning  Role Physical  Role Emotional  Mental Health  \n",
       "ID                                                                             \n",
       "C01000060                   2.0            4.0               3            2.5  \n",
       "C01000361                   0.5            1.5               1            1.0  \n",
       "C01000455                   NaN            NaN             NaN            NaN  \n",
       "C01000542                   2.0            2.5               1            1.0  \n",
       "C01000633                   0.0            5.0               5            4.0  "
      ]
     },
     "execution_count": 13,
     "metadata": {},
     "output_type": "execute_result"
    }
   ],
   "source": [
    "wellness = pd.read_csv(os.path.join(DERIVED_DATA_PATH,'C16B_PUF_cleaned_wellness.csv'), na_values=' ', index_col='ID')\n",
    "wellness.head()"
   ]
  },
  {
   "cell_type": "markdown",
   "metadata": {},
   "source": [
    "##___Explore Data___"
   ]
  },
  {
   "cell_type": "markdown",
   "metadata": {},
   "source": [
    "###What factors are associated with poor and good health status?"
   ]
  },
  {
   "cell_type": "markdown",
   "metadata": {},
   "source": [
    "We will do some exploring to see the impact of poor vs. good health status on different health metrics."
   ]
  },
  {
   "cell_type": "markdown",
   "metadata": {},
   "source": [
    "##By Demographic/Disease Metrics "
   ]
  },
  {
   "cell_type": "code",
   "execution_count": 14,
   "metadata": {
    "collapsed": false
   },
   "outputs": [
    {
     "data": {
      "text/plain": [
       "RACE   AGE     \n",
       "Black  65 to 74    0.771508\n",
       "       <65         0.884903\n",
       "       >74         0.817120\n",
       "Other  65 to 74    0.710422\n",
       "       <65         0.889529\n",
       "       >74         0.775968\n",
       "White  65 to 74    0.561775\n",
       "       <65         0.889943\n",
       "       >74         0.694285\n",
       "Name: AT-RISK, dtype: float64"
      ]
     },
     "execution_count": 14,
     "metadata": {},
     "output_type": "execute_result"
    }
   ],
   "source": [
    "pd.pivot_table(profile, index='AT-RISK')\n",
    "profile.pivot_table(index=['RACE', 'AGE'], values='AT-RISK')"
   ]
  },
  {
   "cell_type": "markdown",
   "metadata": {},
   "source": [
    "##By Needs Metrics "
   ]
  },
  {
   "cell_type": "markdown",
   "metadata": {},
   "source": [
    "Let's start by visually inspecting needs for those designated at-risk versus their well counterparts."
   ]
  },
  {
   "cell_type": "code",
   "execution_count": 15,
   "metadata": {
    "collapsed": false,
    "scrolled": false
   },
   "outputs": [
    {
     "data": {
      "text/html": [
       "<div>\n",
       "<table border=\"1\" class=\"dataframe\">\n",
       "  <thead>\n",
       "    <tr style=\"text-align: right;\">\n",
       "      <th></th>\n",
       "      <th>BLIND</th>\n",
       "      <th>DEAF</th>\n",
       "      <th>DIFBTH</th>\n",
       "      <th>DIFCHR</th>\n",
       "      <th>DIFCON</th>\n",
       "      <th>DIFDRS</th>\n",
       "      <th>DIFEAT</th>\n",
       "      <th>DIFERR</th>\n",
       "      <th>DIFMED</th>\n",
       "      <th>DIFMON</th>\n",
       "      <th>DIFPRM</th>\n",
       "      <th>DIFTOL</th>\n",
       "      <th>DIFWLK</th>\n",
       "      <th>FELTNP</th>\n",
       "      <th>FELTSD</th>\n",
       "      <th>PNIACT</th>\n",
       "      <th>SCLACT</th>\n",
       "    </tr>\n",
       "    <tr>\n",
       "      <th>AT-RISK</th>\n",
       "      <th></th>\n",
       "      <th></th>\n",
       "      <th></th>\n",
       "      <th></th>\n",
       "      <th></th>\n",
       "      <th></th>\n",
       "      <th></th>\n",
       "      <th></th>\n",
       "      <th></th>\n",
       "      <th></th>\n",
       "      <th></th>\n",
       "      <th></th>\n",
       "      <th></th>\n",
       "      <th></th>\n",
       "      <th></th>\n",
       "      <th></th>\n",
       "      <th></th>\n",
       "    </tr>\n",
       "  </thead>\n",
       "  <tbody>\n",
       "    <tr>\n",
       "      <th>False</th>\n",
       "      <td>0.045945</td>\n",
       "      <td>0.100880</td>\n",
       "      <td>0.050711</td>\n",
       "      <td>0.075673</td>\n",
       "      <td>0.070164</td>\n",
       "      <td>0.039979</td>\n",
       "      <td>0.017338</td>\n",
       "      <td>0.061754</td>\n",
       "      <td>0.061286</td>\n",
       "      <td>0.061200</td>\n",
       "      <td>0.089920</td>\n",
       "      <td>0.028109</td>\n",
       "      <td>0.112952</td>\n",
       "      <td>0.136105</td>\n",
       "      <td>0.118320</td>\n",
       "      <td>0.356625</td>\n",
       "      <td>0.224001</td>\n",
       "    </tr>\n",
       "    <tr>\n",
       "      <th>True</th>\n",
       "      <td>0.158441</td>\n",
       "      <td>0.188317</td>\n",
       "      <td>0.276858</td>\n",
       "      <td>0.358100</td>\n",
       "      <td>0.298401</td>\n",
       "      <td>0.232460</td>\n",
       "      <td>0.101420</td>\n",
       "      <td>0.310524</td>\n",
       "      <td>0.158308</td>\n",
       "      <td>0.223666</td>\n",
       "      <td>0.345324</td>\n",
       "      <td>0.169054</td>\n",
       "      <td>0.486458</td>\n",
       "      <td>0.494030</td>\n",
       "      <td>0.418538</td>\n",
       "      <td>0.760322</td>\n",
       "      <td>0.666056</td>\n",
       "    </tr>\n",
       "  </tbody>\n",
       "</table>\n",
       "</div>"
      ],
      "text/plain": [
       "            BLIND      DEAF    DIFBTH    DIFCHR    DIFCON    DIFDRS    DIFEAT  \\\n",
       "AT-RISK                                                                         \n",
       "False    0.045945  0.100880  0.050711  0.075673  0.070164  0.039979  0.017338   \n",
       "True     0.158441  0.188317  0.276858  0.358100  0.298401  0.232460  0.101420   \n",
       "\n",
       "           DIFERR    DIFMED    DIFMON    DIFPRM    DIFTOL    DIFWLK    FELTNP  \\\n",
       "AT-RISK                                                                         \n",
       "False    0.061754  0.061286  0.061200  0.089920  0.028109  0.112952  0.136105   \n",
       "True     0.310524  0.158308  0.223666  0.345324  0.169054  0.486458  0.494030   \n",
       "\n",
       "           FELTSD    PNIACT    SCLACT  \n",
       "AT-RISK                                \n",
       "False    0.118320  0.356625  0.224001  \n",
       "True     0.418538  0.760322  0.666056  "
      ]
     },
     "execution_count": 15,
     "metadata": {},
     "output_type": "execute_result"
    }
   ],
   "source": [
    "needs_pivot_risk = pd.pivot_table(needs.join(profile['AT-RISK']), index='AT-RISK')\n",
    "needs_pivot_risk.head()"
   ]
  },
  {
   "cell_type": "code",
   "execution_count": 16,
   "metadata": {
    "collapsed": false
   },
   "outputs": [
    {
     "data": {
      "text/plain": [
       "<matplotlib.axes._subplots.AxesSubplot at 0x1131b0050>"
      ]
     },
     "execution_count": 16,
     "metadata": {},
     "output_type": "execute_result"
    },
    {
     "data": {
      "image/png": "[encoded data removed]",
      "text/plain": [
       "<matplotlib.figure.Figure at 0x106b76490>"
      ]
     },
     "metadata": {},
     "output_type": "display_data"
    }
   ],
   "source": [
    "fig = plt.figure()\n",
    "fig.suptitle('Probability of Needs by At-Risk Status', fontsize=18, fontweight='bold')\n",
    "\n",
    "ax = fig.add_subplot(111)\n",
    "ax.set_xlabel('Need Metric')\n",
    "ax.set_ylabel('Probability of Need')\n",
    "\n",
    "pd.pivot_table(needs.join(profile['AT-RISK']), index='AT-RISK').transpose().plot(kind='bar', ax=ax, figsize=(40,14))"
   ]
  },
  {
   "cell_type": "code",
   "execution_count": 17,
   "metadata": {
    "collapsed": true
   },
   "outputs": [],
   "source": [
    "needs_risk = needs.join(profile['AT-RISK']).dropna()\n",
    "\n",
    "X = needs_risk.drop('AT-RISK', axis=1)\n",
    "X_normalized = (X - np.mean(X, axis=0))\n",
    "\n",
    "y = needs_risk['AT-RISK']"
   ]
  },
  {
   "cell_type": "code",
   "execution_count": 18,
   "metadata": {
    "collapsed": false
   },
   "outputs": [
    {
     "name": "stdout",
     "output_type": "stream",
     "text": [
      "Predictive R Score: 0.25\n",
      " \n",
      "   features  estimatedCoefficients\n",
      "0    SCLACT               0.183654\n",
      "1    PNIACT               0.182320\n",
      "2    DIFWLK               0.114741\n",
      "3    FELTNP               0.061191\n",
      "4     BLIND               0.039090\n",
      "5    DIFCON               0.037910\n",
      "6    DIFPRM               0.035223\n",
      "7    DIFERR               0.026762\n",
      "8      DEAF               0.025900\n",
      "9    DIFMON               0.023165\n",
      "10   DIFCHR               0.014358\n",
      "11   DIFBTH               0.011220\n",
      "12   FELTSD              -0.000142\n",
      "13   DIFEAT              -0.006486\n",
      "14   DIFDRS              -0.009495\n",
      "15   DIFTOL              -0.022816\n",
      "16   DIFMED              -0.047493\n"
     ]
    },
    {
     "data": {
      "image/png": "[encoded data removed]",
      "text/plain": [
       "<matplotlib.figure.Figure at 0x107df3490>"
      ]
     },
     "metadata": {},
     "output_type": "display_data"
    }
   ],
   "source": [
    "#add p-values USE STATSMODELS https://github.com/ga-students/DAT_SF_12/blob/gh-pages/09-MultiLineaRegression.ipynb\n",
    "\n",
    "from sklearn import linear_model\n",
    "from sklearn.feature_selection import SelectKBest, f_regression\n",
    "\n",
    "\n",
    "clf = linear_model.LinearRegression()\n",
    "\n",
    "clf.fit(X, y)\n",
    "clf.coef_\n",
    "\n",
    "\n",
    "print (\"Predictive R Score: %.2f\"\n",
    "      % clf.score(X, y))\n",
    "print \" \"\n",
    "\n",
    "# Print the coefficients\n",
    "\n",
    "\n",
    "print pd.DataFrame(sorted(zip(X.columns, clf.coef_),key=lambda x: x[1], reverse=True), columns = ['features', 'estimatedCoefficients'])\n",
    "\n",
    "plt.scatter(y, clf.predict(X))\n",
    "plt.xlabel(\"Actual At-Risk Status\")\n",
    "plt.ylabel(\"Predicted  At-Risk Status\")\n",
    "plt.title(\"Actual vs Predicted  At-Risk Status\", fontsize=18, fontweight='bold')\n",
    "plt.show()\n",
    "\n"
   ]
  },
  {
   "cell_type": "markdown",
   "metadata": {},
   "source": [
    "For example, At-Risk 1.3x more likely to also be CC-Need than Not At-Risk"
   ]
  },
  {
   "cell_type": "code",
   "execution_count": 19,
   "metadata": {
    "collapsed": false
   },
   "outputs": [
    {
     "data": {
      "text/plain": [
       "<seaborn.axisgrid.FacetGrid at 0x10bda31d0>"
      ]
     },
     "execution_count": 19,
     "metadata": {},
     "output_type": "execute_result"
    },
    {
     "data": {
      "image/png": "[encoded data removed]",
      "text/plain": [
       "<matplotlib.figure.Figure at 0x10bd90d10>"
      ]
     },
     "metadata": {},
     "output_type": "display_data"
    }
   ],
   "source": [
    "###SWITCH IN MCC, AT-RISK\n",
    "# Load the example titanic dataset\n",
    "df = sns.load_dataset(\"titanic\")\n",
    "\n",
    "# Make a custom palette with gendered colors\n",
    "pal = dict(male=\"#6495ED\", female=\"#F08080\")\n",
    "\n",
    "# Show the survival proability as a function of age and sex\n",
    "g = sns.lmplot(x=\"age\", y=\"survived\", col=\"sex\", hue=\"sex\", data=df,\n",
    "               palette=pal, y_jitter=.02, logistic=True)\n",
    "g.set(xlim=(0, 80), ylim=(-.05, 1.05))"
   ]
  },
  {
   "cell_type": "code",
   "execution_count": 20,
   "metadata": {
    "collapsed": true
   },
   "outputs": [],
   "source": [
    "##DEF DO RADAR CHART FOR WELLNESS :)"
   ]
  },
  {
   "cell_type": "code",
   "execution_count": 21,
   "metadata": {
    "collapsed": true
   },
   "outputs": [],
   "source": [
    "#explanatory text of data attributes: mean, variance spread"
   ]
  },
  {
   "cell_type": "markdown",
   "metadata": {},
   "source": [
    "Despite the randomness of the scatterplots, the histograms of the features were almost normally distributed.  I found the distribution of the data to be surprising considering the weekly top 40 is a seemingly random collection of songs with no real relation to one another.\n",
    "\n",
    "Furthermore, the scatterplots indicated that there would be a lot of noise in the data, given the wide range of song attributes.  The way to analyze the data, I determined, would be to use subsets.  "
   ]
  },
  {
   "cell_type": "markdown",
   "metadata": {},
   "source": [
    "___"
   ]
  },
  {
   "cell_type": "markdown",
   "metadata": {},
   "source": [
    "## ___Initial Analysis - Cluster Analysis___"
   ]
  },
  {
   "cell_type": "code",
   "execution_count": 22,
   "metadata": {
    "collapsed": true
   },
   "outputs": [],
   "source": [
    "#Text How would we visually segment?  We will compare this later to clustering technique. "
   ]
  },
  {
   "cell_type": "code",
   "execution_count": 23,
   "metadata": {
    "collapsed": true
   },
   "outputs": [],
   "source": [
    "#Viz"
   ]
  },
  {
   "cell_type": "markdown",
   "metadata": {},
   "source": [
    "###Building Model"
   ]
  },
  {
   "cell_type": "markdown",
   "metadata": {},
   "source": [
    "show math:\n",
    "    \n",
    "$$\n",
    "\\phi(x;\\beta) = \\frac{1 + \\tanh(\\beta \\cdot x)}{2}\n",
    "$$"
   ]
  },
  {
   "cell_type": "code",
   "execution_count": 24,
   "metadata": {
    "collapsed": true
   },
   "outputs": [],
   "source": [
    "#Text"
   ]
  },
  {
   "cell_type": "code",
   "execution_count": 26,
   "metadata": {
    "collapsed": true
   },
   "outputs": [],
   "source": [
    "from sklearn.cluster import KMeans\n",
    "from sklearn import metrics\n",
    "from sklearn.metrics import pairwise_distances"
   ]
  },
  {
   "cell_type": "markdown",
   "metadata": {},
   "source": [
    "Initialize a KMeans classifier with 4 cluster, random initialization, random_state=1."
   ]
  },
  {
   "cell_type": "code",
   "execution_count": 31,
   "metadata": {
    "collapsed": false
   },
   "outputs": [
    {
     "name": "stdout",
     "output_type": "stream",
     "text": [
      "0.3506377538\n",
      "0.253701629821\n",
      "0.225063292697\n",
      "0.20645874878\n",
      "0.205841913004\n",
      "0.214919810544\n",
      "0.219307471666\n",
      "0.224987152249\n"
     ]
    }
   ],
   "source": [
    "#<----- FIX ME.  THIS IS NOT EVERYBODY.\n",
    "# X = needs.loc[:1000,:].dropna()\n",
    "X = needs[:1000].dropna()"
   ]
  },
  {
   "cell_type": "code",
   "execution_count": 32,
   "metadata": {
    "collapsed": true
   },
   "outputs": [],
   "source": [
    "def get_cluster_centers(X, labels, k_num):\n",
    "    CC_list = []\n",
    "    for k in range(k_num):\n",
    "        # get the mean coordinates of each cluster\n",
    "        CC_list.append(np.mean(X[labels == k], axis = 0))\n",
    "    return CC_list\n",
    "\n",
    "# for each cluster substract the mean from each data point to get the error\n",
    "# then get the magnitude of each error, square it, and sum it\n",
    "def get_SSE(X, labels):\n",
    "    k_num = len(np.unique(labels))\n",
    "    CC_list = get_cluster_centers(X, labels, k_num)\n",
    "    CSEs = []\n",
    "    for k in range(k_num):\n",
    "        # for each cluster of k we get the coordinates of how far off each point is to the cluster\n",
    "        error_cords = X[labels == k] - CC_list[k]\n",
    "        # square the coordinates and sum to get the magnitude squared\n",
    "        error_cords_sq = error_cords ** 2\n",
    "        error_mag_sq = np.sum(error_cords_sq, axis = 1)\n",
    "        # since we already have the magnitude of the error squared we can just take the sum for the cluster\n",
    "        CSE = np.sum(error_mag_sq)\n",
    "        CSEs.append(CSE)\n",
    "    # sum each cluster's sum of squared errors\n",
    "    return sum(CSEs)"
   ]
  },
  {
   "cell_type": "code",
   "execution_count": 33,
   "metadata": {
    "collapsed": true
   },
   "outputs": [],
   "source": [
    "SSEs = []\n",
    "Sil_coefs = []\n",
    "for k in range(2,10):\n",
    "    km = KMeans(n_clusters=k, random_state=1)\n",
    "    km.fit(X)\n",
    "    labels = km.labels_\n",
    "    Sil_coefs.append(metrics.silhouette_score(X, labels, metric='euclidean'))\n",
    "    SSEs.append(get_SSE(X, labels))"
   ]
  },
  {
   "cell_type": "code",
   "execution_count": 35,
   "metadata": {
    "collapsed": false
   },
   "outputs": [
    {
     "ename": "ValueError",
     "evalue": "x and y must have same first dimension",
     "output_type": "error",
     "traceback": [
      "\u001b[0;31m---------------------------------------------------------------------------\u001b[0m",
      "\u001b[0;31mValueError\u001b[0m                                Traceback (most recent call last)",
      "\u001b[0;32m<ipython-input-35-17aa2fa17721>\u001b[0m in \u001b[0;36m<module>\u001b[0;34m()\u001b[0m\n\u001b[1;32m      2\u001b[0m \u001b[0mfig\u001b[0m\u001b[0;34m,\u001b[0m \u001b[0;34m(\u001b[0m\u001b[0max1\u001b[0m\u001b[0;34m,\u001b[0m \u001b[0max2\u001b[0m\u001b[0;34m)\u001b[0m \u001b[0;34m=\u001b[0m \u001b[0mplt\u001b[0m\u001b[0;34m.\u001b[0m\u001b[0msubplots\u001b[0m\u001b[0;34m(\u001b[0m\u001b[0;36m1\u001b[0m\u001b[0;34m,\u001b[0m\u001b[0;36m2\u001b[0m\u001b[0;34m,\u001b[0m \u001b[0mfigsize\u001b[0m\u001b[0;34m=\u001b[0m\u001b[0;34m(\u001b[0m\u001b[0;36m15\u001b[0m\u001b[0;34m,\u001b[0m\u001b[0;36m5\u001b[0m\u001b[0;34m)\u001b[0m\u001b[0;34m,\u001b[0m \u001b[0msharex\u001b[0m\u001b[0;34m=\u001b[0m\u001b[0mTrue\u001b[0m\u001b[0;34m)\u001b[0m\u001b[0;34m\u001b[0m\u001b[0m\n\u001b[1;32m      3\u001b[0m \u001b[0mk_clusters\u001b[0m \u001b[0;34m=\u001b[0m \u001b[0mrange\u001b[0m\u001b[0;34m(\u001b[0m\u001b[0;36m2\u001b[0m\u001b[0;34m,\u001b[0m\u001b[0;36m15\u001b[0m\u001b[0;34m)\u001b[0m\u001b[0;34m\u001b[0m\u001b[0m\n\u001b[0;32m----> 4\u001b[0;31m \u001b[0max1\u001b[0m\u001b[0;34m.\u001b[0m\u001b[0mplot\u001b[0m\u001b[0;34m(\u001b[0m\u001b[0mk_clusters\u001b[0m\u001b[0;34m,\u001b[0m \u001b[0mSil_coefs\u001b[0m\u001b[0;34m)\u001b[0m\u001b[0;34m\u001b[0m\u001b[0m\n\u001b[0m\u001b[1;32m      5\u001b[0m \u001b[0max1\u001b[0m\u001b[0;34m.\u001b[0m\u001b[0mset_xlabel\u001b[0m\u001b[0;34m(\u001b[0m\u001b[0;34m'number of clusters'\u001b[0m\u001b[0;34m)\u001b[0m\u001b[0;34m\u001b[0m\u001b[0m\n\u001b[1;32m      6\u001b[0m \u001b[0max1\u001b[0m\u001b[0;34m.\u001b[0m\u001b[0mset_ylabel\u001b[0m\u001b[0;34m(\u001b[0m\u001b[0;34m'silhouette coefficient'\u001b[0m\u001b[0;34m)\u001b[0m\u001b[0;34m\u001b[0m\u001b[0m\n",
      "\u001b[0;32m/Users/ceslee-work/anaconda/lib/python2.7/site-packages/matplotlib/axes/_axes.pyc\u001b[0m in \u001b[0;36mplot\u001b[0;34m(self, *args, **kwargs)\u001b[0m\n\u001b[1;32m   1371\u001b[0m         \u001b[0mlines\u001b[0m \u001b[0;34m=\u001b[0m \u001b[0;34m[\u001b[0m\u001b[0;34m]\u001b[0m\u001b[0;34m\u001b[0m\u001b[0m\n\u001b[1;32m   1372\u001b[0m \u001b[0;34m\u001b[0m\u001b[0m\n\u001b[0;32m-> 1373\u001b[0;31m         \u001b[0;32mfor\u001b[0m \u001b[0mline\u001b[0m \u001b[0;32min\u001b[0m \u001b[0mself\u001b[0m\u001b[0;34m.\u001b[0m\u001b[0m_get_lines\u001b[0m\u001b[0;34m(\u001b[0m\u001b[0;34m*\u001b[0m\u001b[0margs\u001b[0m\u001b[0;34m,\u001b[0m \u001b[0;34m**\u001b[0m\u001b[0mkwargs\u001b[0m\u001b[0;34m)\u001b[0m\u001b[0;34m:\u001b[0m\u001b[0;34m\u001b[0m\u001b[0m\n\u001b[0m\u001b[1;32m   1374\u001b[0m             \u001b[0mself\u001b[0m\u001b[0;34m.\u001b[0m\u001b[0madd_line\u001b[0m\u001b[0;34m(\u001b[0m\u001b[0mline\u001b[0m\u001b[0;34m)\u001b[0m\u001b[0;34m\u001b[0m\u001b[0m\n\u001b[1;32m   1375\u001b[0m             \u001b[0mlines\u001b[0m\u001b[0;34m.\u001b[0m\u001b[0mappend\u001b[0m\u001b[0;34m(\u001b[0m\u001b[0mline\u001b[0m\u001b[0;34m)\u001b[0m\u001b[0;34m\u001b[0m\u001b[0m\n",
      "\u001b[0;32m/Users/ceslee-work/anaconda/lib/python2.7/site-packages/matplotlib/axes/_base.pyc\u001b[0m in \u001b[0;36m_grab_next_args\u001b[0;34m(self, *args, **kwargs)\u001b[0m\n\u001b[1;32m    302\u001b[0m                 \u001b[0;32mreturn\u001b[0m\u001b[0;34m\u001b[0m\u001b[0m\n\u001b[1;32m    303\u001b[0m             \u001b[0;32mif\u001b[0m \u001b[0mlen\u001b[0m\u001b[0;34m(\u001b[0m\u001b[0mremaining\u001b[0m\u001b[0;34m)\u001b[0m \u001b[0;34m<=\u001b[0m \u001b[0;36m3\u001b[0m\u001b[0;34m:\u001b[0m\u001b[0;34m\u001b[0m\u001b[0m\n\u001b[0;32m--> 304\u001b[0;31m                 \u001b[0;32mfor\u001b[0m \u001b[0mseg\u001b[0m \u001b[0;32min\u001b[0m \u001b[0mself\u001b[0m\u001b[0;34m.\u001b[0m\u001b[0m_plot_args\u001b[0m\u001b[0;34m(\u001b[0m\u001b[0mremaining\u001b[0m\u001b[0;34m,\u001b[0m \u001b[0mkwargs\u001b[0m\u001b[0;34m)\u001b[0m\u001b[0;34m:\u001b[0m\u001b[0;34m\u001b[0m\u001b[0m\n\u001b[0m\u001b[1;32m    305\u001b[0m                     \u001b[0;32myield\u001b[0m \u001b[0mseg\u001b[0m\u001b[0;34m\u001b[0m\u001b[0m\n\u001b[1;32m    306\u001b[0m                 \u001b[0;32mreturn\u001b[0m\u001b[0;34m\u001b[0m\u001b[0m\n",
      "\u001b[0;32m/Users/ceslee-work/anaconda/lib/python2.7/site-packages/matplotlib/axes/_base.pyc\u001b[0m in \u001b[0;36m_plot_args\u001b[0;34m(self, tup, kwargs)\u001b[0m\n\u001b[1;32m    280\u001b[0m             \u001b[0mx\u001b[0m \u001b[0;34m=\u001b[0m \u001b[0mnp\u001b[0m\u001b[0;34m.\u001b[0m\u001b[0marange\u001b[0m\u001b[0;34m(\u001b[0m\u001b[0my\u001b[0m\u001b[0;34m.\u001b[0m\u001b[0mshape\u001b[0m\u001b[0;34m[\u001b[0m\u001b[0;36m0\u001b[0m\u001b[0;34m]\u001b[0m\u001b[0;34m,\u001b[0m \u001b[0mdtype\u001b[0m\u001b[0;34m=\u001b[0m\u001b[0mfloat\u001b[0m\u001b[0;34m)\u001b[0m\u001b[0;34m\u001b[0m\u001b[0m\n\u001b[1;32m    281\u001b[0m \u001b[0;34m\u001b[0m\u001b[0m\n\u001b[0;32m--> 282\u001b[0;31m         \u001b[0mx\u001b[0m\u001b[0;34m,\u001b[0m \u001b[0my\u001b[0m \u001b[0;34m=\u001b[0m \u001b[0mself\u001b[0m\u001b[0;34m.\u001b[0m\u001b[0m_xy_from_xy\u001b[0m\u001b[0;34m(\u001b[0m\u001b[0mx\u001b[0m\u001b[0;34m,\u001b[0m \u001b[0my\u001b[0m\u001b[0;34m)\u001b[0m\u001b[0;34m\u001b[0m\u001b[0m\n\u001b[0m\u001b[1;32m    283\u001b[0m \u001b[0;34m\u001b[0m\u001b[0m\n\u001b[1;32m    284\u001b[0m         \u001b[0;32mif\u001b[0m \u001b[0mself\u001b[0m\u001b[0;34m.\u001b[0m\u001b[0mcommand\u001b[0m \u001b[0;34m==\u001b[0m \u001b[0;34m'plot'\u001b[0m\u001b[0;34m:\u001b[0m\u001b[0;34m\u001b[0m\u001b[0m\n",
      "\u001b[0;32m/Users/ceslee-work/anaconda/lib/python2.7/site-packages/matplotlib/axes/_base.pyc\u001b[0m in \u001b[0;36m_xy_from_xy\u001b[0;34m(self, x, y)\u001b[0m\n\u001b[1;32m    221\u001b[0m         \u001b[0my\u001b[0m \u001b[0;34m=\u001b[0m \u001b[0mnp\u001b[0m\u001b[0;34m.\u001b[0m\u001b[0matleast_1d\u001b[0m\u001b[0;34m(\u001b[0m\u001b[0my\u001b[0m\u001b[0;34m)\u001b[0m\u001b[0;34m\u001b[0m\u001b[0m\n\u001b[1;32m    222\u001b[0m         \u001b[0;32mif\u001b[0m \u001b[0mx\u001b[0m\u001b[0;34m.\u001b[0m\u001b[0mshape\u001b[0m\u001b[0;34m[\u001b[0m\u001b[0;36m0\u001b[0m\u001b[0;34m]\u001b[0m \u001b[0;34m!=\u001b[0m \u001b[0my\u001b[0m\u001b[0;34m.\u001b[0m\u001b[0mshape\u001b[0m\u001b[0;34m[\u001b[0m\u001b[0;36m0\u001b[0m\u001b[0;34m]\u001b[0m\u001b[0;34m:\u001b[0m\u001b[0;34m\u001b[0m\u001b[0m\n\u001b[0;32m--> 223\u001b[0;31m             \u001b[0;32mraise\u001b[0m \u001b[0mValueError\u001b[0m\u001b[0;34m(\u001b[0m\u001b[0;34m\"x and y must have same first dimension\"\u001b[0m\u001b[0;34m)\u001b[0m\u001b[0;34m\u001b[0m\u001b[0m\n\u001b[0m\u001b[1;32m    224\u001b[0m         \u001b[0;32mif\u001b[0m \u001b[0mx\u001b[0m\u001b[0;34m.\u001b[0m\u001b[0mndim\u001b[0m \u001b[0;34m>\u001b[0m \u001b[0;36m2\u001b[0m \u001b[0;32mor\u001b[0m \u001b[0my\u001b[0m\u001b[0;34m.\u001b[0m\u001b[0mndim\u001b[0m \u001b[0;34m>\u001b[0m \u001b[0;36m2\u001b[0m\u001b[0;34m:\u001b[0m\u001b[0;34m\u001b[0m\u001b[0m\n\u001b[1;32m    225\u001b[0m             \u001b[0;32mraise\u001b[0m \u001b[0mValueError\u001b[0m\u001b[0;34m(\u001b[0m\u001b[0;34m\"x and y can be no greater than 2-D\"\u001b[0m\u001b[0;34m)\u001b[0m\u001b[0;34m\u001b[0m\u001b[0m\n",
      "\u001b[0;31mValueError\u001b[0m: x and y must have same first dimension"
     ]
    },
    {
     "data": {
      "image/png": "[encoded data removed]",
      "text/plain": [
       "<matplotlib.figure.Figure at 0x10cd11fd0>"
      ]
     },
     "metadata": {},
     "output_type": "display_data"
    }
   ],
   "source": [
    "#ask prof how to add variance explained plot\n",
    "fig, (ax1, ax2) = plt.subplots(1,2, figsize=(15,5), sharex=True)\n",
    "k_clusters = range(2,10)\n",
    "ax1.plot(k_clusters, Sil_coefs)\n",
    "ax1.set_xlabel('number of clusters')\n",
    "ax1.set_ylabel('silhouette coefficient')\n",
    "\n",
    "# plot here on ax2\n",
    "ax2.plot(k_clusters, SSEs)\n",
    "ax2.set_xlabel('number of clusters')\n",
    "ax2.set_ylabel('SSE');"
   ]
  },
  {
   "cell_type": "code",
   "execution_count": 194,
   "metadata": {
    "collapsed": false
   },
   "outputs": [],
   "source": [
    "needs['Persona'] = km.predict(needs)"
   ]
  },
  {
   "cell_type": "code",
   "execution_count": 196,
   "metadata": {
    "collapsed": false
   },
   "outputs": [
    {
     "data": {
      "text/html": [
       "<div>\n",
       "<table border=\"1\" class=\"dataframe\">\n",
       "  <thead>\n",
       "    <tr style=\"text-align: right;\">\n",
       "      <th></th>\n",
       "      <th>FELTNP</th>\n",
       "      <th>FELTSD</th>\n",
       "      <th>PNIACT</th>\n",
       "      <th>SCLACT</th>\n",
       "      <th>DIFBTH</th>\n",
       "      <th>DIFDRS</th>\n",
       "      <th>DIFEAT</th>\n",
       "      <th>DIFCHR</th>\n",
       "      <th>DIFWLK</th>\n",
       "      <th>DIFTOL</th>\n",
       "      <th>DIFPRM</th>\n",
       "      <th>DIFMON</th>\n",
       "      <th>DIFMED</th>\n",
       "      <th>BLIND</th>\n",
       "      <th>DEAF</th>\n",
       "      <th>DIFCON</th>\n",
       "      <th>DIFERR</th>\n",
       "    </tr>\n",
       "    <tr>\n",
       "      <th>persona</th>\n",
       "      <th></th>\n",
       "      <th></th>\n",
       "      <th></th>\n",
       "      <th></th>\n",
       "      <th></th>\n",
       "      <th></th>\n",
       "      <th></th>\n",
       "      <th></th>\n",
       "      <th></th>\n",
       "      <th></th>\n",
       "      <th></th>\n",
       "      <th></th>\n",
       "      <th></th>\n",
       "      <th></th>\n",
       "      <th></th>\n",
       "      <th></th>\n",
       "      <th></th>\n",
       "    </tr>\n",
       "  </thead>\n",
       "  <tbody>\n",
       "    <tr>\n",
       "      <th>0</th>\n",
       "      <td>0.802627</td>\n",
       "      <td>0.719549</td>\n",
       "      <td>0.931306</td>\n",
       "      <td>0.929961</td>\n",
       "      <td>0.887810</td>\n",
       "      <td>0.805367</td>\n",
       "      <td>0.350955</td>\n",
       "      <td>0.878734</td>\n",
       "      <td>0.948333</td>\n",
       "      <td>0.604227</td>\n",
       "      <td>0.896470</td>\n",
       "      <td>0.580253</td>\n",
       "      <td>0.463146</td>\n",
       "      <td>0.304792</td>\n",
       "      <td>0.280598</td>\n",
       "      <td>0.624361</td>\n",
       "      <td>0.814566</td>\n",
       "    </tr>\n",
       "    <tr>\n",
       "      <th>1</th>\n",
       "      <td>0.046747</td>\n",
       "      <td>0.040418</td>\n",
       "      <td>0.000000</td>\n",
       "      <td>0.134167</td>\n",
       "      <td>0.013857</td>\n",
       "      <td>0.006740</td>\n",
       "      <td>0.004316</td>\n",
       "      <td>0.021652</td>\n",
       "      <td>0.047195</td>\n",
       "      <td>0.004279</td>\n",
       "      <td>0.057379</td>\n",
       "      <td>0.035739</td>\n",
       "      <td>0.041788</td>\n",
       "      <td>0.036260</td>\n",
       "      <td>0.088305</td>\n",
       "      <td>0.032151</td>\n",
       "      <td>0.027810</td>\n",
       "    </tr>\n",
       "    <tr>\n",
       "      <th>2</th>\n",
       "      <td>0.076469</td>\n",
       "      <td>0.037668</td>\n",
       "      <td>0.996512</td>\n",
       "      <td>0.412113</td>\n",
       "      <td>0.051158</td>\n",
       "      <td>0.030945</td>\n",
       "      <td>0.007572</td>\n",
       "      <td>0.144725</td>\n",
       "      <td>0.265376</td>\n",
       "      <td>0.017187</td>\n",
       "      <td>0.090615</td>\n",
       "      <td>0.044227</td>\n",
       "      <td>0.024834</td>\n",
       "      <td>0.062472</td>\n",
       "      <td>0.137108</td>\n",
       "      <td>0.057180</td>\n",
       "      <td>0.066750</td>\n",
       "    </tr>\n",
       "    <tr>\n",
       "      <th>3</th>\n",
       "      <td>0.932240</td>\n",
       "      <td>0.811574</td>\n",
       "      <td>0.896569</td>\n",
       "      <td>0.928699</td>\n",
       "      <td>0.108884</td>\n",
       "      <td>0.061940</td>\n",
       "      <td>0.031581</td>\n",
       "      <td>0.291938</td>\n",
       "      <td>0.500875</td>\n",
       "      <td>0.039232</td>\n",
       "      <td>0.258587</td>\n",
       "      <td>0.195141</td>\n",
       "      <td>0.105791</td>\n",
       "      <td>0.161566</td>\n",
       "      <td>0.187510</td>\n",
       "      <td>0.399988</td>\n",
       "      <td>0.266930</td>\n",
       "    </tr>\n",
       "  </tbody>\n",
       "</table>\n",
       "</div>"
      ],
      "text/plain": [
       "           FELTNP    FELTSD    PNIACT    SCLACT    DIFBTH    DIFDRS    DIFEAT  \\\n",
       "persona                                                                         \n",
       "0        0.802627  0.719549  0.931306  0.929961  0.887810  0.805367  0.350955   \n",
       "1        0.046747  0.040418  0.000000  0.134167  0.013857  0.006740  0.004316   \n",
       "2        0.076469  0.037668  0.996512  0.412113  0.051158  0.030945  0.007572   \n",
       "3        0.932240  0.811574  0.896569  0.928699  0.108884  0.061940  0.031581   \n",
       "\n",
       "           DIFCHR    DIFWLK    DIFTOL    DIFPRM    DIFMON    DIFMED     BLIND  \\\n",
       "persona                                                                         \n",
       "0        0.878734  0.948333  0.604227  0.896470  0.580253  0.463146  0.304792   \n",
       "1        0.021652  0.047195  0.004279  0.057379  0.035739  0.041788  0.036260   \n",
       "2        0.144725  0.265376  0.017187  0.090615  0.044227  0.024834  0.062472   \n",
       "3        0.291938  0.500875  0.039232  0.258587  0.195141  0.105791  0.161566   \n",
       "\n",
       "             DEAF    DIFCON    DIFERR  \n",
       "persona                                \n",
       "0        0.280598  0.624361  0.814566  \n",
       "1        0.088305  0.032151  0.027810  \n",
       "2        0.137108  0.057180  0.066750  \n",
       "3        0.187510  0.399988  0.266930  "
      ]
     },
     "execution_count": 196,
     "metadata": {},
     "output_type": "execute_result"
    }
   ],
   "source": [
    "needs.groupby(by='persona').mean()"
   ]
  },
  {
   "cell_type": "code",
   "execution_count": 203,
   "metadata": {
    "collapsed": false
   },
   "outputs": [
    {
     "data": {
      "text/plain": [
       "<matplotlib.axes._subplots.AxesSubplot at 0x125df9b10>"
      ]
     },
     "execution_count": 203,
     "metadata": {},
     "output_type": "execute_result"
    },
    {
     "data": {
      "image/png": "[encoded data removed]",
      "text/plain": [
       "<matplotlib.figure.Figure at 0x125737790>"
      ]
     },
     "metadata": {},
     "output_type": "display_data"
    }
   ],
   "source": [
    "fig = plt.figure()\n",
    "fig.suptitle('CLUSTER 3: Probability of Needs by At-Risk Status', fontsize=18, fontweight='bold')\n",
    "\n",
    "ax = fig.add_subplot(1,1,2)\n",
    "ax2 = fig.add_subplot(1,2,2)\n",
    "\n",
    "ax.set_xlabel('Need Metric')\n",
    "ax.set_ylabel('Probability of Need')\n",
    "\n",
    "pd.pivot_table(needs, index=['persona']).transpose().plot(kind='bar', ax=ax, figsize=(40,14))"
   ]
  },
  {
   "cell_type": "code",
   "execution_count": 208,
   "metadata": {
    "collapsed": false
   },
   "outputs": [
    {
     "data": {
      "image/png": "[encoded data removed]",
      "text/plain": [
       "<matplotlib.figure.Figure at 0x27ea49650>"
      ]
     },
     "metadata": {},
     "output_type": "display_data"
    }
   ],
   "source": [
    "#!/usr/bin/env python\n",
    "# a stacked bar plot with errorbars\n",
    "N = 5\n",
    "menMeans   = (20, 35, 30, 35, 27)\n",
    "womenMeans = (25, 32, 34, 20, 25)\n",
    "menStd     = (2, 3, 4, 1, 2)\n",
    "womenStd   = (3, 5, 2, 3, 3)\n",
    "ind = np.arange(N)    # the x locations for the groups\n",
    "width = 0.35       # the width of the bars: can also be len(x) sequence\n",
    "\n",
    "p1 = plt.bar(ind, menMeans,   width, color='r', yerr=womenStd)\n",
    "# p2 = plt.bar(ind, womenMeans, width, color='y',\n",
    "#              bottom=menMeans, yerr=menStd)\n",
    "\n",
    "plt.ylabel('Scores')\n",
    "plt.title('Scores by group and gender')\n",
    "plt.xticks(ind+width/2., ('G1', 'G2', 'G3', 'G4', 'G5') )\n",
    "plt.yticks(np.arange(0,81,10))\n",
    "plt.legend( (p1[0], p2[0]), ('Men', 'Women') )\n",
    "\n",
    "plt.show()"
   ]
  },
  {
   "cell_type": "markdown",
   "metadata": {},
   "source": [
    "#### Some things to note about our goals and approach:\n",
    "\n",
    "* Determine what deﬁnes __success__, and to what degree.\n",
    "* Brainstorm __metrics__ to visualize and/or calculate.\n",
    "* Ask __questions__ that have (or can have) a definitive answer.\n",
    "* Be careful what you wish for, be aware of possible __correlations__, and take caution with how you [measure](http://en.wikipedia.org/wiki/Observer-expectancy_effect) it."
   ]
  },
  {
   "cell_type": "markdown",
   "metadata": {},
   "source": [
    "###Scoring Model"
   ]
  },
  {
   "cell_type": "code",
   "execution_count": null,
   "metadata": {
    "collapsed": true
   },
   "outputs": [],
   "source": []
  },
  {
   "cell_type": "code",
   "execution_count": 12,
   "metadata": {
    "collapsed": false
   },
   "outputs": [],
   "source": [
    "# print 'Train Score: ', model.score(xtrain,ytrain)\n",
    "# print 'Test Score: ', model.score(xtest,ytest)"
   ]
  },
  {
   "cell_type": "markdown",
   "metadata": {},
   "source": [
    "###Examing Model & Coefficients"
   ]
  },
  {
   "cell_type": "markdown",
   "metadata": {},
   "source": [
    "####Feature Analysis"
   ]
  },
  {
   "cell_type": "code",
   "execution_count": null,
   "metadata": {
    "collapsed": true
   },
   "outputs": [],
   "source": [
    "#four groups boxplots plotted next to each other.\n",
    "plt.figure(figsize=(20,20))\n",
    "for i in range(len(features)):\n",
    "    v = i +1\n",
    "    ax1 = rock.boxplot(features[i],by='decade',ax=subplot(5,2,v))\n",
    "    ax1.set_title(str(features[i]),fontsize=15)\n",
    "    ax1.set_xlabel('')\n",
    "plt.suptitle('Rock Feature Boxplots by Decade',size=20)"
   ]
  },
  {
   "cell_type": "code",
   "execution_count": null,
   "metadata": {
    "collapsed": true
   },
   "outputs": [],
   "source": [
    "#compare this clustering to just using quartiles."
   ]
  },
  {
   "cell_type": "markdown",
   "metadata": {},
   "source": [
    "According to the boxplots, songs in the top median quantile of popularity demonstrate a slightly higher level of verbosity, energy, and loudness than songs in the lower median quantile."
   ]
  },
  {
   "cell_type": "code",
   "execution_count": null,
   "metadata": {
    "collapsed": true
   },
   "outputs": [],
   "source": [
    "#Pros & Cons of other models"
   ]
  },
  {
   "cell_type": "markdown",
   "metadata": {},
   "source": [
    "Upon examination of the training set, the target values are skewed towards the earlier decades in the dataset.  With the high variation in the data, a Naïve Bayes model, although a strong algorithm, will not pick up on the nuances in the song metadata to make effective predictions to the song’s decade of origin.  This is because Naive Bayes assumes that all features are independent of one another.\n",
    "\n",
    "In place of Naïve Bayes, I will use a Random Forest model.  Although very prone to overfitting on the training set in machine learning models, this model is strong enough to pick up on the subtle variations in the data, as it does not perceive all of the features to be in a vacuum like the Bayes algorithm.  Moreover, as the rock song dataset only consists of 5,056 unique songs, scaling with hundreds decision trees should not prove to be an issue.\n"
   ]
  },
  {
   "cell_type": "code",
   "execution_count": null,
   "metadata": {
    "collapsed": true
   },
   "outputs": [],
   "source": [
    "#for factor analysis: https://www.hawaii.edu/powerkills/UFA.HTM\n",
    "#radar chart for dashboard -----   http://bl.ocks.org/chrisrzhou/2421ac6541b68c1680f8"
   ]
  },
  {
   "cell_type": "markdown",
   "metadata": {},
   "source": [
    "___"
   ]
  },
  {
   "cell_type": "markdown",
   "metadata": {},
   "source": [
    "##Conclusions"
   ]
  },
  {
   "cell_type": "markdown",
   "metadata": {},
   "source": [
    "Through the use of song metadata for the Billboard Top 40 for the past half century and OLS, Logistic, Random Forest, and K-Means machine learning algorithms, I determined that time plays a larger role in the popularity attrition of a song than any metadata factor in an OLS linear model.  Using a categorial logistic regression model, however, I found that loudness, energy, and danceability, to some extent, account for some of the gains in song popularity. \n",
    "\n",
    "Moreover, depending on the strength of the algorithm used, song metadata can be a decent predictor to determine from which decade a particular song comes.  The metadata truly shines, however, in the classification and clustering of genres.  In developing my own genre clusters with K-Means, I was amazed how accurately the computer picked like-sounding songs through only 5 feature attributes.  \n",
    "\n",
    "As the genre area plot demonstrated, we as a culture are getting more diverse in terms of the music to which we listen.  With the power of machine learning, however, services like Spotify, Google Music, and Pandora will never be at a loss for songs to meet a particular individual’s tastes, despite the ever increasing scope of possibilities.\n"
   ]
  },
  {
   "cell_type": "markdown",
   "metadata": {},
   "source": [
    "___"
   ]
  },
  {
   "cell_type": "markdown",
   "metadata": {},
   "source": [
    "##Further Research"
   ]
  },
  {
   "cell_type": "markdown",
   "metadata": {},
   "source": [
    "___"
   ]
  },
  {
   "cell_type": "markdown",
   "metadata": {},
   "source": [
    "### More Information"
   ]
  },
  {
   "cell_type": "markdown",
   "metadata": {},
   "source": [
    "For more information please visit:"
   ]
  },
  {
   "cell_type": "markdown",
   "metadata": {},
   "source": [
    "For more code and the datasets for this project, please visit my GitHub page:"
   ]
  },
  {
   "cell_type": "code",
   "execution_count": null,
   "metadata": {
    "collapsed": true
   },
   "outputs": [],
   "source": [
    "# Modified Stylesheet for notebook.\n",
    "# from IPython.core.display import HTML\n",
    "# def css_styling():\n",
    "#     styles = open(\"../custom_nb_style.css\", \"r\").read()\n",
    "#     return HTML(styles)\n",
    "\n",
    "# css_styling()\n",
    "\n",
    "# from IPython.core.display import HTML\n",
    "# styles = open(\"custom_dark.css\", \"r\").read()\n",
    "# HTML(styles)\n",
    "\n",
    "##### For prettier graphs see http://localhost:8888/notebooks/project/iPython%20notebook%20gallery/Up%20and%20Down%20PyData%202014.ipynb"
   ]
  }
 ],
 "metadata": {
  "kernelspec": {
   "display_name": "Python 2",
   "language": "python",
   "name": "python2"
  },
  "language_info": {
   "codemirror_mode": {
    "name": "ipython",
    "version": 2
   },
   "file_extension": ".py",
   "mimetype": "text/x-python",
   "name": "python",
   "nbconvert_exporter": "python",
   "pygments_lexer": "ipython2",
   "version": "2.7.10"
  }
 },
 "nbformat": 4,
 "nbformat_minor": 0
}
