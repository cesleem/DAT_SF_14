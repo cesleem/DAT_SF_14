{
 "cells": [
  {
   "cell_type": "code",
   "execution_count": 27,
   "metadata": {
    "collapsed": false
   },
   "outputs": [
    {
     "data": {
      "text/html": [
       "<img src=\"http://files.obshandinhand.webnode.nl/200000026-f2e8cf3e1e/200000000.jpg\"/>"
      ],
      "text/plain": [
       "<IPython.core.display.Image object>"
      ]
     },
     "execution_count": 27,
     "metadata": {},
     "output_type": "execute_result"
    }
   ],
   "source": [
    "Image(url='http://files.obshandinhand.webnode.nl/200000026-f2e8cf3e1e/200000000.jpg')"
   ]
  },
  {
   "cell_type": "markdown",
   "metadata": {},
   "source": [
    "#Mine the Gap: Targeting High Risk Patients for Care Coordination & Social Support Services"
   ]
  },
  {
   "cell_type": "markdown",
   "metadata": {},
   "source": [
    "*This notebook originally appeared as a [post](http://jakevdp.github.io/blog/2014/11/11/the-hipster-effect-interactive/) on the blog [Pythonic Perambulations](http://jakevdp.github.io). The content is BSD licensed.*"
   ]
  },
  {
   "cell_type": "markdown",
   "metadata": {},
   "source": [
    "This week I started seeing references all over the internet to [this paper](http://arxiv.org/abs/1410.8001): *The Hipster Effect: When Anticonformists All Look The Same*. It essentially describes a simple mathematical model which models conformity and non-conformity among a mutually interacting population, and finds some interesting results: namely, **conformity among a population of self-conscious non-conformists is similar to a phase transition in a time-delayed thermodynamic system**. In other words, with enough hipsters around responding to delayed fashion trends, a plethora of facial hair and fixed gear bikes is a natural result.\n",
    "\n",
    "Also naturally, upon reading the paper I wanted to try to reproduce the work. The paper solves the problem analytically for a continuous system and shows the precise values of certain phase transitions within the long-term limit of the postulated system. Though such theoretical derivations are useful, I often find it more intuitive to simulate systems like this in a more approximate manner to gain hands-on understanding. By the end of this notebook, we'll be using IPython's incredible [interactive widgets](http://nbviewer.ipython.org/github/ipython/ipython/blob/master/examples/Interactive%20Widgets/Index.ipynb) to explore how the inputs to this model affect the results."
   ]
  },
  {
   "cell_type": "markdown",
   "metadata": {},
   "source": [
    "___"
   ]
  },
  {
   "cell_type": "markdown",
   "metadata": {},
   "source": [
    "Contents:\n",
    "\n",
    "* [Think Python](http://www.greenteapress.com/thinkpython/thinkpython.pdf)\n",
    "* [MIT Open Courseware: A Gentle Introduction to Programming Using Python](http://ocw.mit.edu/courses/electrical-engineering-and-computer-science/6-189-a-gentle-introduction-to-programming-using-python-january-iap-2008/index.htm)\n",
    "* [Learn Python the Hard Way](http://learnpythonthehardway.org/book/)\n",
    "* [Python Koans](https://github.com/gregmalcolm/python_koans/wiki)"
   ]
  },
  {
   "cell_type": "markdown",
   "metadata": {},
   "source": [
    "___"
   ]
  },
  {
   "cell_type": "code",
   "execution_count": null,
   "metadata": {
    "collapsed": true
   },
   "outputs": [],
   "source": [
    "# Modified Stylesheet for notebook.\n",
    "# from IPython.core.display import HTML\n",
    "# def css_styling():\n",
    "#     styles = open(\"../custom_nb_style.css\", \"r\").read()\n",
    "#     return HTML(styles)\n",
    "\n",
    "# css_styling()"
   ]
  },
  {
   "cell_type": "code",
   "execution_count": 1,
   "metadata": {
    "collapsed": true
   },
   "outputs": [],
   "source": [
    "#imports\n",
    "# import the Image display module\n",
    "from IPython.display import Image\n",
    "\n",
    "import warnings\n",
    "warnings.filterwarnings('ignore')"
   ]
  },
  {
   "cell_type": "markdown",
   "metadata": {},
   "source": [
    "## ___Project Overview___"
   ]
  },
  {
   "cell_type": "code",
   "execution_count": 24,
   "metadata": {
    "collapsed": false
   },
   "outputs": [
    {
     "data": {
      "text/html": [
       "<img src=\"http://www.cambridgeshireinsight.org.uk/files/caminsight/resize/widerdeterminants-500x337.jpg\" height=\"50\"/>"
      ],
      "text/plain": [
       "<IPython.core.display.Image object>"
      ]
     },
     "execution_count": 24,
     "metadata": {},
     "output_type": "execute_result"
    }
   ],
   "source": [
    "Image(url='http://www.cambridgeshireinsight.org.uk/files/caminsight/resize/widerdeterminants-500x337.jpg', height=50)"
   ]
  },
  {
   "cell_type": "code",
   "execution_count": null,
   "metadata": {
    "collapsed": true
   },
   "outputs": [],
   "source": [
    "#project overview text"
   ]
  },
  {
   "cell_type": "code",
   "execution_count": 2,
   "metadata": {
    "collapsed": true
   },
   "outputs": [],
   "source": [
    "#project overview viz"
   ]
  },
  {
   "cell_type": "code",
   "execution_count": null,
   "metadata": {
    "collapsed": true
   },
   "outputs": [],
   "source": [
    "#project overview viz text"
   ]
  },
  {
   "cell_type": "markdown",
   "metadata": {},
   "source": [
    "### Problem\n",
    "\n",
    "> ###From an at-risk patient's perspective, where are the gaps in care?\n",
    "> ###Ultimately, where are the opportunities for improved system management for most at-risk enrollees?"
   ]
  },
  {
   "cell_type": "markdown",
   "metadata": {},
   "source": [
    "<a id=\"goals\"></a>\n",
    "###Goal\n",
    "\n",
    "Let's ask further questions to better define what we hope to achieve.\n",
    "\n",
    "> ####Exploratory Analysis\n",
    "\n",
    "> What factors are associated with poor and good health status?\n",
    "\n",
    "> Are there any general patterns in comorbidity?\n",
    "\n",
    "> What is the impact of pain on physical and mental quality of living?\n",
    "\n",
    "> What is the relationship between mental health and presence of multiple chronic conditions?\n",
    "\n",
    "> ####Cohort Analysis\n",
    "\n",
    "> Among Medicare enrollees, which patients are among the most at-risk?\n",
    "\n",
    "> What are there corresponding demographic and outcomes profiles on total health dimensions?\n",
    "\n",
    "> How does an individual enrollee's profile compare to Medicaid population?\n",
    "\n",
    "> ####Predictive Modeling\n",
    "\n",
    "> Can we approximate/predict a new enrollee's profile from historical data?"
   ]
  },
  {
   "cell_type": "markdown",
   "metadata": {},
   "source": [
    "##___Explore Data___"
   ]
  },
  {
   "cell_type": "markdown",
   "metadata": {},
   "source": [
    "### Acquire"
   ]
  },
  {
   "cell_type": "markdown",
   "metadata": {
    "collapsed": true
   },
   "source": [
    "The data comes from an HOS Outcomes Survey from 2012. "
   ]
  },
  {
   "cell_type": "code",
   "execution_count": 17,
   "metadata": {
    "collapsed": true
   },
   "outputs": [],
   "source": [
    "#graphic of data dictionary"
   ]
  },
  {
   "cell_type": "code",
   "execution_count": 14,
   "metadata": {
    "collapsed": false
   },
   "outputs": [
    {
     "name": "stdout",
     "output_type": "stream",
     "text": [
      "----\n",
      "     CASE_ID  AGEGRP  RACE  GENDER  MRSTAT  EDUC  BMI  GENHTH  MODACT  CLMBSV  \\\n",
      "0  C01000060       3   NaN       2       1     1    1       4       2       2   \n",
      "1  C01000074       3   NaN       2       2     1    2       2       2       3   \n",
      "2  C01000140       3     1       1       1     2    1       3       3       3   \n",
      "3  C01000540       3     1       2       1     3    1       2       3       2   \n",
      "4  C01000573       3     1       1       2     1    1       4     NaN       2   \n",
      "\n",
      "    ...    BAL12MO  FALLTLK  OSTTEST  WHOCMP  SRVDSP  RNDNUM  PCTCMP  COHORT  \\\n",
      "0   ...          1        1        1       1     M10      M1    97.3     C15   \n",
      "1   ...          1        1        1       1     M10      M1    90.5     C15   \n",
      "2   ...          2        1        2       1     T10      T1   100.0     C15   \n",
      "3   ...          2        2        2       1     M10      M1   100.0     C15   \n",
      "4   ...          2        2        1       1     M10      M2    97.3     C15   \n",
      "\n",
      "   PLREG  SVLANG  \n",
      "0      8       1  \n",
      "1      8       1  \n",
      "2      4       1  \n",
      "3      7       1  \n",
      "4     10       1  \n",
      "\n",
      "[5 rows x 86 columns]\n",
      "----\n",
      "Individual columns - Python data types\n"
     ]
    },
    {
     "data": {
      "text/plain": [
       "[('CASE_ID', str),\n",
       " ('AGEGRP', numpy.int64),\n",
       " ('RACE', numpy.float64),\n",
       " ('GENDER', numpy.float64),\n",
       " ('MRSTAT', numpy.float64),\n",
       " ('EDUC', numpy.float64),\n",
       " ('BMI', numpy.float64),\n",
       " ('GENHTH', numpy.float64),\n",
       " ('MODACT', numpy.float64),\n",
       " ('CLMBSV', numpy.float64),\n",
       " ('PACMPL', numpy.float64),\n",
       " ('PLMTKW', numpy.float64),\n",
       " ('EACMPL', numpy.float64),\n",
       " ('ENTCRF', numpy.float64),\n",
       " ('PNINTF', numpy.float64),\n",
       " ('PCEFUL', numpy.float64),\n",
       " ('ENERGY', numpy.float64),\n",
       " ('BLSAD', numpy.float64),\n",
       " ('SCLACT', numpy.float64),\n",
       " ('ASHLTH', numpy.float64),\n",
       " ('ASEHLTH', numpy.float64),\n",
       " ('DIFBTH', numpy.float64),\n",
       " ('DIFDRS', numpy.float64),\n",
       " ('DIFEAT', numpy.float64),\n",
       " ('DIFCHR', numpy.float64),\n",
       " ('DIFWLK', numpy.float64),\n",
       " ('DIFTOL', numpy.float64),\n",
       " ('PHYHTH', numpy.float64),\n",
       " ('MENHTH', numpy.float64),\n",
       " ('PORHTH', numpy.float64),\n",
       " ('CPNEXR', numpy.float64),\n",
       " ('CPNRST', numpy.float64),\n",
       " ('SOBFLT', numpy.float64),\n",
       " ('SOBSIT', numpy.float64),\n",
       " ('SOBWLK', numpy.float64),\n",
       " ('SOBSTR', numpy.float64),\n",
       " ('NMBFET', numpy.float64),\n",
       " ('TINGFT', numpy.float64),\n",
       " ('DECSNS', numpy.float64),\n",
       " ('DECHEL', numpy.float64),\n",
       " ('ARTHPN', numpy.float64),\n",
       " ('RDNEWP', numpy.float64),\n",
       " ('HRMOST', numpy.float64),\n",
       " ('HIGHBP', numpy.float64),\n",
       " ('ANGCAD', numpy.float64),\n",
       " ('CHF', numpy.float64),\n",
       " ('AMI', numpy.float64),\n",
       " ('OTHHRT', numpy.float64),\n",
       " ('STROKE', numpy.float64),\n",
       " ('COPD_E', numpy.float64),\n",
       " ('GI_ETC', numpy.float64),\n",
       " ('ATHHIP', numpy.float64),\n",
       " ('ATHHAN', numpy.float64),\n",
       " ('OSTEOPO', numpy.float64),\n",
       " ('SCIATC', numpy.float64),\n",
       " ('DIABET', numpy.float64),\n",
       " ('ANYCAN', numpy.float64),\n",
       " ('COLNCA', numpy.float64),\n",
       " ('LUNGCA', numpy.float64),\n",
       " ('BRSTCA', numpy.float64),\n",
       " ('PROSCA', numpy.float64),\n",
       " ('BACKPN', numpy.float64),\n",
       " ('FELTSD', numpy.float64),\n",
       " ('DEPMCH', numpy.float64),\n",
       " ('DEP2YR', numpy.float64),\n",
       " ('DEPWK', numpy.float64),\n",
       " ('CMPHTH', numpy.float64),\n",
       " ('SMKFRQ', numpy.float64),\n",
       " ('URNLKG', numpy.float64),\n",
       " ('URNMAG', numpy.float64),\n",
       " ('URNDOC', numpy.float64),\n",
       " ('URNTRT', numpy.float64),\n",
       " ('PAOTLK', numpy.float64),\n",
       " ('PAOADV', numpy.float64),\n",
       " ('BALTLK', numpy.float64),\n",
       " ('FELL12MO', numpy.float64),\n",
       " ('BAL12MO', numpy.float64),\n",
       " ('FALLTLK', numpy.float64),\n",
       " ('OSTTEST', numpy.float64),\n",
       " ('WHOCMP', numpy.float64),\n",
       " ('SRVDSP', str),\n",
       " ('RNDNUM', str),\n",
       " ('PCTCMP', numpy.float64),\n",
       " ('COHORT', str),\n",
       " ('PLREG', numpy.int64),\n",
       " ('SVLANG', numpy.int64)]"
      ]
     },
     "execution_count": 14,
     "metadata": {},
     "output_type": "execute_result"
    }
   ],
   "source": [
    "#code\n",
    "import pandas as pd\n",
    "\n",
    "allpatients = pd.read_csv('source_data/HOS_DATA_Sample.csv')\n",
    "print('----')\n",
    "# print the raw column information plus summary header\n",
    "print(allpatients.head())\n",
    "print('----')\n",
    "# look at the types of each column explicitly\n",
    "print('Individual columns - Python data types')\n",
    "[(x, type(allpatients[x][0])) for x in allpatients.columns] "
   ]
  },
  {
   "cell_type": "markdown",
   "metadata": {},
   "source": [
    "###Examine"
   ]
  },
  {
   "cell_type": "code",
   "execution_count": 15,
   "metadata": {
    "collapsed": false
   },
   "outputs": [
    {
     "name": "stdout",
     "output_type": "stream",
     "text": [
      "CASE_ID,AGEGRP,RACE,GENDER,MRSTAT,EDUC,BMI,GENHTH,MODACT,CLMBSV,PACMPL,PLMTKW,EACMPL,ENTCRF,PNINTF,PCEFUL,ENERGY,BLSAD,SCLACT,ASHLTH,ASEHLTH,DIFBTH,DIFDRS,DIFEAT,DIFCHR,DIFWLK,DIFTOL,PHYHTH,MENHTH,PORHTH,CPNEXR,CPNRST,SOBFLT,SOBSIT,SOBWLK,SOBSTR,NMBFET,TINGFT,DECSNS,DECHEL,ARTHPN,RDNEWP,HRMOST,HIGHBP,ANGCAD,CHF,AMI,OTHHRT,STROKE,COPD_E,GI_ETC,ATHHIP,ATHHAN,OSTEOPO,SCIATC,DIABET,ANYCAN,COLNCA,LUNGCA,BRSTCA,PROSCA,BACKPN,FELTSD,DEPMCH,DEP2YR,DEPWK,CMPHTH,SMKFRQ,URNLKG,URNMAG,URNDOC,URNTRT,PAOTLK,PAOADV,BALTLK,FELL12MO,BAL12MO,FALLTLK,OSTTEST,WHOCMP,SRVDSP,RNDNUM,PCTCMP,COHORT,PLREG,SVLANG\r",
      "C01000060,3,,2,1,1,1,4,2,2,4,4,1,2,4,2,4,5,4,3,2,1,1,1,2,2,1,3,0,0,5,5,4,4,2,2,5,5,5,5,4,1,2,1,2,2,2,2,2,1,2,1,1,1,2,2,2,,,,,2,2,2,2,2,4,3,2,,,,2,2,2,2,1,1,1,1,M10,M1,97.3,C15,8,1\r",
      "C01000074,3,,2,2,1,2,2,2,3,2,2,2,2,2,2,2,6,5,2,1,1,1,1,1,1,1,0,0,0,5,5,4,5,4,4,4,4,5,5,3,1,1,1,,1,,1,,,2,1,1,2,,1,2,,,,,5,2,1,1,1,4,3,,3,2,2,1,1,1,1,1,1,1,1,M10,M1,90.5,C15,8,1\r",
      "C01000140,3,1,1,1,2,1,3,3,3,5,1,1,1,1,2,2,6,5,3,3,1,1,1,1,3,1,0,0,,5,5,5,5,5,5,5,5,5,5,4,1,1,1,2,2,2,2,1,2,2,2,2,2,2,1,2,,,,,3,2,2,2,1,3,3,2,,,,2,1,1,1,2,1,2,1,T10,T1,100,C15,4,1\r",
      "C01000540,3,1,2,1,3,1,2,3,2,3,3,1,1,2,1,2,6,5,3,3,1,1,1,2,2,1,0,0,0,5,5,5,5,5,5,5,5,5,5,2,1,1,1,2,2,2,2,2,2,2,1,2,2,2,2,1,2,2,2,2,5,2,2,2,1,3,3,2,3,2,,2,2,2,2,2,2,2,1,M10,M1,100,C15,7,1\r",
      "C01000573,3,1,1,2,1,1,4,,2,3,,3,4,3,4,5,5,3,4,4,1,1,2,1,1,1,4,6,7,3,3,3,4,5,4,5,5,5,5,4,1,1,2,2,2,2,2,2,2,2,2,1,2,2,2,2,2,2,2,2,3,1,2,2,3,4,3,2,,,,1,1,2,2,2,2,1,1,M10,M2,97.3,C15,10,1\r",
      "C01001114,3,1,2,2,2,2,2,3,2,2,2,2,2,2,2,3,5,4,3,3,1,1,1,2,1,1,0,0,0,5,5,5,5,5,4,5,5,5,5,2,1,1,2,2,2,2,2,2,2,2,2,2,2,2,2,2,,,,,5,2,2,2,1,2,3,2,,,,3,,3,2,2,3,2,1,M10,M1,98.6,C15,5,1\r",
      "C01001310,2,,2,,,,4,1,1,5,5,,,4,,,,,,,,,,,,,,,,,,,,,,,,,,,,,,,,,,,,,,,,,,,,,,,,,,,,,,,,,,,,,,,,,1,T31,T9,10.8,C15,5,1\r",
      "C01001527,3,1,1,1,2,1,3,1,1,4,4,1,1,4,2,2,6,3,3,3,2,2,1,2,3,2,30,0,0,4,4,5,5,1,1,2,4,5,5,5,1,2,1,1,2,2,1,2,2,2,1,1,1,1,2,2,,,,,2,2,2,2,1,3,3,1,3,,,2,2,2,1,1,2,1,1,M10,M1,98.6,C15,3,1\r",
      "C01001737,3,,1,,,,3,2,2,1,1,1,1,1,6,2,5,5,3,,1,1,1,1,1,,,,,,,,,,,,,,,,,,,,,,,,,,,,,,,,,,,,,,,,,,,,,,,,,,,,,,1,T31,T1,27,C15,6,1\r",
      "C01001739,3,1,2,1,2,2,4,1,1,2,1,2,2,4,4,6,4,2,4,4,2,1,1,1,2,1,30,30,23,2,3,3,3,1,1,1,1,1,5,5,1,1,1,1,2,2,2,2,2,2,1,1,1,2,1,1,2,2,2,2,5,1,1,2,2,4,2,,2,2,1,1,1,1,1,1,1,1,1,M10,M2,97.3,C15,1,1\r",
      "C01001883,3,1,1,1,1,1,4,2,2,2,2,1,1,2,2,2,5,4,4,3,1,1,1,1,1,1,0,0,0,5,5,5,5,5,5,5,5,5,5,1,1,1,2,2,2,2,2,1,2,2,2,2,2,2,2,2,,,,,5,2,2,2,1,3,3,2,,,,1,1,2,2,2,2,2,1,M10,M1,100,C15,10,1\r",
      "C01002079,3,,1,,,,,,,,,,,,,,,,,,,,,,,,,,,,,,,,,,,,,,,,,,,,,,,,,,,,,,,,,,,,,,,,,,,,,,,,,,,,1,T31,T3,2.7,C15,7,1\r",
      "C01002569,1,1,1,2,,1,1,3,3,1,1,1,1,1,1,1,6,5,3,3,1,1,1,1,1,1,0,0,0,5,5,5,5,5,5,5,5,5,5,1,1,1,2,2,2,2,2,2,2,2,2,2,2,2,2,2,2,2,2,2,5,2,2,2,1,1,3,2,,,,2,2,2,2,2,2,2,2,M10,M1,97.3,C15,1,1\r",
      "C01002866,3,1,2,1,2,2,3,,1,,3,,3,3,3,3,4,3,3,3,1,1,1,2,2,1,15,20,0,2,,,,1,1,,3,3,,4,1,1,1,,,,,,,1,,,,,1,,2,2,2,2,3,2,2,1,2,3,,1,2,2,2,2,2,2,1,1,1,1,1,M11,M1,73,C15,4,1\r",
      "C01002920,2,2,2,2,2,2,4,1,2,4,4,2,2,4,2,1,4,3,5,4,2,1,1,2,2,2,12,4,6,3,1,3,1,1,2,2,4,3,5,4,1,1,1,2,1,2,1,1,1,2,1,1,1,1,1,2,2,2,2,2,2,1,1,1,2,2,3,1,2,2,2,1,1,1,1,1,1,1,,M10,M1,98.6,C15,2,1\r",
      "C01003042,1,1,1,1,1,1,5,1,1,3,4,3,3,5,5,5,5,3,5,5,2,1,1,2,2,1,30,10,20,5,5,5,5,5,5,4,4,2,5,5,1,1,1,2,2,2,2,2,2,1,1,2,1,2,2,2,,,,,1,2,2,2,3,5,1,2,,,,2,2,2,1,1,1,2,2,M10,M1,100,C15,9,1\r",
      "C01003065,3,1,2,1,2,1,5,1,1,5,5,5,5,5,5,6,1,2,5,5,2,2,2,3,3,2,30,15,30,4,3,3,3,2,2,1,1,2,3,5,2,1,1,1,2,2,1,1,2,2,1,1,1,1,2,2,2,2,2,2,1,1,1,1,3,5,3,1,2,2,2,1,2,1,1,1,1,1,1,M10,M1,100,C15,2,1\r",
      "C01003788,3,2,2,2,2,1,4,2,2,1,1,1,2,2,4,4,4,3,2,3,1,2,1,2,1,1,15,3,0,5,5,3,3,3,3,3,3,3,5,5,1,2,1,,2,2,2,2,,2,2,,1,,2,2,,,,,3,1,2,2,2,3,3,1,3,,,1,1,1,2,1,2,1,1,T10,T9,94.6,C15,4,1\r",
      "C01003939,3,1,1,1,3,1,3,2,2,2,2,3,3,2,4,4,4,4,3,3,1,1,1,1,2,1,0,0,0,5,5,5,5,4,4,5,5,5,5,4,1,2,2,2,2,2,2,2,2,2,1,2,2,2,2,2,,,,,5,2,2,2,3,3,3,2,,,,2,2,2,2,2,2,2,2,M10,M1,98.6,C15,4,1\r",
      "C01003962,3,1,1,1,3,1,1,3,3,1,1,1,1,1,5,1,6,5,3,3,1,1,1,1,1,1,30,0,0,5,5,5,5,5,5,5,5,5,5,2,1,1,1,2,2,2,2,2,2,2,2,1,2,2,2,1,2,2,2,2,5,2,2,2,1,1,3,1,2,1,2,2,2,2,2,2,2,2,1,T10,T2,100,C15,3,1\r",
      "C01003997,3,1,2,2,3,1,2,2,2,1,1,1,1,1,1,2,6,5,1,1,1,1,1,1,1,1,0,0,0,5,5,5,5,5,5,5,5,5,5,2,1,1,2,2,2,2,2,2,2,2,1,2,1,2,2,2,2,2,2,2,5,2,2,2,1,1,3,1,3,1,1,1,1,1,2,1,1,1,1,M10,M2,100,C15,7,1\r",
      "C01004005,3,,2,,,,3,3,3,,,,,,,,,,,,,,,,,,,,,,,,,,,,,,,,,,,,,,,,,,,,,,,,,,,,,,,,,,,,,,,,,,,,,,1,T31,T9,6.8,C15,2,1\r",
      "C01004027,3,1,2,1,3,1,2,3,3,1,1,1,1,1,2,1,6,5,3,3,1,1,1,1,1,1,0,0,0,5,5,5,5,5,5,5,5,5,5,2,1,1,2,2,2,2,2,2,2,2,1,1,2,2,2,1,2,2,2,2,5,2,2,2,1,2,3,1,3,2,1,1,1,2,2,2,2,1,1,M10,M1,100,C15,8,1\r",
      "C01004072,3,1,1,1,3,1,5,1,1,4,4,3,1,4,3,5,4,2,5,3,2,2,1,2,2,2,30,20,30,3,4,4,4,1,1,5,5,5,4,5,1,1,1,1,2,2,2,2,1,2,1,1,1,1,1,2,2,2,2,2,3,1,2,2,3,4,3,1,2,1,1,1,1,1,1,1,1,1,1,M10,M1,100,C15,9,1\r",
      "C01004376,3,1,2,2,2,,2,,2,2,,1,1,2,2,3,6,5,3,3,1,1,1,1,1,1,7,0,0,5,,5,5,5,5,5,5,5,5,3,1,2,1,1,2,2,2,2,2,2,2,1,2,2,2,,2,2,2,2,3,2,2,2,1,3,3,2,3,2,2,2,2,2,2,2,2,2,1,M10,M1,93.2,C15,8,1\r",
      "C01004420,3,3,2,2,3,1,3,2,1,3,3,1,1,3,2,4,6,4,3,1,2,1,1,2,2,2,10,0,0,5,4,5,5,5,4,5,4,5,5,4,1,2,1,2,2,2,2,2,2,2,1,1,1,2,2,2,,,,,5,1,2,1,1,2,3,2,,,,1,1,2,2,1,1,1,1,M10,M1,100,C15,6,1\r",
      "C01004584,3,,2,,,,,,,,,,,,,,,,,,,,,,,,,,,,,,,,,,,,,,,,,,,,,,,,,,,,,,,,,,,,,,,,,,,,,,,,,,,,1,T31,T3,2.7,C15,4,1\r",
      "C01004637,3,1,2,2,1,2,4,2,1,5,5,1,1,1,2,5,4,3,4,3,2,1,1,1,3,1,0,0,,5,5,5,5,5,5,5,5,4,5,1,1,2,1,2,2,2,1,2,2,2,1,2,2,2,2,1,2,2,2,,3,2,2,2,1,4,3,2,,,,2,2,2,2,1,1,1,1,T10,T2,100,C15,2,1\r",
      "C01004654,3,,2,1,1,,4,1,,1,5,5,1,1,,6,4,4,3,3,3,3,1,2,3,1,0,,,5,5,5,5,5,5,4,5,,5,4,1,2,1,2,2,1,2,2,2,2,2,2,1,2,1,2,,,,,,1,2,1,1,4,3,2,,,,2,1,1,2,1,1,1,1,T10,T1,90.5,C15,4,2\r",
      "C01004800,3,1,2,1,3,1,3,2,2,3,2,3,2,4,2,5,6,4,3,3,1,1,1,1,2,1,0,0,0,5,5,5,5,5,4,5,5,5,5,2,1,2,1,2,2,2,2,2,2,2,2,2,2,2,2,2,,,,,3,2,2,1,4,3,3,2,,,,1,2,2,2,1,2,1,1,M10,M1,100,C15,10,1\r",
      "C01004930,3,1,1,2,2,2,4,1,1,5,5,4,4,5,6,6,6,3,5,5,1,1,1,1,2,1,30,0,30,1,5,2,2,1,1,1,1,1,5,5,1,2,2,2,2,2,2,2,2,2,1,1,2,2,2,2,2,2,2,2,1,1,1,1,4,4,3,1,2,1,2,2,2,2,2,1,2,2,1,M10,M1,100,C15,8,1\r",
      "C01004975,3,1,1,2,1,1,2,1,3,2,2,2,2,2,2,2,4,4,3,3,1,1,1,1,1,1,0,0,,5,5,5,5,5,5,5,3,5,5,1,2,1,1,2,2,2,2,2,2,2,2,2,2,2,2,2,,,,,5,2,2,2,1,2,3,2,,,,1,1,2,2,2,2,2,1,T10,T2,100,C15,4,1\r",
      "C01005144,3,1,2,2,2,1,4,2,3,3,3,1,1,3,1,5,6,3,4,3,2,1,1,1,1,1,0,0,0,5,5,5,5,5,5,5,5,5,5,3,1,2,1,2,2,2,1,2,1,2,1,2,1,2,1,2,2,2,2,2,5,2,2,2,1,4,3,2,,,,2,2,2,2,2,2,1,1,M10,M2,100,C15,5,1\r",
      "C01005199,3,1,1,1,2,1,4,1,2,3,3,3,3,3,3,5,4,4,3,3,1,1,1,1,2,1,15,15,15,3,5,5,5,4,4,4,5,5,5,3,1,2,1,2,2,2,2,2,2,2,2,2,2,2,2,2,,,,,4,1,2,2,2,3,3,1,3,,,1,1,1,2,1,1,2,1,M10,M1,98.6,C15,3,1\r",
      "C01005293,3,1,2,2,2,1,3,2,2,3,3,3,1,3,4,4,5,4,4,4,1,1,1,2,2,1,4,3,2,4,5,5,5,3,3,5,3,3,5,2,1,1,2,2,2,2,1,2,2,2,1,1,1,2,2,2,,,,,3,1,2,2,3,3,3,2,,,,2,2,2,2,1,2,1,1,T10,T9,98.6,C15,3,1\r",
      "C01005341,3,1,1,1,1,,5,1,1,4,4,4,4,4,4,6,4,2,4,4,2,1,1,1,2,1,0,0,0,5,5,5,5,5,4,5,5,5,1,4,1,1,2,2,2,2,2,2,1,2,1,2,2,2,2,2,2,2,2,2,,2,2,2,2,4,3,2,,,,2,2,2,2,2,1,,1,M10,M1,95.9,C15,3,1\r",
      "C01005610,3,1,2,2,3,2,2,3,2,3,3,2,2,1,2,4,5,5,3,3,1,1,1,1,1,1,0,0,0,5,5,5,5,5,4,5,5,5,5,1,1,1,1,1,2,2,1,2,2,2,2,2,2,2,2,2,,,,,5,2,2,2,1,2,3,1,3,2,2,2,2,2,2,2,2,2,1,M10,M1,100,C15,1,1\r",
      "C01005902,3,1,1,1,1,1,3,3,3,1,1,1,1,1,1,1,1,5,3,3,1,1,1,1,1,1,0,0,0,5,5,5,5,5,5,5,5,5,5,1,1,1,2,2,2,2,2,2,2,2,2,2,2,2,2,2,,,,,5,2,2,2,1,2,3,2,,,,3,,2,2,2,2,2,1,M10,M2,100,C15,5,1\r",
      "C01005914,3,,1,,,,,,,,,,,,,,,,,,,,,,,,,,,,,,,,,,,,,,,,,,,,,,,,,,,,,,,,,,,,,,,,,,,,,,,,,,,,1,T31,T3,2.7,C15,9,1\r",
      "C01006136,3,1,1,1,1,1,3,1,2,2,2,2,2,3,2,3,5,4,,1,1,1,1,1,1,1,2,0,0,4,3,3,4,3,4,5,5,5,5,3,1,2,1,2,2,,2,2,2,2,1,1,1,1,2,2,2,2,2,2,5,2,2,2,1,3,3,2,,,,1,1,1,1,1,1,1,2,M10,M1,97.3,C15,2,1\r",
      "C01006269,3,1,2,2,3,1,3,2,2,1,2,1,1,3,2,,5,5,3,3,1,1,1,1,1,1,0,0,0,5,5,5,5,5,5,5,5,5,5,4,1,1,1,2,2,2,2,2,2,2,2,2,2,2,2,2,,,,,4,2,2,2,1,3,3,1,3,,,2,1,2,2,2,2,1,1,M10,M1,97.3,C15,9,1\r",
      "C01006331,3,,2,2,1,1,,2,1,2,3,3,3,1,1,2,6,5,3,1,1,1,1,1,1,1,0,0,0,5,5,5,5,5,5,5,5,5,5,1,1,1,1,2,2,2,2,2,2,2,2,2,2,2,1,2,2,2,2,2,5,2,2,2,1,3,3,2,,,,1,1,2,2,2,3,2,2,M10,M2,97.3,C15,9,1\r",
      "C01006498,3,1,1,2,1,1,1,3,3,1,1,1,1,1,1,1,6,5,1,1,1,1,1,1,1,1,30,0,0,5,5,5,5,5,5,5,5,5,5,1,1,1,1,2,2,2,1,,2,2,2,2,2,2,2,2,2,2,2,2,5,2,2,2,1,1,3,2,3,2,2,1,1,2,2,2,2,2,2,M10,M1,98.6,C15,9,1\r",
      "C01006643,3,1,1,1,1,2,1,3,2,1,2,3,2,3,5,4,4,5,3,3,2,1,1,2,1,1,15,15,0,5,5,5,5,3,,3,3,5,5,4,1,1,2,2,2,2,1,2,1,2,1,1,2,2,1,2,,,,,4,2,2,1,3,1,3,2,,,,1,2,2,1,1,1,2,1,T10,T4,98.6,C15,6,1\r",
      "C01006644,3,1,2,1,2,1,3,2,2,4,3,3,3,3,3,4,5,4,3,4,1,1,1,1,1,1,2,2,0,2,5,5,5,5,4,4,3,5,5,3,1,1,1,2,2,2,1,1,2,2,2,2,2,1,2,2,2,2,2,2,4,2,2,2,1,3,3,1,2,2,2,2,2,2,2,1,1,1,1,M10,M1,100,C15,8,1\r",
      "C01006773,3,1,2,2,2,1,4,2,,4,,3,3,4,4,5,5,3,5,3,1,1,1,1,1,1,10,0,0,3,5,2,3,1,1,3,3,4,5,5,1,1,1,1,2,2,1,1,2,2,1,2,1,1,2,2,2,2,2,2,2,2,2,2,2,3,3,1,1,1,2,2,2,2,2,1,1,1,1,M10,M1,97.3,C15,4,1\r",
      "C01006780,3,1,1,1,1,1,4,1,1,1,1,1,1,2,1,2,6,5,3,1,1,1,1,1,1,,0,0,,5,5,5,5,5,5,5,5,5,5,3,1,1,1,2,1,1,2,2,2,2,2,2,2,2,1,2,,,,,5,2,2,2,1,1,3,2,,,,1,1,2,2,2,1,2,2,T11,T1,98.6,C15,9,1\r",
      "C01006836,3,2,2,2,2,1,2,3,3,1,1,1,1,1,1,1,6,5,3,3,1,1,1,1,1,1,0,0,0,5,5,5,5,5,5,5,5,5,5,1,1,1,1,2,2,2,2,2,2,2,2,2,2,2,2,2,2,2,2,2,5,2,2,2,1,2,3,2,3,,,,2,2,2,2,2,1,,M10,M1,95.9,C15,1,1\r",
      "C01006914,3,2,2,1,2,2,2,,2,3,3,3,3,3,4,,,5,3,3,1,1,1,1,1,1,0,0,0,5,5,5,5,4,4,5,5,5,5,3,1,1,1,2,,2,1,2,2,2,1,2,2,2,1,2,2,2,2,2,5,,,,,,3,2,3,2,2,1,1,2,2,,,1,1,M10,M1,83.8,C15,2,1\r",
      "C01007363,3,,,,,,,,,,,,,,,,,,,,,,,,,,,,,,,,,,,,,,,,,,,,,,,,,,,,,,,,,,,,,,,,,,,,,,,,,,,,,,1,T31,T3,1.4,C15,10,1\r",
      "C01007411,3,1,2,2,2,1,3,2,2,3,,3,3,4,4,5,4,3,3,3,1,1,1,2,2,1,,,,5,5,5,4,1,3,3,1,3,5,,1,1,1,,1,2,2,2,2,2,1,1,2,2,1,2,2,2,2,2,3,,,,3,3,3,,,,,2,2,1,2,1,1,2,1,M10,M1,87.8,C15,3,1\r",
      "C01007508,3,1,1,2,3,2,2,2,,3,3,2,2,3,3,3,5,4,3,3,1,2,1,2,2,1,6,0,6,5,5,5,5,4,4,3,4,5,5,4,1,1,1,2,2,2,2,2,2,2,2,2,2,1,2,2,2,,,,2,2,2,1,1,2,3,2,,2,2,1,1,1,2,1,2,2,1,M10,M1,98.6,C15,4,1\r",
      "C01007666,3,1,1,1,2,1,3,3,2,1,1,1,1,1,2,2,6,5,3,2,1,1,1,1,1,1,0,0,0,5,5,5,5,4,4,5,5,5,5,1,1,1,2,2,2,2,1,2,2,2,2,2,2,2,2,2,,,,,5,2,2,2,1,2,3,2,,,,2,2,2,2,2,2,2,1,M10,M1,100,C15,7,1\r",
      "C01007904,3,1,1,2,3,1,3,2,1,4,4,,3,4,4,5,4,3,4,4,2,2,1,2,2,2,12,3,4,3,4,5,5,4,2,3,4,5,5,5,1,1,1,1,1,1,1,2,2,2,1,1,2,2,1,2,,,,,3,1,2,2,2,3,3,2,,,,1,2,2,1,1,2,1,1,M10,M1,98.6,C15,5,1\r",
      "C01008108,3,1,2,1,2,1,3,1,2,3,3,3,3,5,2,4,5,2,4,3,1,1,1,1,1,1,10,5,10,3,4,5,5,2,,1,1,1,5,,1,1,1,1,2,1,1,2,2,2,2,2,2,2,1,2,2,2,2,2,3,2,2,2,1,2,3,1,2,2,2,1,1,2,2,1,2,2,1,M10,M1,95.9,C15,6,1\r",
      "C01008115,3,1,1,1,3,1,3,1,1,4,4,1,1,1,1,5,6,4,3,3,1,1,1,1,1,1,0,0,0,5,5,4,5,4,4,5,5,5,5,1,2,1,1,2,1,1,1,1,2,2,1,1,2,2,2,2,2,2,2,2,5,2,2,2,1,3,3,2,3,2,2,1,1,2,2,2,1,2,2,M10,M1,100,C15,5,1\r",
      "C01008215,3,1,1,2,3,1,3,2,1,4,3,2,,1,4,5,4,3,4,4,1,1,1,1,2,1,0,0,0,4,5,5,5,4,4,5,5,5,5,1,1,1,1,2,2,2,2,2,1,2,2,2,2,2,2,1,2,2,2,1,5,2,2,2,2,2,3,1,2,1,2,2,2,2,2,1,2,2,1,M10,M1,98.6,C15,6,1\r",
      "C01008308,3,1,2,2,2,1,3,3,1,3,3,2,,3,1,3,6,2,4,3,1,1,1,1,2,1,30,0,10,5,5,5,5,5,5,4,4,5,5,4,1,1,2,2,2,2,2,2,2,2,,1,1,1,2,2,,,,,2,2,2,2,1,3,3,1,,1,2,,,1,1,1,,1,1,M10,M1,91.9,C15,6,1\r",
      "C01008529,3,1,2,2,2,1,3,3,2,2,,1,1,1,2,2,6,5,4,4,3,3,3,3,3,3,0,0,0,5,5,5,5,4,4,5,5,5,5,4,1,2,1,1,2,2,1,2,1,2,1,1,1,1,1,2,,,,,5,2,2,2,1,3,3,1,1,1,2,1,1,2,2,2,,1,1,M10,M2,97.3,C15,9,1\r",
      "C01008848,3,1,2,2,2,,4,2,,3,,2,3,2,3,4,6,3,4,3,1,1,1,1,1,1,6,0,0,4,5,5,5,3,3,3,2,3,5,3,1,1,1,2,2,2,2,2,2,2,1,2,2,2,1,2,2,2,2,2,2,1,2,2,1,4,3,2,3,2,2,2,2,2,2,2,2,2,1,M10,M1,95.9,C15,9,1\r",
      "C01009240,3,1,2,2,2,2,3,2,2,4,3,2,2,4,3,4,4,4,3,3,1,1,1,1,1,1,10,2,10,5,5,5,5,4,2,2,5,5,5,4,1,1,1,2,2,2,2,2,2,2,1,1,2,1,2,2,,,,,2,2,2,2,2,3,3,1,2,2,2,1,1,2,2,1,1,2,1,M10,M1,100,C15,10,1\r",
      "C01009712,3,1,2,2,3,1,4,1,2,3,3,2,2,2,4,4,5,4,2,2,1,1,1,1,2,1,2,2,0,5,5,5,5,5,4,5,5,5,5,3,1,1,1,2,2,2,,2,1,2,1,1,1,2,2,1,2,2,2,2,5,2,2,2,2,3,3,1,3,2,2,1,1,1,1,1,1,1,1,M10,M1,98.6,C15,5,1\r",
      "C01009737,3,1,1,1,3,1,3,2,1,3,3,1,1,2,2,5,5,5,4,3,1,1,1,1,2,1,0,0,0,5,5,5,5,5,3,5,5,5,5,1,1,1,2,2,2,2,2,2,2,2,2,2,2,2,2,2,,,,,5,2,2,2,2,2,3,2,,,,2,2,2,2,1,1,2,1,M10,M1,100,C15,5,1\r",
      "C01009800,3,1,1,1,2,1,5,1,1,4,4,4,4,3,2,5,5,3,4,3,2,2,1,2,2,2,30,,25,4,3,4,4,2,,2,2,5,5,3,1,1,2,1,2,2,2,1,2,2,2,2,2,1,1,2,,,,,3,2,2,2,1,5,3,1,2,2,2,1,2,1,1,1,1,2,2,M10,M1,97.3,C15,3,1\r",
      "C01009964,3,1,1,1,1,1,2,2,2,3,3,1,1,2,1,3,6,5,3,3,1,1,1,1,1,1,0,0,0,5,5,5,5,5,4,5,5,5,5,3,1,1,1,2,2,1,2,,2,2,2,1,2,2,1,2,2,2,2,2,5,2,2,2,1,2,3,2,,,,1,2,2,2,2,2,2,1,M10,M1,98.6,C15,10,1\r",
      "C01010152,3,1,1,1,2,2,4,1,1,4,4,3,3,4,4,5,5,3,4,4,1,1,1,1,2,1,30,10,0,3,5,5,5,3,3,5,5,5,5,4,1,1,1,2,1,2,1,1,2,2,1,1,2,2,2,2,,,,,,2,2,2,3,4,3,2,3,,,2,2,2,2,1,1,2,2,M10,M2,97.3,C15,3,1\r",
      "C01010237,3,,,,,,1,3,3,1,1,1,1,1,2,2,6,5,3,3,1,1,1,1,1,1,0,0,0,5,5,5,5,5,5,5,5,5,5,1,1,1,1,2,2,2,2,2,2,2,2,2,2,2,2,2,,,,,5,2,2,2,1,1,3,2,,,,1,1,2,2,2,2,,,M10,M1,85.1,C15,2,1\r",
      "C01010592,3,1,1,1,3,1,2,3,2,1,1,1,1,1,1,3,6,5,1,3,1,1,1,2,1,1,0,0,0,5,5,5,5,5,5,4,5,5,5,1,1,2,2,2,2,2,2,2,2,2,2,2,2,2,2,2,,,,,5,2,2,2,1,1,3,1,3,2,2,2,2,2,1,2,2,2,1,M10,M2,100,C15,7,1\r",
      "C01010594,3,1,1,1,2,2,2,3,2,1,2,1,2,1,2,2,6,5,3,3,1,1,1,1,1,1,2,0,0,5,5,5,5,5,4,3,4,4,5,2,1,1,1,2,2,2,2,2,2,2,1,2,2,2,2,2,,,,,5,2,2,2,1,2,3,1,2,1,2,2,2,2,2,2,2,2,1,M10,M2,100,C15,10,1\r",
      "C01010672,3,1,2,1,2,1,2,3,3,1,1,1,1,1,2,1,6,5,3,3,1,1,1,1,1,1,,0,0,5,5,5,5,5,5,5,5,5,5,2,1,1,1,2,2,2,2,2,2,2,1,1,2,2,2,2,,,,,5,2,2,2,1,2,3,2,,,,2,2,2,2,2,2,1,1,M10,M1,98.6,C15,2,1\r",
      "C01010762,3,,,,,,3,,2,3,,,,,,,,,,,,,,,,,,,,,,,,,,,,,,,,,,,,,,,,,,,,,,,,,,,,,,,,,,,,,,,,,,,,,1,T31,T1,5.4,C15,8,1\r",
      "C01010893,3,1,2,2,1,1,5,2,1,4,3,2,2,3,3,2,4,3,4,1,1,1,1,2,3,1,0,15,20,5,5,2,2,1,2,2,2,2,5,4,1,1,2,2,2,2,2,2,1,2,2,2,1,1,2,2,2,2,2,2,2,1,1,2,3,4,3,2,3,2,2,1,2,1,2,1,1,1,1,M10,M1,100,C15,6,1\r",
      "C01011006,3,1,1,1,3,1,3,3,3,3,3,2,3,3,3,3,5,4,3,3,1,1,1,1,1,1,0,0,0,4,5,5,5,5,5,5,5,5,5,2,1,1,1,2,2,2,2,2,2,2,1,1,2,2,1,1,,,,1,4,2,2,2,1,3,3,2,,1,1,2,2,2,2,2,2,1,1,M10,M2,100,C15,2,1\r",
      "C01011134,3,1,1,1,3,1,2,3,2,2,2,2,2,2,3,3,3,5,3,4,1,1,1,1,1,1,0,10,0,5,5,5,5,5,5,5,5,5,5,3,1,2,1,2,2,2,2,2,2,2,1,2,2,2,2,1,2,2,2,2,5,1,2,1,3,2,3,1,2,1,1,1,1,2,2,2,2,2,1,M10,M1,100,C15,2,1\r",
      "C01011170,3,1,1,1,3,1,4,1,2,4,4,3,3,4,3,4,4,3,4,4,1,1,1,2,2,1,4,0,1,3,5,5,5,3,3,2,2,2,4,4,1,2,2,1,1,1,2,2,,2,1,1,2,1,2,2,2,2,2,2,3,2,2,2,2,4,3,1,1,1,1,1,1,1,2,1,1,,1,M10,M1,97.3,C15,7,1\r",
      "C01011199,2,1,1,1,2,2,3,2,2,2,3,1,2,3,2,4,6,5,3,3,1,1,1,1,1,1,5,0,0,5,5,5,5,5,4,5,5,5,5,4,1,2,1,2,2,2,2,2,1,2,1,1,2,2,2,2,,,,,3,2,2,2,1,3,3,2,,,,2,2,2,2,2,2,2,1,M10,M1,100,C15,10,1\r",
      "C01011312,3,1,1,1,1,1,4,2,3,4,4,4,4,4,3,4,4,3,4,4,,,,,2,1,10,0,10,5,5,5,5,4,4,5,5,5,4,2,1,1,2,2,1,2,1,2,2,1,2,1,2,2,2,2,,,,,4,,2,2,1,4,3,2,,,,1,1,2,2,1,1,2,1,M11,M2,93.2,C15,7,1\r",
      "C01011348,3,1,1,1,2,1,4,1,1,4,4,3,3,4,4,5,5,3,4,4,1,1,1,1,1,1,7,5,3,4,4,4,4,3,3,3,3,3,4,5,1,2,2,2,2,2,2,2,2,2,1,1,2,1,2,1,2,2,2,2,2,2,2,2,2,4,3,1,1,1,1,1,2,2,1,1,1,2,1,M10,M2,100,C15,8,1\r",
      "C01011517,3,1,1,1,1,1,4,3,2,2,2,1,1,1,1,2,1,5,3,3,1,1,1,1,1,1,0,0,0,5,5,5,5,4,4,5,5,5,5,4,1,1,2,2,2,2,2,2,2,2,2,2,2,2,2,2,,,,,5,2,2,2,1,3,3,2,,,,2,2,2,2,2,2,2,1,M10,M1,100,C15,8,1\r",
      "C01011721,2,1,2,1,1,1,5,2,,4,3,5,5,4,5,6,2,2,4,4,1,1,1,2,2,1,15,20,20,2,3,3,4,4,2,1,1,1,4,5,2,2,2,2,2,2,2,2,2,2,1,1,1,1,2,1,2,2,2,2,1,1,1,1,3,5,1,1,2,2,2,3,2,2,1,1,2,2,1,M10,M2,98.6,C15,8,1\r",
      "C01011759,3,1,2,2,,1,3,1,1,1,1,1,1,,1,1,6,5,3,3,3,3,3,3,3,3,7,,,2,5,2,5,5,5,5,5,5,5,,2,2,2,2,2,2,2,,2,2,2,2,2,2,2,2,,,,,5,2,2,2,1,3,3,1,3,,,2,2,2,2,1,1,1,4,T10,T1,93.2,C15,9,1\r",
      "C01012114,3,2,1,2,1,2,4,2,2,4,,2,,3,3,5,5,3,4,3,1,1,1,1,2,1,7,13,0,5,5,5,5,2,2,4,4,5,5,3,2,2,1,2,2,2,2,1,2,2,1,2,2,2,2,1,1,2,2,1,4,1,1,2,2,4,3,1,2,1,2,1,1,2,2,1,1,1,3,M10,M1,95.9,C15,5,1\r",
      "C01012129,3,1,1,1,3,2,3,2,2,3,3,1,1,2,1,2,6,4,3,3,1,1,1,1,1,1,0,0,0,5,5,5,5,5,4,5,5,5,5,2,1,2,2,2,2,2,2,2,2,2,1,1,2,2,2,2,,,,,5,2,2,2,1,2,3,2,,,,2,1,2,2,2,1,2,1,M10,M2,98.6,C15,7,1\r",
      "C01012156,3,,,,,,4,2,1,2,2,1,1,2,2,,,,,,,,,,,,,,,,,,,,,,,,,,,,,,,,,,,,,,,,,,,,,,,,,,,,,,,,,,,,,,,,1,T31,T2,13.5,C15,8,1\r",
      "C01012647,3,1,2,2,1,1,4,3,2,2,2,3,2,4,2,5,5,3,3,3,1,1,1,1,2,1,10,10,8,3,3,4,3,2,2,1,1,3,4,3,2,2,1,1,1,1,1,2,1,1,1,1,2,1,2,2,,,,,2,1,2,2,2,2,3,1,1,1,2,1,1,2,1,1,1,1,2,M10,M1,100,C15,8,1\r",
      "C01012674,3,2,2,2,1,2,3,2,2,2,2,2,2,2,2,2,6,4,3,3,1,1,1,1,1,1,0,0,0,5,5,5,5,5,5,4,4,5,5,4,2,1,1,2,2,2,2,2,2,2,2,1,2,2,2,2,2,2,2,2,3,2,2,2,1,3,3,2,,,,,2,2,2,2,2,2,1,M10,M1,98.6,C15,7,1\r",
      "C01012680,3,1,1,1,2,1,3,1,1,5,5,1,3,4,1,3,6,5,1,3,1,1,1,1,2,1,0,0,0,5,5,5,5,4,4,5,5,5,5,4,1,1,1,2,2,2,2,2,2,2,1,1,2,2,2,2,2,2,2,2,4,2,2,2,1,2,3,2,3,2,2,2,2,2,2,2,2,2,1,M10,M1,100,C15,9,1\r",
      "C01012823,3,1,2,1,2,1,4,1,1,5,5,5,5,5,5,6,4,1,4,3,2,2,2,2,2,2,15,10,30,2,3,1,3,1,1,3,4,4,5,4,1,1,1,2,1,1,1,1,1,2,1,1,2,2,2,1,2,2,1,2,3,1,2,2,2,3,3,1,2,1,2,1,1,1,1,1,1,2,1,M10,M2,100,C15,8,1\r",
      "C01013046,3,1,1,1,3,1,4,1,1,4,4,3,2,4,3,6,5,4,3,3,2,2,1,2,2,1,20,0,15,4,5,3,4,3,2,3,4,4,5,4,1,1,1,2,2,1,2,2,1,2,2,2,2,2,1,2,,,,,3,2,2,2,1,4,3,2,,,,1,1,2,1,1,2,2,1,M10,M1,100,C15,6,1\r",
      "C01013329,3,1,1,1,3,2,3,2,1,3,3,1,1,2,2,6,6,5,4,3,1,1,1,2,2,1,10,10,10,3,4,5,4,3,2,3,3,3,5,4,1,1,2,1,1,1,1,2,2,2,1,1,2,2,2,2,2,2,2,2,4,1,2,2,1,3,3,1,2,2,2,1,1,1,2,1,1,1,1,M10,M1,100,C15,10,1\r",
      "C01013341,3,1,2,2,2,1,3,1,3,3,3,3,4,3,2,3,6,5,3,4,1,1,1,1,2,1,0,0,0,5,5,5,5,5,4,5,5,5,5,4,1,1,1,,2,1,1,2,1,2,1,1,2,2,2,1,2,2,1,2,2,2,2,2,1,3,3,1,1,1,2,1,1,1,1,1,1,2,1,M10,M2,98.6,C15,5,1\r",
      "C01013445,3,1,1,1,3,1,3,2,2,2,2,1,1,2,1,2,6,5,3,,1,1,1,1,1,1,0,0,0,5,5,5,5,5,5,5,5,5,5,1,1,1,1,2,2,2,2,2,2,2,2,2,2,2,2,2,,,,,5,2,2,2,1,1,3,2,,,,2,2,2,2,2,2,2,1,M10,M2,98.6,C15,1,1\r",
      "C01013451,3,1,2,2,2,2,4,1,1,3,4,3,3,3,2,4,5,4,2,1,2,2,1,2,2,1,10,0,15,4,5,5,4,3,2,3,3,5,5,4,1,1,1,1,,2,1,2,2,2,1,1,2,2,1,2,,,,,4,2,2,2,1,4,3,1,2,2,2,1,2,2,1,1,1,1,1,M10,M1,94.6,C15,1,1\r",
      "C01013622,3,1,2,2,2,1,2,3,3,1,1,1,1,1,2,2,6,5,3,3,1,1,1,1,1,1,0,0,0,5,5,5,5,5,5,5,4,5,5,3,1,1,2,2,2,1,2,2,2,2,2,1,2,2,2,1,2,2,2,2,5,2,2,2,1,2,3,2,,,,2,2,2,2,2,2,1,1,M10,M2,100,C15,4,1\r",
      "C01013860,3,1,2,1,2,1,4,2,1,4,4,1,1,3,3,5,6,5,4,3,1,1,1,1,1,1,0,0,0,5,5,5,5,5,5,5,3,5,5,4,1,1,2,2,2,2,2,2,2,2,1,,1,1,2,2,2,2,2,,5,2,2,2,1,4,3,1,3,2,2,2,1,2,2,2,2,1,1,M10,M1,98.6,C15,6,1\r",
      "C01014031,3,2,2,1,1,1,3,3,3,1,1,1,1,1,2,2,6,5,3,3,1,1,1,1,1,1,,0,0,5,5,5,5,5,5,5,5,,5,1,2,1,2,2,2,2,2,2,2,2,2,2,2,2,1,2,,,,,5,2,2,2,1,2,3,2,,,,2,2,2,2,2,2,1,1,T10,T4,97.3,C15,5,1\r",
      "C01014436,3,,2,,,,5,,,,,,,,,,,,,,,,,,,,,,,,,,,,,,,,,,,,,,,,,,,,,,,,,,,,,,,,,,,,,,,,,,,,,,,,1,T31,T9,4.1,C15,5,1\r",
      "C01014468,3,1,2,1,2,1,4,3,3,2,4,2,1,5,4,6,3,1,5,2,2,2,1,2,3,3,30,2,30,5,5,5,5,5,5,5,5,5,5,2,1,1,1,2,1,2,2,2,2,2,2,1,2,2,2,2,,,,,5,1,2,2,3,3,3,2,,,,2,2,2,1,2,1,2,1,T10,T2,100,C15,3,1\r",
      "C01014519,3,1,2,2,,,3,1,,1,1,1,1,1,3,2,4,5,3,4,3,2,1,1,1,1,0,20,0,5,5,5,5,5,5,,,,5,,,1,,,,,,,,,,,,,,,,,,,5,2,2,2,,4,3,,,,,1,1,2,2,2,1,,4,T11,T6,63.5,C15,2,1"
     ]
    }
   ],
   "source": [
    "# [PROTIP]: IPython has built in tab completion for commands.  \n",
    "# Partially type a command or file name and hit tab.\n",
    "\n",
    "!head -n 5 source_data/HOS_DATA_Sample.csv"
   ]
  },
  {
   "cell_type": "markdown",
   "metadata": {},
   "source": [
    "###Prepare"
   ]
  },
  {
   "cell_type": "code",
   "execution_count": null,
   "metadata": {
    "collapsed": true
   },
   "outputs": [],
   "source": [
    "#Data Formatting, Structure"
   ]
  },
  {
   "cell_type": "code",
   "execution_count": 30,
   "metadata": {
    "collapsed": false
   },
   "outputs": [
    {
     "data": {
      "text/plain": [
       "'fffff'"
      ]
     },
     "execution_count": 30,
     "metadata": {},
     "output_type": "execute_result"
    }
   ],
   "source": [
    "'''fffff'''"
   ]
  },
  {
   "cell_type": "markdown",
   "metadata": {},
   "source": [
    "###Transform"
   ]
  },
  {
   "cell_type": "code",
   "execution_count": null,
   "metadata": {
    "collapsed": true
   },
   "outputs": [],
   "source": [
    "# Examine statistically"
   ]
  },
  {
   "cell_type": "code",
   "execution_count": null,
   "metadata": {
    "collapsed": true
   },
   "outputs": [],
   "source": [
    "#missing data\n",
    "#data completeness\n",
    "#data quality"
   ]
  },
  {
   "cell_type": "code",
   "execution_count": null,
   "metadata": {
    "collapsed": true
   },
   "outputs": [],
   "source": [
    "#transformation code"
   ]
  },
  {
   "cell_type": "markdown",
   "metadata": {},
   "source": [
    "### The Final Dataset"
   ]
  },
  {
   "cell_type": "markdown",
   "metadata": {},
   "source": [
    "The dataset consists of XXXX elements comprised of XXXX unique songs from XXXX artists, spanning   XXX weeks."
   ]
  },
  {
   "cell_type": "code",
   "execution_count": null,
   "metadata": {
    "collapsed": true
   },
   "outputs": [],
   "source": [
    "# songs = pd.read_csv('gist')\n",
    "# songs.head()"
   ]
  },
  {
   "cell_type": "code",
   "execution_count": null,
   "metadata": {
    "collapsed": true
   },
   "outputs": [],
   "source": [
    "pd.scatter_matrix(songs[['popularity','danceability','duration','tempo','loudness','energy']],figsize=(20,20))\n",
    "plt.suptitle('Scatterplot Matrix of Song Attributes',size=25)"
   ]
  },
  {
   "cell_type": "code",
   "execution_count": null,
   "metadata": {
    "collapsed": true
   },
   "outputs": [],
   "source": [
    "rock = rock.dropna()\n",
    "plt.figure(figsize=(20,20))\n",
    "for i in range(len(features)):\n",
    "    v = i +1\n",
    "    ax1 = subplot(5,2,v)\n",
    "    ax1.hist(rock[features[i]])\n",
    "    ax1.set_title(str(features[i]),fontsize=15)"
   ]
  },
  {
   "cell_type": "code",
   "execution_count": 5,
   "metadata": {
    "collapsed": true
   },
   "outputs": [],
   "source": [
    "#explanatory text of data attributes: mean, variance spread"
   ]
  },
  {
   "cell_type": "markdown",
   "metadata": {},
   "source": [
    "Despite the randomness of the scatterplots, the histograms of the features were almost normally distributed.  I found the distribution of the data to be surprising considering the weekly top 40 is a seemingly random collection of songs with no real relation to one another.\n",
    "\n",
    "Furthermore, the scatterplots indicated that there would be a lot of noise in the data, given the wide range of song attributes.  The way to analyze the data, I determined, would be to use subsets.  "
   ]
  },
  {
   "cell_type": "code",
   "execution_count": null,
   "metadata": {
    "collapsed": true
   },
   "outputs": [],
   "source": [
    "print \"Plotting Large Correlation Matrix\"\n",
    "\n",
    "f, ax = plt.subplots(figsize=(9, 9))\n",
    "cmap = sns.diverging_palette(220, 10, as_cmap=True)\n",
    "sns.corrplot(profiles_simple, annot=False, sig_stars=False,\n",
    "             diag_names=False, cmap=cmap, ax=ax)\n",
    "f.tight_layout()"
   ]
  },
  {
   "cell_type": "markdown",
   "metadata": {},
   "source": [
    "___"
   ]
  },
  {
   "cell_type": "markdown",
   "metadata": {},
   "source": [
    "## ___Initial Analysis - Cluster Analysis___"
   ]
  },
  {
   "cell_type": "code",
   "execution_count": 6,
   "metadata": {
    "collapsed": true
   },
   "outputs": [],
   "source": [
    "#Text How would we visually segment?  We will compare this later to clustering technique. "
   ]
  },
  {
   "cell_type": "code",
   "execution_count": null,
   "metadata": {
    "collapsed": true
   },
   "outputs": [],
   "source": [
    "#Viz"
   ]
  },
  {
   "cell_type": "markdown",
   "metadata": {},
   "source": [
    "###Building Model"
   ]
  },
  {
   "cell_type": "markdown",
   "metadata": {},
   "source": [
    "show math:\n",
    "    \n",
    "$$\n",
    "\\phi(x;\\beta) = \\frac{1 + \\tanh(\\beta \\cdot x)}{2}\n",
    "$$"
   ]
  },
  {
   "cell_type": "code",
   "execution_count": 8,
   "metadata": {
    "collapsed": true
   },
   "outputs": [],
   "source": [
    "#Text"
   ]
  },
  {
   "cell_type": "markdown",
   "metadata": {},
   "source": [
    "To train and score my model, I used a train/test split, which, as the name implies, breaks the dataset up into a training set and a testing set.  The training set is fed into the model to 'teach' the feature variations and their relationship to the target variable and the test set is used to simulate new data that the computer has not seen.  The computer will then score how well the model performs.  In the case of the OLS model, the computer will provide R-Squared values. "
   ]
  },
  {
   "cell_type": "code",
   "execution_count": null,
   "metadata": {
    "collapsed": true
   },
   "outputs": [],
   "source": [
    "from sklearn.cluster import KMeans\n",
    "from sklearn import metrics\n",
    "from sklearn.metrics import pairwise_distances\n",
    "\n",
    "km = KMeans(n_clusters=5, random_state=1)\n",
    "km.fit(profiles_simple)"
   ]
  },
  {
   "cell_type": "code",
   "execution_count": null,
   "metadata": {
    "collapsed": true
   },
   "outputs": [],
   "source": [
    "profiles_simple['persona'] = km.predict(profiles_simple)"
   ]
  },
  {
   "cell_type": "code",
   "execution_count": null,
   "metadata": {
    "collapsed": true
   },
   "outputs": [],
   "source": [
    "profiles_simple.groupby(by='persona').mean()"
   ]
  },
  {
   "cell_type": "code",
   "execution_count": null,
   "metadata": {
    "collapsed": true
   },
   "outputs": [],
   "source": [
    "profiles_simple[profiles_simple.persona == 4].hist(figsize=(12, 8));"
   ]
  },
  {
   "cell_type": "code",
   "execution_count": null,
   "metadata": {
    "collapsed": true
   },
   "outputs": [],
   "source": [
    "profiles_simple[profiles_simple.persona == 2].hist(figsize=(12, 8));"
   ]
  },
  {
   "cell_type": "code",
   "execution_count": null,
   "metadata": {
    "collapsed": true
   },
   "outputs": [],
   "source": [
    "profiles_simple[profiles_simple.persona == 1].hist(figsize=(12, 8));"
   ]
  },
  {
   "cell_type": "markdown",
   "metadata": {},
   "source": [
    "#### Some things to note about our goals and approach:\n",
    "\n",
    "* Determine what deﬁnes __success__, and to what degree.\n",
    "* Brainstorm __metrics__ to visualize and/or calculate.\n",
    "* Ask __questions__ that have (or can have) a definitive answer.\n",
    "* Be careful what you wish for, be aware of possible __correlations__, and take caution with how you [measure](http://en.wikipedia.org/wiki/Observer-expectancy_effect) it."
   ]
  },
  {
   "cell_type": "markdown",
   "metadata": {},
   "source": [
    "###Scoring Model"
   ]
  },
  {
   "cell_type": "code",
   "execution_count": 12,
   "metadata": {
    "collapsed": false
   },
   "outputs": [],
   "source": [
    "# print 'Train Score: ', model.score(xtrain,ytrain)\n",
    "# print 'Test Score: ', model.score(xtest,ytest)"
   ]
  },
  {
   "cell_type": "markdown",
   "metadata": {},
   "source": [
    "Both the training and test scores indicate a relatively poor linear fit for the metadata features and elapsed time vs the target value of popularity.  As expected, the model does not show signs of overfitting as the test and train score values are nearly identical.  "
   ]
  },
  {
   "cell_type": "markdown",
   "metadata": {},
   "source": [
    "###Examing Model & Coefficients"
   ]
  },
  {
   "cell_type": "markdown",
   "metadata": {},
   "source": [
    "####Feature Analysis"
   ]
  },
  {
   "cell_type": "code",
   "execution_count": null,
   "metadata": {
    "collapsed": true
   },
   "outputs": [],
   "source": [
    "#four groups boxplots plotted next to each other.\n",
    "plt.figure(figsize=(20,20))\n",
    "for i in range(len(features)):\n",
    "    v = i +1\n",
    "    ax1 = rock.boxplot(features[i],by='decade',ax=subplot(5,2,v))\n",
    "    ax1.set_title(str(features[i]),fontsize=15)\n",
    "    ax1.set_xlabel('')\n",
    "plt.suptitle('Rock Feature Boxplots by Decade',size=20)"
   ]
  },
  {
   "cell_type": "code",
   "execution_count": null,
   "metadata": {
    "collapsed": true
   },
   "outputs": [],
   "source": [
    "#compare this clustering to just using quartiles."
   ]
  },
  {
   "cell_type": "markdown",
   "metadata": {},
   "source": [
    "According to the boxplots, songs in the top median quantile of popularity demonstrate a slightly higher level of verbosity, energy, and loudness than songs in the lower median quantile."
   ]
  },
  {
   "cell_type": "code",
   "execution_count": null,
   "metadata": {
    "collapsed": true
   },
   "outputs": [],
   "source": [
    "#Pros & Cons of other models"
   ]
  },
  {
   "cell_type": "markdown",
   "metadata": {},
   "source": [
    "Upon examination of the training set, the target values are skewed towards the earlier decades in the dataset.  With the high variation in the data, a Naïve Bayes model, although a strong algorithm, will not pick up on the nuances in the song metadata to make effective predictions to the song’s decade of origin.  This is because Naive Bayes assumes that all features are independent of one another.\n",
    "\n",
    "In place of Naïve Bayes, I will use a Random Forest model.  Although very prone to overfitting on the training set in machine learning models, this model is strong enough to pick up on the subtle variations in the data, as it does not perceive all of the features to be in a vacuum like the Bayes algorithm.  Moreover, as the rock song dataset only consists of 5,056 unique songs, scaling with hundreds decision trees should not prove to be an issue.\n"
   ]
  },
  {
   "cell_type": "markdown",
   "metadata": {},
   "source": [
    "___"
   ]
  },
  {
   "cell_type": "markdown",
   "metadata": {},
   "source": [
    "##Conclusions"
   ]
  },
  {
   "cell_type": "markdown",
   "metadata": {},
   "source": [
    "Through the use of song metadata for the Billboard Top 40 for the past half century and OLS, Logistic, Random Forest, and K-Means machine learning algorithms, I determined that time plays a larger role in the popularity attrition of a song than any metadata factor in an OLS linear model.  Using a categorial logistic regression model, however, I found that loudness, energy, and danceability, to some extent, account for some of the gains in song popularity. \n",
    "\n",
    "Moreover, depending on the strength of the algorithm used, song metadata can be a decent predictor to determine from which decade a particular song comes.  The metadata truly shines, however, in the classification and clustering of genres.  In developing my own genre clusters with K-Means, I was amazed how accurately the computer picked like-sounding songs through only 5 feature attributes.  \n",
    "\n",
    "As the genre area plot demonstrated, we as a culture are getting more diverse in terms of the music to which we listen.  With the power of machine learning, however, services like Spotify, Google Music, and Pandora will never be at a loss for songs to meet a particular individual’s tastes, despite the ever increasing scope of possibilities.\n"
   ]
  },
  {
   "cell_type": "markdown",
   "metadata": {},
   "source": [
    "___"
   ]
  },
  {
   "cell_type": "markdown",
   "metadata": {},
   "source": [
    "##Further Research"
   ]
  },
  {
   "cell_type": "markdown",
   "metadata": {},
   "source": [
    "___"
   ]
  },
  {
   "cell_type": "markdown",
   "metadata": {},
   "source": [
    "### More Information"
   ]
  },
  {
   "cell_type": "markdown",
   "metadata": {},
   "source": [
    "For more information please visit:"
   ]
  },
  {
   "cell_type": "markdown",
   "metadata": {},
   "source": [
    "For more code and the datasets for this project, please visit my GitHub page:"
   ]
  },
  {
   "cell_type": "code",
   "execution_count": null,
   "metadata": {
    "collapsed": true
   },
   "outputs": [],
   "source": [
    "# from IPython.core.display import HTML\n",
    "# styles = open(\"custom_dark.css\", \"r\").read()\n",
    "# HTML(styles)\n",
    "\n",
    "##### For prettier graphs see http://localhost:8888/notebooks/project/iPython%20notebook%20gallery/Up%20and%20Down%20PyData%202014.ipynb"
   ]
  }
 ],
 "metadata": {
  "kernelspec": {
   "display_name": "Python 2",
   "language": "python",
   "name": "python2"
  },
  "language_info": {
   "codemirror_mode": {
    "name": "ipython",
    "version": 2
   },
   "file_extension": ".py",
   "mimetype": "text/x-python",
   "name": "python",
   "nbconvert_exporter": "python",
   "pygments_lexer": "ipython2",
   "version": "2.7.9"
  }
 },
 "nbformat": 4,
 "nbformat_minor": 0
}
