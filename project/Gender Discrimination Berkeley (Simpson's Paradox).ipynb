{
 "cells": [
  {
   "cell_type": "markdown",
   "metadata": {},
   "source": [
    "In 1973, the University of California-Berkeley (UC-Berkley) was sued for sex discrimination. Its admission data showed that men applying to graduate school at UC-Berkley were more likely to be admitted than women.\n",
    "\n",
    "The graduate schools had just accepted 44% of male applicants but only 35% of female applicants. The difference was so great that it was unlikely to be due to chance.  *Let's investigate*"
   ]
  },
  {
   "cell_type": "code",
   "execution_count": 14,
   "metadata": {
    "collapsed": false
   },
   "outputs": [],
   "source": [
    "import pandas\n",
    "import numpy as np"
   ]
  },
  {
   "cell_type": "code",
   "execution_count": 7,
   "metadata": {
    "collapsed": false
   },
   "outputs": [],
   "source": [
    "# Read in the world_alcohol.csv data from earlier.\n",
    "berkeley = pandas.read_csv(\"berkeley_discrimination_data.csv\")"
   ]
  },
  {
   "cell_type": "code",
   "execution_count": 11,
   "metadata": {
    "collapsed": false
   },
   "outputs": [
    {
     "name": "stdout",
     "output_type": "stream",
     "text": [
      "['Admit', 'Gender', 'Dept', 'Freq']\n"
     ]
    }
   ],
   "source": [
    "print(list(berkeley.columns.values))"
   ]
  },
  {
   "cell_type": "code",
   "execution_count": 12,
   "metadata": {
    "collapsed": false
   },
   "outputs": [
    {
     "name": "stdout",
     "output_type": "stream",
     "text": [
      "       Admit  Gender Dept  Freq\n",
      "0   Admitted    Male    A   512\n",
      "1   Rejected    Male    A   313\n",
      "2   Admitted  Female    A    89\n",
      "3   Rejected  Female    A    19\n",
      "4   Admitted    Male    B   353\n",
      "5   Rejected    Male    B   207\n",
      "6   Admitted  Female    B    17\n",
      "7   Rejected  Female    B     8\n",
      "8   Admitted    Male    C   120\n",
      "9   Rejected    Male    C   205\n",
      "10  Admitted  Female    C   202\n",
      "11  Rejected  Female    C   391\n",
      "12  Admitted    Male    D   138\n",
      "13  Rejected    Male    D   279\n",
      "14  Admitted  Female    D   131\n",
      "15  Rejected  Female    D   244\n",
      "16  Admitted    Male    E    53\n",
      "17  Rejected    Male    E   138\n",
      "18  Admitted  Female    E    94\n",
      "19  Rejected  Female    E   299\n",
      "20  Admitted    Male    F    22\n",
      "21  Rejected    Male    F   351\n",
      "22  Admitted  Female    F    24\n",
      "23  Rejected  Female    F   317\n"
     ]
    }
   ],
   "source": [
    "print(berkeley)"
   ]
  },
  {
   "cell_type": "code",
   "execution_count": 26,
   "metadata": {
    "collapsed": false
   },
   "outputs": [],
   "source": [
    "freq_dept = berkeley.pivot_table(index=[\"Dept\", \"Gender\"], values=\"Freq\", columns='Admit', aggfunc=np.sum)"
   ]
  },
  {
   "cell_type": "code",
   "execution_count": 27,
   "metadata": {
    "collapsed": false
   },
   "outputs": [
    {
     "name": "stdout",
     "output_type": "stream",
     "text": [
      "Admit        Admitted  Rejected\n",
      "Dept Gender                    \n",
      "A    Female        89        19\n",
      "     Male         512       313\n",
      "B    Female        17         8\n",
      "     Male         353       207\n",
      "C    Female       202       391\n",
      "     Male         120       205\n",
      "D    Female       131       244\n",
      "     Male         138       279\n",
      "E    Female        94       299\n",
      "     Male          53       138\n",
      "F    Female        24       317\n",
      "     Male          22       351\n"
     ]
    }
   ],
   "source": [
    "print(freq_dept)"
   ]
  },
  {
   "cell_type": "markdown",
   "metadata": {},
   "source": [
    "Just from looking at the raw counts it doesn't actually appear that women have a significant disadvantage when you break down counts by both gender and dept.  Let's check out admissions/rejections as percent of total."
   ]
  },
  {
   "cell_type": "code",
   "execution_count": 28,
   "metadata": {
    "collapsed": false
   },
   "outputs": [
    {
     "data": {
      "text/html": [
       "<div style=\"max-height:1000px;max-width:1500px;overflow:auto;\">\n",
       "<table border=\"1\" class=\"dataframe\">\n",
       "  <thead>\n",
       "    <tr style=\"text-align: right;\">\n",
       "      <th></th>\n",
       "      <th>Admit</th>\n",
       "      <th>Admitted</th>\n",
       "      <th>Rejected</th>\n",
       "    </tr>\n",
       "    <tr>\n",
       "      <th>Dept</th>\n",
       "      <th>Gender</th>\n",
       "      <th></th>\n",
       "      <th></th>\n",
       "    </tr>\n",
       "  </thead>\n",
       "  <tbody>\n",
       "    <tr>\n",
       "      <th rowspan=\"2\" valign=\"top\">A</th>\n",
       "      <th>Female</th>\n",
       "      <td> 0.824074</td>\n",
       "      <td> 0.175926</td>\n",
       "    </tr>\n",
       "    <tr>\n",
       "      <th>Male</th>\n",
       "      <td> 0.620606</td>\n",
       "      <td> 0.379394</td>\n",
       "    </tr>\n",
       "    <tr>\n",
       "      <th rowspan=\"2\" valign=\"top\">B</th>\n",
       "      <th>Female</th>\n",
       "      <td> 0.680000</td>\n",
       "      <td> 0.320000</td>\n",
       "    </tr>\n",
       "    <tr>\n",
       "      <th>Male</th>\n",
       "      <td> 0.630357</td>\n",
       "      <td> 0.369643</td>\n",
       "    </tr>\n",
       "    <tr>\n",
       "      <th rowspan=\"2\" valign=\"top\">C</th>\n",
       "      <th>Female</th>\n",
       "      <td> 0.340641</td>\n",
       "      <td> 0.659359</td>\n",
       "    </tr>\n",
       "    <tr>\n",
       "      <th>Male</th>\n",
       "      <td> 0.369231</td>\n",
       "      <td> 0.630769</td>\n",
       "    </tr>\n",
       "    <tr>\n",
       "      <th rowspan=\"2\" valign=\"top\">D</th>\n",
       "      <th>Female</th>\n",
       "      <td> 0.349333</td>\n",
       "      <td> 0.650667</td>\n",
       "    </tr>\n",
       "    <tr>\n",
       "      <th>Male</th>\n",
       "      <td> 0.330935</td>\n",
       "      <td> 0.669065</td>\n",
       "    </tr>\n",
       "    <tr>\n",
       "      <th rowspan=\"2\" valign=\"top\">E</th>\n",
       "      <th>Female</th>\n",
       "      <td> 0.239186</td>\n",
       "      <td> 0.760814</td>\n",
       "    </tr>\n",
       "    <tr>\n",
       "      <th>Male</th>\n",
       "      <td> 0.277487</td>\n",
       "      <td> 0.722513</td>\n",
       "    </tr>\n",
       "    <tr>\n",
       "      <th rowspan=\"2\" valign=\"top\">F</th>\n",
       "      <th>Female</th>\n",
       "      <td> 0.070381</td>\n",
       "      <td> 0.929619</td>\n",
       "    </tr>\n",
       "    <tr>\n",
       "      <th>Male</th>\n",
       "      <td> 0.058981</td>\n",
       "      <td> 0.941019</td>\n",
       "    </tr>\n",
       "  </tbody>\n",
       "</table>\n",
       "</div>"
      ],
      "text/plain": [
       "Admit        Admitted  Rejected\n",
       "Dept Gender                    \n",
       "A    Female  0.824074  0.175926\n",
       "     Male    0.620606  0.379394\n",
       "B    Female  0.680000  0.320000\n",
       "     Male    0.630357  0.369643\n",
       "C    Female  0.340641  0.659359\n",
       "     Male    0.369231  0.630769\n",
       "D    Female  0.349333  0.650667\n",
       "     Male    0.330935  0.669065\n",
       "E    Female  0.239186  0.760814\n",
       "     Male    0.277487  0.722513\n",
       "F    Female  0.070381  0.929619\n",
       "     Male    0.058981  0.941019"
      ]
     },
     "execution_count": 28,
     "metadata": {},
     "output_type": "execute_result"
    }
   ],
   "source": [
    "freq_dept.apply(lambda x : x / x.sum(), axis=1)"
   ]
  },
  {
   "cell_type": "markdown",
   "metadata": {},
   "source": [
    "So this confirms that actually women have a slight advatnage over men in applying.  Would calculate p-value to determine significance."
   ]
  },
  {
   "cell_type": "code",
   "execution_count": 30,
   "metadata": {
    "collapsed": false
   },
   "outputs": [],
   "source": [
    "freq_gender = berkeley.pivot_table(index=[\"Gender\"], values=\"Freq\", columns='Admit', aggfunc=np.sum)"
   ]
  },
  {
   "cell_type": "code",
   "execution_count": 31,
   "metadata": {
    "collapsed": false
   },
   "outputs": [
    {
     "name": "stdout",
     "output_type": "stream",
     "text": [
      "Admit   Admitted  Rejected\n",
      "Gender                    \n",
      "Female       557      1278\n",
      "Male        1198      1493\n"
     ]
    }
   ],
   "source": [
    "print(freq_gender)"
   ]
  },
  {
   "cell_type": "code",
   "execution_count": 32,
   "metadata": {
    "collapsed": false
   },
   "outputs": [
    {
     "data": {
      "text/html": [
       "<div style=\"max-height:1000px;max-width:1500px;overflow:auto;\">\n",
       "<table border=\"1\" class=\"dataframe\">\n",
       "  <thead>\n",
       "    <tr style=\"text-align: right;\">\n",
       "      <th>Admit</th>\n",
       "      <th>Admitted</th>\n",
       "      <th>Rejected</th>\n",
       "    </tr>\n",
       "    <tr>\n",
       "      <th>Gender</th>\n",
       "      <th></th>\n",
       "      <th></th>\n",
       "    </tr>\n",
       "  </thead>\n",
       "  <tbody>\n",
       "    <tr>\n",
       "      <th>Female</th>\n",
       "      <td> 0.303542</td>\n",
       "      <td> 0.696458</td>\n",
       "    </tr>\n",
       "    <tr>\n",
       "      <th>Male</th>\n",
       "      <td> 0.445188</td>\n",
       "      <td> 0.554812</td>\n",
       "    </tr>\n",
       "  </tbody>\n",
       "</table>\n",
       "</div>"
      ],
      "text/plain": [
       "Admit   Admitted  Rejected\n",
       "Gender                    \n",
       "Female  0.303542  0.696458\n",
       "Male    0.445188  0.554812"
      ]
     },
     "execution_count": 32,
     "metadata": {},
     "output_type": "execute_result"
    }
   ],
   "source": [
    "freq_gender.apply(lambda x : x / x.sum(), axis=1)"
   ]
  },
  {
   "cell_type": "markdown",
   "metadata": {},
   "source": [
    "Yet here we arrive at a higher admittance rate for males."
   ]
  },
  {
   "cell_type": "code",
   "execution_count": 41,
   "metadata": {
    "collapsed": false
   },
   "outputs": [
    {
     "data": {
      "text/html": [
       "<div style=\"max-height:1000px;max-width:1500px;overflow:auto;\">\n",
       "<table border=\"1\" class=\"dataframe\">\n",
       "  <thead>\n",
       "    <tr style=\"text-align: right;\">\n",
       "      <th>Gender</th>\n",
       "      <th>Female</th>\n",
       "      <th>Male</th>\n",
       "    </tr>\n",
       "    <tr>\n",
       "      <th>Dept</th>\n",
       "      <th></th>\n",
       "      <th></th>\n",
       "    </tr>\n",
       "  </thead>\n",
       "  <tbody>\n",
       "    <tr>\n",
       "      <th>A</th>\n",
       "      <td> 0.115756</td>\n",
       "      <td> 0.884244</td>\n",
       "    </tr>\n",
       "    <tr>\n",
       "      <th>B</th>\n",
       "      <td> 0.042735</td>\n",
       "      <td> 0.957265</td>\n",
       "    </tr>\n",
       "    <tr>\n",
       "      <th>C</th>\n",
       "      <td> 0.645969</td>\n",
       "      <td> 0.354031</td>\n",
       "    </tr>\n",
       "    <tr>\n",
       "      <th>D</th>\n",
       "      <td> 0.473485</td>\n",
       "      <td> 0.526515</td>\n",
       "    </tr>\n",
       "    <tr>\n",
       "      <th>E</th>\n",
       "      <td> 0.672945</td>\n",
       "      <td> 0.327055</td>\n",
       "    </tr>\n",
       "    <tr>\n",
       "      <th>F</th>\n",
       "      <td> 0.477591</td>\n",
       "      <td> 0.522409</td>\n",
       "    </tr>\n",
       "  </tbody>\n",
       "</table>\n",
       "</div>"
      ],
      "text/plain": [
       "Gender    Female      Male\n",
       "Dept                      \n",
       "A       0.115756  0.884244\n",
       "B       0.042735  0.957265\n",
       "C       0.645969  0.354031\n",
       "D       0.473485  0.526515\n",
       "E       0.672945  0.327055\n",
       "F       0.477591  0.522409"
      ]
     },
     "execution_count": 41,
     "metadata": {},
     "output_type": "execute_result"
    }
   ],
   "source": [
    "berkeley.pivot_table(index=[\"Dept\"], columns=\"Gender\", values=\"Freq\", aggfunc=np.sum).apply(lambda x : x / x.sum(), axis=1)"
   ]
  },
  {
   "cell_type": "markdown",
   "metadata": {},
   "source": [
    "Interestingly, two departments are overwhelmingly male applicants A & B.  As you might recall those were actually the two departments where the acceptance rate is pretty spectacular for both sexes (even more so for women).  If you go up another level you see that they also had 25x the open spots of the smallest department.  I suspect there's a pattern here.  Women on average did not tend to apply to the departments with both greater number of spots and greater acceptance rate as men.  Therefore, the data doesn't support that women were discriminated against in the application process, in fact they may have had a slight advantage over men."
   ]
  },
  {
   "cell_type": "code",
   "execution_count": null,
   "metadata": {
    "collapsed": false
   },
   "outputs": [],
   "source": []
  }
 ],
 "metadata": {
  "kernelspec": {
   "display_name": "Python 2",
   "language": "python",
   "name": "python2"
  },
  "language_info": {
   "codemirror_mode": {
    "name": "ipython",
    "version": 2
   },
   "file_extension": ".py",
   "mimetype": "text/x-python",
   "name": "python",
   "nbconvert_exporter": "python",
   "pygments_lexer": "ipython2",
   "version": "2.7.10"
  }
 },
 "nbformat": 4,
 "nbformat_minor": 0
}
