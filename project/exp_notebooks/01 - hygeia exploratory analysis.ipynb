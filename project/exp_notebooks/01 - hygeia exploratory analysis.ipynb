{
 "cells": [
  {
   "cell_type": "code",
   "execution_count": null,
   "metadata": {
    "collapsed": false
   },
   "outputs": [],
   "source": [
    "#Problem\n",
    "#Determine Goal\n"
   ]
  },
  {
   "cell_type": "markdown",
   "metadata": {},
   "source": [
    "# 0 - PRELIMINARIES"
   ]
  },
  {
   "cell_type": "code",
   "execution_count": 61,
   "metadata": {
    "collapsed": false
   },
   "outputs": [],
   "source": [
    "import sqlite3\n",
    "import pandas as pd\n",
    "import matplotlib.pyplot as plt\n",
    "import numpy as np\n",
    "\n",
    "%matplotlib inline"
   ]
  },
  {
   "cell_type": "code",
   "execution_count": 17,
   "metadata": {
    "collapsed": false
   },
   "outputs": [],
   "source": [
    "# open existing database\n",
    "conn = sqlite3.connect('../data/profiles.sqlite')\n",
    "c = conn.cursor()"
   ]
  },
  {
   "cell_type": "code",
   "execution_count": 25,
   "metadata": {
    "collapsed": false
   },
   "outputs": [
    {
     "name": "stdout",
     "output_type": "stream",
     "text": [
      "Column Names: \n",
      "['CASE_ID', 'AGEGRP', 'RACE', 'GENDER', 'MRSTAT', 'EDUC', 'BMI', 'GENHTH', 'MODACT', 'CLMBSV', 'PACMPL', 'PLMTKW', 'EACMPL', 'ENTCRF', 'PNINTF', 'PCEFUL', 'ENERGY', 'BLSAD', 'SCLACT', 'ASHLTH', 'ASEHLTH', 'DIFBTH', 'DIFDRS', 'DIFEAT', 'DIFCHR', 'DIFWLK', 'DIFTOL', 'PHYHTH', 'MENHTH', 'PORHTH', 'CPNEXR', 'CPNRST', 'SOBFLT', 'SOBSIT', 'SOBWLK', 'SOBSTR', 'NMBFET', 'TINGFT', 'DECSNS', 'DECHEL', 'ARTHPN', 'RDNEWP', 'HRMOST', 'HIGHBP', 'ANGCAD', 'CHF', 'AMI', 'OTHHRT', 'STROKE', 'COPD_E', 'GI_ETC', 'ATHHIP', 'ATHHAN', 'OSTEOPO', 'SCIATC', 'DIABET', 'ANYCAN', 'COLNCA', 'LUNGCA', 'BRSTCA', 'PROSCA', 'BACKPN', 'FELTSD', 'DEPMCH', 'DEP2YR', 'DEPWK', 'CMPHTH', 'SMKFRQ', 'URNLKG', 'URNMAG', 'URNDOC', 'URNTRT', 'PAOTLK', 'PAOADV', 'BALTLK', 'FELL12MO', 'BAL12MO', 'FALLTLK', 'OSTTEST', 'WHOCMP', 'SRVDSP', 'RNDNUM', 'PCTCMP', 'COHORT', 'PLREG', 'SVLANG']\n"
     ]
    }
   ],
   "source": [
    "#make sure connection works\n",
    "c.execute('SELECT * FROM HOS_PROFILE')\n",
    "col_name_list = [tup[0] for tup in c.description]\n",
    "print \"Column Names: \"\n",
    "print col_name_list"
   ]
  },
  {
   "cell_type": "code",
   "execution_count": 26,
   "metadata": {
    "collapsed": false
   },
   "outputs": [
    {
     "data": {
      "text/html": [
       "<div style=\"max-height:1000px;max-width:1500px;overflow:auto;\">\n",
       "<table border=\"1\" class=\"dataframe\">\n",
       "  <thead>\n",
       "    <tr style=\"text-align: right;\">\n",
       "      <th></th>\n",
       "      <th>CASE_ID</th>\n",
       "      <th>AGEGRP</th>\n",
       "      <th>RACE</th>\n",
       "      <th>GENDER</th>\n",
       "      <th>MRSTAT</th>\n",
       "      <th>EDUC</th>\n",
       "      <th>BMI</th>\n",
       "      <th>GENHTH</th>\n",
       "      <th>MODACT</th>\n",
       "      <th>CLMBSV</th>\n",
       "      <th>...</th>\n",
       "      <th>BAL12MO</th>\n",
       "      <th>FALLTLK</th>\n",
       "      <th>OSTTEST</th>\n",
       "      <th>WHOCMP</th>\n",
       "      <th>SRVDSP</th>\n",
       "      <th>RNDNUM</th>\n",
       "      <th>PCTCMP</th>\n",
       "      <th>COHORT</th>\n",
       "      <th>PLREG</th>\n",
       "      <th>SVLANG</th>\n",
       "    </tr>\n",
       "  </thead>\n",
       "  <tbody>\n",
       "    <tr>\n",
       "      <th>0</th>\n",
       "      <td> C01000060</td>\n",
       "      <td> 3</td>\n",
       "      <td>NaN</td>\n",
       "      <td> 2</td>\n",
       "      <td> 1</td>\n",
       "      <td> 1</td>\n",
       "      <td> 1</td>\n",
       "      <td> 4</td>\n",
       "      <td> 2</td>\n",
       "      <td> 2</td>\n",
       "      <td>...</td>\n",
       "      <td> 1</td>\n",
       "      <td> 1</td>\n",
       "      <td> 1</td>\n",
       "      <td> 1</td>\n",
       "      <td> M10</td>\n",
       "      <td> M1</td>\n",
       "      <td>  97.3</td>\n",
       "      <td> C15</td>\n",
       "      <td> 8</td>\n",
       "      <td> 1</td>\n",
       "    </tr>\n",
       "    <tr>\n",
       "      <th>1</th>\n",
       "      <td> C01000074</td>\n",
       "      <td> 3</td>\n",
       "      <td>NaN</td>\n",
       "      <td> 2</td>\n",
       "      <td> 2</td>\n",
       "      <td> 1</td>\n",
       "      <td> 2</td>\n",
       "      <td> 2</td>\n",
       "      <td> 2</td>\n",
       "      <td> 3</td>\n",
       "      <td>...</td>\n",
       "      <td> 1</td>\n",
       "      <td> 1</td>\n",
       "      <td> 1</td>\n",
       "      <td> 1</td>\n",
       "      <td> M10</td>\n",
       "      <td> M1</td>\n",
       "      <td>  90.5</td>\n",
       "      <td> C15</td>\n",
       "      <td> 8</td>\n",
       "      <td> 1</td>\n",
       "    </tr>\n",
       "    <tr>\n",
       "      <th>2</th>\n",
       "      <td> C01000140</td>\n",
       "      <td> 3</td>\n",
       "      <td>  1</td>\n",
       "      <td> 1</td>\n",
       "      <td> 1</td>\n",
       "      <td> 2</td>\n",
       "      <td> 1</td>\n",
       "      <td> 3</td>\n",
       "      <td> 3</td>\n",
       "      <td> 3</td>\n",
       "      <td>...</td>\n",
       "      <td> 2</td>\n",
       "      <td> 1</td>\n",
       "      <td> 2</td>\n",
       "      <td> 1</td>\n",
       "      <td> T10</td>\n",
       "      <td> T1</td>\n",
       "      <td> 100.0</td>\n",
       "      <td> C15</td>\n",
       "      <td> 4</td>\n",
       "      <td> 1</td>\n",
       "    </tr>\n",
       "  </tbody>\n",
       "</table>\n",
       "<p>3 rows × 86 columns</p>\n",
       "</div>"
      ],
      "text/plain": [
       "     CASE_ID  AGEGRP  RACE  GENDER  MRSTAT  EDUC  BMI  GENHTH  MODACT  CLMBSV  \\\n",
       "0  C01000060       3   NaN       2       1     1    1       4       2       2   \n",
       "1  C01000074       3   NaN       2       2     1    2       2       2       3   \n",
       "2  C01000140       3     1       1       1     2    1       3       3       3   \n",
       "\n",
       "    ...    BAL12MO  FALLTLK  OSTTEST  WHOCMP  SRVDSP  RNDNUM  PCTCMP  COHORT  \\\n",
       "0   ...          1        1        1       1     M10      M1    97.3     C15   \n",
       "1   ...          1        1        1       1     M10      M1    90.5     C15   \n",
       "2   ...          2        1        2       1     T10      T1   100.0     C15   \n",
       "\n",
       "   PLREG  SVLANG  \n",
       "0      8       1  \n",
       "1      8       1  \n",
       "2      4       1  \n",
       "\n",
       "[3 rows x 86 columns]"
      ]
     },
     "execution_count": 26,
     "metadata": {},
     "output_type": "execute_result"
    }
   ],
   "source": [
    "#Work preliminarily with smaller sample\n",
    "profiles = pd.read_sql('SELECT * FROM HOS_PROFILE LIMIT 10000', conn)\n",
    "profiles.head(3)\n",
    "\n",
    "# close connection\n",
    "conn.close()"
   ]
  },
  {
   "cell_type": "markdown",
   "metadata": {},
   "source": [
    "# 1 - DATA INSPECTION"
   ]
  },
  {
   "cell_type": "markdown",
   "metadata": {},
   "source": [
    "*Look for general patterns in data spread*"
   ]
  },
  {
   "cell_type": "markdown",
   "metadata": {},
   "source": [
    "# 2 - EXPLORE"
   ]
  },
  {
   "cell_type": "code",
   "execution_count": null,
   "metadata": {
    "collapsed": false
   },
   "outputs": [],
   "source": []
  }
 ],
 "metadata": {
  "kernelspec": {
   "display_name": "Python 2",
   "language": "python",
   "name": "python2"
  },
  "language_info": {
   "codemirror_mode": {
    "name": "ipython",
    "version": 2
   },
   "file_extension": ".py",
   "mimetype": "text/x-python",
   "name": "python",
   "nbconvert_exporter": "python",
   "pygments_lexer": "ipython2",
   "version": "2.7.9"
  }
 },
 "nbformat": 4,
 "nbformat_minor": 0
}
