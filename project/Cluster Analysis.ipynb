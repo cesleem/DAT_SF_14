{
 "cells": [
  {
   "cell_type": "code",
   "execution_count": 4,
   "metadata": {
    "collapsed": true
   },
   "outputs": [],
   "source": [
    "# import warnings\n",
    "# warnings.filterwarnings('ignore')\n",
    "\n",
    "import os.path\n",
    "\n",
    "%matplotlib inline\n",
    "import matplotlib.pyplot as plt\n",
    "import pandas as pd\n",
    "import numpy as np\n",
    "import seaborn as sns\n",
    "\n",
    "sns.set(style=\"darkgrid\")\n",
    "\n",
    "SOURCE_DATA_PATH = 'source_data'\n",
    "DERIVED_DATA_PATH = 'derived_data'"
   ]
  },
  {
   "cell_type": "markdown",
   "metadata": {},
   "source": [
    "##Data Prep"
   ]
  },
  {
   "cell_type": "code",
   "execution_count": 29,
   "metadata": {
    "collapsed": false
   },
   "outputs": [],
   "source": [
    "needs = pd.read_csv(os.path.join(DERIVED_DATA_PATH,'C16B_PUF_cleaned_needs.csv'), na_values=' ', index_col='ID')\n",
    "wellness = pd.read_csv(os.path.join(DERIVED_DATA_PATH,'C16B_PUF_cleaned_wellness.csv'), na_values=' ', index_col='ID')\n",
    "\n",
    "km_X = needs.join(wellness).dropna() "
   ]
  },
  {
   "cell_type": "code",
   "execution_count": 28,
   "metadata": {
    "collapsed": false
   },
   "outputs": [
    {
     "name": "stdout",
     "output_type": "stream",
     "text": [
      "data retention post-drop: 69.73% percent.\n",
      "# records retention post-drop: 211646\n"
     ]
    }
   ],
   "source": [
    "print 'data retention post-drop: {:.2%} percent.'.format(float(len(clf_X))/len(needs))\n",
    "print '# records retention post-drop: {}'.format(len(clf_X))"
   ]
  },
  {
   "cell_type": "markdown",
   "metadata": {},
   "source": [
    "So that's not bad.  Let's keep going with our cluster analysis by building our model."
   ]
  },
  {
   "cell_type": "markdown",
   "metadata": {},
   "source": [
    "##Building Model"
   ]
  },
  {
   "cell_type": "code",
   "execution_count": 31,
   "metadata": {
    "collapsed": false
   },
   "outputs": [],
   "source": [
    "from sklearn.cluster import KMeans\n",
    "from sklearn import metrics\n",
    "from sklearn.metrics import pairwise_distances"
   ]
  },
  {
   "cell_type": "markdown",
   "metadata": {},
   "source": [
    "It'll make most sense for us to run the model over several k's to arrive at the optimal k for our data.  We don't get SSE out of the box with sklearn so we'll write our own."
   ]
  },
  {
   "cell_type": "code",
   "execution_count": 41,
   "metadata": {
    "collapsed": false
   },
   "outputs": [],
   "source": [
    "#SSE get_cluster_centers helper function\n",
    "def get_cluster_centers(X, labels, k_num):\n",
    "    CC_list = []\n",
    "    for k in range(k_num):\n",
    "        #get mean coordinates of each cluster\n",
    "        CC_list.append(np.mean(X[labels ==k], axis=0))\n",
    "    return CC_list\n",
    "\n",
    "#main SSE function\n",
    "#for each cluster subtract the mean from each data point to get the error\n",
    "#then get the magnitude of each error, square it, and sum it\n",
    "def get_SSE(X, labels):\n",
    "    pass\n",
    "\n",
    "    "
   ]
  },
  {
   "cell_type": "code",
   "execution_count": 32,
   "metadata": {
    "collapsed": true
   },
   "outputs": [],
   "source": [
    "k_range = range(2,10)"
   ]
  },
  {
   "cell_type": "code",
   "execution_count": null,
   "metadata": {
    "collapsed": true
   },
   "outputs": [],
   "source": [
    "%timeit\n",
    "\n",
    "SSEs = []\n",
    "Sil_coefs = []\n",
    "\n",
    "for k in k_range:\n",
    "    #instantiate KMeans object\n",
    "    km = KMeans(n_clusters=k, random_state=1)\n",
    "    #fit model to training data\n",
    "    km.fit(km_X)\n",
    "    labels = km.labels_\n",
    "    #store SC & SSE scores for each k run\n",
    "    Sil_coefs.append(metrics.silhouette_score(km_X, labels, metric='euclidean'))\n",
    "    SSEs.append(get_SSE(km_X, labels))"
   ]
  },
  {
   "cell_type": "code",
   "execution_count": null,
   "metadata": {
    "collapsed": true
   },
   "outputs": [],
   "source": []
  }
 ],
 "metadata": {
  "kernelspec": {
   "display_name": "Python 2",
   "language": "python",
   "name": "python2"
  },
  "language_info": {
   "codemirror_mode": {
    "name": "ipython",
    "version": 2
   },
   "file_extension": ".py",
   "mimetype": "text/x-python",
   "name": "python",
   "nbconvert_exporter": "python",
   "pygments_lexer": "ipython2",
   "version": "2.7.10"
  }
 },
 "nbformat": 4,
 "nbformat_minor": 0
}
