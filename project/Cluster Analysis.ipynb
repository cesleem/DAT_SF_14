{
 "cells": [
  {
   "cell_type": "code",
   "execution_count": 1,
   "metadata": {
    "collapsed": true
   },
   "outputs": [],
   "source": [
    "# import warnings\n",
    "# warnings.filterwarnings('ignore')\n",
    "import os.path\n",
    "\n",
    "%matplotlib inline\n",
    "import matplotlib.pyplot as plt\n",
    "import pandas as pd\n",
    "import numpy as np\n",
    "import seaborn as sns\n",
    "\n",
    "sns.set(style=\"darkgrid\")\n",
    "\n",
    "SOURCE_DATA_PATH = 'source_data'\n",
    "DERIVED_DATA_PATH = 'derived_data'"
   ]
  },
  {
   "cell_type": "markdown",
   "metadata": {},
   "source": [
    "##Data Prep"
   ]
  },
  {
   "cell_type": "markdown",
   "metadata": {},
   "source": [
    "Below we're going to join the needs and wellness domains, as it's our intended feature space."
   ]
  },
  {
   "cell_type": "code",
   "execution_count": 2,
   "metadata": {
    "collapsed": false
   },
   "outputs": [],
   "source": [
    "needs = pd.read_csv(os.path.join(DERIVED_DATA_PATH,'C16B_PUF_cleaned_needs.csv'), na_values=' ', index_col='ID')\n",
    "wellness = pd.read_csv(os.path.join(DERIVED_DATA_PATH,'C16B_PUF_cleaned_wellness.csv'), na_values=' ', index_col='ID')\n",
    "\n",
    "km_X = needs.join(wellness).dropna() "
   ]
  },
  {
   "cell_type": "code",
   "execution_count": 3,
   "metadata": {
    "collapsed": false,
    "scrolled": true
   },
   "outputs": [
    {
     "name": "stdout",
     "output_type": "stream",
     "text": [
      "data retention post-drop: 69.73% percent.\n",
      "# records retention post-drop: 211646\n"
     ]
    }
   ],
   "source": [
    "print 'data retention post-drop: {:.2%} percent.'.format(float(len(km_X))/len(needs))\n",
    "print '# records retention post-drop: {}'.format(len(km_X))"
   ]
  },
  {
   "cell_type": "markdown",
   "metadata": {},
   "source": [
    "So that's not bad.  Let's keep going with our cluster analysis by building our model."
   ]
  },
  {
   "cell_type": "markdown",
   "metadata": {},
   "source": [
    "##Building Model"
   ]
  },
  {
   "cell_type": "code",
   "execution_count": 4,
   "metadata": {
    "collapsed": false
   },
   "outputs": [],
   "source": [
    "from sklearn.cluster import KMeans\n",
    "from sklearn import metrics\n",
    "from sklearn.metrics import pairwise_distances"
   ]
  },
  {
   "cell_type": "markdown",
   "metadata": {},
   "source": [
    "It'll make most sense for us to run the model over several k's to arrive at the optimal k for our data.  To evaluate cluster validity we're going to consider two metrics: the Silhouette Coefficient & our old friend Sum of Squared Errors.  We don't get SSE out of the box with sklearn so we'll write our own.  Let's do that first."
   ]
  },
  {
   "cell_type": "markdown",
   "metadata": {
    "collapsed": true
   },
   "source": [
    "**Sum of Squared Errors Definition:**\n",
    "\n",
    "$$\n",
    "SSE = \\displaystyle\\sum_{i=1}^{K}\\sum_{x \\in C_i} d(x, c_i)^2\n",
    "$$"
   ]
  },
  {
   "cell_type": "markdown",
   "metadata": {},
   "source": [
    "Now implementation..."
   ]
  },
  {
   "cell_type": "code",
   "execution_count": 5,
   "metadata": {
    "collapsed": false
   },
   "outputs": [],
   "source": [
    "#SSE get_cluster_centers helper function\n",
    "def get_cluster_centers(X, labels, k_num):\n",
    "    CC_list = []\n",
    "    for k in range(k_num):\n",
    "        #get mean coordinates of each cluster\n",
    "        CC_list.append(np.mean(X[labels ==k], axis=0))\n",
    "    return CC_list\n",
    "\n",
    "#main SSE function\n",
    "#for each cluster subtract the mean from each data point to get the error\n",
    "#then get the magnitude of each error, square it, and sum it\n",
    "def get_SSE(X, labels):\n",
    "    k_num = len(np.unique(labels))\n",
    "    CC_list = get_cluster_centers(X,labels, k_num)\n",
    "    CSEs = []\n",
    "    for k in range(k_num):\n",
    "        # for each cluster of k we get the coordinates of how far off each point is to the cluster\n",
    "        error_cords = X[labels == k] - CC_list[k]\n",
    "        # square the coordinates and sum to get the magnitude squared\n",
    "        error_cords_sq = error_cords ** 2\n",
    "        error_mag_sq = np.sum(error_cords_sq, axis = 1)\n",
    "        CSE = np.sum(error_mag_sq)\n",
    "        CSEs.append(CSE)\n",
    "    # sum each cluster's sum of squared errors\n",
    "    return sum(CSEs)   "
   ]
  },
  {
   "cell_type": "code",
   "execution_count": 6,
   "metadata": {
    "collapsed": false
   },
   "outputs": [],
   "source": [
    "km_X = km_X.sample(n=10000, random_state=1)"
   ]
  },
  {
   "cell_type": "code",
   "execution_count": 11,
   "metadata": {
    "collapsed": true
   },
   "outputs": [],
   "source": [
    "k_range = range(2,10)"
   ]
  },
  {
   "cell_type": "markdown",
   "metadata": {},
   "source": [
    "Here we'll run \"k_range\" models with k clusters."
   ]
  },
  {
   "cell_type": "code",
   "execution_count": 21,
   "metadata": {
    "collapsed": false
   },
   "outputs": [
    {
     "ename": "KeyboardInterrupt",
     "evalue": "",
     "output_type": "error",
     "traceback": [
      "\u001b[0;31m---------------------------------------------------------------------------\u001b[0m",
      "\u001b[0;31mKeyboardInterrupt\u001b[0m                         Traceback (most recent call last)",
      "\u001b[0;32m<ipython-input-21-48b3daf65173>\u001b[0m in \u001b[0;36m<module>\u001b[0;34m()\u001b[0m\n\u001b[1;32m     16\u001b[0m     \u001b[0mlabels\u001b[0m \u001b[0;34m=\u001b[0m \u001b[0mkm\u001b[0m\u001b[0;34m.\u001b[0m\u001b[0mlabels_\u001b[0m\u001b[0;34m\u001b[0m\u001b[0m\n\u001b[1;32m     17\u001b[0m     \u001b[0;31m#store SC & SSE scores for each k run\u001b[0m\u001b[0;34m\u001b[0m\u001b[0;34m\u001b[0m\u001b[0m\n\u001b[0;32m---> 18\u001b[0;31m     \u001b[0mSil_coefs\u001b[0m\u001b[0;34m.\u001b[0m\u001b[0mappend\u001b[0m\u001b[0;34m(\u001b[0m\u001b[0mmetrics\u001b[0m\u001b[0;34m.\u001b[0m\u001b[0msilhouette_score\u001b[0m\u001b[0;34m(\u001b[0m\u001b[0mkm_X\u001b[0m\u001b[0;34m,\u001b[0m \u001b[0mlabels\u001b[0m\u001b[0;34m,\u001b[0m \u001b[0mmetric\u001b[0m\u001b[0;34m=\u001b[0m\u001b[0;34m'euclidean'\u001b[0m\u001b[0;34m)\u001b[0m\u001b[0;34m)\u001b[0m\u001b[0;34m\u001b[0m\u001b[0m\n\u001b[0m\u001b[1;32m     19\u001b[0m     \u001b[0mSSEs\u001b[0m\u001b[0;34m.\u001b[0m\u001b[0mappend\u001b[0m\u001b[0;34m(\u001b[0m\u001b[0mget_SSE\u001b[0m\u001b[0;34m(\u001b[0m\u001b[0mkm_X\u001b[0m\u001b[0;34m,\u001b[0m \u001b[0mlabels\u001b[0m\u001b[0;34m)\u001b[0m\u001b[0;34m)\u001b[0m\u001b[0;34m\u001b[0m\u001b[0m\n\u001b[1;32m     20\u001b[0m \u001b[0;34m\u001b[0m\u001b[0m\n",
      "\u001b[0;32m/Users/ceslee-work/anaconda/lib/python2.7/site-packages/sklearn/metrics/cluster/unsupervised.pyc\u001b[0m in \u001b[0;36msilhouette_score\u001b[0;34m(X, labels, metric, sample_size, random_state, **kwds)\u001b[0m\n\u001b[1;32m     91\u001b[0m         \u001b[0;32melse\u001b[0m\u001b[0;34m:\u001b[0m\u001b[0;34m\u001b[0m\u001b[0m\n\u001b[1;32m     92\u001b[0m             \u001b[0mX\u001b[0m\u001b[0;34m,\u001b[0m \u001b[0mlabels\u001b[0m \u001b[0;34m=\u001b[0m \u001b[0mX\u001b[0m\u001b[0;34m[\u001b[0m\u001b[0mindices\u001b[0m\u001b[0;34m]\u001b[0m\u001b[0;34m,\u001b[0m \u001b[0mlabels\u001b[0m\u001b[0;34m[\u001b[0m\u001b[0mindices\u001b[0m\u001b[0;34m]\u001b[0m\u001b[0;34m\u001b[0m\u001b[0m\n\u001b[0;32m---> 93\u001b[0;31m     \u001b[0;32mreturn\u001b[0m \u001b[0mnp\u001b[0m\u001b[0;34m.\u001b[0m\u001b[0mmean\u001b[0m\u001b[0;34m(\u001b[0m\u001b[0msilhouette_samples\u001b[0m\u001b[0;34m(\u001b[0m\u001b[0mX\u001b[0m\u001b[0;34m,\u001b[0m \u001b[0mlabels\u001b[0m\u001b[0;34m,\u001b[0m \u001b[0mmetric\u001b[0m\u001b[0;34m=\u001b[0m\u001b[0mmetric\u001b[0m\u001b[0;34m,\u001b[0m \u001b[0;34m**\u001b[0m\u001b[0mkwds\u001b[0m\u001b[0;34m)\u001b[0m\u001b[0;34m)\u001b[0m\u001b[0;34m\u001b[0m\u001b[0m\n\u001b[0m\u001b[1;32m     94\u001b[0m \u001b[0;34m\u001b[0m\u001b[0m\n\u001b[1;32m     95\u001b[0m \u001b[0;34m\u001b[0m\u001b[0m\n",
      "\u001b[0;32m/Users/ceslee-work/anaconda/lib/python2.7/site-packages/sklearn/metrics/cluster/unsupervised.pyc\u001b[0m in \u001b[0;36msilhouette_samples\u001b[0;34m(X, labels, metric, **kwds)\u001b[0m\n\u001b[1;32m    157\u001b[0m                   for i in range(n)])\n\u001b[1;32m    158\u001b[0m     B = np.array([_nearest_cluster_distance(distances[i], labels, i)\n\u001b[0;32m--> 159\u001b[0;31m                   for i in range(n)])\n\u001b[0m\u001b[1;32m    160\u001b[0m     \u001b[0msil_samples\u001b[0m \u001b[0;34m=\u001b[0m \u001b[0;34m(\u001b[0m\u001b[0mB\u001b[0m \u001b[0;34m-\u001b[0m \u001b[0mA\u001b[0m\u001b[0;34m)\u001b[0m \u001b[0;34m/\u001b[0m \u001b[0mnp\u001b[0m\u001b[0;34m.\u001b[0m\u001b[0mmaximum\u001b[0m\u001b[0;34m(\u001b[0m\u001b[0mA\u001b[0m\u001b[0;34m,\u001b[0m \u001b[0mB\u001b[0m\u001b[0;34m)\u001b[0m\u001b[0;34m\u001b[0m\u001b[0m\n\u001b[1;32m    161\u001b[0m     \u001b[0;31m# nan values are for clusters of size 1, and should be 0\u001b[0m\u001b[0;34m\u001b[0m\u001b[0;34m\u001b[0m\u001b[0m\n",
      "\u001b[0;32m/Users/ceslee-work/anaconda/lib/python2.7/site-packages/sklearn/metrics/cluster/unsupervised.pyc\u001b[0m in \u001b[0;36m_nearest_cluster_distance\u001b[0;34m(distances_row, labels, i)\u001b[0m\n\u001b[1;32m    211\u001b[0m     \u001b[0mlabel\u001b[0m \u001b[0;34m=\u001b[0m \u001b[0mlabels\u001b[0m\u001b[0;34m[\u001b[0m\u001b[0mi\u001b[0m\u001b[0;34m]\u001b[0m\u001b[0;34m\u001b[0m\u001b[0m\n\u001b[1;32m    212\u001b[0m     b = np.min([np.mean(distances_row[labels == cur_label])\n\u001b[0;32m--> 213\u001b[0;31m                for cur_label in set(labels) if not cur_label == label])\n\u001b[0m\u001b[1;32m    214\u001b[0m     \u001b[0;32mreturn\u001b[0m \u001b[0mb\u001b[0m\u001b[0;34m\u001b[0m\u001b[0m\n",
      "\u001b[0;31mKeyboardInterrupt\u001b[0m: "
     ]
    }
   ],
   "source": [
    "#@Ceslee: Check to make sure SC/SSE incongruence isn't due to data dist.\n",
    "#@Ceslee: Replace sampling with full dataset if you can.\n",
    "#@Ceslee: Try silhouette coefficient visualization from scikitlearn if that helps.\n",
    "#@Ceslee: Why is timeit not working?\n",
    "#@Ceslee: write out SC formula too\n",
    "time = %timeit\n",
    "\n",
    "SSEs = []\n",
    "Sil_coefs = []\n",
    "\n",
    "for k in k_range:\n",
    "    #instantiate KMeans object\n",
    "    km = KMeans(n_clusters=k, random_state=1)\n",
    "    #fit model to training data\n",
    "    km.fit(km_X)\n",
    "    labels = km.labels_\n",
    "    #store SC & SSE scores for each k run\n",
    "    Sil_coefs.append(metrics.silhouette_score(km_X, labels, metric='euclidean'))\n",
    "    SSEs.append(get_SSE(km_X, labels))\n",
    "\n",
    "print time"
   ]
  },
  {
   "cell_type": "markdown",
   "metadata": {},
   "source": [
    "Let's plot the SSE and SC to see where our optimum k lies."
   ]
  },
  {
   "cell_type": "code",
   "execution_count": 13,
   "metadata": {
    "collapsed": false
   },
   "outputs": [
    {
     "data": {
      "image/png": "[encoded data removed]",
      "text/plain": [
       "<matplotlib.figure.Figure at 0x1056cf1d0>"
      ]
     },
     "metadata": {},
     "output_type": "display_data"
    }
   ],
   "source": [
    "fig, (ax1, ax2) = plt.subplots(1,2, figsize=(15,5), sharex=True)\n",
    "ax1.plot(k_range, Sil_coefs)\n",
    "ax1.set_xlabel('number of clusters')\n",
    "ax1.set_ylabel('silhouette coefficient')\n",
    "\n",
    "# plot here on ax2\n",
    "ax2.plot(k_range, SSEs)\n",
    "ax2.set_xlabel('number of clusters')\n",
    "ax2.set_ylabel('SSE');"
   ]
  },
  {
   "cell_type": "markdown",
   "metadata": {},
   "source": [
    "On interpreting the Average Silhouette Coefficient from [sckit-learn.org](http://scikit-learn.org/stable/auto_examples/cluster/plot_kmeans_silhouette_analysis.html): \n",
    "> Silhoette coefficients (as these values are referred to as) near +1 indicate that the sample is far away from the neighboring clusters. A value of 0 indicates that the sample is on or very close to the decision boundary between two neighboring clusters and negative values indicate that those samples might have been assigned to the wrong cluster."
   ]
  },
  {
   "cell_type": "markdown",
   "metadata": {},
   "source": [
    "Interestingly, to maximize SC our plot indicates we should choose k=2 and to minimize SSE (and try to minimize # clusters to min. comp time and support human intuition) our plot indicates we should choose k=3.  I'm a fan of trying both to see how it affects possible interpretations later on."
   ]
  },
  {
   "cell_type": "code",
   "execution_count": 19,
   "metadata": {
    "collapsed": true
   },
   "outputs": [],
   "source": [
    "cols = {}\n",
    "\n",
    "for k in [2,3]:\n",
    "    #instantiate KMeans model\n",
    "    km = KMeans(n_clusters=k, random_state=1)\n",
    "    #fit model to training data\n",
    "    km.fit(km_X)\n",
    "    col_name = 'segment_k_' + str(k)\n",
    "    #predict classes for km_X\n",
    "    #new df from index + predicted class\n",
    "    cols[col_name] = km.predict(km_X)\n",
    "\n",
    "km_index = km_X.index.values.tolist()\n",
    "ID_to_kmsegment = pd.DataFrame(cols, index=km_index)    "
   ]
  },
  {
   "cell_type": "markdown",
   "metadata": {},
   "source": [
    "To keep track of beneficiary segment membership I've just made a little key for later analysis.  Each record included in clustering (aka was not na/dropped) corresponds to a k=2 cluster and a k=3 cluster."
   ]
  },
  {
   "cell_type": "code",
   "execution_count": 20,
   "metadata": {
    "collapsed": false
   },
   "outputs": [
    {
     "data": {
      "text/html": [
       "<div>\n",
       "<table border=\"1\" class=\"dataframe\">\n",
       "  <thead>\n",
       "    <tr style=\"text-align: right;\">\n",
       "      <th></th>\n",
       "      <th>segment_k_2</th>\n",
       "      <th>segment_k_3</th>\n",
       "    </tr>\n",
       "  </thead>\n",
       "  <tbody>\n",
       "    <tr>\n",
       "      <th>C16267634</th>\n",
       "      <td>1</td>\n",
       "      <td>2</td>\n",
       "    </tr>\n",
       "    <tr>\n",
       "      <th>C16194877</th>\n",
       "      <td>0</td>\n",
       "      <td>0</td>\n",
       "    </tr>\n",
       "    <tr>\n",
       "      <th>C16129389</th>\n",
       "      <td>0</td>\n",
       "      <td>0</td>\n",
       "    </tr>\n",
       "    <tr>\n",
       "      <th>C14189812</th>\n",
       "      <td>1</td>\n",
       "      <td>2</td>\n",
       "    </tr>\n",
       "    <tr>\n",
       "      <th>C16216266</th>\n",
       "      <td>1</td>\n",
       "      <td>0</td>\n",
       "    </tr>\n",
       "  </tbody>\n",
       "</table>\n",
       "</div>"
      ],
      "text/plain": [
       "           segment_k_2  segment_k_3\n",
       "C16267634            1            2\n",
       "C16194877            0            0\n",
       "C16129389            0            0\n",
       "C14189812            1            2\n",
       "C16216266            1            0"
      ]
     },
     "execution_count": 20,
     "metadata": {},
     "output_type": "execute_result"
    }
   ],
   "source": [
    "ID_to_kmsegment.head()"
   ]
  },
  {
   "cell_type": "markdown",
   "metadata": {
    "collapsed": true
   },
   "source": [
    "##Segment Profile Analysis"
   ]
  },
  {
   "cell_type": "code",
   "execution_count": 15,
   "metadata": {
    "collapsed": false
   },
   "outputs": [],
   "source": [
    "profile = pd.read_csv(os.path.join(DERIVED_DATA_PATH,'C16B_PUF_cleaned_profile.csv'), na_values=' ', index_col='ID')"
   ]
  },
  {
   "cell_type": "code",
   "execution_count": 24,
   "metadata": {
    "collapsed": false
   },
   "outputs": [
    {
     "data": {
      "text/html": [
       "<div>\n",
       "<table border=\"1\" class=\"dataframe\">\n",
       "  <thead>\n",
       "    <tr style=\"text-align: right;\">\n",
       "      <th></th>\n",
       "      <th>AGE</th>\n",
       "      <th>RACE</th>\n",
       "      <th>GENDER</th>\n",
       "      <th>MARITALSTAT</th>\n",
       "      <th>EDUCATION</th>\n",
       "      <th>REGION</th>\n",
       "      <th>LANGUAGE</th>\n",
       "      <th>OBESE</th>\n",
       "      <th>SMOKER</th>\n",
       "      <th>DEPRESSION</th>\n",
       "      <th>MCC</th>\n",
       "      <th>AT-RISK</th>\n",
       "      <th>CC-NEED</th>\n",
       "      <th>segment_k_2</th>\n",
       "      <th>segment_k_3</th>\n",
       "    </tr>\n",
       "  </thead>\n",
       "  <tbody>\n",
       "    <tr>\n",
       "      <th>C16267634</th>\n",
       "      <td>65 to 74</td>\n",
       "      <td>White</td>\n",
       "      <td>M</td>\n",
       "      <td>Married</td>\n",
       "      <td>Greater than HS/GED</td>\n",
       "      <td>Region 5 (Chicago)</td>\n",
       "      <td>English</td>\n",
       "      <td>Not obese (BMI &lt; 30)</td>\n",
       "      <td>0</td>\n",
       "      <td>1</td>\n",
       "      <td>4</td>\n",
       "      <td>True</td>\n",
       "      <td>True</td>\n",
       "      <td>1</td>\n",
       "      <td>2</td>\n",
       "    </tr>\n",
       "    <tr>\n",
       "      <th>C16194877</th>\n",
       "      <td>65 to 74</td>\n",
       "      <td>NaN</td>\n",
       "      <td>F</td>\n",
       "      <td>Non-Married</td>\n",
       "      <td>HS/GED</td>\n",
       "      <td>Region 4 (Atlanta)</td>\n",
       "      <td>Spanish</td>\n",
       "      <td>Not obese (BMI &lt; 30)</td>\n",
       "      <td>0</td>\n",
       "      <td>1</td>\n",
       "      <td>5</td>\n",
       "      <td>True</td>\n",
       "      <td>True</td>\n",
       "      <td>0</td>\n",
       "      <td>0</td>\n",
       "    </tr>\n",
       "    <tr>\n",
       "      <th>C16129389</th>\n",
       "      <td>&lt;65</td>\n",
       "      <td>Black</td>\n",
       "      <td>M</td>\n",
       "      <td>Non-Married</td>\n",
       "      <td>HS/GED</td>\n",
       "      <td>Region 7 (Kansas City)</td>\n",
       "      <td>English</td>\n",
       "      <td>Not obese (BMI &lt; 30)</td>\n",
       "      <td>0</td>\n",
       "      <td>0</td>\n",
       "      <td>3</td>\n",
       "      <td>True</td>\n",
       "      <td>True</td>\n",
       "      <td>0</td>\n",
       "      <td>0</td>\n",
       "    </tr>\n",
       "    <tr>\n",
       "      <th>C14189812</th>\n",
       "      <td>&gt;74</td>\n",
       "      <td>White</td>\n",
       "      <td>F</td>\n",
       "      <td>Married</td>\n",
       "      <td>Less than HS/GED</td>\n",
       "      <td>Region 5 (Chicago)</td>\n",
       "      <td>English</td>\n",
       "      <td>Obese (BMI ≥ 30)</td>\n",
       "      <td>0</td>\n",
       "      <td>1</td>\n",
       "      <td>2</td>\n",
       "      <td>True</td>\n",
       "      <td>False</td>\n",
       "      <td>1</td>\n",
       "      <td>2</td>\n",
       "    </tr>\n",
       "    <tr>\n",
       "      <th>C16216266</th>\n",
       "      <td>&lt;65</td>\n",
       "      <td>White</td>\n",
       "      <td>M</td>\n",
       "      <td>Non-Married</td>\n",
       "      <td>Less than HS/GED</td>\n",
       "      <td>Region 5 (Chicago)</td>\n",
       "      <td>English</td>\n",
       "      <td>Obese (BMI ≥ 30)</td>\n",
       "      <td>0</td>\n",
       "      <td>0</td>\n",
       "      <td>6</td>\n",
       "      <td>True</td>\n",
       "      <td>True</td>\n",
       "      <td>1</td>\n",
       "      <td>0</td>\n",
       "    </tr>\n",
       "  </tbody>\n",
       "</table>\n",
       "</div>"
      ],
      "text/plain": [
       "                AGE   RACE GENDER  MARITALSTAT            EDUCATION  \\\n",
       "C16267634  65 to 74  White      M      Married  Greater than HS/GED   \n",
       "C16194877  65 to 74    NaN      F  Non-Married               HS/GED   \n",
       "C16129389       <65  Black      M  Non-Married               HS/GED   \n",
       "C14189812       >74  White      F      Married     Less than HS/GED   \n",
       "C16216266       <65  White      M  Non-Married     Less than HS/GED   \n",
       "\n",
       "                           REGION LANGUAGE                 OBESE  SMOKER  \\\n",
       "C16267634      Region 5 (Chicago)  English  Not obese (BMI < 30)       0   \n",
       "C16194877      Region 4 (Atlanta)  Spanish  Not obese (BMI < 30)       0   \n",
       "C16129389  Region 7 (Kansas City)  English  Not obese (BMI < 30)       0   \n",
       "C14189812      Region 5 (Chicago)  English      Obese (BMI ≥ 30)       0   \n",
       "C16216266      Region 5 (Chicago)  English      Obese (BMI ≥ 30)       0   \n",
       "\n",
       "           DEPRESSION  MCC AT-RISK CC-NEED  segment_k_2  segment_k_3  \n",
       "C16267634           1    4    True    True            1            2  \n",
       "C16194877           1    5    True    True            0            0  \n",
       "C16129389           0    3    True    True            0            0  \n",
       "C14189812           1    2    True   False            1            2  \n",
       "C16216266           0    6    True    True            1            0  "
      ]
     },
     "execution_count": 24,
     "metadata": {},
     "output_type": "execute_result"
    }
   ],
   "source": [
    "profile_seg = pd.concat([profile, ID_to_kmsegment], axis=1, join='inner')\n",
    "profile_seg.head()"
   ]
  },
  {
   "cell_type": "code",
   "execution_count": null,
   "metadata": {
    "collapsed": true
   },
   "outputs": [],
   "source": []
  }
 ],
 "metadata": {
  "kernelspec": {
   "display_name": "Python 2",
   "language": "python",
   "name": "python2"
  },
  "language_info": {
   "codemirror_mode": {
    "name": "ipython",
    "version": 2
   },
   "file_extension": ".py",
   "mimetype": "text/x-python",
   "name": "python",
   "nbconvert_exporter": "python",
   "pygments_lexer": "ipython2",
   "version": "2.7.10"
  }
 },
 "nbformat": 4,
 "nbformat_minor": 0
}
