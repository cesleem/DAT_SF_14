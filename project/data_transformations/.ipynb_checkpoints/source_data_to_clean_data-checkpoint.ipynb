{
 "cells": [
  {
   "cell_type": "markdown",
   "metadata": {},
   "source": [
    "# 0 - PRELIMINARIES"
   ]
  },
  {
   "cell_type": "code",
   "execution_count": 32,
   "metadata": {
    "collapsed": false
   },
   "outputs": [],
   "source": [
    "import sqlite3\n",
    "import pandas as pd\n",
    "import numpy as np\n",
    "import matplotlib.pyplot as plt\n",
    "import seaborn as sns\n",
    "import matplotlib.pyplot as plt\n",
    "sns.set(style=\"darkgrid\")\n",
    "\n",
    "%matplotlib inline"
   ]
  },
  {
   "cell_type": "code",
   "execution_count": 33,
   "metadata": {
    "collapsed": false
   },
   "outputs": [],
   "source": [
    "# open existing database\n",
    "conn = sqlite3.connect('../source_data/profiles.sqlite')\n",
    "c = conn.cursor()"
   ]
  },
  {
   "cell_type": "code",
   "execution_count": 34,
   "metadata": {
    "collapsed": false
   },
   "outputs": [
    {
     "name": "stdout",
     "output_type": "stream",
     "text": [
      "Column Names: \n",
      "['CASE_ID', 'AGEGRP', 'RACE', 'GENDER', 'MRSTAT', 'EDUC', 'BMI', 'GENHTH', 'MODACT', 'CLMBSV', 'PACMPL', 'PLMTKW', 'EACMPL', 'ENTCRF', 'PNINTF', 'PCEFUL', 'ENERGY', 'BLSAD', 'SCLACT', 'ASHLTH', 'ASEHLTH', 'DIFBTH', 'DIFDRS', 'DIFEAT', 'DIFCHR', 'DIFWLK', 'DIFTOL', 'PHYHTH', 'MENHTH', 'PORHTH', 'CPNEXR', 'CPNRST', 'SOBFLT', 'SOBSIT', 'SOBWLK', 'SOBSTR', 'NMBFET', 'TINGFT', 'DECSNS', 'DECHEL', 'ARTHPN', 'RDNEWP', 'HRMOST', 'HIGHBP', 'ANGCAD', 'CHF', 'AMI', 'OTHHRT', 'STROKE', 'COPD_E', 'GI_ETC', 'ATHHIP', 'ATHHAN', 'OSTEOPO', 'SCIATC', 'DIABET', 'ANYCAN', 'COLNCA', 'LUNGCA', 'BRSTCA', 'PROSCA', 'BACKPN', 'FELTSD', 'DEPMCH', 'DEP2YR', 'DEPWK', 'CMPHTH', 'SMKFRQ', 'URNLKG', 'URNMAG', 'URNDOC', 'URNTRT', 'PAOTLK', 'PAOADV', 'BALTLK', 'FELL12MO', 'BAL12MO', 'FALLTLK', 'OSTTEST', 'WHOCMP', 'SRVDSP', 'RNDNUM', 'PCTCMP', 'COHORT', 'PLREG', 'SVLANG']\n"
     ]
    }
   ],
   "source": [
    "#make sure connection works\n",
    "c.execute('SELECT * FROM HOS_PROFILE')\n",
    "col_name_list = [tup[0] for tup in c.description]\n",
    "print \"Column Names: \"\n",
    "print col_name_list"
   ]
  },
  {
   "cell_type": "markdown",
   "metadata": {},
   "source": [
    "Contains a total of 86 fields and 322,794 beneficiary records.  Surveys were completed in 2011."
   ]
  },
  {
   "cell_type": "code",
   "execution_count": 35,
   "metadata": {
    "collapsed": false
   },
   "outputs": [],
   "source": [
    "#Work preliminarily with smaller sample\n",
    "profiles = pd.read_sql('SELECT * FROM HOS_PROFILE', conn)\n",
    "profiles.head(3)\n",
    "\n",
    "# close connection\n",
    "conn.close()"
   ]
  },
  {
   "cell_type": "markdown",
   "metadata": {},
   "source": [
    "# 1 - DATA INSPECTION"
   ]
  },
  {
   "cell_type": "markdown",
   "metadata": {},
   "source": [
    "*Look for general patterns in data spread*"
   ]
  },
  {
   "cell_type": "code",
   "execution_count": 36,
   "metadata": {
    "collapsed": false
   },
   "outputs": [
    {
     "data": {
      "text/html": [
       "<div style=\"max-height:1000px;max-width:1500px;overflow:auto;\">\n",
       "<table border=\"1\" class=\"dataframe\">\n",
       "  <thead>\n",
       "    <tr style=\"text-align: right;\">\n",
       "      <th></th>\n",
       "      <th>AGEGRP</th>\n",
       "      <th>RACE</th>\n",
       "      <th>GENDER</th>\n",
       "      <th>MRSTAT</th>\n",
       "      <th>EDUC</th>\n",
       "      <th>BMI</th>\n",
       "      <th>GENHTH</th>\n",
       "      <th>MODACT</th>\n",
       "      <th>CLMBSV</th>\n",
       "      <th>PACMPL</th>\n",
       "      <th>...</th>\n",
       "      <th>PAOADV</th>\n",
       "      <th>BALTLK</th>\n",
       "      <th>FELL12MO</th>\n",
       "      <th>BAL12MO</th>\n",
       "      <th>FALLTLK</th>\n",
       "      <th>OSTTEST</th>\n",
       "      <th>WHOCMP</th>\n",
       "      <th>PCTCMP</th>\n",
       "      <th>PLREG</th>\n",
       "      <th>SVLANG</th>\n",
       "    </tr>\n",
       "  </thead>\n",
       "  <tbody>\n",
       "    <tr>\n",
       "      <th>count</th>\n",
       "      <td> 321395.000000</td>\n",
       "      <td> 277182.000000</td>\n",
       "      <td> 309332.000000</td>\n",
       "      <td> 287137.000000</td>\n",
       "      <td> 285429.000000</td>\n",
       "      <td> 279425.000000</td>\n",
       "      <td> 301758.000000</td>\n",
       "      <td> 297968.000000</td>\n",
       "      <td> 290213.000000</td>\n",
       "      <td> 296261.000000</td>\n",
       "      <td>...</td>\n",
       "      <td> 277933.000000</td>\n",
       "      <td> 286112.000000</td>\n",
       "      <td> 289119.000000</td>\n",
       "      <td> 287874.000000</td>\n",
       "      <td> 281694.000000</td>\n",
       "      <td> 284631.000000</td>\n",
       "      <td> 309317.000000</td>\n",
       "      <td> 321395.000000</td>\n",
       "      <td> 321395.000000</td>\n",
       "      <td> 321395.000000</td>\n",
       "    </tr>\n",
       "    <tr>\n",
       "      <th>mean</th>\n",
       "      <td>      2.189206</td>\n",
       "      <td>      1.272305</td>\n",
       "      <td>      1.574868</td>\n",
       "      <td>      1.489690</td>\n",
       "      <td>      2.169916</td>\n",
       "      <td>      1.327243</td>\n",
       "      <td>      3.080167</td>\n",
       "      <td>      2.142834</td>\n",
       "      <td>      2.005306</td>\n",
       "      <td>      2.521864</td>\n",
       "      <td>...</td>\n",
       "      <td>      1.497217</td>\n",
       "      <td>      1.800239</td>\n",
       "      <td>      1.739906</td>\n",
       "      <td>      1.620164</td>\n",
       "      <td>      1.690739</td>\n",
       "      <td>      1.518921</td>\n",
       "      <td>      1.150939</td>\n",
       "      <td>     89.928305</td>\n",
       "      <td>      5.405513</td>\n",
       "      <td>      1.052406</td>\n",
       "    </tr>\n",
       "    <tr>\n",
       "      <th>std</th>\n",
       "      <td>      0.676462</td>\n",
       "      <td>      0.593488</td>\n",
       "      <td>      0.494364</td>\n",
       "      <td>      0.499895</td>\n",
       "      <td>      0.790121</td>\n",
       "      <td>      0.469208</td>\n",
       "      <td>      1.043330</td>\n",
       "      <td>      0.801484</td>\n",
       "      <td>      0.811007</td>\n",
       "      <td>      1.342689</td>\n",
       "      <td>...</td>\n",
       "      <td>      0.499993</td>\n",
       "      <td>      0.475849</td>\n",
       "      <td>      0.438686</td>\n",
       "      <td>      0.485347</td>\n",
       "      <td>      0.545616</td>\n",
       "      <td>      0.499643</td>\n",
       "      <td>      0.441904</td>\n",
       "      <td>     25.641803</td>\n",
       "      <td>      2.613859</td>\n",
       "      <td>      0.255839</td>\n",
       "    </tr>\n",
       "    <tr>\n",
       "      <th>min</th>\n",
       "      <td>      1.000000</td>\n",
       "      <td>      1.000000</td>\n",
       "      <td>      1.000000</td>\n",
       "      <td>      1.000000</td>\n",
       "      <td>      1.000000</td>\n",
       "      <td>      1.000000</td>\n",
       "      <td>      1.000000</td>\n",
       "      <td>      1.000000</td>\n",
       "      <td>      1.000000</td>\n",
       "      <td>      1.000000</td>\n",
       "      <td>...</td>\n",
       "      <td>      1.000000</td>\n",
       "      <td>      1.000000</td>\n",
       "      <td>      1.000000</td>\n",
       "      <td>      1.000000</td>\n",
       "      <td>      1.000000</td>\n",
       "      <td>      1.000000</td>\n",
       "      <td>      1.000000</td>\n",
       "      <td>      1.400000</td>\n",
       "      <td>      1.000000</td>\n",
       "      <td>      1.000000</td>\n",
       "    </tr>\n",
       "    <tr>\n",
       "      <th>25%</th>\n",
       "      <td>      2.000000</td>\n",
       "      <td>      1.000000</td>\n",
       "      <td>      1.000000</td>\n",
       "      <td>      1.000000</td>\n",
       "      <td>      2.000000</td>\n",
       "      <td>      1.000000</td>\n",
       "      <td>      2.000000</td>\n",
       "      <td>      1.000000</td>\n",
       "      <td>      1.000000</td>\n",
       "      <td>      1.000000</td>\n",
       "      <td>...</td>\n",
       "      <td>      1.000000</td>\n",
       "      <td>      2.000000</td>\n",
       "      <td>      1.000000</td>\n",
       "      <td>      1.000000</td>\n",
       "      <td>      1.000000</td>\n",
       "      <td>      1.000000</td>\n",
       "      <td>      1.000000</td>\n",
       "      <td>     97.300000</td>\n",
       "      <td>      4.000000</td>\n",
       "      <td>      1.000000</td>\n",
       "    </tr>\n",
       "    <tr>\n",
       "      <th>50%</th>\n",
       "      <td>      2.000000</td>\n",
       "      <td>      1.000000</td>\n",
       "      <td>      2.000000</td>\n",
       "      <td>      1.000000</td>\n",
       "      <td>      2.000000</td>\n",
       "      <td>      1.000000</td>\n",
       "      <td>      3.000000</td>\n",
       "      <td>      2.000000</td>\n",
       "      <td>      2.000000</td>\n",
       "      <td>      2.000000</td>\n",
       "      <td>...</td>\n",
       "      <td>      1.000000</td>\n",
       "      <td>      2.000000</td>\n",
       "      <td>      2.000000</td>\n",
       "      <td>      2.000000</td>\n",
       "      <td>      2.000000</td>\n",
       "      <td>      2.000000</td>\n",
       "      <td>      1.000000</td>\n",
       "      <td>     98.600000</td>\n",
       "      <td>      5.000000</td>\n",
       "      <td>      1.000000</td>\n",
       "    </tr>\n",
       "    <tr>\n",
       "      <th>75%</th>\n",
       "      <td>      3.000000</td>\n",
       "      <td>      1.000000</td>\n",
       "      <td>      2.000000</td>\n",
       "      <td>      2.000000</td>\n",
       "      <td>      3.000000</td>\n",
       "      <td>      2.000000</td>\n",
       "      <td>      4.000000</td>\n",
       "      <td>      3.000000</td>\n",
       "      <td>      3.000000</td>\n",
       "      <td>      4.000000</td>\n",
       "      <td>...</td>\n",
       "      <td>      2.000000</td>\n",
       "      <td>      2.000000</td>\n",
       "      <td>      2.000000</td>\n",
       "      <td>      2.000000</td>\n",
       "      <td>      2.000000</td>\n",
       "      <td>      2.000000</td>\n",
       "      <td>      1.000000</td>\n",
       "      <td>    100.000000</td>\n",
       "      <td>      8.000000</td>\n",
       "      <td>      1.000000</td>\n",
       "    </tr>\n",
       "    <tr>\n",
       "      <th>max</th>\n",
       "      <td>      3.000000</td>\n",
       "      <td>      3.000000</td>\n",
       "      <td>      2.000000</td>\n",
       "      <td>      2.000000</td>\n",
       "      <td>      3.000000</td>\n",
       "      <td>      2.000000</td>\n",
       "      <td>      5.000000</td>\n",
       "      <td>      3.000000</td>\n",
       "      <td>      3.000000</td>\n",
       "      <td>      5.000000</td>\n",
       "      <td>...</td>\n",
       "      <td>      2.000000</td>\n",
       "      <td>      3.000000</td>\n",
       "      <td>      2.000000</td>\n",
       "      <td>      2.000000</td>\n",
       "      <td>      3.000000</td>\n",
       "      <td>      2.000000</td>\n",
       "      <td>      4.000000</td>\n",
       "      <td>    100.000000</td>\n",
       "      <td>     10.000000</td>\n",
       "      <td>      4.000000</td>\n",
       "    </tr>\n",
       "  </tbody>\n",
       "</table>\n",
       "<p>8 rows × 82 columns</p>\n",
       "</div>"
      ],
      "text/plain": [
       "              AGEGRP           RACE         GENDER         MRSTAT  \\\n",
       "count  321395.000000  277182.000000  309332.000000  287137.000000   \n",
       "mean        2.189206       1.272305       1.574868       1.489690   \n",
       "std         0.676462       0.593488       0.494364       0.499895   \n",
       "min         1.000000       1.000000       1.000000       1.000000   \n",
       "25%         2.000000       1.000000       1.000000       1.000000   \n",
       "50%         2.000000       1.000000       2.000000       1.000000   \n",
       "75%         3.000000       1.000000       2.000000       2.000000   \n",
       "max         3.000000       3.000000       2.000000       2.000000   \n",
       "\n",
       "                EDUC            BMI         GENHTH         MODACT  \\\n",
       "count  285429.000000  279425.000000  301758.000000  297968.000000   \n",
       "mean        2.169916       1.327243       3.080167       2.142834   \n",
       "std         0.790121       0.469208       1.043330       0.801484   \n",
       "min         1.000000       1.000000       1.000000       1.000000   \n",
       "25%         2.000000       1.000000       2.000000       1.000000   \n",
       "50%         2.000000       1.000000       3.000000       2.000000   \n",
       "75%         3.000000       2.000000       4.000000       3.000000   \n",
       "max         3.000000       2.000000       5.000000       3.000000   \n",
       "\n",
       "              CLMBSV         PACMPL      ...               PAOADV  \\\n",
       "count  290213.000000  296261.000000      ...        277933.000000   \n",
       "mean        2.005306       2.521864      ...             1.497217   \n",
       "std         0.811007       1.342689      ...             0.499993   \n",
       "min         1.000000       1.000000      ...             1.000000   \n",
       "25%         1.000000       1.000000      ...             1.000000   \n",
       "50%         2.000000       2.000000      ...             1.000000   \n",
       "75%         3.000000       4.000000      ...             2.000000   \n",
       "max         3.000000       5.000000      ...             2.000000   \n",
       "\n",
       "              BALTLK       FELL12MO        BAL12MO        FALLTLK  \\\n",
       "count  286112.000000  289119.000000  287874.000000  281694.000000   \n",
       "mean        1.800239       1.739906       1.620164       1.690739   \n",
       "std         0.475849       0.438686       0.485347       0.545616   \n",
       "min         1.000000       1.000000       1.000000       1.000000   \n",
       "25%         2.000000       1.000000       1.000000       1.000000   \n",
       "50%         2.000000       2.000000       2.000000       2.000000   \n",
       "75%         2.000000       2.000000       2.000000       2.000000   \n",
       "max         3.000000       2.000000       2.000000       3.000000   \n",
       "\n",
       "             OSTTEST         WHOCMP         PCTCMP          PLREG  \\\n",
       "count  284631.000000  309317.000000  321395.000000  321395.000000   \n",
       "mean        1.518921       1.150939      89.928305       5.405513   \n",
       "std         0.499643       0.441904      25.641803       2.613859   \n",
       "min         1.000000       1.000000       1.400000       1.000000   \n",
       "25%         1.000000       1.000000      97.300000       4.000000   \n",
       "50%         2.000000       1.000000      98.600000       5.000000   \n",
       "75%         2.000000       1.000000     100.000000       8.000000   \n",
       "max         2.000000       4.000000     100.000000      10.000000   \n",
       "\n",
       "              SVLANG  \n",
       "count  321395.000000  \n",
       "mean        1.052406  \n",
       "std         0.255839  \n",
       "min         1.000000  \n",
       "25%         1.000000  \n",
       "50%         1.000000  \n",
       "75%         1.000000  \n",
       "max         4.000000  \n",
       "\n",
       "[8 rows x 82 columns]"
      ]
     },
     "execution_count": 36,
     "metadata": {},
     "output_type": "execute_result"
    }
   ],
   "source": [
    "profiles.describe()"
   ]
  },
  {
   "cell_type": "markdown",
   "metadata": {},
   "source": [
    "*Checking for profile (survey) completeness*"
   ]
  },
  {
   "cell_type": "code",
   "execution_count": 37,
   "metadata": {
    "collapsed": false,
    "scrolled": true
   },
   "outputs": [
    {
     "data": {
      "text/plain": [
       "count    321395.000000\n",
       "mean         89.928305\n",
       "std          25.641803\n",
       "min           1.400000\n",
       "25%          97.300000\n",
       "50%          98.600000\n",
       "75%         100.000000\n",
       "max         100.000000\n",
       "Name: PCTCMP, dtype: float64"
      ]
     },
     "execution_count": 37,
     "metadata": {},
     "output_type": "execute_result"
    }
   ],
   "source": [
    "profiles['PCTCMP'].describe()"
   ]
  },
  {
   "cell_type": "code",
   "execution_count": null,
   "metadata": {
    "collapsed": true
   },
   "outputs": [],
   "source": [
    "profiles.count().plot(kind='bar', figsize=(14, 2.5))"
   ]
  },
  {
   "cell_type": "markdown",
   "metadata": {},
   "source": [
    "# 2 - EXPLORE"
   ]
  },
  {
   "cell_type": "code",
   "execution_count": 38,
   "metadata": {
    "collapsed": false
   },
   "outputs": [
    {
     "data": {
      "text/plain": [
       "Index([u'CASE_ID', u'AGEGRP', u'RACE', u'GENDER', u'MRSTAT', u'EDUC', u'BMI', u'GENHTH', u'MODACT', u'CLMBSV', u'PACMPL', u'PLMTKW', u'EACMPL', u'ENTCRF', u'PNINTF', u'PCEFUL', u'ENERGY', u'BLSAD', u'SCLACT', u'ASHLTH', u'ASEHLTH', u'DIFBTH', u'DIFDRS', u'DIFEAT', u'DIFCHR', u'DIFWLK', u'DIFTOL', u'PHYHTH', u'MENHTH', u'PORHTH', u'CPNEXR', u'CPNRST', u'SOBFLT', u'SOBSIT', u'SOBWLK', u'SOBSTR', u'NMBFET', u'TINGFT', u'DECSNS', u'DECHEL', u'ARTHPN', u'RDNEWP', u'HRMOST', u'HIGHBP', u'ANGCAD', u'CHF', u'AMI', u'OTHHRT', u'STROKE', u'COPD_E', u'GI_ETC', u'ATHHIP', u'ATHHAN', u'OSTEOPO', u'SCIATC', u'DIABET', u'ANYCAN', u'COLNCA', u'LUNGCA', u'BRSTCA', u'PROSCA', u'BACKPN', u'FELTSD', u'DEPMCH', u'DEP2YR', u'DEPWK', u'CMPHTH', u'SMKFRQ', u'URNLKG', u'URNMAG', u'URNDOC', u'URNTRT', u'PAOTLK', u'PAOADV', u'BALTLK', u'FELL12MO', u'BAL12MO', u'FALLTLK', u'OSTTEST', u'WHOCMP', u'SRVDSP', u'RNDNUM', u'PCTCMP', u'COHORT', u'PLREG', u'SVLANG'], dtype='object')"
      ]
     },
     "execution_count": 38,
     "metadata": {},
     "output_type": "execute_result"
    }
   ],
   "source": [
    "profiles.columns"
   ]
  },
  {
   "cell_type": "markdown",
   "metadata": {},
   "source": [
    "Start simple.  Take each demographic variable and make a continuous variable for Multiple Chronic Conditions."
   ]
  },
  {
   "cell_type": "code",
   "execution_count": 39,
   "metadata": {
    "collapsed": false
   },
   "outputs": [],
   "source": [
    "profiles['MCC'] = (profiles[['HIGHBP', 'ANGCAD', 'CHF', 'AMI', 'OTHHRT', 'STROKE', 'COPD_E', 'GI_ETC', 'ATHHIP', 'ATHHAN', 'OSTEOPO', 'SCIATC', 'DIABET', 'ANYCAN']] == 1).sum(axis=1)\n",
    "profiles['ADL'] = (profiles[[u'DIFBTH', u'DIFDRS', u'DIFEAT', u'DIFCHR', u'DIFWLK', u'DIFTOL']] > 1).sum(axis=1)"
   ]
  },
  {
   "cell_type": "code",
   "execution_count": 40,
   "metadata": {
    "collapsed": true
   },
   "outputs": [],
   "source": [
    "profiles_simple = profiles[['AGEGRP', 'RACE', 'GENDER', 'MRSTAT', 'EDUC', 'BMI', 'GENHTH', 'PLREG', 'ADL' , 'MCC' ]].set_index(profiles['CASE_ID'])\n",
    "\n",
    "# # replace a column name\n",
    "profiles_simple.rename(columns = {'PLREG' : 'REGION', 'DEPWK': 'DEP'}, inplace = True)"
   ]
  },
  {
   "cell_type": "code",
   "execution_count": 41,
   "metadata": {
    "collapsed": false
   },
   "outputs": [
    {
     "data": {
      "text/html": [
       "<div style=\"max-height:1000px;max-width:1500px;overflow:auto;\">\n",
       "<table border=\"1\" class=\"dataframe\">\n",
       "  <thead>\n",
       "    <tr style=\"text-align: right;\">\n",
       "      <th></th>\n",
       "      <th>AGEGRP</th>\n",
       "      <th>RACE</th>\n",
       "      <th>GENDER</th>\n",
       "      <th>MRSTAT</th>\n",
       "      <th>EDUC</th>\n",
       "      <th>BMI</th>\n",
       "      <th>GENHTH</th>\n",
       "      <th>REGION</th>\n",
       "      <th>ADL</th>\n",
       "      <th>MCC</th>\n",
       "    </tr>\n",
       "    <tr>\n",
       "      <th>CASE_ID</th>\n",
       "      <th></th>\n",
       "      <th></th>\n",
       "      <th></th>\n",
       "      <th></th>\n",
       "      <th></th>\n",
       "      <th></th>\n",
       "      <th></th>\n",
       "      <th></th>\n",
       "      <th></th>\n",
       "      <th></th>\n",
       "    </tr>\n",
       "  </thead>\n",
       "  <tbody>\n",
       "    <tr>\n",
       "      <th>C01000060</th>\n",
       "      <td> 3</td>\n",
       "      <td>NaN</td>\n",
       "      <td> 2</td>\n",
       "      <td> 1</td>\n",
       "      <td> 1</td>\n",
       "      <td> 1</td>\n",
       "      <td> 4</td>\n",
       "      <td>  8</td>\n",
       "      <td> 2</td>\n",
       "      <td> 5</td>\n",
       "    </tr>\n",
       "    <tr>\n",
       "      <th>C01000074</th>\n",
       "      <td> 3</td>\n",
       "      <td>NaN</td>\n",
       "      <td> 2</td>\n",
       "      <td> 2</td>\n",
       "      <td> 1</td>\n",
       "      <td> 2</td>\n",
       "      <td> 2</td>\n",
       "      <td>  8</td>\n",
       "      <td> 0</td>\n",
       "      <td> 6</td>\n",
       "    </tr>\n",
       "    <tr>\n",
       "      <th>C01000140</th>\n",
       "      <td> 3</td>\n",
       "      <td>  1</td>\n",
       "      <td> 1</td>\n",
       "      <td> 1</td>\n",
       "      <td> 2</td>\n",
       "      <td> 1</td>\n",
       "      <td> 3</td>\n",
       "      <td>  4</td>\n",
       "      <td> 1</td>\n",
       "      <td> 3</td>\n",
       "    </tr>\n",
       "    <tr>\n",
       "      <th>C01000540</th>\n",
       "      <td> 3</td>\n",
       "      <td>  1</td>\n",
       "      <td> 2</td>\n",
       "      <td> 1</td>\n",
       "      <td> 3</td>\n",
       "      <td> 1</td>\n",
       "      <td> 2</td>\n",
       "      <td>  7</td>\n",
       "      <td> 2</td>\n",
       "      <td> 3</td>\n",
       "    </tr>\n",
       "    <tr>\n",
       "      <th>C01000573</th>\n",
       "      <td> 3</td>\n",
       "      <td>  1</td>\n",
       "      <td> 1</td>\n",
       "      <td> 2</td>\n",
       "      <td> 1</td>\n",
       "      <td> 1</td>\n",
       "      <td> 4</td>\n",
       "      <td> 10</td>\n",
       "      <td> 1</td>\n",
       "      <td> 1</td>\n",
       "    </tr>\n",
       "  </tbody>\n",
       "</table>\n",
       "</div>"
      ],
      "text/plain": [
       "           AGEGRP  RACE  GENDER  MRSTAT  EDUC  BMI  GENHTH  REGION  ADL  MCC\n",
       "CASE_ID                                                                     \n",
       "C01000060       3   NaN       2       1     1    1       4       8    2    5\n",
       "C01000074       3   NaN       2       2     1    2       2       8    0    6\n",
       "C01000140       3     1       1       1     2    1       3       4    1    3\n",
       "C01000540       3     1       2       1     3    1       2       7    2    3\n",
       "C01000573       3     1       1       2     1    1       4      10    1    1"
      ]
     },
     "execution_count": 41,
     "metadata": {},
     "output_type": "execute_result"
    }
   ],
   "source": [
    "profiles_simple.head()"
   ]
  },
  {
   "cell_type": "code",
   "execution_count": 42,
   "metadata": {
    "collapsed": false,
    "scrolled": true
   },
   "outputs": [
    {
     "data": {
      "text/html": [
       "<div style=\"max-height:1000px;max-width:1500px;overflow:auto;\">\n",
       "<table border=\"1\" class=\"dataframe\">\n",
       "  <thead>\n",
       "    <tr style=\"text-align: right;\">\n",
       "      <th></th>\n",
       "      <th>AGEGRP</th>\n",
       "      <th>RACE</th>\n",
       "      <th>GENDER</th>\n",
       "      <th>MRSTAT</th>\n",
       "      <th>EDUC</th>\n",
       "      <th>BMI</th>\n",
       "      <th>GENHTH</th>\n",
       "      <th>REGION</th>\n",
       "      <th>ADL</th>\n",
       "      <th>MCC</th>\n",
       "    </tr>\n",
       "    <tr>\n",
       "      <th>CASE_ID</th>\n",
       "      <th></th>\n",
       "      <th></th>\n",
       "      <th></th>\n",
       "      <th></th>\n",
       "      <th></th>\n",
       "      <th></th>\n",
       "      <th></th>\n",
       "      <th></th>\n",
       "      <th></th>\n",
       "      <th></th>\n",
       "    </tr>\n",
       "  </thead>\n",
       "  <tbody>\n",
       "    <tr>\n",
       "      <th>C01000140</th>\n",
       "      <td> 3</td>\n",
       "      <td> 1</td>\n",
       "      <td> 1</td>\n",
       "      <td> 1</td>\n",
       "      <td> 2</td>\n",
       "      <td> 1</td>\n",
       "      <td> 3</td>\n",
       "      <td>  4</td>\n",
       "      <td> 1</td>\n",
       "      <td> 3</td>\n",
       "    </tr>\n",
       "    <tr>\n",
       "      <th>C01000540</th>\n",
       "      <td> 3</td>\n",
       "      <td> 1</td>\n",
       "      <td> 2</td>\n",
       "      <td> 1</td>\n",
       "      <td> 3</td>\n",
       "      <td> 1</td>\n",
       "      <td> 2</td>\n",
       "      <td>  7</td>\n",
       "      <td> 2</td>\n",
       "      <td> 3</td>\n",
       "    </tr>\n",
       "    <tr>\n",
       "      <th>C01000573</th>\n",
       "      <td> 3</td>\n",
       "      <td> 1</td>\n",
       "      <td> 1</td>\n",
       "      <td> 2</td>\n",
       "      <td> 1</td>\n",
       "      <td> 1</td>\n",
       "      <td> 4</td>\n",
       "      <td> 10</td>\n",
       "      <td> 1</td>\n",
       "      <td> 1</td>\n",
       "    </tr>\n",
       "    <tr>\n",
       "      <th>C01001114</th>\n",
       "      <td> 3</td>\n",
       "      <td> 1</td>\n",
       "      <td> 2</td>\n",
       "      <td> 2</td>\n",
       "      <td> 2</td>\n",
       "      <td> 2</td>\n",
       "      <td> 2</td>\n",
       "      <td>  5</td>\n",
       "      <td> 1</td>\n",
       "      <td> 0</td>\n",
       "    </tr>\n",
       "    <tr>\n",
       "      <th>C01001527</th>\n",
       "      <td> 3</td>\n",
       "      <td> 1</td>\n",
       "      <td> 1</td>\n",
       "      <td> 1</td>\n",
       "      <td> 2</td>\n",
       "      <td> 1</td>\n",
       "      <td> 3</td>\n",
       "      <td>  3</td>\n",
       "      <td> 5</td>\n",
       "      <td> 7</td>\n",
       "    </tr>\n",
       "  </tbody>\n",
       "</table>\n",
       "</div>"
      ],
      "text/plain": [
       "           AGEGRP  RACE  GENDER  MRSTAT  EDUC  BMI  GENHTH  REGION  ADL  MCC\n",
       "CASE_ID                                                                     \n",
       "C01000140       3     1       1       1     2    1       3       4    1    3\n",
       "C01000540       3     1       2       1     3    1       2       7    2    3\n",
       "C01000573       3     1       1       2     1    1       4      10    1    1\n",
       "C01001114       3     1       2       2     2    2       2       5    1    0\n",
       "C01001527       3     1       1       1     2    1       3       3    5    7"
      ]
     },
     "execution_count": 42,
     "metadata": {},
     "output_type": "execute_result"
    }
   ],
   "source": [
    "profiles_simple = profiles_simple.dropna()\n",
    "profiles_simple.head()"
   ]
  },
  {
   "cell_type": "code",
   "execution_count": 31,
   "metadata": {
    "collapsed": false
   },
   "outputs": [
    {
     "data": {
      "text/plain": [
       "<matplotlib.text.Text at 0x110a17810>"
      ]
     },
     "execution_count": 31,
     "metadata": {},
     "output_type": "execute_result"
    },
    {
     "data": {
      "image/png": "[encoded data removed]",
      "text/plain": [
       "<matplotlib.figure.Figure at 0x10cd485d0>"
      ]
     },
     "metadata": {},
     "output_type": "display_data"
    }
   ],
   "source": [
    "pd.scatter_matrix(profiles[['EDUC', 'BMI', 'GENHTH', 'PLREG', 'ADL' , 'MCC']],figsize=(20,20))\n",
    "plt.suptitle('Scatterplot Matrix of Song Attributes',size=25)"
   ]
  },
  {
   "cell_type": "markdown",
   "metadata": {
    "collapsed": false
   },
   "source": [
    "*Distribution of Data Points*"
   ]
  },
  {
   "cell_type": "code",
   "execution_count": 14,
   "metadata": {
    "collapsed": false,
    "scrolled": true
   },
   "outputs": [
    {
     "data": {
      "image/png": "[encoded data removed]",
      "text/plain": [
       "<matplotlib.figure.Figure at 0x10c845a90>"
      ]
     },
     "metadata": {},
     "output_type": "display_data"
    }
   ],
   "source": [
    "profiles_simple.hist(figsize=(12, 8));"
   ]
  },
  {
   "cell_type": "code",
   "execution_count": null,
   "metadata": {
    "collapsed": true
   },
   "outputs": [],
   "source": []
  }
 ],
 "metadata": {
  "kernelspec": {
   "display_name": "Python 2",
   "language": "python",
   "name": "python2"
  },
  "language_info": {
   "codemirror_mode": {
    "name": "ipython",
    "version": 2
   },
   "file_extension": ".py",
   "mimetype": "text/x-python",
   "name": "python",
   "nbconvert_exporter": "python",
   "pygments_lexer": "ipython2",
   "version": "2.7.9"
  }
 },
 "nbformat": 4,
 "nbformat_minor": 0
}
