{
 "cells": [
  {
   "cell_type": "markdown",
   "metadata": {},
   "source": [
    "# 0 - PRELIMINARIES"
   ]
  },
  {
   "cell_type": "code",
   "execution_count": 2,
   "metadata": {
    "collapsed": false
   },
   "outputs": [],
   "source": [
    "import sqlite3\n",
    "import pandas as pd\n",
    "import numpy as np\n",
    "import matplotlib.pyplot as plt\n",
    "import seaborn as sns\n",
    "import matplotlib.pyplot as plt\n",
    "sns.set(style=\"darkgrid\")\n",
    "\n",
    "%matplotlib inline"
   ]
  },
  {
   "cell_type": "markdown",
   "metadata": {},
   "source": [
    "### Acquire"
   ]
  },
  {
   "cell_type": "code",
   "execution_count": 3,
   "metadata": {
    "collapsed": false
   },
   "outputs": [
    {
     "name": "stdout",
     "output_type": "stream",
     "text": [
      "C010000603 211141144333455433111221111 6 0 021224122222121112222     43 611432   11221111M10M1 97.3C16 81\r",
      "\r\n"
     ]
    }
   ],
   "source": [
    "#commenting this out to avoid rerunning when executing whole ntbk.\n",
    "# !curl -o http://www.hosonline.org/surveys/hos/download/C16B_PUF.zip\n",
    "# !unzip ../source_data/C16B_PUF.zip -d ../source_data\n",
    "\n",
    "!head -n 1 ../source_data/C16B_PUF.TXT"
   ]
  },
  {
   "cell_type": "markdown",
   "metadata": {},
   "source": [
    "Each line is a string of length 105 (spaces represent missing data).  We need to parse each of the 83 fields from this string for each beneficiary record.  Afterwards, we'll save as csv to make i/o to pandas simpler in the future."
   ]
  },
  {
   "cell_type": "code",
   "execution_count": 4,
   "metadata": {
    "collapsed": false
   },
   "outputs": [],
   "source": [
    "#Parsed in accordance with HOS C16 PUF Data User Guide Field Positions available at: http://www.hosonline.org/surveys/hos/download/HOS_DUG_QIO_C16B.pdf\n",
    "import csv\n",
    "\n",
    "with open('../source_data/C16B_PUF.TXT') as txt_file:\n",
    "    records = txt_file.readlines()\n",
    "    to_comma_delimited = lambda line: [line[0:9]] + list(line[9:38]) + [line[38:40]] + [line[40:42]] + [line[42:44]] + list(line[44:71]) + [line[71:73]]+ list(line[73:89]) + [line[89:92]] + [line[92:94]] + [line[94:99]] + [line[99:102]] + [line[102:104]] + [line[104]]\n",
    "    transformed_records = [to_comma_delimited(line) for line in records]\n",
    "    with open('../source_data/C16B_PUF.csv', 'wb') as csv_file:\n",
    "        writer = csv.writer(csv_file)\n",
    "        writer.writerows(transformed_records)"
   ]
  },
  {
   "cell_type": "markdown",
   "metadata": {},
   "source": [
    "Let's verify this worked."
   ]
  },
  {
   "cell_type": "code",
   "execution_count": 5,
   "metadata": {
    "collapsed": false
   },
   "outputs": [
    {
     "name": "stdout",
     "output_type": "stream",
     "text": [
      "C01000060,3, ,2,1,1,1,4,1,1,4,4,3,3,3,4,5,5,4,3,3,1,1,1,2,2,1,1,1,1, 6, 0, 0,2,1,2,2,4,1,2,2,2,2,2,1,2,1,1,1,2,2,2,2, , , , , ,4,3, 6,1,1,4,3,2, , , ,1,1,2,2,1,1,1,1,M10,M1, 97.3,C16, 8,1\r",
      "\r\n"
     ]
    }
   ],
   "source": [
    "!head -n 1 ../source_data/C16B_PUF.csv"
   ]
  },
  {
   "cell_type": "markdown",
   "metadata": {},
   "source": [
    "Good.  So let's read it into pandas so we can begin our data inspection."
   ]
  },
  {
   "cell_type": "code",
   "execution_count": 6,
   "metadata": {
    "collapsed": false
   },
   "outputs": [],
   "source": [
    "columns = [u'ID', u'AGEGRP', u'RACE', u'GENDER', u'MRSTAT', u'EDUC', u'BMI', u'GENHTH', u'MODACT', u'CLMBSV', u'PACMPL', u'PLMTKW', u'EACMPL', u'ENTCRF', u'PNINTF', u'PCEFUL', u'ENERGY', u'BLSAD', u'SCLACT', u'ASHLTH', u'ASEHLTH', u'DIFBTH', u'DIFDRS', u'DIFEAT', u'DIFCHR', u'DIFWLK', u'DIFTOL', u'DIFPRM', u'DIFMON', u'DIFMED', u'PHYHTH', u'MENHTH', u'PORHTH', u'BLIND', u'DEAF', u'DIFCON', u'DIFERR', u'MEMINT', u'HIGHBP', u'ANGCAD', u'CHF', u'AMI', u'OTHHRT', u'STROKE', u'COPD_E', u'GI_ETC', u'ATHHIP', u'ATHHAN', u'OSTEOPO', u'SCIATC', u'DIABET', u'DEPRES', u'ANYCAN', u'COLNCA', u'LUNGCA', u'BRSTCA', u'PROSCA', u'OTHCAN', u'PNIACT', u'PNISOC', u'AVGPN', u'FELTNP', u'FELTSD', u'CMPHTH', u'SMKFRQ', u'URNLKG', u'URNMAG', u'URNDOC', u'URNTRT', u'PAOTLK', u'PAOADV', u'BALTLK', u'FELL12MO', u'BAL12MO', u'FALLTLK', u'OSTTEST', u'WHOCMP', u'SRVDSP', u'RNDNUM', u'PCTCMP', u'COHORT', u'PLREG', u'SVLANG']\n",
    "data = pd.read_csv('../source_data/C16B_PUF.csv', names=columns, na_values=' ')"
   ]
  },
  {
   "cell_type": "markdown",
   "metadata": {},
   "source": [
    "# 1 - DATA INSPECTION"
   ]
  },
  {
   "cell_type": "markdown",
   "metadata": {},
   "source": [
    "The data comes from an HOS Outcomes Survey from 2012. "
   ]
  },
  {
   "cell_type": "code",
   "execution_count": 7,
   "metadata": {
    "collapsed": true
   },
   "outputs": [],
   "source": [
    "#TODO #graphic of data dictionary - pre clean"
   ]
  },
  {
   "cell_type": "code",
   "execution_count": 8,
   "metadata": {
    "collapsed": true
   },
   "outputs": [],
   "source": [
    "#TODO #graphic of data dictionary - post clean"
   ]
  },
  {
   "cell_type": "markdown",
   "metadata": {},
   "source": [
    "###Examine"
   ]
  },
  {
   "cell_type": "code",
   "execution_count": 9,
   "metadata": {
    "collapsed": false
   },
   "outputs": [
    {
     "data": {
      "text/plain": [
       "Index([u'ID', u'AGEGRP', u'RACE', u'GENDER', u'MRSTAT', u'EDUC', u'BMI', u'GENHTH', u'MODACT', u'CLMBSV', u'PACMPL', u'PLMTKW', u'EACMPL', u'ENTCRF', u'PNINTF', u'PCEFUL', u'ENERGY', u'BLSAD', u'SCLACT', u'ASHLTH', u'ASEHLTH', u'DIFBTH', u'DIFDRS', u'DIFEAT', u'DIFCHR', u'DIFWLK', u'DIFTOL', u'DIFPRM', u'DIFMON', u'DIFMED', u'PHYHTH', u'MENHTH', u'PORHTH', u'BLIND', u'DEAF', u'DIFCON', u'DIFERR', u'MEMINT', u'HIGHBP', u'ANGCAD', u'CHF', u'AMI', u'OTHHRT', u'STROKE', u'COPD_E', u'GI_ETC', u'ATHHIP', u'ATHHAN', u'OSTEOPO', u'SCIATC', u'DIABET', u'DEPRES', u'ANYCAN', u'COLNCA', u'LUNGCA', u'BRSTCA', u'PROSCA', u'OTHCAN', u'PNIACT', u'PNISOC', u'AVGPN', u'FELTNP', u'FELTSD', u'CMPHTH', u'SMKFRQ', u'URNLKG', u'URNMAG', u'URNDOC', u'URNTRT', u'PAOTLK', u'PAOADV', u'BALTLK', u'FELL12MO', u'BAL12MO', u'FALLTLK', u'OSTTEST', u'WHOCMP', u'SRVDSP', u'RNDNUM', u'PCTCMP', u'COHORT', u'PLREG', u'SVLANG'], dtype='object')"
      ]
     },
     "execution_count": 9,
     "metadata": {},
     "output_type": "execute_result"
    }
   ],
   "source": [
    "data.columns"
   ]
  },
  {
   "cell_type": "code",
   "execution_count": 10,
   "metadata": {
    "collapsed": false
   },
   "outputs": [
    {
     "data": {
      "text/html": [
       "<div style=\"max-height:1000px;max-width:1500px;overflow:auto;\">\n",
       "<table border=\"1\" class=\"dataframe\">\n",
       "  <thead>\n",
       "    <tr style=\"text-align: right;\">\n",
       "      <th></th>\n",
       "      <th>ID</th>\n",
       "      <th>AGEGRP</th>\n",
       "      <th>RACE</th>\n",
       "      <th>GENDER</th>\n",
       "      <th>MRSTAT</th>\n",
       "      <th>EDUC</th>\n",
       "      <th>BMI</th>\n",
       "      <th>GENHTH</th>\n",
       "      <th>MODACT</th>\n",
       "      <th>CLMBSV</th>\n",
       "      <th>...</th>\n",
       "      <th>BAL12MO</th>\n",
       "      <th>FALLTLK</th>\n",
       "      <th>OSTTEST</th>\n",
       "      <th>WHOCMP</th>\n",
       "      <th>SRVDSP</th>\n",
       "      <th>RNDNUM</th>\n",
       "      <th>PCTCMP</th>\n",
       "      <th>COHORT</th>\n",
       "      <th>PLREG</th>\n",
       "      <th>SVLANG</th>\n",
       "    </tr>\n",
       "  </thead>\n",
       "  <tbody>\n",
       "    <tr>\n",
       "      <th>0</th>\n",
       "      <td> C01000060</td>\n",
       "      <td> 3</td>\n",
       "      <td>NaN</td>\n",
       "      <td>  2</td>\n",
       "      <td>  1</td>\n",
       "      <td>  1</td>\n",
       "      <td>  1</td>\n",
       "      <td>  4</td>\n",
       "      <td>  1</td>\n",
       "      <td>  1</td>\n",
       "      <td>...</td>\n",
       "      <td>  1</td>\n",
       "      <td>  1</td>\n",
       "      <td>  1</td>\n",
       "      <td> 1</td>\n",
       "      <td> M10</td>\n",
       "      <td> M1</td>\n",
       "      <td>  97.3</td>\n",
       "      <td> C16</td>\n",
       "      <td>  8</td>\n",
       "      <td> 1</td>\n",
       "    </tr>\n",
       "    <tr>\n",
       "      <th>1</th>\n",
       "      <td> C01000361</td>\n",
       "      <td> 3</td>\n",
       "      <td>  1</td>\n",
       "      <td>  1</td>\n",
       "      <td>  1</td>\n",
       "      <td>  2</td>\n",
       "      <td>  1</td>\n",
       "      <td>  3</td>\n",
       "      <td>  2</td>\n",
       "      <td>  3</td>\n",
       "      <td>...</td>\n",
       "      <td>  2</td>\n",
       "      <td>  2</td>\n",
       "      <td>  2</td>\n",
       "      <td> 1</td>\n",
       "      <td> T10</td>\n",
       "      <td> T1</td>\n",
       "      <td>  98.7</td>\n",
       "      <td> C16</td>\n",
       "      <td>  9</td>\n",
       "      <td> 1</td>\n",
       "    </tr>\n",
       "    <tr>\n",
       "      <th>2</th>\n",
       "      <td> C01000455</td>\n",
       "      <td> 3</td>\n",
       "      <td>NaN</td>\n",
       "      <td>NaN</td>\n",
       "      <td>NaN</td>\n",
       "      <td>NaN</td>\n",
       "      <td>NaN</td>\n",
       "      <td>NaN</td>\n",
       "      <td>NaN</td>\n",
       "      <td>NaN</td>\n",
       "      <td>...</td>\n",
       "      <td>NaN</td>\n",
       "      <td>NaN</td>\n",
       "      <td>NaN</td>\n",
       "      <td> 2</td>\n",
       "      <td> T31</td>\n",
       "      <td> T3</td>\n",
       "      <td>   1.3</td>\n",
       "      <td> C16</td>\n",
       "      <td> 10</td>\n",
       "      <td> 1</td>\n",
       "    </tr>\n",
       "    <tr>\n",
       "      <th>3</th>\n",
       "      <td> C01000542</td>\n",
       "      <td> 3</td>\n",
       "      <td>  1</td>\n",
       "      <td>  2</td>\n",
       "      <td>  2</td>\n",
       "      <td>  3</td>\n",
       "      <td>  2</td>\n",
       "      <td>  3</td>\n",
       "      <td>  1</td>\n",
       "      <td>  1</td>\n",
       "      <td>...</td>\n",
       "      <td>  1</td>\n",
       "      <td>  1</td>\n",
       "      <td>  1</td>\n",
       "      <td> 1</td>\n",
       "      <td> M10</td>\n",
       "      <td> M1</td>\n",
       "      <td> 100.0</td>\n",
       "      <td> C16</td>\n",
       "      <td>  4</td>\n",
       "      <td> 1</td>\n",
       "    </tr>\n",
       "    <tr>\n",
       "      <th>4</th>\n",
       "      <td> C01000633</td>\n",
       "      <td> 3</td>\n",
       "      <td>  1</td>\n",
       "      <td>  1</td>\n",
       "      <td>  1</td>\n",
       "      <td>  2</td>\n",
       "      <td>  1</td>\n",
       "      <td>  5</td>\n",
       "      <td>  3</td>\n",
       "      <td>  3</td>\n",
       "      <td>...</td>\n",
       "      <td>  1</td>\n",
       "      <td>  1</td>\n",
       "      <td>  2</td>\n",
       "      <td> 1</td>\n",
       "      <td> M10</td>\n",
       "      <td> M1</td>\n",
       "      <td> 100.0</td>\n",
       "      <td> C16</td>\n",
       "      <td>  9</td>\n",
       "      <td> 1</td>\n",
       "    </tr>\n",
       "  </tbody>\n",
       "</table>\n",
       "<p>5 rows × 83 columns</p>\n",
       "</div>"
      ],
      "text/plain": [
       "          ID  AGEGRP  RACE  GENDER  MRSTAT  EDUC  BMI  GENHTH  MODACT  CLMBSV  \\\n",
       "0  C01000060       3   NaN       2       1     1    1       4       1       1   \n",
       "1  C01000361       3     1       1       1     2    1       3       2       3   \n",
       "2  C01000455       3   NaN     NaN     NaN   NaN  NaN     NaN     NaN     NaN   \n",
       "3  C01000542       3     1       2       2     3    2       3       1       1   \n",
       "4  C01000633       3     1       1       1     2    1       5       3       3   \n",
       "\n",
       "    ...    BAL12MO  FALLTLK  OSTTEST  WHOCMP  SRVDSP  RNDNUM  PCTCMP  COHORT  \\\n",
       "0   ...          1        1        1       1     M10      M1    97.3     C16   \n",
       "1   ...          2        2        2       1     T10      T1    98.7     C16   \n",
       "2   ...        NaN      NaN      NaN       2     T31      T3     1.3     C16   \n",
       "3   ...          1        1        1       1     M10      M1   100.0     C16   \n",
       "4   ...          1        1        2       1     M10      M1   100.0     C16   \n",
       "\n",
       "   PLREG  SVLANG  \n",
       "0      8       1  \n",
       "1      9       1  \n",
       "2     10       1  \n",
       "3      4       1  \n",
       "4      9       1  \n",
       "\n",
       "[5 rows x 83 columns]"
      ]
     },
     "execution_count": 10,
     "metadata": {},
     "output_type": "execute_result"
    }
   ],
   "source": [
    "data.head()"
   ]
  },
  {
   "cell_type": "markdown",
   "metadata": {},
   "source": [
    "###Prepare"
   ]
  },
  {
   "cell_type": "code",
   "execution_count": 11,
   "metadata": {
    "collapsed": false
   },
   "outputs": [],
   "source": [
    "data['DEPRES'] = data['DEPRES'].replace({1:True, 2:False})\n",
    "data['SMKFRQ'] = data['SMKFRQ'].replace({1:True, 2:True, 3:False, 4:np.nan})"
   ]
  },
  {
   "cell_type": "markdown",
   "metadata": {},
   "source": [
    "*Make PROFILE table: (1) demographics, (2) smoking (3) obesity (4) depression, (5) # CC*"
   ]
  },
  {
   "cell_type": "code",
   "execution_count": 12,
   "metadata": {
    "collapsed": false
   },
   "outputs": [],
   "source": [
    "data['MCC'] = (data[['HIGHBP', 'ANGCAD', 'CHF', 'AMI', 'OTHHRT', 'STROKE', 'COPD_E', 'GI_ETC', 'ATHHIP', 'ATHHAN', 'OSTEOPO', 'SCIATC', 'DIABET', 'COLNCA', 'LUNGCA', 'BRSTCA', 'PROSCA', 'OTHCAN']] == 1).sum(axis=1)"
   ]
  },
  {
   "cell_type": "markdown",
   "metadata": {},
   "source": [
    "*Add Targets to PROFILE Table: (1) At-Risk, (2) Care Coordination Risk*"
   ]
  },
  {
   "cell_type": "code",
   "execution_count": 13,
   "metadata": {
    "collapsed": true
   },
   "outputs": [],
   "source": [
    "#At-Risk Metric pulled from Study: Bierman AS, Clancy CM.  Health Disparities among Older Women...\n",
    "data['AT-RISK'] = data['GENHTH'] > 3.0"
   ]
  },
  {
   "cell_type": "code",
   "execution_count": 14,
   "metadata": {
    "collapsed": false,
    "scrolled": true
   },
   "outputs": [
    {
     "data": {
      "text/html": [
       "<div style=\"max-height:1000px;max-width:1500px;overflow:auto;\">\n",
       "<table border=\"1\" class=\"dataframe\">\n",
       "  <thead>\n",
       "    <tr style=\"text-align: right;\">\n",
       "      <th></th>\n",
       "      <th>AGEGRP</th>\n",
       "      <th>RACE</th>\n",
       "      <th>GENDER</th>\n",
       "      <th>MRSTAT</th>\n",
       "      <th>EDUC</th>\n",
       "      <th>BMI</th>\n",
       "      <th>GENHTH</th>\n",
       "      <th>MODACT</th>\n",
       "      <th>CLMBSV</th>\n",
       "      <th>PACMPL</th>\n",
       "      <th>...</th>\n",
       "      <th>OSTTEST</th>\n",
       "      <th>WHOCMP</th>\n",
       "      <th>SRVDSP</th>\n",
       "      <th>RNDNUM</th>\n",
       "      <th>PCTCMP</th>\n",
       "      <th>COHORT</th>\n",
       "      <th>PLREG</th>\n",
       "      <th>SVLANG</th>\n",
       "      <th>MCC</th>\n",
       "      <th>AT-RISK</th>\n",
       "    </tr>\n",
       "    <tr>\n",
       "      <th>ID</th>\n",
       "      <th></th>\n",
       "      <th></th>\n",
       "      <th></th>\n",
       "      <th></th>\n",
       "      <th></th>\n",
       "      <th></th>\n",
       "      <th></th>\n",
       "      <th></th>\n",
       "      <th></th>\n",
       "      <th></th>\n",
       "      <th></th>\n",
       "      <th></th>\n",
       "      <th></th>\n",
       "      <th></th>\n",
       "      <th></th>\n",
       "      <th></th>\n",
       "      <th></th>\n",
       "      <th></th>\n",
       "      <th></th>\n",
       "      <th></th>\n",
       "      <th></th>\n",
       "    </tr>\n",
       "  </thead>\n",
       "  <tbody>\n",
       "    <tr>\n",
       "      <th>C01000060</th>\n",
       "      <td> 3</td>\n",
       "      <td>NaN</td>\n",
       "      <td>  2</td>\n",
       "      <td>  1</td>\n",
       "      <td>  1</td>\n",
       "      <td>  1</td>\n",
       "      <td>  4</td>\n",
       "      <td>  1</td>\n",
       "      <td>  1</td>\n",
       "      <td>  4</td>\n",
       "      <td>...</td>\n",
       "      <td>  1</td>\n",
       "      <td> 1</td>\n",
       "      <td> M10</td>\n",
       "      <td> M1</td>\n",
       "      <td>  97.3</td>\n",
       "      <td> C16</td>\n",
       "      <td>  8</td>\n",
       "      <td> 1</td>\n",
       "      <td> 5</td>\n",
       "      <td>  True</td>\n",
       "    </tr>\n",
       "    <tr>\n",
       "      <th>C01000361</th>\n",
       "      <td> 3</td>\n",
       "      <td>  1</td>\n",
       "      <td>  1</td>\n",
       "      <td>  1</td>\n",
       "      <td>  2</td>\n",
       "      <td>  1</td>\n",
       "      <td>  3</td>\n",
       "      <td>  2</td>\n",
       "      <td>  3</td>\n",
       "      <td>  2</td>\n",
       "      <td>...</td>\n",
       "      <td>  2</td>\n",
       "      <td> 1</td>\n",
       "      <td> T10</td>\n",
       "      <td> T1</td>\n",
       "      <td>  98.7</td>\n",
       "      <td> C16</td>\n",
       "      <td>  9</td>\n",
       "      <td> 1</td>\n",
       "      <td> 2</td>\n",
       "      <td> False</td>\n",
       "    </tr>\n",
       "    <tr>\n",
       "      <th>C01000455</th>\n",
       "      <td> 3</td>\n",
       "      <td>NaN</td>\n",
       "      <td>NaN</td>\n",
       "      <td>NaN</td>\n",
       "      <td>NaN</td>\n",
       "      <td>NaN</td>\n",
       "      <td>NaN</td>\n",
       "      <td>NaN</td>\n",
       "      <td>NaN</td>\n",
       "      <td>NaN</td>\n",
       "      <td>...</td>\n",
       "      <td>NaN</td>\n",
       "      <td> 2</td>\n",
       "      <td> T31</td>\n",
       "      <td> T3</td>\n",
       "      <td>   1.3</td>\n",
       "      <td> C16</td>\n",
       "      <td> 10</td>\n",
       "      <td> 1</td>\n",
       "      <td> 0</td>\n",
       "      <td> False</td>\n",
       "    </tr>\n",
       "    <tr>\n",
       "      <th>C01000542</th>\n",
       "      <td> 3</td>\n",
       "      <td>  1</td>\n",
       "      <td>  2</td>\n",
       "      <td>  2</td>\n",
       "      <td>  3</td>\n",
       "      <td>  2</td>\n",
       "      <td>  3</td>\n",
       "      <td>  1</td>\n",
       "      <td>  1</td>\n",
       "      <td>  2</td>\n",
       "      <td>...</td>\n",
       "      <td>  1</td>\n",
       "      <td> 1</td>\n",
       "      <td> M10</td>\n",
       "      <td> M1</td>\n",
       "      <td> 100.0</td>\n",
       "      <td> C16</td>\n",
       "      <td>  4</td>\n",
       "      <td> 1</td>\n",
       "      <td> 3</td>\n",
       "      <td> False</td>\n",
       "    </tr>\n",
       "    <tr>\n",
       "      <th>C01000633</th>\n",
       "      <td> 3</td>\n",
       "      <td>  1</td>\n",
       "      <td>  1</td>\n",
       "      <td>  1</td>\n",
       "      <td>  2</td>\n",
       "      <td>  1</td>\n",
       "      <td>  5</td>\n",
       "      <td>  3</td>\n",
       "      <td>  3</td>\n",
       "      <td>  5</td>\n",
       "      <td>...</td>\n",
       "      <td>  2</td>\n",
       "      <td> 1</td>\n",
       "      <td> M10</td>\n",
       "      <td> M1</td>\n",
       "      <td> 100.0</td>\n",
       "      <td> C16</td>\n",
       "      <td>  9</td>\n",
       "      <td> 1</td>\n",
       "      <td> 5</td>\n",
       "      <td>  True</td>\n",
       "    </tr>\n",
       "  </tbody>\n",
       "</table>\n",
       "<p>5 rows × 84 columns</p>\n",
       "</div>"
      ],
      "text/plain": [
       "           AGEGRP  RACE  GENDER  MRSTAT  EDUC  BMI  GENHTH  MODACT  CLMBSV  \\\n",
       "ID                                                                           \n",
       "C01000060       3   NaN       2       1     1    1       4       1       1   \n",
       "C01000361       3     1       1       1     2    1       3       2       3   \n",
       "C01000455       3   NaN     NaN     NaN   NaN  NaN     NaN     NaN     NaN   \n",
       "C01000542       3     1       2       2     3    2       3       1       1   \n",
       "C01000633       3     1       1       1     2    1       5       3       3   \n",
       "\n",
       "           PACMPL   ...     OSTTEST  WHOCMP  SRVDSP  RNDNUM  PCTCMP  COHORT  \\\n",
       "ID                  ...                                                       \n",
       "C01000060       4   ...           1       1     M10      M1    97.3     C16   \n",
       "C01000361       2   ...           2       1     T10      T1    98.7     C16   \n",
       "C01000455     NaN   ...         NaN       2     T31      T3     1.3     C16   \n",
       "C01000542       2   ...           1       1     M10      M1   100.0     C16   \n",
       "C01000633       5   ...           2       1     M10      M1   100.0     C16   \n",
       "\n",
       "           PLREG  SVLANG  MCC  AT-RISK  \n",
       "ID                                      \n",
       "C01000060      8       1    5     True  \n",
       "C01000361      9       1    2    False  \n",
       "C01000455     10       1    0    False  \n",
       "C01000542      4       1    3    False  \n",
       "C01000633      9       1    5     True  \n",
       "\n",
       "[5 rows x 84 columns]"
      ]
     },
     "execution_count": 14,
     "metadata": {},
     "output_type": "execute_result"
    }
   ],
   "source": [
    "data.set_index('ID', inplace=True)\n",
    "data.head()"
   ]
  },
  {
   "cell_type": "markdown",
   "metadata": {},
   "source": [
    "Historically, most care coordination programs have targeted patients with chronic conditions, which are costly, especially if managed poorly. According to a 2004 Partnership for Solutions report, 48% of the U.S. population has one or more chronic conditions; all their care represents 83% of total healthcare spending.14 Patients with chronic conditions visit their health care providers, fill prescriptions, and are hospitalized more often than the general population.14 Furthermore, patients with chronic conditions are more likely to experience poorly coordinated care, which can lead to adverse drug interactions, unnecessary or duplicate tests or procedures, conflicting information from multiple providers, and increased health care costs"
   ]
  },
  {
   "cell_type": "code",
   "execution_count": 15,
   "metadata": {
    "collapsed": false
   },
   "outputs": [],
   "source": [
    "##Naive CC metric (traditional care coordination indicator) based on lit from IHI Multiple Health + Social Needs\n",
    "data['CC-NEED'] = data['MCC'] > 2.0"
   ]
  },
  {
   "cell_type": "code",
   "execution_count": 16,
   "metadata": {
    "collapsed": false
   },
   "outputs": [],
   "source": [
    "profile = data.loc[:,['ID',\n",
    " 'AGEGRP',\n",
    " 'RACE',\n",
    " 'GENDER',\n",
    " 'MRSTAT',\n",
    " 'EDUC',\n",
    " 'PLREG',\n",
    " 'SVLANG',\n",
    " 'BMI',\n",
    " 'SMKFRQ',\n",
    " 'DEPRES',\n",
    " 'MCC',\n",
    " 'AT-RISK',\n",
    " 'CC-NEED']]"
   ]
  },
  {
   "cell_type": "code",
   "execution_count": 17,
   "metadata": {
    "collapsed": false
   },
   "outputs": [
    {
     "data": {
      "text/html": [
       "<div style=\"max-height:1000px;max-width:1500px;overflow:auto;\">\n",
       "<table border=\"1\" class=\"dataframe\">\n",
       "  <thead>\n",
       "    <tr style=\"text-align: right;\">\n",
       "      <th></th>\n",
       "      <th>ID</th>\n",
       "      <th>AGEGRP</th>\n",
       "      <th>RACE</th>\n",
       "      <th>GENDER</th>\n",
       "      <th>MRSTAT</th>\n",
       "      <th>EDUC</th>\n",
       "      <th>PLREG</th>\n",
       "      <th>SVLANG</th>\n",
       "      <th>BMI</th>\n",
       "      <th>SMKFRQ</th>\n",
       "      <th>DEPRES</th>\n",
       "      <th>MCC</th>\n",
       "      <th>AT-RISK</th>\n",
       "      <th>CC-NEED</th>\n",
       "    </tr>\n",
       "    <tr>\n",
       "      <th>ID</th>\n",
       "      <th></th>\n",
       "      <th></th>\n",
       "      <th></th>\n",
       "      <th></th>\n",
       "      <th></th>\n",
       "      <th></th>\n",
       "      <th></th>\n",
       "      <th></th>\n",
       "      <th></th>\n",
       "      <th></th>\n",
       "      <th></th>\n",
       "      <th></th>\n",
       "      <th></th>\n",
       "      <th></th>\n",
       "    </tr>\n",
       "  </thead>\n",
       "  <tbody>\n",
       "    <tr>\n",
       "      <th>C01000060</th>\n",
       "      <td>NaN</td>\n",
       "      <td> 3</td>\n",
       "      <td>NaN</td>\n",
       "      <td>  2</td>\n",
       "      <td>  1</td>\n",
       "      <td>  1</td>\n",
       "      <td>  8</td>\n",
       "      <td> 1</td>\n",
       "      <td>  1</td>\n",
       "      <td>  0</td>\n",
       "      <td>  0</td>\n",
       "      <td> 5</td>\n",
       "      <td>  True</td>\n",
       "      <td>  True</td>\n",
       "    </tr>\n",
       "    <tr>\n",
       "      <th>C01000361</th>\n",
       "      <td>NaN</td>\n",
       "      <td> 3</td>\n",
       "      <td>  1</td>\n",
       "      <td>  1</td>\n",
       "      <td>  1</td>\n",
       "      <td>  2</td>\n",
       "      <td>  9</td>\n",
       "      <td> 1</td>\n",
       "      <td>  1</td>\n",
       "      <td>  1</td>\n",
       "      <td>  0</td>\n",
       "      <td> 2</td>\n",
       "      <td> False</td>\n",
       "      <td> False</td>\n",
       "    </tr>\n",
       "    <tr>\n",
       "      <th>C01000455</th>\n",
       "      <td>NaN</td>\n",
       "      <td> 3</td>\n",
       "      <td>NaN</td>\n",
       "      <td>NaN</td>\n",
       "      <td>NaN</td>\n",
       "      <td>NaN</td>\n",
       "      <td> 10</td>\n",
       "      <td> 1</td>\n",
       "      <td>NaN</td>\n",
       "      <td>NaN</td>\n",
       "      <td>NaN</td>\n",
       "      <td> 0</td>\n",
       "      <td> False</td>\n",
       "      <td> False</td>\n",
       "    </tr>\n",
       "    <tr>\n",
       "      <th>C01000542</th>\n",
       "      <td>NaN</td>\n",
       "      <td> 3</td>\n",
       "      <td>  1</td>\n",
       "      <td>  2</td>\n",
       "      <td>  2</td>\n",
       "      <td>  3</td>\n",
       "      <td>  4</td>\n",
       "      <td> 1</td>\n",
       "      <td>  2</td>\n",
       "      <td>  0</td>\n",
       "      <td>  0</td>\n",
       "      <td> 3</td>\n",
       "      <td> False</td>\n",
       "      <td>  True</td>\n",
       "    </tr>\n",
       "    <tr>\n",
       "      <th>C01000633</th>\n",
       "      <td>NaN</td>\n",
       "      <td> 3</td>\n",
       "      <td>  1</td>\n",
       "      <td>  1</td>\n",
       "      <td>  1</td>\n",
       "      <td>  2</td>\n",
       "      <td>  9</td>\n",
       "      <td> 1</td>\n",
       "      <td>  1</td>\n",
       "      <td>  0</td>\n",
       "      <td>  0</td>\n",
       "      <td> 5</td>\n",
       "      <td>  True</td>\n",
       "      <td>  True</td>\n",
       "    </tr>\n",
       "  </tbody>\n",
       "</table>\n",
       "</div>"
      ],
      "text/plain": [
       "           ID  AGEGRP  RACE  GENDER  MRSTAT  EDUC  PLREG  SVLANG  BMI  SMKFRQ  \\\n",
       "ID                                                                              \n",
       "C01000060 NaN       3   NaN       2       1     1      8       1    1       0   \n",
       "C01000361 NaN       3     1       1       1     2      9       1    1       1   \n",
       "C01000455 NaN       3   NaN     NaN     NaN   NaN     10       1  NaN     NaN   \n",
       "C01000542 NaN       3     1       2       2     3      4       1    2       0   \n",
       "C01000633 NaN       3     1       1       1     2      9       1    1       0   \n",
       "\n",
       "           DEPRES  MCC AT-RISK CC-NEED  \n",
       "ID                                      \n",
       "C01000060       0    5    True    True  \n",
       "C01000361       0    2   False   False  \n",
       "C01000455     NaN    0   False   False  \n",
       "C01000542       0    3   False    True  \n",
       "C01000633       0    5    True    True  "
      ]
     },
     "execution_count": 17,
     "metadata": {},
     "output_type": "execute_result"
    }
   ],
   "source": [
    "profile.head()"
   ]
  },
  {
   "cell_type": "code",
   "execution_count": 18,
   "metadata": {
    "collapsed": false,
    "scrolled": true
   },
   "outputs": [
    {
     "data": {
      "text/html": [
       "<div style=\"max-height:1000px;max-width:1500px;overflow:auto;\">\n",
       "<table border=\"1\" class=\"dataframe\">\n",
       "  <thead>\n",
       "    <tr style=\"text-align: right;\">\n",
       "      <th></th>\n",
       "      <th>ID</th>\n",
       "      <th>AGE</th>\n",
       "      <th>RACE</th>\n",
       "      <th>GENDER</th>\n",
       "      <th>MARITALSTAT</th>\n",
       "      <th>EDUCATION</th>\n",
       "      <th>REGION</th>\n",
       "      <th>LANGUAGE</th>\n",
       "      <th>OBESE</th>\n",
       "      <th>SMOKER</th>\n",
       "      <th>DEPRESSION</th>\n",
       "      <th>MCC</th>\n",
       "      <th>AT-RISK</th>\n",
       "      <th>CC-NEED</th>\n",
       "    </tr>\n",
       "    <tr>\n",
       "      <th>ID</th>\n",
       "      <th></th>\n",
       "      <th></th>\n",
       "      <th></th>\n",
       "      <th></th>\n",
       "      <th></th>\n",
       "      <th></th>\n",
       "      <th></th>\n",
       "      <th></th>\n",
       "      <th></th>\n",
       "      <th></th>\n",
       "      <th></th>\n",
       "      <th></th>\n",
       "      <th></th>\n",
       "      <th></th>\n",
       "    </tr>\n",
       "  </thead>\n",
       "  <tbody>\n",
       "    <tr>\n",
       "      <th>C01000060</th>\n",
       "      <td>NaN</td>\n",
       "      <td> 3</td>\n",
       "      <td>NaN</td>\n",
       "      <td>  2</td>\n",
       "      <td>  1</td>\n",
       "      <td>  1</td>\n",
       "      <td>  8</td>\n",
       "      <td> 1</td>\n",
       "      <td>  1</td>\n",
       "      <td>  0</td>\n",
       "      <td>  0</td>\n",
       "      <td> 5</td>\n",
       "      <td>  True</td>\n",
       "      <td>  True</td>\n",
       "    </tr>\n",
       "    <tr>\n",
       "      <th>C01000361</th>\n",
       "      <td>NaN</td>\n",
       "      <td> 3</td>\n",
       "      <td>  1</td>\n",
       "      <td>  1</td>\n",
       "      <td>  1</td>\n",
       "      <td>  2</td>\n",
       "      <td>  9</td>\n",
       "      <td> 1</td>\n",
       "      <td>  1</td>\n",
       "      <td>  1</td>\n",
       "      <td>  0</td>\n",
       "      <td> 2</td>\n",
       "      <td> False</td>\n",
       "      <td> False</td>\n",
       "    </tr>\n",
       "    <tr>\n",
       "      <th>C01000455</th>\n",
       "      <td>NaN</td>\n",
       "      <td> 3</td>\n",
       "      <td>NaN</td>\n",
       "      <td>NaN</td>\n",
       "      <td>NaN</td>\n",
       "      <td>NaN</td>\n",
       "      <td> 10</td>\n",
       "      <td> 1</td>\n",
       "      <td>NaN</td>\n",
       "      <td>NaN</td>\n",
       "      <td>NaN</td>\n",
       "      <td> 0</td>\n",
       "      <td> False</td>\n",
       "      <td> False</td>\n",
       "    </tr>\n",
       "    <tr>\n",
       "      <th>C01000542</th>\n",
       "      <td>NaN</td>\n",
       "      <td> 3</td>\n",
       "      <td>  1</td>\n",
       "      <td>  2</td>\n",
       "      <td>  2</td>\n",
       "      <td>  3</td>\n",
       "      <td>  4</td>\n",
       "      <td> 1</td>\n",
       "      <td>  2</td>\n",
       "      <td>  0</td>\n",
       "      <td>  0</td>\n",
       "      <td> 3</td>\n",
       "      <td> False</td>\n",
       "      <td>  True</td>\n",
       "    </tr>\n",
       "    <tr>\n",
       "      <th>C01000633</th>\n",
       "      <td>NaN</td>\n",
       "      <td> 3</td>\n",
       "      <td>  1</td>\n",
       "      <td>  1</td>\n",
       "      <td>  1</td>\n",
       "      <td>  2</td>\n",
       "      <td>  9</td>\n",
       "      <td> 1</td>\n",
       "      <td>  1</td>\n",
       "      <td>  0</td>\n",
       "      <td>  0</td>\n",
       "      <td> 5</td>\n",
       "      <td>  True</td>\n",
       "      <td>  True</td>\n",
       "    </tr>\n",
       "  </tbody>\n",
       "</table>\n",
       "</div>"
      ],
      "text/plain": [
       "           ID  AGE  RACE  GENDER  MARITALSTAT  EDUCATION  REGION  LANGUAGE  \\\n",
       "ID                                                                           \n",
       "C01000060 NaN    3   NaN       2            1          1       8         1   \n",
       "C01000361 NaN    3     1       1            1          2       9         1   \n",
       "C01000455 NaN    3   NaN     NaN          NaN        NaN      10         1   \n",
       "C01000542 NaN    3     1       2            2          3       4         1   \n",
       "C01000633 NaN    3     1       1            1          2       9         1   \n",
       "\n",
       "           OBESE  SMOKER  DEPRESSION  MCC AT-RISK CC-NEED  \n",
       "ID                                                         \n",
       "C01000060      1       0           0    5    True    True  \n",
       "C01000361      1       1           0    2   False   False  \n",
       "C01000455    NaN     NaN         NaN    0   False   False  \n",
       "C01000542      2       0           0    3   False    True  \n",
       "C01000633      1       0           0    5    True    True  "
      ]
     },
     "execution_count": 18,
     "metadata": {},
     "output_type": "execute_result"
    }
   ],
   "source": [
    "#renames\n",
    "new_col_names = {\n",
    " 'AGEGRP':'AGE',\n",
    " 'MRSTAT':'MARITALSTAT',\n",
    " 'EDUC':'EDUCATION',\n",
    " 'PLREG':'REGION',\n",
    " 'SVLANG':'LANGUAGE',\n",
    " 'BMI':'OBESE',\n",
    " 'SMKFRQ':'SMOKER',\n",
    " 'DEPRES':'DEPRESSION'}\n",
    "profile = profile.rename(columns = new_col_names)\n",
    "profile.head()"
   ]
  },
  {
   "cell_type": "code",
   "execution_count": 19,
   "metadata": {
    "collapsed": false
   },
   "outputs": [],
   "source": [
    "values_to_labels = {'AGE':{1:'<65', 2: '65 to 74', 3:'>74'}, \n",
    "                    'RACE':{1:'White', 2:'Black', 3:'Other'}, \n",
    "                    'GENDER':{1:'M', 2:'F'}, \n",
    "                    'MARITALSTAT':{1:'Married', 2:'Non-Married'}, \n",
    "                    'EDUCATION':{1:'Less than HS/GED', 2:'HS/GED', 3:'Greater than HS/GED'},\n",
    "                    'REGION':{1:'Region 1 (Boston)', 2:'Region 2 (New York)', 3:'Region 3 (Philadelphia)', 4:'Region 4 (Atlanta)', 5:'Region 5 (Chicago)', 6:'Region 6 (Dallas)', 7:'Region 7 (Kansas City)', 8:'Region 8 (Denver)', 9:'Region 9 (San Francisco)', 10:'Region 10 (Seattle)'},\n",
    "                    'LANGUAGE':{1:'English', 2:'Spanish', 3:np.nan, 4:'Chinese'},\n",
    "                    'OBESE':{1:'Not obese (BMI < 30)', 2:'Obese (BMI ≥ 30)'}\n",
    "                    }\n",
    "\n",
    "profile = profile.replace(values_to_labels)"
   ]
  },
  {
   "cell_type": "code",
   "execution_count": 24,
   "metadata": {
    "collapsed": false,
    "scrolled": true
   },
   "outputs": [
    {
     "data": {
      "text/html": [
       "<div style=\"max-height:1000px;max-width:1500px;overflow:auto;\">\n",
       "<table border=\"1\" class=\"dataframe\">\n",
       "  <thead>\n",
       "    <tr style=\"text-align: right;\">\n",
       "      <th></th>\n",
       "      <th>ID</th>\n",
       "      <th>AGE</th>\n",
       "      <th>RACE</th>\n",
       "      <th>GENDER</th>\n",
       "      <th>MARITALSTAT</th>\n",
       "      <th>EDUCATION</th>\n",
       "      <th>REGION</th>\n",
       "      <th>LANGUAGE</th>\n",
       "      <th>OBESE</th>\n",
       "      <th>SMOKER</th>\n",
       "      <th>DEPRESSION</th>\n",
       "      <th>MCC</th>\n",
       "      <th>AT-RISK</th>\n",
       "      <th>CC-NEED</th>\n",
       "    </tr>\n",
       "    <tr>\n",
       "      <th>ID</th>\n",
       "      <th></th>\n",
       "      <th></th>\n",
       "      <th></th>\n",
       "      <th></th>\n",
       "      <th></th>\n",
       "      <th></th>\n",
       "      <th></th>\n",
       "      <th></th>\n",
       "      <th></th>\n",
       "      <th></th>\n",
       "      <th></th>\n",
       "      <th></th>\n",
       "      <th></th>\n",
       "      <th></th>\n",
       "    </tr>\n",
       "  </thead>\n",
       "  <tbody>\n",
       "    <tr>\n",
       "      <th>C01000060</th>\n",
       "      <td>NaN</td>\n",
       "      <td> &gt;74</td>\n",
       "      <td>   NaN</td>\n",
       "      <td>   F</td>\n",
       "      <td>     Married</td>\n",
       "      <td>    Less than HS/GED</td>\n",
       "      <td>        Region 8 (Denver)</td>\n",
       "      <td> English</td>\n",
       "      <td> Not obese (BMI &lt; 30)</td>\n",
       "      <td>  0</td>\n",
       "      <td>  0</td>\n",
       "      <td> 5</td>\n",
       "      <td>  True</td>\n",
       "      <td>  True</td>\n",
       "    </tr>\n",
       "    <tr>\n",
       "      <th>C01000361</th>\n",
       "      <td>NaN</td>\n",
       "      <td> &gt;74</td>\n",
       "      <td> White</td>\n",
       "      <td>   M</td>\n",
       "      <td>     Married</td>\n",
       "      <td>              HS/GED</td>\n",
       "      <td> Region 9 (San Francisco)</td>\n",
       "      <td> English</td>\n",
       "      <td> Not obese (BMI &lt; 30)</td>\n",
       "      <td>  1</td>\n",
       "      <td>  0</td>\n",
       "      <td> 2</td>\n",
       "      <td> False</td>\n",
       "      <td> False</td>\n",
       "    </tr>\n",
       "    <tr>\n",
       "      <th>C01000455</th>\n",
       "      <td>NaN</td>\n",
       "      <td> &gt;74</td>\n",
       "      <td>   NaN</td>\n",
       "      <td> NaN</td>\n",
       "      <td>         NaN</td>\n",
       "      <td>                 NaN</td>\n",
       "      <td>      Region 10 (Seattle)</td>\n",
       "      <td> English</td>\n",
       "      <td>                  NaN</td>\n",
       "      <td>NaN</td>\n",
       "      <td>NaN</td>\n",
       "      <td> 0</td>\n",
       "      <td> False</td>\n",
       "      <td> False</td>\n",
       "    </tr>\n",
       "    <tr>\n",
       "      <th>C01000542</th>\n",
       "      <td>NaN</td>\n",
       "      <td> &gt;74</td>\n",
       "      <td> White</td>\n",
       "      <td>   F</td>\n",
       "      <td> Non-Married</td>\n",
       "      <td> Greater than HS/GED</td>\n",
       "      <td>       Region 4 (Atlanta)</td>\n",
       "      <td> English</td>\n",
       "      <td>     Obese (BMI ≥ 30)</td>\n",
       "      <td>  0</td>\n",
       "      <td>  0</td>\n",
       "      <td> 3</td>\n",
       "      <td> False</td>\n",
       "      <td>  True</td>\n",
       "    </tr>\n",
       "    <tr>\n",
       "      <th>C01000633</th>\n",
       "      <td>NaN</td>\n",
       "      <td> &gt;74</td>\n",
       "      <td> White</td>\n",
       "      <td>   M</td>\n",
       "      <td>     Married</td>\n",
       "      <td>              HS/GED</td>\n",
       "      <td> Region 9 (San Francisco)</td>\n",
       "      <td> English</td>\n",
       "      <td> Not obese (BMI &lt; 30)</td>\n",
       "      <td>  0</td>\n",
       "      <td>  0</td>\n",
       "      <td> 5</td>\n",
       "      <td>  True</td>\n",
       "      <td>  True</td>\n",
       "    </tr>\n",
       "  </tbody>\n",
       "</table>\n",
       "</div>"
      ],
      "text/plain": [
       "           ID  AGE   RACE GENDER  MARITALSTAT            EDUCATION  \\\n",
       "ID                                                                   \n",
       "C01000060 NaN  >74    NaN      F      Married     Less than HS/GED   \n",
       "C01000361 NaN  >74  White      M      Married               HS/GED   \n",
       "C01000455 NaN  >74    NaN    NaN          NaN                  NaN   \n",
       "C01000542 NaN  >74  White      F  Non-Married  Greater than HS/GED   \n",
       "C01000633 NaN  >74  White      M      Married               HS/GED   \n",
       "\n",
       "                             REGION LANGUAGE                 OBESE  SMOKER  \\\n",
       "ID                                                                           \n",
       "C01000060         Region 8 (Denver)  English  Not obese (BMI < 30)       0   \n",
       "C01000361  Region 9 (San Francisco)  English  Not obese (BMI < 30)       1   \n",
       "C01000455       Region 10 (Seattle)  English                   NaN     NaN   \n",
       "C01000542        Region 4 (Atlanta)  English      Obese (BMI ≥ 30)       0   \n",
       "C01000633  Region 9 (San Francisco)  English  Not obese (BMI < 30)       0   \n",
       "\n",
       "           DEPRESSION  MCC AT-RISK CC-NEED  \n",
       "ID                                          \n",
       "C01000060           0    5    True    True  \n",
       "C01000361           0    2   False   False  \n",
       "C01000455         NaN    0   False   False  \n",
       "C01000542           0    3   False    True  \n",
       "C01000633           0    5    True    True  "
      ]
     },
     "execution_count": 24,
     "metadata": {},
     "output_type": "execute_result"
    }
   ],
   "source": [
    "profile.head()"
   ]
  },
  {
   "cell_type": "markdown",
   "metadata": {},
   "source": [
    "*Look for general patterns in data spread*"
   ]
  },
  {
   "cell_type": "code",
   "execution_count": 21,
   "metadata": {
    "collapsed": false
   },
   "outputs": [
    {
     "data": {
      "text/html": [
       "<div style=\"max-height:1000px;max-width:1500px;overflow:auto;\">\n",
       "<table border=\"1\" class=\"dataframe\">\n",
       "  <thead>\n",
       "    <tr style=\"text-align: right;\">\n",
       "      <th></th>\n",
       "      <th>ID</th>\n",
       "      <th>SMOKER</th>\n",
       "      <th>DEPRESSION</th>\n",
       "      <th>MCC</th>\n",
       "      <th>AT-RISK</th>\n",
       "      <th>CC-NEED</th>\n",
       "    </tr>\n",
       "  </thead>\n",
       "  <tbody>\n",
       "    <tr>\n",
       "      <th>count</th>\n",
       "      <td>  0</td>\n",
       "      <td> 269228.000000</td>\n",
       "      <td> 268673.000000</td>\n",
       "      <td> 303512.000000</td>\n",
       "      <td>    303512</td>\n",
       "      <td>    303512</td>\n",
       "    </tr>\n",
       "    <tr>\n",
       "      <th>mean</th>\n",
       "      <td>NaN</td>\n",
       "      <td>      0.133712</td>\n",
       "      <td>      0.261489</td>\n",
       "      <td>      2.841835</td>\n",
       "      <td> 0.3203004</td>\n",
       "      <td> 0.5022174</td>\n",
       "    </tr>\n",
       "    <tr>\n",
       "      <th>std</th>\n",
       "      <td>NaN</td>\n",
       "      <td>      0.340343</td>\n",
       "      <td>      0.439446</td>\n",
       "      <td>      2.313805</td>\n",
       "      <td> 0.4665927</td>\n",
       "      <td> 0.4999959</td>\n",
       "    </tr>\n",
       "    <tr>\n",
       "      <th>min</th>\n",
       "      <td>NaN</td>\n",
       "      <td>      0.000000</td>\n",
       "      <td>      0.000000</td>\n",
       "      <td>      0.000000</td>\n",
       "      <td>     False</td>\n",
       "      <td>     False</td>\n",
       "    </tr>\n",
       "    <tr>\n",
       "      <th>25%</th>\n",
       "      <td>NaN</td>\n",
       "      <td>      0.000000</td>\n",
       "      <td>      0.000000</td>\n",
       "      <td>      1.000000</td>\n",
       "      <td>         0</td>\n",
       "      <td>         0</td>\n",
       "    </tr>\n",
       "    <tr>\n",
       "      <th>50%</th>\n",
       "      <td>NaN</td>\n",
       "      <td>      0.000000</td>\n",
       "      <td>      0.000000</td>\n",
       "      <td>      3.000000</td>\n",
       "      <td>         0</td>\n",
       "      <td>         1</td>\n",
       "    </tr>\n",
       "    <tr>\n",
       "      <th>75%</th>\n",
       "      <td>NaN</td>\n",
       "      <td>      0.000000</td>\n",
       "      <td>      1.000000</td>\n",
       "      <td>      4.000000</td>\n",
       "      <td>         1</td>\n",
       "      <td>         1</td>\n",
       "    </tr>\n",
       "    <tr>\n",
       "      <th>max</th>\n",
       "      <td>NaN</td>\n",
       "      <td>      1.000000</td>\n",
       "      <td>      1.000000</td>\n",
       "      <td>     18.000000</td>\n",
       "      <td>      True</td>\n",
       "      <td>      True</td>\n",
       "    </tr>\n",
       "  </tbody>\n",
       "</table>\n",
       "</div>"
      ],
      "text/plain": [
       "       ID         SMOKER     DEPRESSION            MCC    AT-RISK    CC-NEED\n",
       "count   0  269228.000000  268673.000000  303512.000000     303512     303512\n",
       "mean  NaN       0.133712       0.261489       2.841835  0.3203004  0.5022174\n",
       "std   NaN       0.340343       0.439446       2.313805  0.4665927  0.4999959\n",
       "min   NaN       0.000000       0.000000       0.000000      False      False\n",
       "25%   NaN       0.000000       0.000000       1.000000          0          0\n",
       "50%   NaN       0.000000       0.000000       3.000000          0          1\n",
       "75%   NaN       0.000000       1.000000       4.000000          1          1\n",
       "max   NaN       1.000000       1.000000      18.000000       True       True"
      ]
     },
     "execution_count": 21,
     "metadata": {},
     "output_type": "execute_result"
    }
   ],
   "source": [
    "profile.describe()"
   ]
  },
  {
   "cell_type": "code",
   "execution_count": 23,
   "metadata": {
    "collapsed": false,
    "scrolled": true
   },
   "outputs": [
    {
     "ename": "ValueError",
     "evalue": "x must have at least one data point",
     "output_type": "error",
     "traceback": [
      "\u001b[0;31m---------------------------------------------------------------------------\u001b[0m",
      "\u001b[0;31mValueError\u001b[0m                                Traceback (most recent call last)",
      "\u001b[0;32m<ipython-input-23-7dc312bb39f0>\u001b[0m in \u001b[0;36m<module>\u001b[0;34m()\u001b[0m\n\u001b[0;32m----> 1\u001b[0;31m \u001b[0mprofile\u001b[0m\u001b[0;34m.\u001b[0m\u001b[0mhist\u001b[0m\u001b[0;34m(\u001b[0m\u001b[0;34m)\u001b[0m\u001b[0;34m;\u001b[0m\u001b[0;34m\u001b[0m\u001b[0m\n\u001b[0m",
      "\u001b[0;32m/Users/ceslee-work/anaconda/lib/python2.7/site-packages/pandas/tools/plotting.pyc\u001b[0m in \u001b[0;36mhist_frame\u001b[0;34m(data, column, by, grid, xlabelsize, xrot, ylabelsize, yrot, ax, sharex, sharey, figsize, layout, bins, **kwds)\u001b[0m\n\u001b[1;32m   2755\u001b[0m     \u001b[0;32mfor\u001b[0m \u001b[0mi\u001b[0m\u001b[0;34m,\u001b[0m \u001b[0mcol\u001b[0m \u001b[0;32min\u001b[0m \u001b[0menumerate\u001b[0m\u001b[0;34m(\u001b[0m\u001b[0mcom\u001b[0m\u001b[0;34m.\u001b[0m\u001b[0m_try_sort\u001b[0m\u001b[0;34m(\u001b[0m\u001b[0mdata\u001b[0m\u001b[0;34m.\u001b[0m\u001b[0mcolumns\u001b[0m\u001b[0;34m)\u001b[0m\u001b[0;34m)\u001b[0m\u001b[0;34m:\u001b[0m\u001b[0;34m\u001b[0m\u001b[0m\n\u001b[1;32m   2756\u001b[0m         \u001b[0max\u001b[0m \u001b[0;34m=\u001b[0m \u001b[0m_axes\u001b[0m\u001b[0;34m[\u001b[0m\u001b[0mi\u001b[0m\u001b[0;34m]\u001b[0m\u001b[0;34m\u001b[0m\u001b[0m\n\u001b[0;32m-> 2757\u001b[0;31m         \u001b[0max\u001b[0m\u001b[0;34m.\u001b[0m\u001b[0mhist\u001b[0m\u001b[0;34m(\u001b[0m\u001b[0mdata\u001b[0m\u001b[0;34m[\u001b[0m\u001b[0mcol\u001b[0m\u001b[0;34m]\u001b[0m\u001b[0;34m.\u001b[0m\u001b[0mdropna\u001b[0m\u001b[0;34m(\u001b[0m\u001b[0;34m)\u001b[0m\u001b[0;34m.\u001b[0m\u001b[0mvalues\u001b[0m\u001b[0;34m,\u001b[0m \u001b[0mbins\u001b[0m\u001b[0;34m=\u001b[0m\u001b[0mbins\u001b[0m\u001b[0;34m,\u001b[0m \u001b[0;34m**\u001b[0m\u001b[0mkwds\u001b[0m\u001b[0;34m)\u001b[0m\u001b[0;34m\u001b[0m\u001b[0m\n\u001b[0m\u001b[1;32m   2758\u001b[0m         \u001b[0max\u001b[0m\u001b[0;34m.\u001b[0m\u001b[0mset_title\u001b[0m\u001b[0;34m(\u001b[0m\u001b[0mcol\u001b[0m\u001b[0;34m)\u001b[0m\u001b[0;34m\u001b[0m\u001b[0m\n\u001b[1;32m   2759\u001b[0m         \u001b[0max\u001b[0m\u001b[0;34m.\u001b[0m\u001b[0mgrid\u001b[0m\u001b[0;34m(\u001b[0m\u001b[0mgrid\u001b[0m\u001b[0;34m)\u001b[0m\u001b[0;34m\u001b[0m\u001b[0m\n",
      "\u001b[0;32m/Users/ceslee-work/anaconda/lib/python2.7/site-packages/matplotlib/axes/_axes.pyc\u001b[0m in \u001b[0;36mhist\u001b[0;34m(self, x, bins, range, normed, weights, cumulative, bottom, histtype, align, orientation, rwidth, log, color, label, stacked, **kwargs)\u001b[0m\n\u001b[1;32m   5595\u001b[0m         \u001b[0mflat\u001b[0m \u001b[0;34m=\u001b[0m \u001b[0mnp\u001b[0m\u001b[0;34m.\u001b[0m\u001b[0mravel\u001b[0m\u001b[0;34m(\u001b[0m\u001b[0mx\u001b[0m\u001b[0;34m)\u001b[0m\u001b[0;34m\u001b[0m\u001b[0m\n\u001b[1;32m   5596\u001b[0m         \u001b[0;32mif\u001b[0m \u001b[0mlen\u001b[0m\u001b[0;34m(\u001b[0m\u001b[0mflat\u001b[0m\u001b[0;34m)\u001b[0m \u001b[0;34m==\u001b[0m \u001b[0;36m0\u001b[0m\u001b[0;34m:\u001b[0m\u001b[0;34m\u001b[0m\u001b[0m\n\u001b[0;32m-> 5597\u001b[0;31m             \u001b[0;32mraise\u001b[0m \u001b[0mValueError\u001b[0m\u001b[0;34m(\u001b[0m\u001b[0;34m\"x must have at least one data point\"\u001b[0m\u001b[0;34m)\u001b[0m\u001b[0;34m\u001b[0m\u001b[0m\n\u001b[0m\u001b[1;32m   5598\u001b[0m         \u001b[0;32melif\u001b[0m \u001b[0mlen\u001b[0m\u001b[0;34m(\u001b[0m\u001b[0mflat\u001b[0m\u001b[0;34m)\u001b[0m \u001b[0;34m==\u001b[0m \u001b[0;36m1\u001b[0m \u001b[0;32mand\u001b[0m \u001b[0;32mnot\u001b[0m \u001b[0mbinsgiven\u001b[0m\u001b[0;34m:\u001b[0m\u001b[0;34m\u001b[0m\u001b[0m\n\u001b[1;32m   5599\u001b[0m             raise ValueError(\n",
      "\u001b[0;31mValueError\u001b[0m: x must have at least one data point"
     ]
    },
    {
     "data": {
      "image/png": "[encoded data removed]",
      "text/plain": [
       "<matplotlib.figure.Figure at 0x132235dd0>"
      ]
     },
     "metadata": {},
     "output_type": "display_data"
    }
   ],
   "source": [
    "profile.hist();"
   ]
  },
  {
   "cell_type": "code",
   "execution_count": null,
   "metadata": {
    "collapsed": true
   },
   "outputs": [],
   "source": [
    "from sklearn import preprocessing\n",
    "le = preprocessing.LabelEncoder()\n",
    "\n",
    "def convert_labels(data):\n",
    "    for col_name in data.columns:\n",
    "        col = data[col_name]\n",
    "        if col.dtype == 'O':\n",
    "            labels = col.unique()\n",
    "            le.fit(labels)\n",
    "            data[col_name] = le.transform(col)\n",
    "    return data"
   ]
  },
  {
   "cell_type": "code",
   "execution_count": null,
   "metadata": {
    "collapsed": false,
    "scrolled": false
   },
   "outputs": [],
   "source": [
    "profiles_converted = convert_labels(profile.dropna())"
   ]
  },
  {
   "cell_type": "code",
   "execution_count": null,
   "metadata": {
    "collapsed": false,
    "scrolled": true
   },
   "outputs": [],
   "source": [
    "profiles_converted.head()"
   ]
  },
  {
   "cell_type": "markdown",
   "metadata": {},
   "source": [
    "*Make NEEDS table: (1) roll-up additional health questions that remain: ADLs (Activities of Daily Living), etc."
   ]
  },
  {
   "cell_type": "code",
   "execution_count": 26,
   "metadata": {
    "collapsed": false
   },
   "outputs": [],
   "source": [
    "#list was somewhat cherry picked so come back to left out vars.\n",
    "# needs = data.loc[:,['SCLACT', 'DIFBTH', 'DIFDRS', 'DIFEAT', 'DIFCHR', 'DIFWLK', 'DIFTOL', 'DIFPRM', 'DIFMON', 'DIFMED', 'BLIND', 'DEAF', 'DIFCON', 'DIFERR', 'MEMINT', 'PNIACT']]\n",
    "\n",
    "emotional = (data.loc[:, ['FELTNP', 'FELTSD']]).replace({1:False, 2:True, 3:True, 4:True})\n",
    "pain = data['PNIACT'].replace({1:False, 2:True, 3:True, 4:True, 5:True})\n",
    "social = data['SCLACT'].replace({1:True, 2:True, 3:True, 4:True, 5:False})\n",
    "adl_1 = data.loc[:, ['DIFBTH', 'DIFDRS', 'DIFEAT', 'DIFCHR', 'DIFWLK', 'DIFTOL', 'DIFPRM', 'DIFMON', 'DIFMED']].replace({1:False, 2:True, 3:True})\n",
    "adl_2 = data.loc[:, ['BLIND', 'DEAF', 'DIFCON', 'DIFERR']].replace({1:True, 2:False})\n",
    "needs = pd.concat([emotional, pain, social, adl_1, adl_2], axis=1)"
   ]
  },
  {
   "cell_type": "code",
   "execution_count": 27,
   "metadata": {
    "collapsed": false,
    "scrolled": true
   },
   "outputs": [
    {
     "data": {
      "text/html": [
       "<div style=\"max-height:1000px;max-width:1500px;overflow:auto;\">\n",
       "<table border=\"1\" class=\"dataframe\">\n",
       "  <thead>\n",
       "    <tr style=\"text-align: right;\">\n",
       "      <th></th>\n",
       "      <th>FELTNP</th>\n",
       "      <th>FELTSD</th>\n",
       "      <th>PNIACT</th>\n",
       "      <th>SCLACT</th>\n",
       "      <th>DIFBTH</th>\n",
       "      <th>DIFDRS</th>\n",
       "      <th>DIFEAT</th>\n",
       "      <th>DIFCHR</th>\n",
       "      <th>DIFWLK</th>\n",
       "      <th>DIFTOL</th>\n",
       "      <th>DIFPRM</th>\n",
       "      <th>DIFMON</th>\n",
       "      <th>DIFMED</th>\n",
       "      <th>BLIND</th>\n",
       "      <th>DEAF</th>\n",
       "      <th>DIFCON</th>\n",
       "      <th>DIFERR</th>\n",
       "    </tr>\n",
       "    <tr>\n",
       "      <th>ID</th>\n",
       "      <th></th>\n",
       "      <th></th>\n",
       "      <th></th>\n",
       "      <th></th>\n",
       "      <th></th>\n",
       "      <th></th>\n",
       "      <th></th>\n",
       "      <th></th>\n",
       "      <th></th>\n",
       "      <th></th>\n",
       "      <th></th>\n",
       "      <th></th>\n",
       "      <th></th>\n",
       "      <th></th>\n",
       "      <th></th>\n",
       "      <th></th>\n",
       "      <th></th>\n",
       "    </tr>\n",
       "  </thead>\n",
       "  <tbody>\n",
       "    <tr>\n",
       "      <th>C01000060</th>\n",
       "      <td>  0</td>\n",
       "      <td>  0</td>\n",
       "      <td>  1</td>\n",
       "      <td>  1</td>\n",
       "      <td>  0</td>\n",
       "      <td>  0</td>\n",
       "      <td>  0</td>\n",
       "      <td>  1</td>\n",
       "      <td>  1</td>\n",
       "      <td>  0</td>\n",
       "      <td>  0</td>\n",
       "      <td>  0</td>\n",
       "      <td>  0</td>\n",
       "      <td>  0</td>\n",
       "      <td>  1</td>\n",
       "      <td>  0</td>\n",
       "      <td>  0</td>\n",
       "    </tr>\n",
       "    <tr>\n",
       "      <th>C01000361</th>\n",
       "      <td>  0</td>\n",
       "      <td>  0</td>\n",
       "      <td>  0</td>\n",
       "      <td>  0</td>\n",
       "      <td>  0</td>\n",
       "      <td>  0</td>\n",
       "      <td>  0</td>\n",
       "      <td>  0</td>\n",
       "      <td>  1</td>\n",
       "      <td>  0</td>\n",
       "      <td>  0</td>\n",
       "      <td>  0</td>\n",
       "      <td>  0</td>\n",
       "      <td>  0</td>\n",
       "      <td>  0</td>\n",
       "      <td>  0</td>\n",
       "      <td>  0</td>\n",
       "    </tr>\n",
       "    <tr>\n",
       "      <th>C01000455</th>\n",
       "      <td>NaN</td>\n",
       "      <td>NaN</td>\n",
       "      <td>NaN</td>\n",
       "      <td>NaN</td>\n",
       "      <td>NaN</td>\n",
       "      <td>NaN</td>\n",
       "      <td>NaN</td>\n",
       "      <td>NaN</td>\n",
       "      <td>NaN</td>\n",
       "      <td>NaN</td>\n",
       "      <td>NaN</td>\n",
       "      <td>NaN</td>\n",
       "      <td>NaN</td>\n",
       "      <td>NaN</td>\n",
       "      <td>NaN</td>\n",
       "      <td>NaN</td>\n",
       "      <td>NaN</td>\n",
       "    </tr>\n",
       "    <tr>\n",
       "      <th>C01000542</th>\n",
       "      <td>  0</td>\n",
       "      <td>  0</td>\n",
       "      <td>  1</td>\n",
       "      <td>  1</td>\n",
       "      <td>  0</td>\n",
       "      <td>  0</td>\n",
       "      <td>  0</td>\n",
       "      <td>  1</td>\n",
       "      <td>  1</td>\n",
       "      <td>  0</td>\n",
       "      <td>  0</td>\n",
       "      <td>  0</td>\n",
       "      <td>  0</td>\n",
       "      <td>  0</td>\n",
       "      <td>  0</td>\n",
       "      <td>  0</td>\n",
       "      <td>  1</td>\n",
       "    </tr>\n",
       "    <tr>\n",
       "      <th>C01000633</th>\n",
       "      <td>  1</td>\n",
       "      <td>  1</td>\n",
       "      <td>  1</td>\n",
       "      <td>  1</td>\n",
       "      <td>  0</td>\n",
       "      <td>  1</td>\n",
       "      <td>  0</td>\n",
       "      <td>  1</td>\n",
       "      <td>  1</td>\n",
       "      <td>  0</td>\n",
       "      <td>  1</td>\n",
       "      <td>  0</td>\n",
       "      <td>  1</td>\n",
       "      <td>  0</td>\n",
       "      <td>  1</td>\n",
       "      <td>  1</td>\n",
       "      <td>  1</td>\n",
       "    </tr>\n",
       "  </tbody>\n",
       "</table>\n",
       "</div>"
      ],
      "text/plain": [
       "           FELTNP  FELTSD  PNIACT  SCLACT  DIFBTH  DIFDRS  DIFEAT  DIFCHR  \\\n",
       "ID                                                                          \n",
       "C01000060       0       0       1       1       0       0       0       1   \n",
       "C01000361       0       0       0       0       0       0       0       0   \n",
       "C01000455     NaN     NaN     NaN     NaN     NaN     NaN     NaN     NaN   \n",
       "C01000542       0       0       1       1       0       0       0       1   \n",
       "C01000633       1       1       1       1       0       1       0       1   \n",
       "\n",
       "           DIFWLK  DIFTOL  DIFPRM  DIFMON  DIFMED  BLIND  DEAF  DIFCON  DIFERR  \n",
       "ID                                                                              \n",
       "C01000060       1       0       0       0       0      0     1       0       0  \n",
       "C01000361       1       0       0       0       0      0     0       0       0  \n",
       "C01000455     NaN     NaN     NaN     NaN     NaN    NaN   NaN     NaN     NaN  \n",
       "C01000542       1       0       0       0       0      0     0       0       1  \n",
       "C01000633       1       0       1       0       1      0     1       1       1  "
      ]
     },
     "execution_count": 27,
     "metadata": {},
     "output_type": "execute_result"
    }
   ],
   "source": [
    "needs.head()"
   ]
  },
  {
   "cell_type": "markdown",
   "metadata": {},
   "source": [
    "*Make WELLNESS table: (1) roll-up 8 questions into 6 health domains."
   ]
  },
  {
   "cell_type": "code",
   "execution_count": 28,
   "metadata": {
    "collapsed": false
   },
   "outputs": [
    {
     "data": {
      "text/plain": [
       "Index([u'AGEGRP', u'RACE', u'GENDER', u'MRSTAT', u'EDUC', u'BMI', u'GENHTH', u'MODACT', u'CLMBSV', u'PACMPL', u'PLMTKW', u'EACMPL', u'ENTCRF', u'PNINTF', u'PCEFUL', u'ENERGY', u'BLSAD', u'SCLACT', u'ASHLTH', u'ASEHLTH', u'DIFBTH', u'DIFDRS', u'DIFEAT', u'DIFCHR', u'DIFWLK', u'DIFTOL', u'DIFPRM', u'DIFMON', u'DIFMED', u'PHYHTH', u'MENHTH', u'PORHTH', u'BLIND', u'DEAF', u'DIFCON', u'DIFERR', u'MEMINT', u'HIGHBP', u'ANGCAD', u'CHF', u'AMI', u'OTHHRT', u'STROKE', u'COPD_E', u'GI_ETC', u'ATHHIP', u'ATHHAN', u'OSTEOPO', u'SCIATC', u'DIABET', u'DEPRES', u'ANYCAN', u'COLNCA', u'LUNGCA', u'BRSTCA', u'PROSCA', u'OTHCAN', u'PNIACT', u'PNISOC', u'AVGPN', u'FELTNP', u'FELTSD', u'CMPHTH', u'SMKFRQ', u'URNLKG', u'URNMAG', u'URNDOC', u'URNTRT', u'PAOTLK', u'PAOADV', u'BALTLK', u'FELL12MO', u'BAL12MO', u'FALLTLK', u'OSTTEST', u'WHOCMP', u'SRVDSP', u'RNDNUM', u'PCTCMP', u'COHORT', u'PLREG', u'SVLANG', u'MCC', u'AT-RISK', u'CC-NEED'], dtype='object')"
      ]
     },
     "execution_count": 28,
     "metadata": {},
     "output_type": "execute_result"
    }
   ],
   "source": [
    "data.columns"
   ]
  },
  {
   "cell_type": "code",
   "execution_count": 42,
   "metadata": {
    "collapsed": false
   },
   "outputs": [
    {
     "data": {
      "text/html": [
       "<div style=\"max-height:1000px;max-width:1500px;overflow:auto;\">\n",
       "<table border=\"1\" class=\"dataframe\">\n",
       "  <thead>\n",
       "    <tr style=\"text-align: right;\">\n",
       "      <th></th>\n",
       "      <th>PNINTF</th>\n",
       "      <th>GENHTH</th>\n",
       "      <th>ENERGY</th>\n",
       "      <th>SCLACT</th>\n",
       "      <th>Physical Functioning</th>\n",
       "      <th>Role Physical</th>\n",
       "      <th>Role Emotional</th>\n",
       "      <th>Mental Health</th>\n",
       "    </tr>\n",
       "    <tr>\n",
       "      <th>ID</th>\n",
       "      <th></th>\n",
       "      <th></th>\n",
       "      <th></th>\n",
       "      <th></th>\n",
       "      <th></th>\n",
       "      <th></th>\n",
       "      <th></th>\n",
       "      <th></th>\n",
       "    </tr>\n",
       "  </thead>\n",
       "  <tbody>\n",
       "    <tr>\n",
       "      <th>C01000060</th>\n",
       "      <td>  3</td>\n",
       "      <td>  4</td>\n",
       "      <td>  5</td>\n",
       "      <td>  1</td>\n",
       "      <td> 2.0</td>\n",
       "      <td> 4.0</td>\n",
       "      <td>  3</td>\n",
       "      <td> 2.5</td>\n",
       "    </tr>\n",
       "    <tr>\n",
       "      <th>C01000361</th>\n",
       "      <td>  2</td>\n",
       "      <td>  3</td>\n",
       "      <td>  4</td>\n",
       "      <td>  0</td>\n",
       "      <td> 0.5</td>\n",
       "      <td> 1.5</td>\n",
       "      <td>  1</td>\n",
       "      <td> 1.0</td>\n",
       "    </tr>\n",
       "    <tr>\n",
       "      <th>C01000455</th>\n",
       "      <td>NaN</td>\n",
       "      <td>NaN</td>\n",
       "      <td>NaN</td>\n",
       "      <td>NaN</td>\n",
       "      <td> NaN</td>\n",
       "      <td> NaN</td>\n",
       "      <td>NaN</td>\n",
       "      <td> NaN</td>\n",
       "    </tr>\n",
       "    <tr>\n",
       "      <th>C01000542</th>\n",
       "      <td>  2</td>\n",
       "      <td>  3</td>\n",
       "      <td>  6</td>\n",
       "      <td>  1</td>\n",
       "      <td> 2.0</td>\n",
       "      <td> 2.5</td>\n",
       "      <td>  1</td>\n",
       "      <td> 1.0</td>\n",
       "    </tr>\n",
       "    <tr>\n",
       "      <th>C01000633</th>\n",
       "      <td>  5</td>\n",
       "      <td>  5</td>\n",
       "      <td>  6</td>\n",
       "      <td>  3</td>\n",
       "      <td> 0.0</td>\n",
       "      <td> 5.0</td>\n",
       "      <td>  5</td>\n",
       "      <td> 4.0</td>\n",
       "    </tr>\n",
       "  </tbody>\n",
       "</table>\n",
       "</div>"
      ],
      "text/plain": [
       "           PNINTF  GENHTH  ENERGY  SCLACT  Physical Functioning  \\\n",
       "ID                                                                \n",
       "C01000060       3       4       5       1                   2.0   \n",
       "C01000361       2       3       4       0                   0.5   \n",
       "C01000455     NaN     NaN     NaN     NaN                   NaN   \n",
       "C01000542       2       3       6       1                   2.0   \n",
       "C01000633       5       5       6       3                   0.0   \n",
       "\n",
       "           Role Physical  Role Emotional  Mental Health  \n",
       "ID                                                       \n",
       "C01000060            4.0               3            2.5  \n",
       "C01000361            1.5               1            1.0  \n",
       "C01000455            NaN             NaN            NaN  \n",
       "C01000542            2.5               1            1.0  \n",
       "C01000633            5.0               5            4.0  "
      ]
     },
     "execution_count": 42,
     "metadata": {},
     "output_type": "execute_result"
    }
   ],
   "source": [
    "wellness = data.loc[:,['PNINTF', 'GENHTH', 'ENERGY', 'SCLACT']]\n",
    "#calc new cols\n",
    "wellness['Physical Functioning'] = ((3 - data['MODACT']) + (3 - data['CLMBSV']))/2\n",
    "wellness['Role Physical'] = (data['PACMPL'] + data['PLMTKW'])/2\n",
    "wellness['Role Emotional'] = (data['EACMPL'] + data['ENTCRF'])/2\n",
    "#reorder responses so that biggest gaps/needs are ascending ordered\n",
    "wellness['Mental Health'] = (data['PCEFUL'] + (6 - data['BLSAD']))/2\n",
    "wellness['SCLACT'] = (5 - wellness['SCLACT'])\n",
    "\n",
    "wellness.head()"
   ]
  },
  {
   "cell_type": "code",
   "execution_count": 36,
   "metadata": {
    "collapsed": false
   },
   "outputs": [],
   "source": [
    "#reorder cols + renames\n",
    "new_col_names = {\n",
    " 'Physical Functioning':'Physical Functioning',\n",
    " 'Role Physical':'Role Physical',\n",
    " 'PNINTF': 'Bodily Pain',\n",
    " 'GENHTH': 'General Health',\n",
    " 'ENERGY': 'Vitality',\n",
    " 'SCLACT':'Social Functioning',\n",
    " 'Role Emotional':'Role Emotional',\n",
    " 'Mental Health':'Mental Health'\n",
    " }\n",
    "wellness = wellness.rename(columns = new_col_names)\n",
    "\n",
    "#scale"
   ]
  },
  {
   "cell_type": "code",
   "execution_count": 37,
   "metadata": {
    "collapsed": false
   },
   "outputs": [
    {
     "data": {
      "text/html": [
       "<div style=\"max-height:1000px;max-width:1500px;overflow:auto;\">\n",
       "<table border=\"1\" class=\"dataframe\">\n",
       "  <thead>\n",
       "    <tr style=\"text-align: right;\">\n",
       "      <th></th>\n",
       "      <th>Bodily Pain</th>\n",
       "      <th>General Health</th>\n",
       "      <th>Vitality</th>\n",
       "      <th>Social Functioning</th>\n",
       "      <th>Physical Functioning</th>\n",
       "      <th>Role Physical</th>\n",
       "      <th>Role Emotional</th>\n",
       "      <th>Mental Health</th>\n",
       "    </tr>\n",
       "    <tr>\n",
       "      <th>ID</th>\n",
       "      <th></th>\n",
       "      <th></th>\n",
       "      <th></th>\n",
       "      <th></th>\n",
       "      <th></th>\n",
       "      <th></th>\n",
       "      <th></th>\n",
       "      <th></th>\n",
       "    </tr>\n",
       "  </thead>\n",
       "  <tbody>\n",
       "    <tr>\n",
       "      <th>C01000060</th>\n",
       "      <td>  3</td>\n",
       "      <td>  4</td>\n",
       "      <td>  5</td>\n",
       "      <td>  4</td>\n",
       "      <td> 1.0</td>\n",
       "      <td> 4.0</td>\n",
       "      <td>  3</td>\n",
       "      <td> 4.5</td>\n",
       "    </tr>\n",
       "    <tr>\n",
       "      <th>C01000361</th>\n",
       "      <td>  2</td>\n",
       "      <td>  3</td>\n",
       "      <td>  4</td>\n",
       "      <td>  5</td>\n",
       "      <td> 2.5</td>\n",
       "      <td> 1.5</td>\n",
       "      <td>  1</td>\n",
       "      <td> 4.0</td>\n",
       "    </tr>\n",
       "    <tr>\n",
       "      <th>C01000455</th>\n",
       "      <td>NaN</td>\n",
       "      <td>NaN</td>\n",
       "      <td>NaN</td>\n",
       "      <td>NaN</td>\n",
       "      <td> NaN</td>\n",
       "      <td> NaN</td>\n",
       "      <td>NaN</td>\n",
       "      <td> NaN</td>\n",
       "    </tr>\n",
       "    <tr>\n",
       "      <th>C01000542</th>\n",
       "      <td>  2</td>\n",
       "      <td>  3</td>\n",
       "      <td>  6</td>\n",
       "      <td>  4</td>\n",
       "      <td> 1.0</td>\n",
       "      <td> 2.5</td>\n",
       "      <td>  1</td>\n",
       "      <td> 4.0</td>\n",
       "    </tr>\n",
       "    <tr>\n",
       "      <th>C01000633</th>\n",
       "      <td>  5</td>\n",
       "      <td>  5</td>\n",
       "      <td>  6</td>\n",
       "      <td>  2</td>\n",
       "      <td> 3.0</td>\n",
       "      <td> 5.0</td>\n",
       "      <td>  5</td>\n",
       "      <td> 4.0</td>\n",
       "    </tr>\n",
       "  </tbody>\n",
       "</table>\n",
       "</div>"
      ],
      "text/plain": [
       "           Bodily Pain  General Health  Vitality  Social Functioning  \\\n",
       "ID                                                                     \n",
       "C01000060            3               4         5                   4   \n",
       "C01000361            2               3         4                   5   \n",
       "C01000455          NaN             NaN       NaN                 NaN   \n",
       "C01000542            2               3         6                   4   \n",
       "C01000633            5               5         6                   2   \n",
       "\n",
       "           Physical Functioning  Role Physical  Role Emotional  Mental Health  \n",
       "ID                                                                             \n",
       "C01000060                   1.0            4.0               3            4.5  \n",
       "C01000361                   2.5            1.5               1            4.0  \n",
       "C01000455                   NaN            NaN             NaN            NaN  \n",
       "C01000542                   1.0            2.5               1            4.0  \n",
       "C01000633                   3.0            5.0               5            4.0  "
      ]
     },
     "execution_count": 37,
     "metadata": {},
     "output_type": "execute_result"
    }
   ],
   "source": [
    "wellness.head()"
   ]
  },
  {
   "cell_type": "markdown",
   "metadata": {},
   "source": [
    "*Checking for profile (survey) completeness*"
   ]
  },
  {
   "cell_type": "code",
   "execution_count": 2,
   "metadata": {
    "collapsed": false,
    "scrolled": true
   },
   "outputs": [],
   "source": [
    "# profiles['PCTCMP'].describe()"
   ]
  },
  {
   "cell_type": "code",
   "execution_count": 3,
   "metadata": {
    "collapsed": true
   },
   "outputs": [],
   "source": [
    "# profiles.count().plot(kind='bar', figsize=(14, 2.5))"
   ]
  },
  {
   "cell_type": "markdown",
   "metadata": {},
   "source": [
    "# 2 - EXPLORE"
   ]
  },
  {
   "cell_type": "markdown",
   "metadata": {},
   "source": [
    "###Quality Control (Transform)"
   ]
  },
  {
   "cell_type": "code",
   "execution_count": 94,
   "metadata": {
    "collapsed": false
   },
   "outputs": [
    {
     "data": {
      "image/png": "[encoded data removed]",
      "text/plain": [
       "<matplotlib.figure.Figure at 0x11d035590>"
      ]
     },
     "metadata": {},
     "output_type": "display_data"
    }
   ],
   "source": [
    "f, ax = plt.subplots(figsize=(9, 9))\n",
    "cmap = sns.diverging_palette(220, 10, as_cmap=True)\n",
    "sns.corrplot(profiles_converted, annot=False, sig_stars=False,\n",
    "             diag_names=False, cmap=cmap, ax=ax)\n",
    "f.tight_layout()"
   ]
  },
  {
   "cell_type": "code",
   "execution_count": null,
   "metadata": {
    "collapsed": true
   },
   "outputs": [],
   "source": [
    "#@David\n",
    "#missing data\n",
    "#data completeness\n",
    "#data quality"
   ]
  },
  {
   "cell_type": "code",
   "execution_count": null,
   "metadata": {
    "collapsed": true
   },
   "outputs": [],
   "source": [
    "#transformation code"
   ]
  },
  {
   "cell_type": "code",
   "execution_count": 11,
   "metadata": {
    "collapsed": false,
    "scrolled": true
   },
   "outputs": [],
   "source": [
    "# profiles_simple = profiles_simple.dropna()\n",
    "# profiles_simple.head()"
   ]
  },
  {
   "cell_type": "markdown",
   "metadata": {
    "collapsed": false
   },
   "source": [
    "*Distribution of Data Points*"
   ]
  },
  {
   "cell_type": "code",
   "execution_count": null,
   "metadata": {
    "collapsed": true
   },
   "outputs": [],
   "source": []
  }
 ],
 "metadata": {
  "kernelspec": {
   "display_name": "Python 2",
   "language": "python",
   "name": "python2"
  },
  "language_info": {
   "codemirror_mode": {
    "name": "ipython",
    "version": 2
   },
   "file_extension": ".py",
   "mimetype": "text/x-python",
   "name": "python",
   "nbconvert_exporter": "python",
   "pygments_lexer": "ipython2",
   "version": "2.7.9"
  }
 },
 "nbformat": 4,
 "nbformat_minor": 0
}
