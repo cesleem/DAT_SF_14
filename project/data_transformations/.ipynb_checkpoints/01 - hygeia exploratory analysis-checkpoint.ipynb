{
 "cells": [
  {
   "cell_type": "markdown",
   "metadata": {},
   "source": [
    "# 0 - PRELIMINARIES"
   ]
  },
  {
   "cell_type": "code",
   "execution_count": 1,
   "metadata": {
    "collapsed": false
   },
   "outputs": [],
   "source": [
    "import sqlite3\n",
    "import pandas as pd\n",
    "\n",
    "import numpy as np\n",
    "import seaborn as sns\n",
    "import matplotlib.pyplot as plt\n",
    "sns.set(style=\"darkgrid\")\n",
    "\n",
    "%matplotlib inline"
   ]
  },
  {
   "cell_type": "code",
   "execution_count": 2,
   "metadata": {
    "collapsed": false
   },
   "outputs": [],
   "source": [
    "# open existing database\n",
    "conn = sqlite3.connect('../source_data/profiles.sqlite')\n",
    "c = conn.cursor()"
   ]
  },
  {
   "cell_type": "code",
   "execution_count": 3,
   "metadata": {
    "collapsed": false
   },
   "outputs": [
    {
     "name": "stdout",
     "output_type": "stream",
     "text": [
      "Column Names: \n",
      "['CASE_ID', 'AGEGRP', 'RACE', 'GENDER', 'MRSTAT', 'EDUC', 'BMI', 'GENHTH', 'MODACT', 'CLMBSV', 'PACMPL', 'PLMTKW', 'EACMPL', 'ENTCRF', 'PNINTF', 'PCEFUL', 'ENERGY', 'BLSAD', 'SCLACT', 'ASHLTH', 'ASEHLTH', 'DIFBTH', 'DIFDRS', 'DIFEAT', 'DIFCHR', 'DIFWLK', 'DIFTOL', 'PHYHTH', 'MENHTH', 'PORHTH', 'CPNEXR', 'CPNRST', 'SOBFLT', 'SOBSIT', 'SOBWLK', 'SOBSTR', 'NMBFET', 'TINGFT', 'DECSNS', 'DECHEL', 'ARTHPN', 'RDNEWP', 'HRMOST', 'HIGHBP', 'ANGCAD', 'CHF', 'AMI', 'OTHHRT', 'STROKE', 'COPD_E', 'GI_ETC', 'ATHHIP', 'ATHHAN', 'OSTEOPO', 'SCIATC', 'DIABET', 'ANYCAN', 'COLNCA', 'LUNGCA', 'BRSTCA', 'PROSCA', 'BACKPN', 'FELTSD', 'DEPMCH', 'DEP2YR', 'DEPWK', 'CMPHTH', 'SMKFRQ', 'URNLKG', 'URNMAG', 'URNDOC', 'URNTRT', 'PAOTLK', 'PAOADV', 'BALTLK', 'FELL12MO', 'BAL12MO', 'FALLTLK', 'OSTTEST', 'WHOCMP', 'SRVDSP', 'RNDNUM', 'PCTCMP', 'COHORT', 'PLREG', 'SVLANG']\n"
     ]
    }
   ],
   "source": [
    "#make sure connection works\n",
    "c.execute('SELECT * FROM HOS_PROFILE')\n",
    "col_name_list = [tup[0] for tup in c.description]\n",
    "print \"Column Names: \"\n",
    "print col_name_list"
   ]
  },
  {
   "cell_type": "markdown",
   "metadata": {},
   "source": [
    "Contains a total of 86 fields and 322,794 beneficiary records.  Surveys were completed in 2011."
   ]
  },
  {
   "cell_type": "code",
   "execution_count": 4,
   "metadata": {
    "collapsed": false
   },
   "outputs": [],
   "source": [
    "#Work preliminarily with smaller sample\n",
    "profiles = pd.read_sql('SELECT * FROM HOS_PROFILE', conn)\n",
    "profiles.head(3)\n",
    "\n",
    "# close connection\n",
    "conn.close()"
   ]
  },
  {
   "cell_type": "markdown",
   "metadata": {},
   "source": [
    "# 1 - DATA INSPECTION"
   ]
  },
  {
   "cell_type": "markdown",
   "metadata": {},
   "source": [
    "*Look for general patterns in data spread*"
   ]
  },
  {
   "cell_type": "code",
   "execution_count": 5,
   "metadata": {
    "collapsed": false
   },
   "outputs": [
    {
     "data": {
      "text/html": [
       "<div style=\"max-height:1000px;max-width:1500px;overflow:auto;\">\n",
       "<table border=\"1\" class=\"dataframe\">\n",
       "  <thead>\n",
       "    <tr style=\"text-align: right;\">\n",
       "      <th></th>\n",
       "      <th>AGEGRP</th>\n",
       "      <th>RACE</th>\n",
       "      <th>GENDER</th>\n",
       "      <th>MRSTAT</th>\n",
       "      <th>EDUC</th>\n",
       "      <th>BMI</th>\n",
       "      <th>GENHTH</th>\n",
       "      <th>MODACT</th>\n",
       "      <th>CLMBSV</th>\n",
       "      <th>PACMPL</th>\n",
       "      <th>...</th>\n",
       "      <th>PAOADV</th>\n",
       "      <th>BALTLK</th>\n",
       "      <th>FELL12MO</th>\n",
       "      <th>BAL12MO</th>\n",
       "      <th>FALLTLK</th>\n",
       "      <th>OSTTEST</th>\n",
       "      <th>WHOCMP</th>\n",
       "      <th>PCTCMP</th>\n",
       "      <th>PLREG</th>\n",
       "      <th>SVLANG</th>\n",
       "    </tr>\n",
       "  </thead>\n",
       "  <tbody>\n",
       "    <tr>\n",
       "      <th>count</th>\n",
       "      <td> 321395.000000</td>\n",
       "      <td> 277182.000000</td>\n",
       "      <td> 309332.000000</td>\n",
       "      <td> 287137.000000</td>\n",
       "      <td> 285429.000000</td>\n",
       "      <td> 279425.000000</td>\n",
       "      <td> 301758.000000</td>\n",
       "      <td> 297968.000000</td>\n",
       "      <td> 290213.000000</td>\n",
       "      <td> 296261.000000</td>\n",
       "      <td>...</td>\n",
       "      <td> 277933.000000</td>\n",
       "      <td> 286112.000000</td>\n",
       "      <td> 289119.000000</td>\n",
       "      <td> 287874.000000</td>\n",
       "      <td> 281694.000000</td>\n",
       "      <td> 284631.000000</td>\n",
       "      <td> 309317.000000</td>\n",
       "      <td> 321395.000000</td>\n",
       "      <td> 321395.000000</td>\n",
       "      <td> 321395.000000</td>\n",
       "    </tr>\n",
       "    <tr>\n",
       "      <th>mean</th>\n",
       "      <td>      2.189206</td>\n",
       "      <td>      1.272305</td>\n",
       "      <td>      1.574868</td>\n",
       "      <td>      1.489690</td>\n",
       "      <td>      2.169916</td>\n",
       "      <td>      1.327243</td>\n",
       "      <td>      3.080167</td>\n",
       "      <td>      2.142834</td>\n",
       "      <td>      2.005306</td>\n",
       "      <td>      2.521864</td>\n",
       "      <td>...</td>\n",
       "      <td>      1.497217</td>\n",
       "      <td>      1.800239</td>\n",
       "      <td>      1.739906</td>\n",
       "      <td>      1.620164</td>\n",
       "      <td>      1.690739</td>\n",
       "      <td>      1.518921</td>\n",
       "      <td>      1.150939</td>\n",
       "      <td>     89.928305</td>\n",
       "      <td>      5.405513</td>\n",
       "      <td>      1.052406</td>\n",
       "    </tr>\n",
       "    <tr>\n",
       "      <th>std</th>\n",
       "      <td>      0.676462</td>\n",
       "      <td>      0.593488</td>\n",
       "      <td>      0.494364</td>\n",
       "      <td>      0.499895</td>\n",
       "      <td>      0.790121</td>\n",
       "      <td>      0.469208</td>\n",
       "      <td>      1.043330</td>\n",
       "      <td>      0.801484</td>\n",
       "      <td>      0.811007</td>\n",
       "      <td>      1.342689</td>\n",
       "      <td>...</td>\n",
       "      <td>      0.499993</td>\n",
       "      <td>      0.475849</td>\n",
       "      <td>      0.438686</td>\n",
       "      <td>      0.485347</td>\n",
       "      <td>      0.545616</td>\n",
       "      <td>      0.499643</td>\n",
       "      <td>      0.441904</td>\n",
       "      <td>     25.641803</td>\n",
       "      <td>      2.613859</td>\n",
       "      <td>      0.255839</td>\n",
       "    </tr>\n",
       "    <tr>\n",
       "      <th>min</th>\n",
       "      <td>      1.000000</td>\n",
       "      <td>      1.000000</td>\n",
       "      <td>      1.000000</td>\n",
       "      <td>      1.000000</td>\n",
       "      <td>      1.000000</td>\n",
       "      <td>      1.000000</td>\n",
       "      <td>      1.000000</td>\n",
       "      <td>      1.000000</td>\n",
       "      <td>      1.000000</td>\n",
       "      <td>      1.000000</td>\n",
       "      <td>...</td>\n",
       "      <td>      1.000000</td>\n",
       "      <td>      1.000000</td>\n",
       "      <td>      1.000000</td>\n",
       "      <td>      1.000000</td>\n",
       "      <td>      1.000000</td>\n",
       "      <td>      1.000000</td>\n",
       "      <td>      1.000000</td>\n",
       "      <td>      1.400000</td>\n",
       "      <td>      1.000000</td>\n",
       "      <td>      1.000000</td>\n",
       "    </tr>\n",
       "    <tr>\n",
       "      <th>25%</th>\n",
       "      <td>      2.000000</td>\n",
       "      <td>      1.000000</td>\n",
       "      <td>      1.000000</td>\n",
       "      <td>      1.000000</td>\n",
       "      <td>      2.000000</td>\n",
       "      <td>      1.000000</td>\n",
       "      <td>      2.000000</td>\n",
       "      <td>      1.000000</td>\n",
       "      <td>      1.000000</td>\n",
       "      <td>      1.000000</td>\n",
       "      <td>...</td>\n",
       "      <td>      1.000000</td>\n",
       "      <td>      2.000000</td>\n",
       "      <td>      1.000000</td>\n",
       "      <td>      1.000000</td>\n",
       "      <td>      1.000000</td>\n",
       "      <td>      1.000000</td>\n",
       "      <td>      1.000000</td>\n",
       "      <td>     97.300000</td>\n",
       "      <td>      4.000000</td>\n",
       "      <td>      1.000000</td>\n",
       "    </tr>\n",
       "    <tr>\n",
       "      <th>50%</th>\n",
       "      <td>      2.000000</td>\n",
       "      <td>      1.000000</td>\n",
       "      <td>      2.000000</td>\n",
       "      <td>      1.000000</td>\n",
       "      <td>      2.000000</td>\n",
       "      <td>      1.000000</td>\n",
       "      <td>      3.000000</td>\n",
       "      <td>      2.000000</td>\n",
       "      <td>      2.000000</td>\n",
       "      <td>      2.000000</td>\n",
       "      <td>...</td>\n",
       "      <td>      1.000000</td>\n",
       "      <td>      2.000000</td>\n",
       "      <td>      2.000000</td>\n",
       "      <td>      2.000000</td>\n",
       "      <td>      2.000000</td>\n",
       "      <td>      2.000000</td>\n",
       "      <td>      1.000000</td>\n",
       "      <td>     98.600000</td>\n",
       "      <td>      5.000000</td>\n",
       "      <td>      1.000000</td>\n",
       "    </tr>\n",
       "    <tr>\n",
       "      <th>75%</th>\n",
       "      <td>      3.000000</td>\n",
       "      <td>      1.000000</td>\n",
       "      <td>      2.000000</td>\n",
       "      <td>      2.000000</td>\n",
       "      <td>      3.000000</td>\n",
       "      <td>      2.000000</td>\n",
       "      <td>      4.000000</td>\n",
       "      <td>      3.000000</td>\n",
       "      <td>      3.000000</td>\n",
       "      <td>      4.000000</td>\n",
       "      <td>...</td>\n",
       "      <td>      2.000000</td>\n",
       "      <td>      2.000000</td>\n",
       "      <td>      2.000000</td>\n",
       "      <td>      2.000000</td>\n",
       "      <td>      2.000000</td>\n",
       "      <td>      2.000000</td>\n",
       "      <td>      1.000000</td>\n",
       "      <td>    100.000000</td>\n",
       "      <td>      8.000000</td>\n",
       "      <td>      1.000000</td>\n",
       "    </tr>\n",
       "    <tr>\n",
       "      <th>max</th>\n",
       "      <td>      3.000000</td>\n",
       "      <td>      3.000000</td>\n",
       "      <td>      2.000000</td>\n",
       "      <td>      2.000000</td>\n",
       "      <td>      3.000000</td>\n",
       "      <td>      2.000000</td>\n",
       "      <td>      5.000000</td>\n",
       "      <td>      3.000000</td>\n",
       "      <td>      3.000000</td>\n",
       "      <td>      5.000000</td>\n",
       "      <td>...</td>\n",
       "      <td>      2.000000</td>\n",
       "      <td>      3.000000</td>\n",
       "      <td>      2.000000</td>\n",
       "      <td>      2.000000</td>\n",
       "      <td>      3.000000</td>\n",
       "      <td>      2.000000</td>\n",
       "      <td>      4.000000</td>\n",
       "      <td>    100.000000</td>\n",
       "      <td>     10.000000</td>\n",
       "      <td>      4.000000</td>\n",
       "    </tr>\n",
       "  </tbody>\n",
       "</table>\n",
       "<p>8 rows × 82 columns</p>\n",
       "</div>"
      ],
      "text/plain": [
       "              AGEGRP           RACE         GENDER         MRSTAT  \\\n",
       "count  321395.000000  277182.000000  309332.000000  287137.000000   \n",
       "mean        2.189206       1.272305       1.574868       1.489690   \n",
       "std         0.676462       0.593488       0.494364       0.499895   \n",
       "min         1.000000       1.000000       1.000000       1.000000   \n",
       "25%         2.000000       1.000000       1.000000       1.000000   \n",
       "50%         2.000000       1.000000       2.000000       1.000000   \n",
       "75%         3.000000       1.000000       2.000000       2.000000   \n",
       "max         3.000000       3.000000       2.000000       2.000000   \n",
       "\n",
       "                EDUC            BMI         GENHTH         MODACT  \\\n",
       "count  285429.000000  279425.000000  301758.000000  297968.000000   \n",
       "mean        2.169916       1.327243       3.080167       2.142834   \n",
       "std         0.790121       0.469208       1.043330       0.801484   \n",
       "min         1.000000       1.000000       1.000000       1.000000   \n",
       "25%         2.000000       1.000000       2.000000       1.000000   \n",
       "50%         2.000000       1.000000       3.000000       2.000000   \n",
       "75%         3.000000       2.000000       4.000000       3.000000   \n",
       "max         3.000000       2.000000       5.000000       3.000000   \n",
       "\n",
       "              CLMBSV         PACMPL      ...               PAOADV  \\\n",
       "count  290213.000000  296261.000000      ...        277933.000000   \n",
       "mean        2.005306       2.521864      ...             1.497217   \n",
       "std         0.811007       1.342689      ...             0.499993   \n",
       "min         1.000000       1.000000      ...             1.000000   \n",
       "25%         1.000000       1.000000      ...             1.000000   \n",
       "50%         2.000000       2.000000      ...             1.000000   \n",
       "75%         3.000000       4.000000      ...             2.000000   \n",
       "max         3.000000       5.000000      ...             2.000000   \n",
       "\n",
       "              BALTLK       FELL12MO        BAL12MO        FALLTLK  \\\n",
       "count  286112.000000  289119.000000  287874.000000  281694.000000   \n",
       "mean        1.800239       1.739906       1.620164       1.690739   \n",
       "std         0.475849       0.438686       0.485347       0.545616   \n",
       "min         1.000000       1.000000       1.000000       1.000000   \n",
       "25%         2.000000       1.000000       1.000000       1.000000   \n",
       "50%         2.000000       2.000000       2.000000       2.000000   \n",
       "75%         2.000000       2.000000       2.000000       2.000000   \n",
       "max         3.000000       2.000000       2.000000       3.000000   \n",
       "\n",
       "             OSTTEST         WHOCMP         PCTCMP          PLREG  \\\n",
       "count  284631.000000  309317.000000  321395.000000  321395.000000   \n",
       "mean        1.518921       1.150939      89.928305       5.405513   \n",
       "std         0.499643       0.441904      25.641803       2.613859   \n",
       "min         1.000000       1.000000       1.400000       1.000000   \n",
       "25%         1.000000       1.000000      97.300000       4.000000   \n",
       "50%         2.000000       1.000000      98.600000       5.000000   \n",
       "75%         2.000000       1.000000     100.000000       8.000000   \n",
       "max         2.000000       4.000000     100.000000      10.000000   \n",
       "\n",
       "              SVLANG  \n",
       "count  321395.000000  \n",
       "mean        1.052406  \n",
       "std         0.255839  \n",
       "min         1.000000  \n",
       "25%         1.000000  \n",
       "50%         1.000000  \n",
       "75%         1.000000  \n",
       "max         4.000000  \n",
       "\n",
       "[8 rows x 82 columns]"
      ]
     },
     "execution_count": 5,
     "metadata": {},
     "output_type": "execute_result"
    }
   ],
   "source": [
    "profiles.describe()"
   ]
  },
  {
   "cell_type": "markdown",
   "metadata": {},
   "source": [
    "*Checking for data completeness*"
   ]
  },
  {
   "cell_type": "markdown",
   "metadata": {},
   "source": [
    "*Checking for profile (survey) completeness*"
   ]
  },
  {
   "cell_type": "code",
   "execution_count": 6,
   "metadata": {
    "collapsed": false,
    "scrolled": true
   },
   "outputs": [
    {
     "data": {
      "text/plain": [
       "count    321395.000000\n",
       "mean         89.928305\n",
       "std          25.641803\n",
       "min           1.400000\n",
       "25%          97.300000\n",
       "50%          98.600000\n",
       "75%         100.000000\n",
       "max         100.000000\n",
       "Name: PCTCMP, dtype: float64"
      ]
     },
     "execution_count": 6,
     "metadata": {},
     "output_type": "execute_result"
    }
   ],
   "source": [
    "profiles['PCTCMP'].describe()"
   ]
  },
  {
   "cell_type": "code",
   "execution_count": 7,
   "metadata": {
    "collapsed": false,
    "scrolled": true
   },
   "outputs": [
    {
     "data": {
      "text/plain": [
       "<matplotlib.axes._subplots.AxesSubplot at 0x12413ed90>"
      ]
     },
     "execution_count": 7,
     "metadata": {},
     "output_type": "execute_result"
    },
    {
     "data": {
      "image/png": "[encoded data removed]",
      "text/plain": [
       "<matplotlib.figure.Figure at 0x1221c3f90>"
      ]
     },
     "metadata": {},
     "output_type": "display_data"
    }
   ],
   "source": [
    "profiles['PCTCMP'].plot(kind='box')"
   ]
  },
  {
   "cell_type": "markdown",
   "metadata": {},
   "source": [
    "# 2 - EXPLORE"
   ]
  },
  {
   "cell_type": "markdown",
   "metadata": {},
   "source": [
    "Start simple.  Take each demographic variable and make a continuous variable for Multiple Chronic Conditions."
   ]
  },
  {
   "cell_type": "code",
   "execution_count": 8,
   "metadata": {
    "collapsed": true
   },
   "outputs": [],
   "source": [
    "# Start simple.  Take each demographic variable and make a continuous variable for Multiple Chronic Conditions.  profiles['MCC'] ="
   ]
  },
  {
   "cell_type": "code",
   "execution_count": 13,
   "metadata": {
    "collapsed": false
   },
   "outputs": [],
   "source": [
    "patients = profiles[['AGEGRP', 'RACE', 'GENDER', 'MRSTAT', 'EDUC', 'BMI', 'GENHTH']]"
   ]
  },
  {
   "cell_type": "code",
   "execution_count": 17,
   "metadata": {
    "collapsed": false
   },
   "outputs": [
    {
     "data": {
      "text/html": [
       "<div style=\"max-height:1000px;max-width:1500px;overflow:auto;\">\n",
       "<table border=\"1\" class=\"dataframe\">\n",
       "  <thead>\n",
       "    <tr style=\"text-align: right;\">\n",
       "      <th></th>\n",
       "      <th>AGEGRP</th>\n",
       "      <th>RACE</th>\n",
       "      <th>GENDER</th>\n",
       "      <th>MRSTAT</th>\n",
       "      <th>EDUC</th>\n",
       "      <th>BMI</th>\n",
       "      <th>GENHTH</th>\n",
       "    </tr>\n",
       "  </thead>\n",
       "  <tbody>\n",
       "    <tr>\n",
       "      <th>0</th>\n",
       "      <td> 3</td>\n",
       "      <td>NaN</td>\n",
       "      <td> 2</td>\n",
       "      <td> 1</td>\n",
       "      <td> 1</td>\n",
       "      <td> 1</td>\n",
       "      <td> 4</td>\n",
       "    </tr>\n",
       "    <tr>\n",
       "      <th>1</th>\n",
       "      <td> 3</td>\n",
       "      <td>NaN</td>\n",
       "      <td> 2</td>\n",
       "      <td> 2</td>\n",
       "      <td> 1</td>\n",
       "      <td> 2</td>\n",
       "      <td> 2</td>\n",
       "    </tr>\n",
       "    <tr>\n",
       "      <th>2</th>\n",
       "      <td> 3</td>\n",
       "      <td>  1</td>\n",
       "      <td> 1</td>\n",
       "      <td> 1</td>\n",
       "      <td> 2</td>\n",
       "      <td> 1</td>\n",
       "      <td> 3</td>\n",
       "    </tr>\n",
       "    <tr>\n",
       "      <th>3</th>\n",
       "      <td> 3</td>\n",
       "      <td>  1</td>\n",
       "      <td> 2</td>\n",
       "      <td> 1</td>\n",
       "      <td> 3</td>\n",
       "      <td> 1</td>\n",
       "      <td> 2</td>\n",
       "    </tr>\n",
       "    <tr>\n",
       "      <th>4</th>\n",
       "      <td> 3</td>\n",
       "      <td>  1</td>\n",
       "      <td> 1</td>\n",
       "      <td> 2</td>\n",
       "      <td> 1</td>\n",
       "      <td> 1</td>\n",
       "      <td> 4</td>\n",
       "    </tr>\n",
       "  </tbody>\n",
       "</table>\n",
       "</div>"
      ],
      "text/plain": [
       "   AGEGRP  RACE  GENDER  MRSTAT  EDUC  BMI  GENHTH\n",
       "0       3   NaN       2       1     1    1       4\n",
       "1       3   NaN       2       2     1    2       2\n",
       "2       3     1       1       1     2    1       3\n",
       "3       3     1       2       1     3    1       2\n",
       "4       3     1       1       2     1    1       4"
      ]
     },
     "execution_count": 17,
     "metadata": {},
     "output_type": "execute_result"
    }
   ],
   "source": [
    "patients.dropna()\n",
    "\n",
    "patients.head()\n",
    "\n",
    "# from sklearn.cluster import KMeans\n",
    "# from sklearn import metrics\n",
    "# from sklearn.metrics import pairwise_distances\n",
    "\n",
    "# km = KMeans(n_clusters=5, random_state=1)\n",
    "# km.fit(patients)"
   ]
  },
  {
   "cell_type": "markdown",
   "metadata": {
    "collapsed": false
   },
   "source": [
    "*Distribution of Data Points*"
   ]
  },
  {
   "cell_type": "code",
   "execution_count": 10,
   "metadata": {
    "collapsed": false,
    "scrolled": true
   },
   "outputs": [
    {
     "data": {
      "image/png": "[encoded data removed]",
      "text/plain": [
       "<matplotlib.figure.Figure at 0x125f3cdd0>"
      ]
     },
     "metadata": {},
     "output_type": "display_data"
    }
   ],
   "source": [
    "patients.hist(figsize=(12, 8));"
   ]
  },
  {
   "cell_type": "code",
   "execution_count": 11,
   "metadata": {
    "collapsed": false
   },
   "outputs": [
    {
     "name": "stdout",
     "output_type": "stream",
     "text": [
      "Plotting Large Correlation Matrix\n"
     ]
    },
    {
     "data": {
      "image/png": "[encoded data removed]",
      "text/plain": [
       "<matplotlib.figure.Figure at 0x10d148050>"
      ]
     },
     "metadata": {},
     "output_type": "display_data"
    }
   ],
   "source": [
    "print \"Plotting Large Correlation Matrix\"\n",
    "\n",
    "f, ax = plt.subplots(figsize=(9, 9))\n",
    "cmap = sns.diverging_palette(220, 10, as_cmap=True)\n",
    "sns.corrplot(patients, annot=False, sig_stars=False,\n",
    "             diag_names=False, cmap=cmap, ax=ax)\n",
    "f.tight_layout()"
   ]
  },
  {
   "cell_type": "code",
   "execution_count": 12,
   "metadata": {
    "collapsed": false
   },
   "outputs": [
    {
     "data": {
      "text/html": [
       "<div style=\"max-height:1000px;max-width:1500px;overflow:auto;\">\n",
       "<table border=\"1\" class=\"dataframe\">\n",
       "  <thead>\n",
       "    <tr style=\"text-align: right;\">\n",
       "      <th></th>\n",
       "      <th>CASE_ID</th>\n",
       "      <th>AGEGRP</th>\n",
       "      <th>RACE</th>\n",
       "      <th>GENDER</th>\n",
       "      <th>MRSTAT</th>\n",
       "      <th>EDUC</th>\n",
       "      <th>BMI</th>\n",
       "      <th>GENHTH</th>\n",
       "      <th>MODACT</th>\n",
       "      <th>CLMBSV</th>\n",
       "      <th>...</th>\n",
       "      <th>BAL12MO</th>\n",
       "      <th>FALLTLK</th>\n",
       "      <th>OSTTEST</th>\n",
       "      <th>WHOCMP</th>\n",
       "      <th>SRVDSP</th>\n",
       "      <th>RNDNUM</th>\n",
       "      <th>PCTCMP</th>\n",
       "      <th>COHORT</th>\n",
       "      <th>PLREG</th>\n",
       "      <th>SVLANG</th>\n",
       "    </tr>\n",
       "  </thead>\n",
       "  <tbody>\n",
       "    <tr>\n",
       "      <th>0</th>\n",
       "      <td> C01000060</td>\n",
       "      <td> 3</td>\n",
       "      <td>NaN</td>\n",
       "      <td> 2</td>\n",
       "      <td> 1</td>\n",
       "      <td> 1</td>\n",
       "      <td> 1</td>\n",
       "      <td> 4</td>\n",
       "      <td>  2</td>\n",
       "      <td> 2</td>\n",
       "      <td>...</td>\n",
       "      <td> 1</td>\n",
       "      <td> 1</td>\n",
       "      <td> 1</td>\n",
       "      <td> 1</td>\n",
       "      <td> M10</td>\n",
       "      <td> M1</td>\n",
       "      <td>  97.3</td>\n",
       "      <td> C15</td>\n",
       "      <td>  8</td>\n",
       "      <td> 1</td>\n",
       "    </tr>\n",
       "    <tr>\n",
       "      <th>1</th>\n",
       "      <td> C01000074</td>\n",
       "      <td> 3</td>\n",
       "      <td>NaN</td>\n",
       "      <td> 2</td>\n",
       "      <td> 2</td>\n",
       "      <td> 1</td>\n",
       "      <td> 2</td>\n",
       "      <td> 2</td>\n",
       "      <td>  2</td>\n",
       "      <td> 3</td>\n",
       "      <td>...</td>\n",
       "      <td> 1</td>\n",
       "      <td> 1</td>\n",
       "      <td> 1</td>\n",
       "      <td> 1</td>\n",
       "      <td> M10</td>\n",
       "      <td> M1</td>\n",
       "      <td>  90.5</td>\n",
       "      <td> C15</td>\n",
       "      <td>  8</td>\n",
       "      <td> 1</td>\n",
       "    </tr>\n",
       "    <tr>\n",
       "      <th>2</th>\n",
       "      <td> C01000140</td>\n",
       "      <td> 3</td>\n",
       "      <td>  1</td>\n",
       "      <td> 1</td>\n",
       "      <td> 1</td>\n",
       "      <td> 2</td>\n",
       "      <td> 1</td>\n",
       "      <td> 3</td>\n",
       "      <td>  3</td>\n",
       "      <td> 3</td>\n",
       "      <td>...</td>\n",
       "      <td> 2</td>\n",
       "      <td> 1</td>\n",
       "      <td> 2</td>\n",
       "      <td> 1</td>\n",
       "      <td> T10</td>\n",
       "      <td> T1</td>\n",
       "      <td> 100.0</td>\n",
       "      <td> C15</td>\n",
       "      <td>  4</td>\n",
       "      <td> 1</td>\n",
       "    </tr>\n",
       "    <tr>\n",
       "      <th>3</th>\n",
       "      <td> C01000540</td>\n",
       "      <td> 3</td>\n",
       "      <td>  1</td>\n",
       "      <td> 2</td>\n",
       "      <td> 1</td>\n",
       "      <td> 3</td>\n",
       "      <td> 1</td>\n",
       "      <td> 2</td>\n",
       "      <td>  3</td>\n",
       "      <td> 2</td>\n",
       "      <td>...</td>\n",
       "      <td> 2</td>\n",
       "      <td> 2</td>\n",
       "      <td> 2</td>\n",
       "      <td> 1</td>\n",
       "      <td> M10</td>\n",
       "      <td> M1</td>\n",
       "      <td> 100.0</td>\n",
       "      <td> C15</td>\n",
       "      <td>  7</td>\n",
       "      <td> 1</td>\n",
       "    </tr>\n",
       "    <tr>\n",
       "      <th>4</th>\n",
       "      <td> C01000573</td>\n",
       "      <td> 3</td>\n",
       "      <td>  1</td>\n",
       "      <td> 1</td>\n",
       "      <td> 2</td>\n",
       "      <td> 1</td>\n",
       "      <td> 1</td>\n",
       "      <td> 4</td>\n",
       "      <td>NaN</td>\n",
       "      <td> 2</td>\n",
       "      <td>...</td>\n",
       "      <td> 2</td>\n",
       "      <td> 2</td>\n",
       "      <td> 1</td>\n",
       "      <td> 1</td>\n",
       "      <td> M10</td>\n",
       "      <td> M2</td>\n",
       "      <td>  97.3</td>\n",
       "      <td> C15</td>\n",
       "      <td> 10</td>\n",
       "      <td> 1</td>\n",
       "    </tr>\n",
       "  </tbody>\n",
       "</table>\n",
       "<p>5 rows × 86 columns</p>\n",
       "</div>"
      ],
      "text/plain": [
       "     CASE_ID  AGEGRP  RACE  GENDER  MRSTAT  EDUC  BMI  GENHTH  MODACT  CLMBSV  \\\n",
       "0  C01000060       3   NaN       2       1     1    1       4       2       2   \n",
       "1  C01000074       3   NaN       2       2     1    2       2       2       3   \n",
       "2  C01000140       3     1       1       1     2    1       3       3       3   \n",
       "3  C01000540       3     1       2       1     3    1       2       3       2   \n",
       "4  C01000573       3     1       1       2     1    1       4     NaN       2   \n",
       "\n",
       "    ...    BAL12MO  FALLTLK  OSTTEST  WHOCMP  SRVDSP  RNDNUM  PCTCMP  COHORT  \\\n",
       "0   ...          1        1        1       1     M10      M1    97.3     C15   \n",
       "1   ...          1        1        1       1     M10      M1    90.5     C15   \n",
       "2   ...          2        1        2       1     T10      T1   100.0     C15   \n",
       "3   ...          2        2        2       1     M10      M1   100.0     C15   \n",
       "4   ...          2        2        1       1     M10      M2    97.3     C15   \n",
       "\n",
       "   PLREG  SVLANG  \n",
       "0      8       1  \n",
       "1      8       1  \n",
       "2      4       1  \n",
       "3      7       1  \n",
       "4     10       1  \n",
       "\n",
       "[5 rows x 86 columns]"
      ]
     },
     "execution_count": 12,
     "metadata": {},
     "output_type": "execute_result"
    }
   ],
   "source": [
    "profiles.head()"
   ]
  },
  {
   "cell_type": "code",
   "execution_count": null,
   "metadata": {
    "collapsed": true
   },
   "outputs": [],
   "source": []
  }
 ],
 "metadata": {
  "kernelspec": {
   "display_name": "Python 2",
   "language": "python",
   "name": "python2"
  },
  "language_info": {
   "codemirror_mode": {
    "name": "ipython",
    "version": 2
   },
   "file_extension": ".py",
   "mimetype": "text/x-python",
   "name": "python",
   "nbconvert_exporter": "python",
   "pygments_lexer": "ipython2",
   "version": "2.7.9"
  }
 },
 "nbformat": 4,
 "nbformat_minor": 0
}
