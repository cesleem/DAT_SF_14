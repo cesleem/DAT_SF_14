{
 "cells": [
  {
   "cell_type": "markdown",
   "metadata": {},
   "source": [
    "# 0 - PRELIMINARIES"
   ]
  },
  {
   "cell_type": "code",
   "execution_count": 2,
   "metadata": {
    "collapsed": false
   },
   "outputs": [],
   "source": [
    "%matplotlib inline\n",
    "import matplotlib.pyplot as plt\n",
    "import numpy as np\n",
    "import pandas as pd\n",
    "import seaborn as sns\n",
    "\n",
    "sns.set(style=\"darkgrid\")"
   ]
  },
  {
   "cell_type": "code",
   "execution_count": 3,
   "metadata": {
    "collapsed": true
   },
   "outputs": [],
   "source": [
    "SOURCE_DATA_PATH = '../source_data'\n",
    "DERIVED_DATA_PATH = '../derived_data'"
   ]
  },
  {
   "cell_type": "markdown",
   "metadata": {},
   "source": [
    "### Acquire"
   ]
  },
  {
   "cell_type": "code",
   "execution_count": 4,
   "metadata": {
    "collapsed": false
   },
   "outputs": [
    {
     "name": "stdout",
     "output_type": "stream",
     "text": [
      "C010000603 211141144333455433111221111 6 0 021224122222121112222     43 611432   11221111M10M1 97.3C16 81\r",
      "\r\n"
     ]
    }
   ],
   "source": [
    "#commenting this out to avoid rerunning when executing whole ntbk.\n",
    "# !curl -o ../source_data/ 'http://www.hosonline.org/surveys/hos/download/C16B_PUF.zip'\n",
    "# !unzip ../source_data/C16B_PUF.zip -d ../source_data\n",
    "\n",
    "!head -n 1 ../source_data/C16B_PUF.TXT"
   ]
  },
  {
   "cell_type": "markdown",
   "metadata": {},
   "source": [
    "Each line is a string of length 105 (spaces represent missing data).  We need to parse each of the 83 fields from this string for each beneficiary record.  Afterwards, we'll save as csv to make i/o to pandas simpler in the future."
   ]
  },
  {
   "cell_type": "code",
   "execution_count": 5,
   "metadata": {
    "collapsed": false
   },
   "outputs": [],
   "source": [
    "#commenting this out to avoid rerunning when executing whole ntbk.\n",
    "#Parsed in accordance with HOS C16 PUF Data User Guide Field Positions available at: http://www.hosonline.org/surveys/hos/download/HOS_DUG_QIO_C16B.pdf\n",
    "# import csv\n",
    "\n",
    "# with open('../source_data/C16B_PUF.TXT') as txt_file:\n",
    "#     records = txt_file.readlines()\n",
    "#     to_comma_delimited = lambda line: [line[0:9]] + list(line[9:38]) + [line[38:40]] + [line[40:42]] + [line[42:44]] + list(line[44:71]) + [line[71:73]]+ list(line[73:89]) + [line[89:92]] + [line[92:94]] + [line[94:99]] + [line[99:102]] + [line[102:104]] + [line[104]]\n",
    "#     transformed_records = [to_comma_delimited(line) for line in records]\n",
    "#     with open('../source_data/C16B_PUF.csv', 'wb') as csv_file:\n",
    "#         writer = csv.writer(csv_file)\n",
    "#         writer.writerows(transformed_records)"
   ]
  },
  {
   "cell_type": "markdown",
   "metadata": {},
   "source": [
    "Let's verify this worked."
   ]
  },
  {
   "cell_type": "code",
   "execution_count": 6,
   "metadata": {
    "collapsed": false
   },
   "outputs": [
    {
     "name": "stdout",
     "output_type": "stream",
     "text": [
      "C01000060,3, ,2,1,1,1,4,1,1,4,4,3,3,3,4,5,5,4,3,3,1,1,1,2,2,1,1,1,1, 6, 0, 0,2,1,2,2,4,1,2,2,2,2,2,1,2,1,1,1,2,2,2,2, , , , , ,4,3, 6,1,1,4,3,2, , , ,1,1,2,2,1,1,1,1,M10,M1, 97.3,C16, 8,1\r",
      "\r\n"
     ]
    }
   ],
   "source": [
    "!head -n 1 ../source_data/C16B_PUF.csv"
   ]
  },
  {
   "cell_type": "markdown",
   "metadata": {},
   "source": [
    "Good.  So let's read it into pandas so we can begin our data inspection."
   ]
  },
  {
   "cell_type": "code",
   "execution_count": 4,
   "metadata": {
    "collapsed": false
   },
   "outputs": [],
   "source": [
    "import os.path\n",
    "\n",
    "columns = [u'ID', u'AGEGRP', u'RACE', u'GENDER', u'MRSTAT', u'EDUC', u'BMI', u'GENHTH', u'MODACT', u'CLMBSV', u'PACMPL', u'PLMTKW', u'EACMPL', u'ENTCRF', u'PNINTF', u'PCEFUL', u'ENERGY', u'BLSAD', u'SCLACT', u'ASHLTH', u'ASEHLTH', u'DIFBTH', u'DIFDRS', u'DIFEAT', u'DIFCHR', u'DIFWLK', u'DIFTOL', u'DIFPRM', u'DIFMON', u'DIFMED', u'PHYHTH', u'MENHTH', u'PORHTH', u'BLIND', u'DEAF', u'DIFCON', u'DIFERR', u'MEMINT', u'HIGHBP', u'ANGCAD', u'CHF', u'AMI', u'OTHHRT', u'STROKE', u'COPD_E', u'GI_ETC', u'ATHHIP', u'ATHHAN', u'OSTEOPO', u'SCIATC', u'DIABET', u'DEPRES', u'ANYCAN', u'COLNCA', u'LUNGCA', u'BRSTCA', u'PROSCA', u'OTHCAN', u'PNIACT', u'PNISOC', u'AVGPN', u'FELTNP', u'FELTSD', u'CMPHTH', u'SMKFRQ', u'URNLKG', u'URNMAG', u'URNDOC', u'URNTRT', u'PAOTLK', u'PAOADV', u'BALTLK', u'FELL12MO', u'BAL12MO', u'FALLTLK', u'OSTTEST', u'WHOCMP', u'SRVDSP', u'RNDNUM', u'PCTCMP', u'COHORT', u'PLREG', u'SVLANG']\n",
    "data = pd.read_csv(os.path.join(SOURCE_DATA_PATH,'C16B_PUF.csv'), names=columns, na_values=' ', index_col='ID')"
   ]
  },
  {
   "cell_type": "code",
   "execution_count": 7,
   "metadata": {
    "collapsed": false
   },
   "outputs": [
    {
     "name": "stdout",
     "output_type": "stream",
     "text": [
      "<class 'pandas.core.frame.DataFrame'>\n",
      "Index: 303512 entries, C01000060 to C16303512\n",
      "Data columns (total 82 columns):\n",
      "AGEGRP      303512 non-null int64\n",
      "RACE        257952 non-null float64\n",
      "GENDER      298313 non-null float64\n",
      "MRSTAT      266370 non-null float64\n",
      "EDUC        264258 non-null float64\n",
      "BMI         260916 non-null float64\n",
      "GENHTH      280967 non-null float64\n",
      "MODACT      276998 non-null float64\n",
      "CLMBSV      270081 non-null float64\n",
      "PACMPL      274803 non-null float64\n",
      "PLMTKW      267458 non-null float64\n",
      "EACMPL      274942 non-null float64\n",
      "ENTCRF      266285 non-null float64\n",
      "PNINTF      274624 non-null float64\n",
      "PCEFUL      274263 non-null float64\n",
      "ENERGY      272982 non-null float64\n",
      "BLSAD       271400 non-null float64\n",
      "SCLACT      274252 non-null float64\n",
      "ASHLTH      274516 non-null float64\n",
      "ASEHLTH     270802 non-null float64\n",
      "DIFBTH      272450 non-null float64\n",
      "DIFDRS      272532 non-null float64\n",
      "DIFEAT      272052 non-null float64\n",
      "DIFCHR      272122 non-null float64\n",
      "DIFWLK      271913 non-null float64\n",
      "DIFTOL      271991 non-null float64\n",
      "DIFPRM      272111 non-null float64\n",
      "DIFMON      271318 non-null float64\n",
      "DIFMED      271245 non-null float64\n",
      "PHYHTH      303512 non-null object\n",
      "MENHTH      303512 non-null object\n",
      "PORHTH      303512 non-null object\n",
      "BLIND       270715 non-null float64\n",
      "DEAF        270575 non-null float64\n",
      "DIFCON      268915 non-null float64\n",
      "DIFERR      269269 non-null float64\n",
      "MEMINT      264658 non-null float64\n",
      "HIGHBP      270623 non-null float64\n",
      "ANGCAD      266850 non-null float64\n",
      "CHF         268209 non-null float64\n",
      "AMI         268165 non-null float64\n",
      "OTHHRT      268033 non-null float64\n",
      "STROKE      269515 non-null float64\n",
      "COPD_E      269469 non-null float64\n",
      "GI_ETC      267847 non-null float64\n",
      "ATHHIP      268661 non-null float64\n",
      "ATHHAN      268238 non-null float64\n",
      "OSTEOPO     267028 non-null float64\n",
      "SCIATC      267556 non-null float64\n",
      "DIABET      269781 non-null float64\n",
      "DEPRES      268673 non-null float64\n",
      "ANYCAN      269776 non-null float64\n",
      "COLNCA      124205 non-null float64\n",
      "LUNGCA      122902 non-null float64\n",
      "BRSTCA      122679 non-null float64\n",
      "PROSCA      118018 non-null float64\n",
      "OTHCAN      123146 non-null float64\n",
      "PNIACT      269104 non-null float64\n",
      "PNISOC      268548 non-null float64\n",
      "AVGPN       303512 non-null object\n",
      "FELTNP      265705 non-null float64\n",
      "FELTSD      264746 non-null float64\n",
      "CMPHTH      270577 non-null float64\n",
      "SMKFRQ      271112 non-null float64\n",
      "URNLKG      267062 non-null float64\n",
      "URNMAG      138292 non-null float64\n",
      "URNDOC      124217 non-null float64\n",
      "URNTRT      122562 non-null float64\n",
      "PAOTLK      263774 non-null float64\n",
      "PAOADV      260314 non-null float64\n",
      "BALTLK      266594 non-null float64\n",
      "FELL12MO    270148 non-null float64\n",
      "BAL12MO     269328 non-null float64\n",
      "FALLTLK     263637 non-null float64\n",
      "OSTTEST     265968 non-null float64\n",
      "WHOCMP      293778 non-null float64\n",
      "SRVDSP      303512 non-null object\n",
      "RNDNUM      303512 non-null object\n",
      "PCTCMP      303512 non-null float64\n",
      "COHORT      303512 non-null object\n",
      "PLREG       303512 non-null int64\n",
      "SVLANG      303512 non-null int64\n",
      "dtypes: float64(72), int64(3), object(7)\n",
      "memory usage: 192.2+ MB\n"
     ]
    }
   ],
   "source": [
    "data.info()"
   ]
  },
  {
   "cell_type": "markdown",
   "metadata": {},
   "source": [
    "# 1 - DATA INSPECTION"
   ]
  },
  {
   "cell_type": "markdown",
   "metadata": {},
   "source": [
    "The data comes from an HOS Outcomes Survey from 2012. "
   ]
  },
  {
   "cell_type": "code",
   "execution_count": 8,
   "metadata": {
    "collapsed": true
   },
   "outputs": [],
   "source": [
    "#TODO #graphic of data dictionary - pre clean"
   ]
  },
  {
   "cell_type": "code",
   "execution_count": 9,
   "metadata": {
    "collapsed": true
   },
   "outputs": [],
   "source": [
    "#TODO #graphic of data dictionary - post clean"
   ]
  },
  {
   "cell_type": "markdown",
   "metadata": {},
   "source": [
    "###Examine"
   ]
  },
  {
   "cell_type": "code",
   "execution_count": 10,
   "metadata": {
    "collapsed": false
   },
   "outputs": [
    {
     "data": {
      "text/plain": [
       "Index([  u'AGEGRP',     u'RACE',   u'GENDER',   u'MRSTAT',     u'EDUC',\n",
       "            u'BMI',   u'GENHTH',   u'MODACT',   u'CLMBSV',   u'PACMPL',\n",
       "         u'PLMTKW',   u'EACMPL',   u'ENTCRF',   u'PNINTF',   u'PCEFUL',\n",
       "         u'ENERGY',    u'BLSAD',   u'SCLACT',   u'ASHLTH',  u'ASEHLTH',\n",
       "         u'DIFBTH',   u'DIFDRS',   u'DIFEAT',   u'DIFCHR',   u'DIFWLK',\n",
       "         u'DIFTOL',   u'DIFPRM',   u'DIFMON',   u'DIFMED',   u'PHYHTH',\n",
       "         u'MENHTH',   u'PORHTH',    u'BLIND',     u'DEAF',   u'DIFCON',\n",
       "         u'DIFERR',   u'MEMINT',   u'HIGHBP',   u'ANGCAD',      u'CHF',\n",
       "            u'AMI',   u'OTHHRT',   u'STROKE',   u'COPD_E',   u'GI_ETC',\n",
       "         u'ATHHIP',   u'ATHHAN',  u'OSTEOPO',   u'SCIATC',   u'DIABET',\n",
       "         u'DEPRES',   u'ANYCAN',   u'COLNCA',   u'LUNGCA',   u'BRSTCA',\n",
       "         u'PROSCA',   u'OTHCAN',   u'PNIACT',   u'PNISOC',    u'AVGPN',\n",
       "         u'FELTNP',   u'FELTSD',   u'CMPHTH',   u'SMKFRQ',   u'URNLKG',\n",
       "         u'URNMAG',   u'URNDOC',   u'URNTRT',   u'PAOTLK',   u'PAOADV',\n",
       "         u'BALTLK', u'FELL12MO',  u'BAL12MO',  u'FALLTLK',  u'OSTTEST',\n",
       "         u'WHOCMP',   u'SRVDSP',   u'RNDNUM',   u'PCTCMP',   u'COHORT',\n",
       "          u'PLREG',   u'SVLANG'],\n",
       "      dtype='object')"
      ]
     },
     "execution_count": 10,
     "metadata": {},
     "output_type": "execute_result"
    }
   ],
   "source": [
    "data.columns"
   ]
  },
  {
   "cell_type": "code",
   "execution_count": 52,
   "metadata": {
    "collapsed": false
   },
   "outputs": [
    {
     "data": {
      "text/html": [
       "<div>\n",
       "<table border=\"1\" class=\"dataframe\">\n",
       "  <thead>\n",
       "    <tr style=\"text-align: right;\">\n",
       "      <th></th>\n",
       "      <th>AGEGRP</th>\n",
       "      <th>RACE</th>\n",
       "      <th>GENDER</th>\n",
       "      <th>MRSTAT</th>\n",
       "      <th>EDUC</th>\n",
       "      <th>BMI</th>\n",
       "      <th>GENHTH</th>\n",
       "      <th>MODACT</th>\n",
       "      <th>CLMBSV</th>\n",
       "      <th>PACMPL</th>\n",
       "      <th>...</th>\n",
       "      <th>BAL12MO</th>\n",
       "      <th>FALLTLK</th>\n",
       "      <th>OSTTEST</th>\n",
       "      <th>WHOCMP</th>\n",
       "      <th>SRVDSP</th>\n",
       "      <th>RNDNUM</th>\n",
       "      <th>PCTCMP</th>\n",
       "      <th>COHORT</th>\n",
       "      <th>PLREG</th>\n",
       "      <th>SVLANG</th>\n",
       "    </tr>\n",
       "    <tr>\n",
       "      <th>ID</th>\n",
       "      <th></th>\n",
       "      <th></th>\n",
       "      <th></th>\n",
       "      <th></th>\n",
       "      <th></th>\n",
       "      <th></th>\n",
       "      <th></th>\n",
       "      <th></th>\n",
       "      <th></th>\n",
       "      <th></th>\n",
       "      <th></th>\n",
       "      <th></th>\n",
       "      <th></th>\n",
       "      <th></th>\n",
       "      <th></th>\n",
       "      <th></th>\n",
       "      <th></th>\n",
       "      <th></th>\n",
       "      <th></th>\n",
       "      <th></th>\n",
       "      <th></th>\n",
       "    </tr>\n",
       "  </thead>\n",
       "  <tbody>\n",
       "    <tr>\n",
       "      <th>C01000060</th>\n",
       "      <td>3</td>\n",
       "      <td>NaN</td>\n",
       "      <td>2</td>\n",
       "      <td>1</td>\n",
       "      <td>1</td>\n",
       "      <td>1</td>\n",
       "      <td>4</td>\n",
       "      <td>1</td>\n",
       "      <td>1</td>\n",
       "      <td>4</td>\n",
       "      <td>...</td>\n",
       "      <td>1</td>\n",
       "      <td>1</td>\n",
       "      <td>1</td>\n",
       "      <td>1</td>\n",
       "      <td>M10</td>\n",
       "      <td>M1</td>\n",
       "      <td>97.3</td>\n",
       "      <td>C16</td>\n",
       "      <td>8</td>\n",
       "      <td>1</td>\n",
       "    </tr>\n",
       "    <tr>\n",
       "      <th>C01000361</th>\n",
       "      <td>3</td>\n",
       "      <td>1</td>\n",
       "      <td>1</td>\n",
       "      <td>1</td>\n",
       "      <td>2</td>\n",
       "      <td>1</td>\n",
       "      <td>3</td>\n",
       "      <td>2</td>\n",
       "      <td>3</td>\n",
       "      <td>2</td>\n",
       "      <td>...</td>\n",
       "      <td>2</td>\n",
       "      <td>2</td>\n",
       "      <td>2</td>\n",
       "      <td>1</td>\n",
       "      <td>T10</td>\n",
       "      <td>T1</td>\n",
       "      <td>98.7</td>\n",
       "      <td>C16</td>\n",
       "      <td>9</td>\n",
       "      <td>1</td>\n",
       "    </tr>\n",
       "    <tr>\n",
       "      <th>C01000455</th>\n",
       "      <td>3</td>\n",
       "      <td>NaN</td>\n",
       "      <td>NaN</td>\n",
       "      <td>NaN</td>\n",
       "      <td>NaN</td>\n",
       "      <td>NaN</td>\n",
       "      <td>NaN</td>\n",
       "      <td>NaN</td>\n",
       "      <td>NaN</td>\n",
       "      <td>NaN</td>\n",
       "      <td>...</td>\n",
       "      <td>NaN</td>\n",
       "      <td>NaN</td>\n",
       "      <td>NaN</td>\n",
       "      <td>2</td>\n",
       "      <td>T31</td>\n",
       "      <td>T3</td>\n",
       "      <td>1.3</td>\n",
       "      <td>C16</td>\n",
       "      <td>10</td>\n",
       "      <td>1</td>\n",
       "    </tr>\n",
       "    <tr>\n",
       "      <th>C01000542</th>\n",
       "      <td>3</td>\n",
       "      <td>1</td>\n",
       "      <td>2</td>\n",
       "      <td>2</td>\n",
       "      <td>3</td>\n",
       "      <td>2</td>\n",
       "      <td>3</td>\n",
       "      <td>1</td>\n",
       "      <td>1</td>\n",
       "      <td>2</td>\n",
       "      <td>...</td>\n",
       "      <td>1</td>\n",
       "      <td>1</td>\n",
       "      <td>1</td>\n",
       "      <td>1</td>\n",
       "      <td>M10</td>\n",
       "      <td>M1</td>\n",
       "      <td>100.0</td>\n",
       "      <td>C16</td>\n",
       "      <td>4</td>\n",
       "      <td>1</td>\n",
       "    </tr>\n",
       "    <tr>\n",
       "      <th>C01000633</th>\n",
       "      <td>3</td>\n",
       "      <td>1</td>\n",
       "      <td>1</td>\n",
       "      <td>1</td>\n",
       "      <td>2</td>\n",
       "      <td>1</td>\n",
       "      <td>5</td>\n",
       "      <td>3</td>\n",
       "      <td>3</td>\n",
       "      <td>5</td>\n",
       "      <td>...</td>\n",
       "      <td>1</td>\n",
       "      <td>1</td>\n",
       "      <td>2</td>\n",
       "      <td>1</td>\n",
       "      <td>M10</td>\n",
       "      <td>M1</td>\n",
       "      <td>100.0</td>\n",
       "      <td>C16</td>\n",
       "      <td>9</td>\n",
       "      <td>1</td>\n",
       "    </tr>\n",
       "  </tbody>\n",
       "</table>\n",
       "<p>5 rows × 82 columns</p>\n",
       "</div>"
      ],
      "text/plain": [
       "           AGEGRP  RACE  GENDER  MRSTAT  EDUC  BMI  GENHTH  MODACT  CLMBSV  \\\n",
       "ID                                                                           \n",
       "C01000060       3   NaN       2       1     1    1       4       1       1   \n",
       "C01000361       3     1       1       1     2    1       3       2       3   \n",
       "C01000455       3   NaN     NaN     NaN   NaN  NaN     NaN     NaN     NaN   \n",
       "C01000542       3     1       2       2     3    2       3       1       1   \n",
       "C01000633       3     1       1       1     2    1       5       3       3   \n",
       "\n",
       "           PACMPL   ...    BAL12MO  FALLTLK  OSTTEST  WHOCMP  SRVDSP  RNDNUM  \\\n",
       "ID                  ...                                                        \n",
       "C01000060       4   ...          1        1        1       1     M10      M1   \n",
       "C01000361       2   ...          2        2        2       1     T10      T1   \n",
       "C01000455     NaN   ...        NaN      NaN      NaN       2     T31      T3   \n",
       "C01000542       2   ...          1        1        1       1     M10      M1   \n",
       "C01000633       5   ...          1        1        2       1     M10      M1   \n",
       "\n",
       "           PCTCMP  COHORT  PLREG  SVLANG  \n",
       "ID                                        \n",
       "C01000060    97.3     C16      8       1  \n",
       "C01000361    98.7     C16      9       1  \n",
       "C01000455     1.3     C16     10       1  \n",
       "C01000542   100.0     C16      4       1  \n",
       "C01000633   100.0     C16      9       1  \n",
       "\n",
       "[5 rows x 82 columns]"
      ]
     },
     "execution_count": 52,
     "metadata": {},
     "output_type": "execute_result"
    }
   ],
   "source": [
    "data.head()"
   ]
  },
  {
   "cell_type": "markdown",
   "metadata": {},
   "source": [
    "###Prepare"
   ]
  },
  {
   "cell_type": "code",
   "execution_count": 11,
   "metadata": {
    "collapsed": false
   },
   "outputs": [],
   "source": [
    "data['DEPRES'] = data['DEPRES'].replace({1:True, 2:False})\n",
    "data['SMKFRQ'] = data['SMKFRQ'].replace({1:True, 2:True, 3:False, 4:np.nan})"
   ]
  },
  {
   "cell_type": "markdown",
   "metadata": {},
   "source": [
    "*Make PROFILE table: (1) demographics, (2) smoking (3) obesity (4) depression, (5) # CC*"
   ]
  },
  {
   "cell_type": "code",
   "execution_count": 12,
   "metadata": {
    "collapsed": false
   },
   "outputs": [],
   "source": [
    "data['MCC'] = (data[['HIGHBP', 'ANGCAD', 'CHF', 'AMI', 'OTHHRT', 'STROKE', 'COPD_E', 'GI_ETC', 'ATHHIP', 'ATHHAN', 'OSTEOPO', 'SCIATC', 'DIABET', 'COLNCA', 'LUNGCA', 'BRSTCA', 'PROSCA', 'OTHCAN']] == 1).sum(axis=1)"
   ]
  },
  {
   "cell_type": "markdown",
   "metadata": {},
   "source": [
    "*Add Targets to PROFILE Table: (1) At-Risk, (2) Care Coordination Risk*"
   ]
  },
  {
   "cell_type": "code",
   "execution_count": 13,
   "metadata": {
    "collapsed": true
   },
   "outputs": [],
   "source": [
    "#At-Risk Metric pulled from Study: Bierman AS, Clancy CM.  Health Disparities among Older Women...\n",
    "data['AT-RISK'] = data['GENHTH'] > 2.0"
   ]
  },
  {
   "cell_type": "markdown",
   "metadata": {},
   "source": [
    "At Risk Metric was pulled from Study cited above.  But to check this out ourselves, let's look at the distribution of the data.  Historically, most care coordination programs have targeted patients with chronic conditions, which are costly, especially if managed poorly. According to a 2004 Partnership for Solutions report, 48% of the U.S. population has one or more chronic conditions; all their care represents 83% of total healthcare spending.14 Patients with chronic conditions visit their health care providers, fill prescriptions, and are hospitalized more often than the general population.14 Furthermore, patients with chronic conditions are more likely to experience poorly coordinated care, which can lead to adverse drug interactions, unnecessary or duplicate tests or procedures, conflicting information from multiple providers, and increased health care costs"
   ]
  },
  {
   "cell_type": "code",
   "execution_count": 14,
   "metadata": {
    "collapsed": false
   },
   "outputs": [],
   "source": [
    "##Naive CC metric (traditional care coordination indicator) based on lit from IHI Multiple Health + Social Needs\n",
    "data['CC-NEED'] = data['MCC'] > 2.0"
   ]
  },
  {
   "cell_type": "code",
   "execution_count": 15,
   "metadata": {
    "collapsed": false
   },
   "outputs": [],
   "source": [
    "profile = data.loc[:,['AGEGRP',\n",
    " 'RACE',\n",
    " 'GENDER',\n",
    " 'MRSTAT',\n",
    " 'EDUC',\n",
    " 'PLREG',\n",
    " 'SVLANG',\n",
    " 'BMI',\n",
    " 'SMKFRQ',\n",
    " 'DEPRES',\n",
    " 'MCC',\n",
    " 'AT-RISK',\n",
    " 'CC-NEED']]"
   ]
  },
  {
   "cell_type": "code",
   "execution_count": 16,
   "metadata": {
    "collapsed": false,
    "scrolled": true
   },
   "outputs": [
    {
     "data": {
      "image/png": "[encoded data removed]",
      "text/plain": [
       "<matplotlib.figure.Figure at 0x10b3b4c90>"
      ]
     },
     "metadata": {},
     "output_type": "display_data"
    }
   ],
   "source": [
    "#not going to work because most of these are binary\n",
    "ax = sns.boxplot(data=profile['MCC'])\n",
    "# ax = sns.violinplot(data=profile['MCC'])"
   ]
  },
  {
   "cell_type": "code",
   "execution_count": 17,
   "metadata": {
    "collapsed": false
   },
   "outputs": [
    {
     "data": {
      "text/html": [
       "<div>\n",
       "<table border=\"1\" class=\"dataframe\">\n",
       "  <thead>\n",
       "    <tr style=\"text-align: right;\">\n",
       "      <th></th>\n",
       "      <th>AGEGRP</th>\n",
       "      <th>RACE</th>\n",
       "      <th>GENDER</th>\n",
       "      <th>MRSTAT</th>\n",
       "      <th>EDUC</th>\n",
       "      <th>PLREG</th>\n",
       "      <th>SVLANG</th>\n",
       "      <th>BMI</th>\n",
       "      <th>SMKFRQ</th>\n",
       "      <th>DEPRES</th>\n",
       "      <th>MCC</th>\n",
       "      <th>AT-RISK</th>\n",
       "      <th>CC-NEED</th>\n",
       "    </tr>\n",
       "    <tr>\n",
       "      <th>ID</th>\n",
       "      <th></th>\n",
       "      <th></th>\n",
       "      <th></th>\n",
       "      <th></th>\n",
       "      <th></th>\n",
       "      <th></th>\n",
       "      <th></th>\n",
       "      <th></th>\n",
       "      <th></th>\n",
       "      <th></th>\n",
       "      <th></th>\n",
       "      <th></th>\n",
       "      <th></th>\n",
       "    </tr>\n",
       "  </thead>\n",
       "  <tbody>\n",
       "    <tr>\n",
       "      <th>C01000060</th>\n",
       "      <td>3</td>\n",
       "      <td>NaN</td>\n",
       "      <td>2</td>\n",
       "      <td>1</td>\n",
       "      <td>1</td>\n",
       "      <td>8</td>\n",
       "      <td>1</td>\n",
       "      <td>1</td>\n",
       "      <td>0</td>\n",
       "      <td>0</td>\n",
       "      <td>5</td>\n",
       "      <td>True</td>\n",
       "      <td>True</td>\n",
       "    </tr>\n",
       "    <tr>\n",
       "      <th>C01000361</th>\n",
       "      <td>3</td>\n",
       "      <td>1</td>\n",
       "      <td>1</td>\n",
       "      <td>1</td>\n",
       "      <td>2</td>\n",
       "      <td>9</td>\n",
       "      <td>1</td>\n",
       "      <td>1</td>\n",
       "      <td>1</td>\n",
       "      <td>0</td>\n",
       "      <td>2</td>\n",
       "      <td>True</td>\n",
       "      <td>False</td>\n",
       "    </tr>\n",
       "    <tr>\n",
       "      <th>C01000455</th>\n",
       "      <td>3</td>\n",
       "      <td>NaN</td>\n",
       "      <td>NaN</td>\n",
       "      <td>NaN</td>\n",
       "      <td>NaN</td>\n",
       "      <td>10</td>\n",
       "      <td>1</td>\n",
       "      <td>NaN</td>\n",
       "      <td>NaN</td>\n",
       "      <td>NaN</td>\n",
       "      <td>0</td>\n",
       "      <td>False</td>\n",
       "      <td>False</td>\n",
       "    </tr>\n",
       "    <tr>\n",
       "      <th>C01000542</th>\n",
       "      <td>3</td>\n",
       "      <td>1</td>\n",
       "      <td>2</td>\n",
       "      <td>2</td>\n",
       "      <td>3</td>\n",
       "      <td>4</td>\n",
       "      <td>1</td>\n",
       "      <td>2</td>\n",
       "      <td>0</td>\n",
       "      <td>0</td>\n",
       "      <td>3</td>\n",
       "      <td>True</td>\n",
       "      <td>True</td>\n",
       "    </tr>\n",
       "    <tr>\n",
       "      <th>C01000633</th>\n",
       "      <td>3</td>\n",
       "      <td>1</td>\n",
       "      <td>1</td>\n",
       "      <td>1</td>\n",
       "      <td>2</td>\n",
       "      <td>9</td>\n",
       "      <td>1</td>\n",
       "      <td>1</td>\n",
       "      <td>0</td>\n",
       "      <td>0</td>\n",
       "      <td>5</td>\n",
       "      <td>True</td>\n",
       "      <td>True</td>\n",
       "    </tr>\n",
       "  </tbody>\n",
       "</table>\n",
       "</div>"
      ],
      "text/plain": [
       "           AGEGRP  RACE  GENDER  MRSTAT  EDUC  PLREG  SVLANG  BMI  SMKFRQ  \\\n",
       "ID                                                                          \n",
       "C01000060       3   NaN       2       1     1      8       1    1       0   \n",
       "C01000361       3     1       1       1     2      9       1    1       1   \n",
       "C01000455       3   NaN     NaN     NaN   NaN     10       1  NaN     NaN   \n",
       "C01000542       3     1       2       2     3      4       1    2       0   \n",
       "C01000633       3     1       1       1     2      9       1    1       0   \n",
       "\n",
       "           DEPRES  MCC AT-RISK CC-NEED  \n",
       "ID                                      \n",
       "C01000060       0    5    True    True  \n",
       "C01000361       0    2    True   False  \n",
       "C01000455     NaN    0   False   False  \n",
       "C01000542       0    3    True    True  \n",
       "C01000633       0    5    True    True  "
      ]
     },
     "execution_count": 17,
     "metadata": {},
     "output_type": "execute_result"
    }
   ],
   "source": [
    "profile.head()"
   ]
  },
  {
   "cell_type": "code",
   "execution_count": 18,
   "metadata": {
    "collapsed": false,
    "scrolled": true
   },
   "outputs": [
    {
     "data": {
      "text/html": [
       "<div>\n",
       "<table border=\"1\" class=\"dataframe\">\n",
       "  <thead>\n",
       "    <tr style=\"text-align: right;\">\n",
       "      <th></th>\n",
       "      <th>AGE</th>\n",
       "      <th>RACE</th>\n",
       "      <th>GENDER</th>\n",
       "      <th>MARITALSTAT</th>\n",
       "      <th>EDUCATION</th>\n",
       "      <th>REGION</th>\n",
       "      <th>LANGUAGE</th>\n",
       "      <th>OBESE</th>\n",
       "      <th>SMOKER</th>\n",
       "      <th>DEPRESSION</th>\n",
       "      <th>MCC</th>\n",
       "      <th>AT-RISK</th>\n",
       "      <th>CC-NEED</th>\n",
       "    </tr>\n",
       "    <tr>\n",
       "      <th>ID</th>\n",
       "      <th></th>\n",
       "      <th></th>\n",
       "      <th></th>\n",
       "      <th></th>\n",
       "      <th></th>\n",
       "      <th></th>\n",
       "      <th></th>\n",
       "      <th></th>\n",
       "      <th></th>\n",
       "      <th></th>\n",
       "      <th></th>\n",
       "      <th></th>\n",
       "      <th></th>\n",
       "    </tr>\n",
       "  </thead>\n",
       "  <tbody>\n",
       "    <tr>\n",
       "      <th>C01000060</th>\n",
       "      <td>3</td>\n",
       "      <td>NaN</td>\n",
       "      <td>2</td>\n",
       "      <td>1</td>\n",
       "      <td>1</td>\n",
       "      <td>8</td>\n",
       "      <td>1</td>\n",
       "      <td>1</td>\n",
       "      <td>0</td>\n",
       "      <td>0</td>\n",
       "      <td>5</td>\n",
       "      <td>True</td>\n",
       "      <td>True</td>\n",
       "    </tr>\n",
       "    <tr>\n",
       "      <th>C01000361</th>\n",
       "      <td>3</td>\n",
       "      <td>1</td>\n",
       "      <td>1</td>\n",
       "      <td>1</td>\n",
       "      <td>2</td>\n",
       "      <td>9</td>\n",
       "      <td>1</td>\n",
       "      <td>1</td>\n",
       "      <td>1</td>\n",
       "      <td>0</td>\n",
       "      <td>2</td>\n",
       "      <td>True</td>\n",
       "      <td>False</td>\n",
       "    </tr>\n",
       "    <tr>\n",
       "      <th>C01000455</th>\n",
       "      <td>3</td>\n",
       "      <td>NaN</td>\n",
       "      <td>NaN</td>\n",
       "      <td>NaN</td>\n",
       "      <td>NaN</td>\n",
       "      <td>10</td>\n",
       "      <td>1</td>\n",
       "      <td>NaN</td>\n",
       "      <td>NaN</td>\n",
       "      <td>NaN</td>\n",
       "      <td>0</td>\n",
       "      <td>False</td>\n",
       "      <td>False</td>\n",
       "    </tr>\n",
       "    <tr>\n",
       "      <th>C01000542</th>\n",
       "      <td>3</td>\n",
       "      <td>1</td>\n",
       "      <td>2</td>\n",
       "      <td>2</td>\n",
       "      <td>3</td>\n",
       "      <td>4</td>\n",
       "      <td>1</td>\n",
       "      <td>2</td>\n",
       "      <td>0</td>\n",
       "      <td>0</td>\n",
       "      <td>3</td>\n",
       "      <td>True</td>\n",
       "      <td>True</td>\n",
       "    </tr>\n",
       "    <tr>\n",
       "      <th>C01000633</th>\n",
       "      <td>3</td>\n",
       "      <td>1</td>\n",
       "      <td>1</td>\n",
       "      <td>1</td>\n",
       "      <td>2</td>\n",
       "      <td>9</td>\n",
       "      <td>1</td>\n",
       "      <td>1</td>\n",
       "      <td>0</td>\n",
       "      <td>0</td>\n",
       "      <td>5</td>\n",
       "      <td>True</td>\n",
       "      <td>True</td>\n",
       "    </tr>\n",
       "  </tbody>\n",
       "</table>\n",
       "</div>"
      ],
      "text/plain": [
       "           AGE  RACE  GENDER  MARITALSTAT  EDUCATION  REGION  LANGUAGE  OBESE  \\\n",
       "ID                                                                              \n",
       "C01000060    3   NaN       2            1          1       8         1      1   \n",
       "C01000361    3     1       1            1          2       9         1      1   \n",
       "C01000455    3   NaN     NaN          NaN        NaN      10         1    NaN   \n",
       "C01000542    3     1       2            2          3       4         1      2   \n",
       "C01000633    3     1       1            1          2       9         1      1   \n",
       "\n",
       "           SMOKER  DEPRESSION  MCC AT-RISK CC-NEED  \n",
       "ID                                                  \n",
       "C01000060       0           0    5    True    True  \n",
       "C01000361       1           0    2    True   False  \n",
       "C01000455     NaN         NaN    0   False   False  \n",
       "C01000542       0           0    3    True    True  \n",
       "C01000633       0           0    5    True    True  "
      ]
     },
     "execution_count": 18,
     "metadata": {},
     "output_type": "execute_result"
    }
   ],
   "source": [
    "#renames\n",
    "new_col_names = {\n",
    " 'AGEGRP':'AGE',\n",
    " 'MRSTAT':'MARITALSTAT',\n",
    " 'EDUC':'EDUCATION',\n",
    " 'PLREG':'REGION',\n",
    " 'SVLANG':'LANGUAGE',\n",
    " 'BMI':'OBESE',\n",
    " 'SMKFRQ':'SMOKER',\n",
    " 'DEPRES':'DEPRESSION'}\n",
    "profile = profile.rename(columns = new_col_names)\n",
    "profile.head()"
   ]
  },
  {
   "cell_type": "code",
   "execution_count": 19,
   "metadata": {
    "collapsed": false
   },
   "outputs": [],
   "source": [
    "values_to_labels = {'AGE':{1:'<65', 2: '65 to 74', 3:'>74'}, \n",
    "                    'RACE':{1:'White', 2:'Black', 3:'Other'}, \n",
    "                    'GENDER':{1:'M', 2:'F'}, \n",
    "                    'MARITALSTAT':{1:'Married', 2:'Non-Married'}, \n",
    "                    'EDUCATION':{1:'Less than HS/GED', 2:'HS/GED', 3:'Greater than HS/GED'},\n",
    "                    'REGION':{1:'Region 1 (Boston)', 2:'Region 2 (New York)', 3:'Region 3 (Philadelphia)', 4:'Region 4 (Atlanta)', 5:'Region 5 (Chicago)', 6:'Region 6 (Dallas)', 7:'Region 7 (Kansas City)', 8:'Region 8 (Denver)', 9:'Region 9 (San Francisco)', 10:'Region 10 (Seattle)'},\n",
    "                    'LANGUAGE':{1:'English', 2:'Spanish', 3:np.nan, 4:'Chinese'},\n",
    "                    'OBESE':{1:'Not obese (BMI < 30)', 2:'Obese (BMI > 30)'}\n",
    "                    }\n",
    "\n",
    "profile = profile.replace(values_to_labels)"
   ]
  },
  {
   "cell_type": "code",
   "execution_count": 20,
   "metadata": {
    "collapsed": false,
    "scrolled": true
   },
   "outputs": [
    {
     "data": {
      "text/html": [
       "<div>\n",
       "<table border=\"1\" class=\"dataframe\">\n",
       "  <thead>\n",
       "    <tr style=\"text-align: right;\">\n",
       "      <th></th>\n",
       "      <th>AGE</th>\n",
       "      <th>RACE</th>\n",
       "      <th>GENDER</th>\n",
       "      <th>MARITALSTAT</th>\n",
       "      <th>EDUCATION</th>\n",
       "      <th>REGION</th>\n",
       "      <th>LANGUAGE</th>\n",
       "      <th>OBESE</th>\n",
       "      <th>SMOKER</th>\n",
       "      <th>DEPRESSION</th>\n",
       "      <th>MCC</th>\n",
       "      <th>AT-RISK</th>\n",
       "      <th>CC-NEED</th>\n",
       "    </tr>\n",
       "    <tr>\n",
       "      <th>ID</th>\n",
       "      <th></th>\n",
       "      <th></th>\n",
       "      <th></th>\n",
       "      <th></th>\n",
       "      <th></th>\n",
       "      <th></th>\n",
       "      <th></th>\n",
       "      <th></th>\n",
       "      <th></th>\n",
       "      <th></th>\n",
       "      <th></th>\n",
       "      <th></th>\n",
       "      <th></th>\n",
       "    </tr>\n",
       "  </thead>\n",
       "  <tbody>\n",
       "    <tr>\n",
       "      <th>C01000060</th>\n",
       "      <td>&gt;74</td>\n",
       "      <td>NaN</td>\n",
       "      <td>F</td>\n",
       "      <td>Married</td>\n",
       "      <td>Less than HS/GED</td>\n",
       "      <td>Region 8 (Denver)</td>\n",
       "      <td>English</td>\n",
       "      <td>Not obese (BMI &lt; 30)</td>\n",
       "      <td>0</td>\n",
       "      <td>0</td>\n",
       "      <td>5</td>\n",
       "      <td>True</td>\n",
       "      <td>True</td>\n",
       "    </tr>\n",
       "    <tr>\n",
       "      <th>C01000361</th>\n",
       "      <td>&gt;74</td>\n",
       "      <td>White</td>\n",
       "      <td>M</td>\n",
       "      <td>Married</td>\n",
       "      <td>HS/GED</td>\n",
       "      <td>Region 9 (San Francisco)</td>\n",
       "      <td>English</td>\n",
       "      <td>Not obese (BMI &lt; 30)</td>\n",
       "      <td>1</td>\n",
       "      <td>0</td>\n",
       "      <td>2</td>\n",
       "      <td>True</td>\n",
       "      <td>False</td>\n",
       "    </tr>\n",
       "    <tr>\n",
       "      <th>C01000455</th>\n",
       "      <td>&gt;74</td>\n",
       "      <td>NaN</td>\n",
       "      <td>NaN</td>\n",
       "      <td>NaN</td>\n",
       "      <td>NaN</td>\n",
       "      <td>Region 10 (Seattle)</td>\n",
       "      <td>English</td>\n",
       "      <td>NaN</td>\n",
       "      <td>NaN</td>\n",
       "      <td>NaN</td>\n",
       "      <td>0</td>\n",
       "      <td>False</td>\n",
       "      <td>False</td>\n",
       "    </tr>\n",
       "    <tr>\n",
       "      <th>C01000542</th>\n",
       "      <td>&gt;74</td>\n",
       "      <td>White</td>\n",
       "      <td>F</td>\n",
       "      <td>Non-Married</td>\n",
       "      <td>Greater than HS/GED</td>\n",
       "      <td>Region 4 (Atlanta)</td>\n",
       "      <td>English</td>\n",
       "      <td>Obese (BMI &gt; 30)</td>\n",
       "      <td>0</td>\n",
       "      <td>0</td>\n",
       "      <td>3</td>\n",
       "      <td>True</td>\n",
       "      <td>True</td>\n",
       "    </tr>\n",
       "    <tr>\n",
       "      <th>C01000633</th>\n",
       "      <td>&gt;74</td>\n",
       "      <td>White</td>\n",
       "      <td>M</td>\n",
       "      <td>Married</td>\n",
       "      <td>HS/GED</td>\n",
       "      <td>Region 9 (San Francisco)</td>\n",
       "      <td>English</td>\n",
       "      <td>Not obese (BMI &lt; 30)</td>\n",
       "      <td>0</td>\n",
       "      <td>0</td>\n",
       "      <td>5</td>\n",
       "      <td>True</td>\n",
       "      <td>True</td>\n",
       "    </tr>\n",
       "  </tbody>\n",
       "</table>\n",
       "</div>"
      ],
      "text/plain": [
       "           AGE   RACE GENDER  MARITALSTAT            EDUCATION  \\\n",
       "ID                                                               \n",
       "C01000060  >74    NaN      F      Married     Less than HS/GED   \n",
       "C01000361  >74  White      M      Married               HS/GED   \n",
       "C01000455  >74    NaN    NaN          NaN                  NaN   \n",
       "C01000542  >74  White      F  Non-Married  Greater than HS/GED   \n",
       "C01000633  >74  White      M      Married               HS/GED   \n",
       "\n",
       "                             REGION LANGUAGE                 OBESE  SMOKER  \\\n",
       "ID                                                                           \n",
       "C01000060         Region 8 (Denver)  English  Not obese (BMI < 30)       0   \n",
       "C01000361  Region 9 (San Francisco)  English  Not obese (BMI < 30)       1   \n",
       "C01000455       Region 10 (Seattle)  English                   NaN     NaN   \n",
       "C01000542        Region 4 (Atlanta)  English      Obese (BMI > 30)       0   \n",
       "C01000633  Region 9 (San Francisco)  English  Not obese (BMI < 30)       0   \n",
       "\n",
       "           DEPRESSION  MCC AT-RISK CC-NEED  \n",
       "ID                                          \n",
       "C01000060           0    5    True    True  \n",
       "C01000361           0    2    True   False  \n",
       "C01000455         NaN    0   False   False  \n",
       "C01000542           0    3    True    True  \n",
       "C01000633           0    5    True    True  "
      ]
     },
     "execution_count": 20,
     "metadata": {},
     "output_type": "execute_result"
    }
   ],
   "source": [
    "profile.head()"
   ]
  },
  {
   "cell_type": "markdown",
   "metadata": {},
   "source": [
    "*Look for general patterns in data spread*"
   ]
  },
  {
   "cell_type": "code",
   "execution_count": 21,
   "metadata": {
    "collapsed": false
   },
   "outputs": [
    {
     "data": {
      "text/html": [
       "<div>\n",
       "<table border=\"1\" class=\"dataframe\">\n",
       "  <thead>\n",
       "    <tr style=\"text-align: right;\">\n",
       "      <th></th>\n",
       "      <th>SMOKER</th>\n",
       "      <th>DEPRESSION</th>\n",
       "      <th>MCC</th>\n",
       "      <th>AT-RISK</th>\n",
       "      <th>CC-NEED</th>\n",
       "    </tr>\n",
       "  </thead>\n",
       "  <tbody>\n",
       "    <tr>\n",
       "      <th>count</th>\n",
       "      <td>269228.000000</td>\n",
       "      <td>268673.000000</td>\n",
       "      <td>303512.000000</td>\n",
       "      <td>303512</td>\n",
       "      <td>303512</td>\n",
       "    </tr>\n",
       "    <tr>\n",
       "      <th>mean</th>\n",
       "      <td>0.133712</td>\n",
       "      <td>0.261489</td>\n",
       "      <td>2.841835</td>\n",
       "      <td>0.6493186</td>\n",
       "      <td>0.5022174</td>\n",
       "    </tr>\n",
       "    <tr>\n",
       "      <th>std</th>\n",
       "      <td>0.340343</td>\n",
       "      <td>0.439446</td>\n",
       "      <td>2.313805</td>\n",
       "      <td>0.4771841</td>\n",
       "      <td>0.4999959</td>\n",
       "    </tr>\n",
       "    <tr>\n",
       "      <th>min</th>\n",
       "      <td>0.000000</td>\n",
       "      <td>0.000000</td>\n",
       "      <td>0.000000</td>\n",
       "      <td>False</td>\n",
       "      <td>False</td>\n",
       "    </tr>\n",
       "    <tr>\n",
       "      <th>25%</th>\n",
       "      <td>0.000000</td>\n",
       "      <td>0.000000</td>\n",
       "      <td>1.000000</td>\n",
       "      <td>0</td>\n",
       "      <td>0</td>\n",
       "    </tr>\n",
       "    <tr>\n",
       "      <th>50%</th>\n",
       "      <td>0.000000</td>\n",
       "      <td>0.000000</td>\n",
       "      <td>3.000000</td>\n",
       "      <td>1</td>\n",
       "      <td>1</td>\n",
       "    </tr>\n",
       "    <tr>\n",
       "      <th>75%</th>\n",
       "      <td>0.000000</td>\n",
       "      <td>1.000000</td>\n",
       "      <td>4.000000</td>\n",
       "      <td>1</td>\n",
       "      <td>1</td>\n",
       "    </tr>\n",
       "    <tr>\n",
       "      <th>max</th>\n",
       "      <td>1.000000</td>\n",
       "      <td>1.000000</td>\n",
       "      <td>18.000000</td>\n",
       "      <td>True</td>\n",
       "      <td>True</td>\n",
       "    </tr>\n",
       "  </tbody>\n",
       "</table>\n",
       "</div>"
      ],
      "text/plain": [
       "              SMOKER     DEPRESSION            MCC    AT-RISK    CC-NEED\n",
       "count  269228.000000  268673.000000  303512.000000     303512     303512\n",
       "mean        0.133712       0.261489       2.841835  0.6493186  0.5022174\n",
       "std         0.340343       0.439446       2.313805  0.4771841  0.4999959\n",
       "min         0.000000       0.000000       0.000000      False      False\n",
       "25%         0.000000       0.000000       1.000000          0          0\n",
       "50%         0.000000       0.000000       3.000000          1          1\n",
       "75%         0.000000       1.000000       4.000000          1          1\n",
       "max         1.000000       1.000000      18.000000       True       True"
      ]
     },
     "execution_count": 21,
     "metadata": {},
     "output_type": "execute_result"
    }
   ],
   "source": [
    "profile.describe()"
   ]
  },
  {
   "cell_type": "code",
   "execution_count": 64,
   "metadata": {
    "collapsed": true
   },
   "outputs": [],
   "source": [
    "from sklearn import preprocessing\n",
    "le = preprocessing.LabelEncoder()\n",
    "\n",
    "def convert_labels(data):\n",
    "    for col_name in data.columns:\n",
    "        col = data[col_name]\n",
    "        if col.dtype == 'O':\n",
    "            labels = col.unique()\n",
    "            le.fit(labels)\n",
    "            data[col_name] = le.transform(col)\n",
    "    return data"
   ]
  },
  {
   "cell_type": "code",
   "execution_count": 65,
   "metadata": {
    "collapsed": false,
    "scrolled": false
   },
   "outputs": [
    {
     "name": "stderr",
     "output_type": "stream",
     "text": [
      "/Users/ceslee-work/anaconda/lib/python2.7/site-packages/IPython/kernel/__main__.py:10: SettingWithCopyWarning: \n",
      "A value is trying to be set on a copy of a slice from a DataFrame.\n",
      "Try using .loc[row_indexer,col_indexer] = value instead\n",
      "\n",
      "See the the caveats in the documentation: http://pandas.pydata.org/pandas-docs/stable/indexing.html#indexing-view-versus-copy\n"
     ]
    }
   ],
   "source": [
    "profiles_converted = convert_labels(profile.dropna())"
   ]
  },
  {
   "cell_type": "code",
   "execution_count": 66,
   "metadata": {
    "collapsed": false,
    "scrolled": true
   },
   "outputs": [
    {
     "data": {
      "text/html": [
       "<div>\n",
       "<table border=\"1\" class=\"dataframe\">\n",
       "  <thead>\n",
       "    <tr style=\"text-align: right;\">\n",
       "      <th></th>\n",
       "      <th>AGE</th>\n",
       "      <th>RACE</th>\n",
       "      <th>GENDER</th>\n",
       "      <th>MARITALSTAT</th>\n",
       "      <th>EDUCATION</th>\n",
       "      <th>REGION</th>\n",
       "      <th>LANGUAGE</th>\n",
       "      <th>OBESE</th>\n",
       "      <th>SMOKER</th>\n",
       "      <th>DEPRESSION</th>\n",
       "      <th>MCC</th>\n",
       "      <th>AT-RISK</th>\n",
       "      <th>CC-NEED</th>\n",
       "    </tr>\n",
       "    <tr>\n",
       "      <th>ID</th>\n",
       "      <th></th>\n",
       "      <th></th>\n",
       "      <th></th>\n",
       "      <th></th>\n",
       "      <th></th>\n",
       "      <th></th>\n",
       "      <th></th>\n",
       "      <th></th>\n",
       "      <th></th>\n",
       "      <th></th>\n",
       "      <th></th>\n",
       "      <th></th>\n",
       "      <th></th>\n",
       "    </tr>\n",
       "  </thead>\n",
       "  <tbody>\n",
       "    <tr>\n",
       "      <th>C01000361</th>\n",
       "      <td>2</td>\n",
       "      <td>2</td>\n",
       "      <td>1</td>\n",
       "      <td>0</td>\n",
       "      <td>1</td>\n",
       "      <td>9</td>\n",
       "      <td>1</td>\n",
       "      <td>0</td>\n",
       "      <td>1</td>\n",
       "      <td>0</td>\n",
       "      <td>2</td>\n",
       "      <td>True</td>\n",
       "      <td>False</td>\n",
       "    </tr>\n",
       "    <tr>\n",
       "      <th>C01000542</th>\n",
       "      <td>2</td>\n",
       "      <td>2</td>\n",
       "      <td>0</td>\n",
       "      <td>1</td>\n",
       "      <td>0</td>\n",
       "      <td>4</td>\n",
       "      <td>1</td>\n",
       "      <td>1</td>\n",
       "      <td>0</td>\n",
       "      <td>0</td>\n",
       "      <td>3</td>\n",
       "      <td>True</td>\n",
       "      <td>True</td>\n",
       "    </tr>\n",
       "    <tr>\n",
       "      <th>C01000633</th>\n",
       "      <td>2</td>\n",
       "      <td>2</td>\n",
       "      <td>1</td>\n",
       "      <td>0</td>\n",
       "      <td>1</td>\n",
       "      <td>9</td>\n",
       "      <td>1</td>\n",
       "      <td>0</td>\n",
       "      <td>0</td>\n",
       "      <td>0</td>\n",
       "      <td>5</td>\n",
       "      <td>True</td>\n",
       "      <td>True</td>\n",
       "    </tr>\n",
       "    <tr>\n",
       "      <th>C01000819</th>\n",
       "      <td>2</td>\n",
       "      <td>2</td>\n",
       "      <td>0</td>\n",
       "      <td>1</td>\n",
       "      <td>2</td>\n",
       "      <td>7</td>\n",
       "      <td>1</td>\n",
       "      <td>0</td>\n",
       "      <td>0</td>\n",
       "      <td>0</td>\n",
       "      <td>4</td>\n",
       "      <td>True</td>\n",
       "      <td>True</td>\n",
       "    </tr>\n",
       "    <tr>\n",
       "      <th>C01000988</th>\n",
       "      <td>2</td>\n",
       "      <td>2</td>\n",
       "      <td>1</td>\n",
       "      <td>1</td>\n",
       "      <td>2</td>\n",
       "      <td>0</td>\n",
       "      <td>1</td>\n",
       "      <td>0</td>\n",
       "      <td>0</td>\n",
       "      <td>0</td>\n",
       "      <td>4</td>\n",
       "      <td>True</td>\n",
       "      <td>True</td>\n",
       "    </tr>\n",
       "  </tbody>\n",
       "</table>\n",
       "</div>"
      ],
      "text/plain": [
       "           AGE  RACE  GENDER  MARITALSTAT  EDUCATION  REGION  LANGUAGE  OBESE  \\\n",
       "ID                                                                              \n",
       "C01000361    2     2       1            0          1       9         1      0   \n",
       "C01000542    2     2       0            1          0       4         1      1   \n",
       "C01000633    2     2       1            0          1       9         1      0   \n",
       "C01000819    2     2       0            1          2       7         1      0   \n",
       "C01000988    2     2       1            1          2       0         1      0   \n",
       "\n",
       "           SMOKER  DEPRESSION  MCC AT-RISK CC-NEED  \n",
       "ID                                                  \n",
       "C01000361       1           0    2    True   False  \n",
       "C01000542       0           0    3    True    True  \n",
       "C01000633       0           0    5    True    True  \n",
       "C01000819       0           0    4    True    True  \n",
       "C01000988       0           0    4    True    True  "
      ]
     },
     "execution_count": 66,
     "metadata": {},
     "output_type": "execute_result"
    }
   ],
   "source": [
    "profiles_converted.head()"
   ]
  },
  {
   "cell_type": "markdown",
   "metadata": {},
   "source": [
    "*Make NEEDS table: (1) roll-up additional health questions that remain: ADLs (Activities of Daily Living), etc."
   ]
  },
  {
   "cell_type": "code",
   "execution_count": 67,
   "metadata": {
    "collapsed": false
   },
   "outputs": [],
   "source": [
    "#list was somewhat cherry picked so come back to left out vars.\n",
    "# needs = data.loc[:,['SCLACT', 'DIFBTH', 'DIFDRS', 'DIFEAT', 'DIFCHR', 'DIFWLK', 'DIFTOL', 'DIFPRM', 'DIFMON', 'DIFMED', 'BLIND', 'DEAF', 'DIFCON', 'DIFERR', 'MEMINT', 'PNIACT']]\n",
    "\n",
    "emotional = (data.loc[:, ['FELTNP', 'FELTSD']]).replace({1:False, 2:True, 3:True, 4:True})\n",
    "pain = data['PNIACT'].replace({1:False, 2:True, 3:True, 4:True, 5:True})\n",
    "social = data['SCLACT'].replace({1:True, 2:True, 3:True, 4:True, 5:False})\n",
    "adl_1 = data.loc[:, ['DIFBTH', 'DIFDRS', 'DIFEAT', 'DIFCHR', 'DIFWLK', 'DIFTOL', 'DIFPRM', 'DIFMON', 'DIFMED']].replace({1:False, 2:True, 3:True})\n",
    "adl_2 = data.loc[:, ['BLIND', 'DEAF', 'DIFCON', 'DIFERR']].replace({1:True, 2:False})\n",
    "needs = pd.concat([emotional, pain, social, adl_1, adl_2], axis=1)"
   ]
  },
  {
   "cell_type": "code",
   "execution_count": 68,
   "metadata": {
    "collapsed": false,
    "scrolled": true
   },
   "outputs": [
    {
     "data": {
      "text/html": [
       "<div>\n",
       "<table border=\"1\" class=\"dataframe\">\n",
       "  <thead>\n",
       "    <tr style=\"text-align: right;\">\n",
       "      <th></th>\n",
       "      <th>FELTNP</th>\n",
       "      <th>FELTSD</th>\n",
       "      <th>PNIACT</th>\n",
       "      <th>SCLACT</th>\n",
       "      <th>DIFBTH</th>\n",
       "      <th>DIFDRS</th>\n",
       "      <th>DIFEAT</th>\n",
       "      <th>DIFCHR</th>\n",
       "      <th>DIFWLK</th>\n",
       "      <th>DIFTOL</th>\n",
       "      <th>DIFPRM</th>\n",
       "      <th>DIFMON</th>\n",
       "      <th>DIFMED</th>\n",
       "      <th>BLIND</th>\n",
       "      <th>DEAF</th>\n",
       "      <th>DIFCON</th>\n",
       "      <th>DIFERR</th>\n",
       "    </tr>\n",
       "    <tr>\n",
       "      <th>ID</th>\n",
       "      <th></th>\n",
       "      <th></th>\n",
       "      <th></th>\n",
       "      <th></th>\n",
       "      <th></th>\n",
       "      <th></th>\n",
       "      <th></th>\n",
       "      <th></th>\n",
       "      <th></th>\n",
       "      <th></th>\n",
       "      <th></th>\n",
       "      <th></th>\n",
       "      <th></th>\n",
       "      <th></th>\n",
       "      <th></th>\n",
       "      <th></th>\n",
       "      <th></th>\n",
       "    </tr>\n",
       "  </thead>\n",
       "  <tbody>\n",
       "    <tr>\n",
       "      <th>C01000060</th>\n",
       "      <td>0</td>\n",
       "      <td>0</td>\n",
       "      <td>1</td>\n",
       "      <td>1</td>\n",
       "      <td>0</td>\n",
       "      <td>0</td>\n",
       "      <td>0</td>\n",
       "      <td>1</td>\n",
       "      <td>1</td>\n",
       "      <td>0</td>\n",
       "      <td>0</td>\n",
       "      <td>0</td>\n",
       "      <td>0</td>\n",
       "      <td>0</td>\n",
       "      <td>1</td>\n",
       "      <td>0</td>\n",
       "      <td>0</td>\n",
       "    </tr>\n",
       "    <tr>\n",
       "      <th>C01000361</th>\n",
       "      <td>0</td>\n",
       "      <td>0</td>\n",
       "      <td>0</td>\n",
       "      <td>0</td>\n",
       "      <td>0</td>\n",
       "      <td>0</td>\n",
       "      <td>0</td>\n",
       "      <td>0</td>\n",
       "      <td>1</td>\n",
       "      <td>0</td>\n",
       "      <td>0</td>\n",
       "      <td>0</td>\n",
       "      <td>0</td>\n",
       "      <td>0</td>\n",
       "      <td>0</td>\n",
       "      <td>0</td>\n",
       "      <td>0</td>\n",
       "    </tr>\n",
       "    <tr>\n",
       "      <th>C01000455</th>\n",
       "      <td>NaN</td>\n",
       "      <td>NaN</td>\n",
       "      <td>NaN</td>\n",
       "      <td>NaN</td>\n",
       "      <td>NaN</td>\n",
       "      <td>NaN</td>\n",
       "      <td>NaN</td>\n",
       "      <td>NaN</td>\n",
       "      <td>NaN</td>\n",
       "      <td>NaN</td>\n",
       "      <td>NaN</td>\n",
       "      <td>NaN</td>\n",
       "      <td>NaN</td>\n",
       "      <td>NaN</td>\n",
       "      <td>NaN</td>\n",
       "      <td>NaN</td>\n",
       "      <td>NaN</td>\n",
       "    </tr>\n",
       "    <tr>\n",
       "      <th>C01000542</th>\n",
       "      <td>0</td>\n",
       "      <td>0</td>\n",
       "      <td>1</td>\n",
       "      <td>1</td>\n",
       "      <td>0</td>\n",
       "      <td>0</td>\n",
       "      <td>0</td>\n",
       "      <td>1</td>\n",
       "      <td>1</td>\n",
       "      <td>0</td>\n",
       "      <td>0</td>\n",
       "      <td>0</td>\n",
       "      <td>0</td>\n",
       "      <td>0</td>\n",
       "      <td>0</td>\n",
       "      <td>0</td>\n",
       "      <td>1</td>\n",
       "    </tr>\n",
       "    <tr>\n",
       "      <th>C01000633</th>\n",
       "      <td>1</td>\n",
       "      <td>1</td>\n",
       "      <td>1</td>\n",
       "      <td>1</td>\n",
       "      <td>0</td>\n",
       "      <td>1</td>\n",
       "      <td>0</td>\n",
       "      <td>1</td>\n",
       "      <td>1</td>\n",
       "      <td>0</td>\n",
       "      <td>1</td>\n",
       "      <td>0</td>\n",
       "      <td>1</td>\n",
       "      <td>0</td>\n",
       "      <td>1</td>\n",
       "      <td>1</td>\n",
       "      <td>1</td>\n",
       "    </tr>\n",
       "  </tbody>\n",
       "</table>\n",
       "</div>"
      ],
      "text/plain": [
       "           FELTNP  FELTSD  PNIACT  SCLACT  DIFBTH  DIFDRS  DIFEAT  DIFCHR  \\\n",
       "ID                                                                          \n",
       "C01000060       0       0       1       1       0       0       0       1   \n",
       "C01000361       0       0       0       0       0       0       0       0   \n",
       "C01000455     NaN     NaN     NaN     NaN     NaN     NaN     NaN     NaN   \n",
       "C01000542       0       0       1       1       0       0       0       1   \n",
       "C01000633       1       1       1       1       0       1       0       1   \n",
       "\n",
       "           DIFWLK  DIFTOL  DIFPRM  DIFMON  DIFMED  BLIND  DEAF  DIFCON  DIFERR  \n",
       "ID                                                                              \n",
       "C01000060       1       0       0       0       0      0     1       0       0  \n",
       "C01000361       1       0       0       0       0      0     0       0       0  \n",
       "C01000455     NaN     NaN     NaN     NaN     NaN    NaN   NaN     NaN     NaN  \n",
       "C01000542       1       0       0       0       0      0     0       0       1  \n",
       "C01000633       1       0       1       0       1      0     1       1       1  "
      ]
     },
     "execution_count": 68,
     "metadata": {},
     "output_type": "execute_result"
    }
   ],
   "source": [
    "needs.head()"
   ]
  },
  {
   "cell_type": "markdown",
   "metadata": {},
   "source": [
    "*Make WELLNESS table: (1) roll-up 8 questions into 6 health domains."
   ]
  },
  {
   "cell_type": "code",
   "execution_count": 69,
   "metadata": {
    "collapsed": false
   },
   "outputs": [
    {
     "data": {
      "text/plain": [
       "Index([  u'AGEGRP',     u'RACE',   u'GENDER',   u'MRSTAT',     u'EDUC',\n",
       "            u'BMI',   u'GENHTH',   u'MODACT',   u'CLMBSV',   u'PACMPL',\n",
       "         u'PLMTKW',   u'EACMPL',   u'ENTCRF',   u'PNINTF',   u'PCEFUL',\n",
       "         u'ENERGY',    u'BLSAD',   u'SCLACT',   u'ASHLTH',  u'ASEHLTH',\n",
       "         u'DIFBTH',   u'DIFDRS',   u'DIFEAT',   u'DIFCHR',   u'DIFWLK',\n",
       "         u'DIFTOL',   u'DIFPRM',   u'DIFMON',   u'DIFMED',   u'PHYHTH',\n",
       "         u'MENHTH',   u'PORHTH',    u'BLIND',     u'DEAF',   u'DIFCON',\n",
       "         u'DIFERR',   u'MEMINT',   u'HIGHBP',   u'ANGCAD',      u'CHF',\n",
       "            u'AMI',   u'OTHHRT',   u'STROKE',   u'COPD_E',   u'GI_ETC',\n",
       "         u'ATHHIP',   u'ATHHAN',  u'OSTEOPO',   u'SCIATC',   u'DIABET',\n",
       "         u'DEPRES',   u'ANYCAN',   u'COLNCA',   u'LUNGCA',   u'BRSTCA',\n",
       "         u'PROSCA',   u'OTHCAN',   u'PNIACT',   u'PNISOC',    u'AVGPN',\n",
       "         u'FELTNP',   u'FELTSD',   u'CMPHTH',   u'SMKFRQ',   u'URNLKG',\n",
       "         u'URNMAG',   u'URNDOC',   u'URNTRT',   u'PAOTLK',   u'PAOADV',\n",
       "         u'BALTLK', u'FELL12MO',  u'BAL12MO',  u'FALLTLK',  u'OSTTEST',\n",
       "         u'WHOCMP',   u'SRVDSP',   u'RNDNUM',   u'PCTCMP',   u'COHORT',\n",
       "          u'PLREG',   u'SVLANG',      u'MCC',  u'AT-RISK',  u'CC-NEED'],\n",
       "      dtype='object')"
      ]
     },
     "execution_count": 69,
     "metadata": {},
     "output_type": "execute_result"
    }
   ],
   "source": [
    "data.columns"
   ]
  },
  {
   "cell_type": "code",
   "execution_count": 70,
   "metadata": {
    "collapsed": false
   },
   "outputs": [
    {
     "data": {
      "text/html": [
       "<div>\n",
       "<table border=\"1\" class=\"dataframe\">\n",
       "  <thead>\n",
       "    <tr style=\"text-align: right;\">\n",
       "      <th></th>\n",
       "      <th>PNINTF</th>\n",
       "      <th>GENHTH</th>\n",
       "      <th>ENERGY</th>\n",
       "      <th>SCLACT</th>\n",
       "      <th>Physical Functioning</th>\n",
       "      <th>Role Physical</th>\n",
       "      <th>Role Emotional</th>\n",
       "      <th>Mental Health</th>\n",
       "    </tr>\n",
       "    <tr>\n",
       "      <th>ID</th>\n",
       "      <th></th>\n",
       "      <th></th>\n",
       "      <th></th>\n",
       "      <th></th>\n",
       "      <th></th>\n",
       "      <th></th>\n",
       "      <th></th>\n",
       "      <th></th>\n",
       "    </tr>\n",
       "  </thead>\n",
       "  <tbody>\n",
       "    <tr>\n",
       "      <th>C01000060</th>\n",
       "      <td>3</td>\n",
       "      <td>4</td>\n",
       "      <td>5</td>\n",
       "      <td>1</td>\n",
       "      <td>2.0</td>\n",
       "      <td>4.0</td>\n",
       "      <td>3</td>\n",
       "      <td>2.5</td>\n",
       "    </tr>\n",
       "    <tr>\n",
       "      <th>C01000361</th>\n",
       "      <td>2</td>\n",
       "      <td>3</td>\n",
       "      <td>4</td>\n",
       "      <td>0</td>\n",
       "      <td>0.5</td>\n",
       "      <td>1.5</td>\n",
       "      <td>1</td>\n",
       "      <td>1.0</td>\n",
       "    </tr>\n",
       "    <tr>\n",
       "      <th>C01000455</th>\n",
       "      <td>NaN</td>\n",
       "      <td>NaN</td>\n",
       "      <td>NaN</td>\n",
       "      <td>NaN</td>\n",
       "      <td>NaN</td>\n",
       "      <td>NaN</td>\n",
       "      <td>NaN</td>\n",
       "      <td>NaN</td>\n",
       "    </tr>\n",
       "    <tr>\n",
       "      <th>C01000542</th>\n",
       "      <td>2</td>\n",
       "      <td>3</td>\n",
       "      <td>6</td>\n",
       "      <td>1</td>\n",
       "      <td>2.0</td>\n",
       "      <td>2.5</td>\n",
       "      <td>1</td>\n",
       "      <td>1.0</td>\n",
       "    </tr>\n",
       "    <tr>\n",
       "      <th>C01000633</th>\n",
       "      <td>5</td>\n",
       "      <td>5</td>\n",
       "      <td>6</td>\n",
       "      <td>3</td>\n",
       "      <td>0.0</td>\n",
       "      <td>5.0</td>\n",
       "      <td>5</td>\n",
       "      <td>4.0</td>\n",
       "    </tr>\n",
       "  </tbody>\n",
       "</table>\n",
       "</div>"
      ],
      "text/plain": [
       "           PNINTF  GENHTH  ENERGY  SCLACT  Physical Functioning  \\\n",
       "ID                                                                \n",
       "C01000060       3       4       5       1                   2.0   \n",
       "C01000361       2       3       4       0                   0.5   \n",
       "C01000455     NaN     NaN     NaN     NaN                   NaN   \n",
       "C01000542       2       3       6       1                   2.0   \n",
       "C01000633       5       5       6       3                   0.0   \n",
       "\n",
       "           Role Physical  Role Emotional  Mental Health  \n",
       "ID                                                       \n",
       "C01000060            4.0               3            2.5  \n",
       "C01000361            1.5               1            1.0  \n",
       "C01000455            NaN             NaN            NaN  \n",
       "C01000542            2.5               1            1.0  \n",
       "C01000633            5.0               5            4.0  "
      ]
     },
     "execution_count": 70,
     "metadata": {},
     "output_type": "execute_result"
    }
   ],
   "source": [
    "wellness = data.loc[:,['PNINTF', 'GENHTH', 'ENERGY', 'SCLACT']]\n",
    "#calc new cols\n",
    "wellness['Physical Functioning'] = ((3 - data['MODACT']) + (3 - data['CLMBSV']))/2\n",
    "wellness['Role Physical'] = (data['PACMPL'] + data['PLMTKW'])/2\n",
    "wellness['Role Emotional'] = (data['EACMPL'] + data['ENTCRF'])/2\n",
    "#reorder responses so that biggest gaps/needs are ascending ordered\n",
    "wellness['Mental Health'] = (data['PCEFUL'] + (6 - data['BLSAD']))/2\n",
    "wellness['SCLACT'] = (5 - wellness['SCLACT'])\n",
    "\n",
    "wellness.head()"
   ]
  },
  {
   "cell_type": "code",
   "execution_count": 71,
   "metadata": {
    "collapsed": false
   },
   "outputs": [],
   "source": [
    "#reorder cols + renames\n",
    "new_col_names = {\n",
    " 'Physical Functioning':'Physical Functioning',\n",
    " 'Role Physical':'Role Physical',\n",
    " 'PNINTF': 'Bodily Pain',\n",
    " 'GENHTH': 'General Health',\n",
    " 'ENERGY': 'Vitality',\n",
    " 'SCLACT':'Social Functioning',\n",
    " 'Role Emotional':'Role Emotional',\n",
    " 'Mental Health':'Mental Health'\n",
    " }\n",
    "wellness = wellness.rename(columns = new_col_names)\n",
    "\n",
    "#scale"
   ]
  },
  {
   "cell_type": "code",
   "execution_count": 72,
   "metadata": {
    "collapsed": false
   },
   "outputs": [
    {
     "data": {
      "text/html": [
       "<div>\n",
       "<table border=\"1\" class=\"dataframe\">\n",
       "  <thead>\n",
       "    <tr style=\"text-align: right;\">\n",
       "      <th></th>\n",
       "      <th>Bodily Pain</th>\n",
       "      <th>General Health</th>\n",
       "      <th>Vitality</th>\n",
       "      <th>Social Functioning</th>\n",
       "      <th>Physical Functioning</th>\n",
       "      <th>Role Physical</th>\n",
       "      <th>Role Emotional</th>\n",
       "      <th>Mental Health</th>\n",
       "    </tr>\n",
       "    <tr>\n",
       "      <th>ID</th>\n",
       "      <th></th>\n",
       "      <th></th>\n",
       "      <th></th>\n",
       "      <th></th>\n",
       "      <th></th>\n",
       "      <th></th>\n",
       "      <th></th>\n",
       "      <th></th>\n",
       "    </tr>\n",
       "  </thead>\n",
       "  <tbody>\n",
       "    <tr>\n",
       "      <th>C01000060</th>\n",
       "      <td>3</td>\n",
       "      <td>4</td>\n",
       "      <td>5</td>\n",
       "      <td>1</td>\n",
       "      <td>2.0</td>\n",
       "      <td>4.0</td>\n",
       "      <td>3</td>\n",
       "      <td>2.5</td>\n",
       "    </tr>\n",
       "    <tr>\n",
       "      <th>C01000361</th>\n",
       "      <td>2</td>\n",
       "      <td>3</td>\n",
       "      <td>4</td>\n",
       "      <td>0</td>\n",
       "      <td>0.5</td>\n",
       "      <td>1.5</td>\n",
       "      <td>1</td>\n",
       "      <td>1.0</td>\n",
       "    </tr>\n",
       "    <tr>\n",
       "      <th>C01000455</th>\n",
       "      <td>NaN</td>\n",
       "      <td>NaN</td>\n",
       "      <td>NaN</td>\n",
       "      <td>NaN</td>\n",
       "      <td>NaN</td>\n",
       "      <td>NaN</td>\n",
       "      <td>NaN</td>\n",
       "      <td>NaN</td>\n",
       "    </tr>\n",
       "    <tr>\n",
       "      <th>C01000542</th>\n",
       "      <td>2</td>\n",
       "      <td>3</td>\n",
       "      <td>6</td>\n",
       "      <td>1</td>\n",
       "      <td>2.0</td>\n",
       "      <td>2.5</td>\n",
       "      <td>1</td>\n",
       "      <td>1.0</td>\n",
       "    </tr>\n",
       "    <tr>\n",
       "      <th>C01000633</th>\n",
       "      <td>5</td>\n",
       "      <td>5</td>\n",
       "      <td>6</td>\n",
       "      <td>3</td>\n",
       "      <td>0.0</td>\n",
       "      <td>5.0</td>\n",
       "      <td>5</td>\n",
       "      <td>4.0</td>\n",
       "    </tr>\n",
       "  </tbody>\n",
       "</table>\n",
       "</div>"
      ],
      "text/plain": [
       "           Bodily Pain  General Health  Vitality  Social Functioning  \\\n",
       "ID                                                                     \n",
       "C01000060            3               4         5                   1   \n",
       "C01000361            2               3         4                   0   \n",
       "C01000455          NaN             NaN       NaN                 NaN   \n",
       "C01000542            2               3         6                   1   \n",
       "C01000633            5               5         6                   3   \n",
       "\n",
       "           Physical Functioning  Role Physical  Role Emotional  Mental Health  \n",
       "ID                                                                             \n",
       "C01000060                   2.0            4.0               3            2.5  \n",
       "C01000361                   0.5            1.5               1            1.0  \n",
       "C01000455                   NaN            NaN             NaN            NaN  \n",
       "C01000542                   2.0            2.5               1            1.0  \n",
       "C01000633                   0.0            5.0               5            4.0  "
      ]
     },
     "execution_count": 72,
     "metadata": {},
     "output_type": "execute_result"
    }
   ],
   "source": [
    "wellness.head()"
   ]
  },
  {
   "cell_type": "markdown",
   "metadata": {},
   "source": [
    "# 2 - EXPLORE BASIC STATS"
   ]
  },
  {
   "cell_type": "markdown",
   "metadata": {},
   "source": [
    "###Quality Control"
   ]
  },
  {
   "cell_type": "markdown",
   "metadata": {},
   "source": [
    "*Take a look at measures of central tendancy and spread through boxplot*"
   ]
  },
  {
   "cell_type": "markdown",
   "metadata": {},
   "source": [
    "**Profile Table**"
   ]
  },
  {
   "cell_type": "code",
   "execution_count": 73,
   "metadata": {
    "collapsed": false
   },
   "outputs": [
    {
     "data": {
      "text/html": [
       "<div>\n",
       "<table border=\"1\" class=\"dataframe\">\n",
       "  <thead>\n",
       "    <tr style=\"text-align: right;\">\n",
       "      <th></th>\n",
       "      <th>SMOKER</th>\n",
       "      <th>DEPRESSION</th>\n",
       "      <th>MCC</th>\n",
       "      <th>AT-RISK</th>\n",
       "      <th>CC-NEED</th>\n",
       "    </tr>\n",
       "  </thead>\n",
       "  <tbody>\n",
       "    <tr>\n",
       "      <th>count</th>\n",
       "      <td>269228.000000</td>\n",
       "      <td>268673.000000</td>\n",
       "      <td>303512.000000</td>\n",
       "      <td>303512</td>\n",
       "      <td>303512</td>\n",
       "    </tr>\n",
       "    <tr>\n",
       "      <th>mean</th>\n",
       "      <td>0.133712</td>\n",
       "      <td>0.261489</td>\n",
       "      <td>2.841835</td>\n",
       "      <td>0.6493186</td>\n",
       "      <td>0.5022174</td>\n",
       "    </tr>\n",
       "    <tr>\n",
       "      <th>std</th>\n",
       "      <td>0.340343</td>\n",
       "      <td>0.439446</td>\n",
       "      <td>2.313805</td>\n",
       "      <td>0.4771841</td>\n",
       "      <td>0.4999959</td>\n",
       "    </tr>\n",
       "    <tr>\n",
       "      <th>min</th>\n",
       "      <td>0.000000</td>\n",
       "      <td>0.000000</td>\n",
       "      <td>0.000000</td>\n",
       "      <td>False</td>\n",
       "      <td>False</td>\n",
       "    </tr>\n",
       "    <tr>\n",
       "      <th>25%</th>\n",
       "      <td>0.000000</td>\n",
       "      <td>0.000000</td>\n",
       "      <td>1.000000</td>\n",
       "      <td>0</td>\n",
       "      <td>0</td>\n",
       "    </tr>\n",
       "    <tr>\n",
       "      <th>50%</th>\n",
       "      <td>0.000000</td>\n",
       "      <td>0.000000</td>\n",
       "      <td>3.000000</td>\n",
       "      <td>1</td>\n",
       "      <td>1</td>\n",
       "    </tr>\n",
       "    <tr>\n",
       "      <th>75%</th>\n",
       "      <td>0.000000</td>\n",
       "      <td>1.000000</td>\n",
       "      <td>4.000000</td>\n",
       "      <td>1</td>\n",
       "      <td>1</td>\n",
       "    </tr>\n",
       "    <tr>\n",
       "      <th>max</th>\n",
       "      <td>1.000000</td>\n",
       "      <td>1.000000</td>\n",
       "      <td>18.000000</td>\n",
       "      <td>True</td>\n",
       "      <td>True</td>\n",
       "    </tr>\n",
       "  </tbody>\n",
       "</table>\n",
       "</div>"
      ],
      "text/plain": [
       "              SMOKER     DEPRESSION            MCC    AT-RISK    CC-NEED\n",
       "count  269228.000000  268673.000000  303512.000000     303512     303512\n",
       "mean        0.133712       0.261489       2.841835  0.6493186  0.5022174\n",
       "std         0.340343       0.439446       2.313805  0.4771841  0.4999959\n",
       "min         0.000000       0.000000       0.000000      False      False\n",
       "25%         0.000000       0.000000       1.000000          0          0\n",
       "50%         0.000000       0.000000       3.000000          1          1\n",
       "75%         0.000000       1.000000       4.000000          1          1\n",
       "max         1.000000       1.000000      18.000000       True       True"
      ]
     },
     "execution_count": 73,
     "metadata": {},
     "output_type": "execute_result"
    }
   ],
   "source": [
    "profile.describe()"
   ]
  },
  {
   "cell_type": "code",
   "execution_count": 22,
   "metadata": {
    "collapsed": false
   },
   "outputs": [],
   "source": [
    "profile.to_csv(os.path.join(DERIVED_DATA_PATH,'C16B_PUF_cleaned_profile.csv'))"
   ]
  },
  {
   "cell_type": "markdown",
   "metadata": {},
   "source": [
    "**Needs Table**"
   ]
  },
  {
   "cell_type": "markdown",
   "metadata": {},
   "source": [
    "Note: Needs are binary features"
   ]
  },
  {
   "cell_type": "code",
   "execution_count": 75,
   "metadata": {
    "collapsed": false
   },
   "outputs": [
    {
     "data": {
      "text/html": [
       "<div>\n",
       "<table border=\"1\" class=\"dataframe\">\n",
       "  <thead>\n",
       "    <tr style=\"text-align: right;\">\n",
       "      <th></th>\n",
       "      <th>FELTNP</th>\n",
       "      <th>FELTSD</th>\n",
       "      <th>PNIACT</th>\n",
       "      <th>SCLACT</th>\n",
       "      <th>DIFBTH</th>\n",
       "      <th>DIFDRS</th>\n",
       "      <th>DIFEAT</th>\n",
       "      <th>DIFCHR</th>\n",
       "      <th>DIFWLK</th>\n",
       "      <th>DIFTOL</th>\n",
       "      <th>DIFPRM</th>\n",
       "      <th>DIFMON</th>\n",
       "      <th>DIFMED</th>\n",
       "      <th>BLIND</th>\n",
       "      <th>DEAF</th>\n",
       "      <th>DIFCON</th>\n",
       "      <th>DIFERR</th>\n",
       "    </tr>\n",
       "  </thead>\n",
       "  <tbody>\n",
       "    <tr>\n",
       "      <th>count</th>\n",
       "      <td>265705.000000</td>\n",
       "      <td>264746.000000</td>\n",
       "      <td>269104.000000</td>\n",
       "      <td>274252.000000</td>\n",
       "      <td>272450.000000</td>\n",
       "      <td>272532.000000</td>\n",
       "      <td>272052.000000</td>\n",
       "      <td>272122.000000</td>\n",
       "      <td>271913.000000</td>\n",
       "      <td>271991.000000</td>\n",
       "      <td>272111.000000</td>\n",
       "      <td>271318.000000</td>\n",
       "      <td>271245.000000</td>\n",
       "      <td>270715.000000</td>\n",
       "      <td>270575.000000</td>\n",
       "      <td>268915.000000</td>\n",
       "      <td>269269.000000</td>\n",
       "    </tr>\n",
       "    <tr>\n",
       "      <th>mean</th>\n",
       "      <td>0.381280</td>\n",
       "      <td>0.323771</td>\n",
       "      <td>0.633807</td>\n",
       "      <td>0.527646</td>\n",
       "      <td>0.205950</td>\n",
       "      <td>0.172130</td>\n",
       "      <td>0.075056</td>\n",
       "      <td>0.269596</td>\n",
       "      <td>0.369420</td>\n",
       "      <td>0.124883</td>\n",
       "      <td>0.265337</td>\n",
       "      <td>0.172768</td>\n",
       "      <td>0.127988</td>\n",
       "      <td>0.123166</td>\n",
       "      <td>0.160957</td>\n",
       "      <td>0.226681</td>\n",
       "      <td>0.232340</td>\n",
       "    </tr>\n",
       "    <tr>\n",
       "      <th>std</th>\n",
       "      <td>0.485702</td>\n",
       "      <td>0.467915</td>\n",
       "      <td>0.481764</td>\n",
       "      <td>0.499236</td>\n",
       "      <td>0.404395</td>\n",
       "      <td>0.377494</td>\n",
       "      <td>0.263481</td>\n",
       "      <td>0.443751</td>\n",
       "      <td>0.482649</td>\n",
       "      <td>0.330587</td>\n",
       "      <td>0.441513</td>\n",
       "      <td>0.378047</td>\n",
       "      <td>0.334077</td>\n",
       "      <td>0.328629</td>\n",
       "      <td>0.367492</td>\n",
       "      <td>0.418685</td>\n",
       "      <td>0.422326</td>\n",
       "    </tr>\n",
       "    <tr>\n",
       "      <th>min</th>\n",
       "      <td>0.000000</td>\n",
       "      <td>0.000000</td>\n",
       "      <td>0.000000</td>\n",
       "      <td>0.000000</td>\n",
       "      <td>0.000000</td>\n",
       "      <td>0.000000</td>\n",
       "      <td>0.000000</td>\n",
       "      <td>0.000000</td>\n",
       "      <td>0.000000</td>\n",
       "      <td>0.000000</td>\n",
       "      <td>0.000000</td>\n",
       "      <td>0.000000</td>\n",
       "      <td>0.000000</td>\n",
       "      <td>0.000000</td>\n",
       "      <td>0.000000</td>\n",
       "      <td>0.000000</td>\n",
       "      <td>0.000000</td>\n",
       "    </tr>\n",
       "    <tr>\n",
       "      <th>25%</th>\n",
       "      <td>0.000000</td>\n",
       "      <td>0.000000</td>\n",
       "      <td>0.000000</td>\n",
       "      <td>0.000000</td>\n",
       "      <td>0.000000</td>\n",
       "      <td>0.000000</td>\n",
       "      <td>0.000000</td>\n",
       "      <td>0.000000</td>\n",
       "      <td>0.000000</td>\n",
       "      <td>0.000000</td>\n",
       "      <td>0.000000</td>\n",
       "      <td>0.000000</td>\n",
       "      <td>0.000000</td>\n",
       "      <td>0.000000</td>\n",
       "      <td>0.000000</td>\n",
       "      <td>0.000000</td>\n",
       "      <td>0.000000</td>\n",
       "    </tr>\n",
       "    <tr>\n",
       "      <th>50%</th>\n",
       "      <td>0.000000</td>\n",
       "      <td>0.000000</td>\n",
       "      <td>1.000000</td>\n",
       "      <td>1.000000</td>\n",
       "      <td>0.000000</td>\n",
       "      <td>0.000000</td>\n",
       "      <td>0.000000</td>\n",
       "      <td>0.000000</td>\n",
       "      <td>0.000000</td>\n",
       "      <td>0.000000</td>\n",
       "      <td>0.000000</td>\n",
       "      <td>0.000000</td>\n",
       "      <td>0.000000</td>\n",
       "      <td>0.000000</td>\n",
       "      <td>0.000000</td>\n",
       "      <td>0.000000</td>\n",
       "      <td>0.000000</td>\n",
       "    </tr>\n",
       "    <tr>\n",
       "      <th>75%</th>\n",
       "      <td>1.000000</td>\n",
       "      <td>1.000000</td>\n",
       "      <td>1.000000</td>\n",
       "      <td>1.000000</td>\n",
       "      <td>0.000000</td>\n",
       "      <td>0.000000</td>\n",
       "      <td>0.000000</td>\n",
       "      <td>1.000000</td>\n",
       "      <td>1.000000</td>\n",
       "      <td>0.000000</td>\n",
       "      <td>1.000000</td>\n",
       "      <td>0.000000</td>\n",
       "      <td>0.000000</td>\n",
       "      <td>0.000000</td>\n",
       "      <td>0.000000</td>\n",
       "      <td>0.000000</td>\n",
       "      <td>0.000000</td>\n",
       "    </tr>\n",
       "    <tr>\n",
       "      <th>max</th>\n",
       "      <td>1.000000</td>\n",
       "      <td>1.000000</td>\n",
       "      <td>1.000000</td>\n",
       "      <td>1.000000</td>\n",
       "      <td>1.000000</td>\n",
       "      <td>1.000000</td>\n",
       "      <td>1.000000</td>\n",
       "      <td>1.000000</td>\n",
       "      <td>1.000000</td>\n",
       "      <td>1.000000</td>\n",
       "      <td>1.000000</td>\n",
       "      <td>1.000000</td>\n",
       "      <td>1.000000</td>\n",
       "      <td>1.000000</td>\n",
       "      <td>1.000000</td>\n",
       "      <td>1.000000</td>\n",
       "      <td>1.000000</td>\n",
       "    </tr>\n",
       "  </tbody>\n",
       "</table>\n",
       "</div>"
      ],
      "text/plain": [
       "              FELTNP         FELTSD         PNIACT         SCLACT  \\\n",
       "count  265705.000000  264746.000000  269104.000000  274252.000000   \n",
       "mean        0.381280       0.323771       0.633807       0.527646   \n",
       "std         0.485702       0.467915       0.481764       0.499236   \n",
       "min         0.000000       0.000000       0.000000       0.000000   \n",
       "25%         0.000000       0.000000       0.000000       0.000000   \n",
       "50%         0.000000       0.000000       1.000000       1.000000   \n",
       "75%         1.000000       1.000000       1.000000       1.000000   \n",
       "max         1.000000       1.000000       1.000000       1.000000   \n",
       "\n",
       "              DIFBTH         DIFDRS         DIFEAT         DIFCHR  \\\n",
       "count  272450.000000  272532.000000  272052.000000  272122.000000   \n",
       "mean        0.205950       0.172130       0.075056       0.269596   \n",
       "std         0.404395       0.377494       0.263481       0.443751   \n",
       "min         0.000000       0.000000       0.000000       0.000000   \n",
       "25%         0.000000       0.000000       0.000000       0.000000   \n",
       "50%         0.000000       0.000000       0.000000       0.000000   \n",
       "75%         0.000000       0.000000       0.000000       1.000000   \n",
       "max         1.000000       1.000000       1.000000       1.000000   \n",
       "\n",
       "              DIFWLK         DIFTOL         DIFPRM         DIFMON  \\\n",
       "count  271913.000000  271991.000000  272111.000000  271318.000000   \n",
       "mean        0.369420       0.124883       0.265337       0.172768   \n",
       "std         0.482649       0.330587       0.441513       0.378047   \n",
       "min         0.000000       0.000000       0.000000       0.000000   \n",
       "25%         0.000000       0.000000       0.000000       0.000000   \n",
       "50%         0.000000       0.000000       0.000000       0.000000   \n",
       "75%         1.000000       0.000000       1.000000       0.000000   \n",
       "max         1.000000       1.000000       1.000000       1.000000   \n",
       "\n",
       "              DIFMED          BLIND           DEAF         DIFCON  \\\n",
       "count  271245.000000  270715.000000  270575.000000  268915.000000   \n",
       "mean        0.127988       0.123166       0.160957       0.226681   \n",
       "std         0.334077       0.328629       0.367492       0.418685   \n",
       "min         0.000000       0.000000       0.000000       0.000000   \n",
       "25%         0.000000       0.000000       0.000000       0.000000   \n",
       "50%         0.000000       0.000000       0.000000       0.000000   \n",
       "75%         0.000000       0.000000       0.000000       0.000000   \n",
       "max         1.000000       1.000000       1.000000       1.000000   \n",
       "\n",
       "              DIFERR  \n",
       "count  269269.000000  \n",
       "mean        0.232340  \n",
       "std         0.422326  \n",
       "min         0.000000  \n",
       "25%         0.000000  \n",
       "50%         0.000000  \n",
       "75%         0.000000  \n",
       "max         1.000000  "
      ]
     },
     "execution_count": 75,
     "metadata": {},
     "output_type": "execute_result"
    }
   ],
   "source": [
    "needs.describe()"
   ]
  },
  {
   "cell_type": "code",
   "execution_count": 76,
   "metadata": {
    "collapsed": false
   },
   "outputs": [],
   "source": [
    "needs.to_csv(os.path.join(DERIVED_DATA_PATH,'C16B_PUF_cleaned_needs.csv'))"
   ]
  },
  {
   "cell_type": "code",
   "execution_count": 77,
   "metadata": {
    "collapsed": false
   },
   "outputs": [],
   "source": [
    "#plot T vs F counts for each feature\n",
    "#plot mean"
   ]
  },
  {
   "cell_type": "markdown",
   "metadata": {},
   "source": [
    "**Wellness Table**"
   ]
  },
  {
   "cell_type": "code",
   "execution_count": 78,
   "metadata": {
    "collapsed": false,
    "scrolled": true
   },
   "outputs": [
    {
     "data": {
      "image/png": "[encoded data removed]",
      "text/plain": [
       "<matplotlib.figure.Figure at 0x10b86a190>"
      ]
     },
     "metadata": {},
     "output_type": "display_data"
    }
   ],
   "source": [
    "ax = sns.boxplot(data=wellness)"
   ]
  },
  {
   "cell_type": "markdown",
   "metadata": {},
   "source": [
    "Note: Values Ascending from not a problem at all to all the time"
   ]
  },
  {
   "cell_type": "code",
   "execution_count": 79,
   "metadata": {
    "collapsed": false
   },
   "outputs": [],
   "source": [
    "wellness.to_csv(os.path.join(DERIVED_DATA_PATH,'C16B_PUF_cleaned_wellness.csv'))"
   ]
  },
  {
   "cell_type": "markdown",
   "metadata": {
    "collapsed": false
   },
   "source": [
    "*Distribution of Data Points*"
   ]
  },
  {
   "cell_type": "code",
   "execution_count": 80,
   "metadata": {
    "collapsed": true
   },
   "outputs": [],
   "source": [
    "# profiles.count().plot(kind='bar', figsize=(14, 2.5))"
   ]
  },
  {
   "cell_type": "markdown",
   "metadata": {},
   "source": [
    "*Checking for table completeness completeness (Presence of missing values)*"
   ]
  },
  {
   "cell_type": "code",
   "execution_count": null,
   "metadata": {
    "collapsed": true
   },
   "outputs": [],
   "source": []
  },
  {
   "cell_type": "markdown",
   "metadata": {},
   "source": [
    "*Quick bivariate analysis*"
   ]
  },
  {
   "cell_type": "code",
   "execution_count": 40,
   "metadata": {
    "collapsed": false
   },
   "outputs": [
    {
     "name": "stderr",
     "output_type": "stream",
     "text": [
      "/Users/ceslee-work/anaconda/lib/python2.7/site-packages/seaborn/linearmodels.py:1283: UserWarning: The `corrplot` function has been deprecated in favor of `heatmap` and will be removed in a forthcoming release. Please update your code.\n",
      "  warnings.warn((\"The `corrplot` function has been deprecated in favor \"\n",
      "/Users/ceslee-work/anaconda/lib/python2.7/site-packages/seaborn/linearmodels.py:1349: UserWarning: The `symmatplot` function has been deprecated in favor of `heatmap` and will be removed in a forthcoming release. Please update your code.\n",
      "  warnings.warn((\"The `symmatplot` function has been deprecated in favor \"\n"
     ]
    },
    {
     "data": {
      "image/png": "[encoded data removed]",
      "text/plain": [
       "<matplotlib.figure.Figure at 0x11aa94690>"
      ]
     },
     "metadata": {},
     "output_type": "display_data"
    }
   ],
   "source": [
    "f, ax = plt.subplots(figsize=(9, 9))\n",
    "cmap = sns.diverging_palette(220, 10, as_cmap=True)\n",
    "sns.corrplot(profiles_converted, annot=False, sig_stars=False,\n",
    "             diag_names=False, cmap=cmap, ax=ax)\n",
    "f.tight_layout()"
   ]
  },
  {
   "cell_type": "code",
   "execution_count": 41,
   "metadata": {
    "collapsed": false
   },
   "outputs": [
    {
     "data": {
      "image/png": "[encoded data removed]",
      "text/plain": [
       "<matplotlib.figure.Figure at 0x116118810>"
      ]
     },
     "metadata": {},
     "output_type": "display_data"
    }
   ],
   "source": [
    "f, ax = plt.subplots(figsize=(9, 9))\n",
    "cmap = sns.diverging_palette(220, 10, as_cmap=True)\n",
    "sns.corrplot(needs, annot=False, sig_stars=False,\n",
    "             diag_names=False, cmap=cmap, ax=ax)\n",
    "f.tight_layout()"
   ]
  },
  {
   "cell_type": "code",
   "execution_count": 42,
   "metadata": {
    "collapsed": false
   },
   "outputs": [
    {
     "data": {
      "image/png": "[encoded data removed]",
      "text/plain": [
       "<matplotlib.figure.Figure at 0x11aa94210>"
      ]
     },
     "metadata": {},
     "output_type": "display_data"
    }
   ],
   "source": [
    "f, ax = plt.subplots(figsize=(9, 9))\n",
    "cmap = sns.diverging_palette(220, 10, as_cmap=True)\n",
    "sns.corrplot(wellness, annot=False, sig_stars=False,\n",
    "             diag_names=False, cmap=cmap, ax=ax)\n",
    "f.tight_layout()"
   ]
  },
  {
   "cell_type": "code",
   "execution_count": 43,
   "metadata": {
    "collapsed": true
   },
   "outputs": [],
   "source": [
    "#binary data correlation, overlap"
   ]
  }
 ],
 "metadata": {
  "kernelspec": {
   "display_name": "Python 2",
   "language": "python",
   "name": "python2"
  },
  "language_info": {
   "codemirror_mode": {
    "name": "ipython",
    "version": 2
   },
   "file_extension": ".py",
   "mimetype": "text/x-python",
   "name": "python",
   "nbconvert_exporter": "python",
   "pygments_lexer": "ipython2",
   "version": "2.7.10"
  }
 },
 "nbformat": 4,
 "nbformat_minor": 0
}
