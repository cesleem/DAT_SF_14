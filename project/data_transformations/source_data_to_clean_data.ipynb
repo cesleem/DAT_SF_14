{
 "cells": [
  {
   "cell_type": "markdown",
   "metadata": {},
   "source": [
    "# 0 - PRELIMINARIES"
   ]
  },
  {
   "cell_type": "code",
   "execution_count": 42,
   "metadata": {
    "collapsed": false
   },
   "outputs": [],
   "source": [
    "import sqlite3\n",
    "import pandas as pd\n",
    "import numpy as np\n",
    "import matplotlib.pyplot as plt\n",
    "import seaborn as sns\n",
    "import matplotlib.pyplot as plt\n",
    "sns.set(style=\"darkgrid\")\n",
    "\n",
    "%matplotlib inline"
   ]
  },
  {
   "cell_type": "markdown",
   "metadata": {},
   "source": [
    "### Acquire"
   ]
  },
  {
   "cell_type": "code",
   "execution_count": 39,
   "metadata": {
    "collapsed": false
   },
   "outputs": [
    {
     "name": "stdout",
     "output_type": "stream",
     "text": [
      "C010000603 211141144333455433111221111 6 0 021224122222121112222     43 611432   11221111M10M1 97.3C16 81\r",
      "\r\n"
     ]
    }
   ],
   "source": [
    "#commenting this out to avoid rerunning when executing whole ntbk.\n",
    "# !curl -o http://www.hosonline.org/surveys/hos/download/C16B_PUF.zip\n",
    "# !unzip ../source_data/C16B_PUF.zip -d ../source_data\n",
    "\n",
    "!head -n 1 ../source_data/C16B_PUF.TXT"
   ]
  },
  {
   "cell_type": "markdown",
   "metadata": {},
   "source": [
    "Each line is a string of length 105 (spaces represent missing data).  We need to parse each of the 83 fields from this string for each beneficiary record.  Afterwards, we'll save as csv to make i/o to pandas simpler in the future."
   ]
  },
  {
   "cell_type": "code",
   "execution_count": 56,
   "metadata": {
    "collapsed": false
   },
   "outputs": [],
   "source": [
    "#Parsed in accordance with HOS C16 PUF Data User Guide Field Positions available at: http://www.hosonline.org/surveys/hos/download/HOS_DUG_QIO_C16B.pdf\n",
    "import csv\n",
    "\n",
    "with open('../source_data/C16B_PUF.TXT') as txt_file:\n",
    "    records = txt_file.readlines()\n",
    "    to_comma_delimited = lambda line: [line[0:9]] + list(line[9:38]) + [line[38:40]] + [line[40:42]] + [line[42:44]] + list(line[44:71]) + [line[71:73]]+ list(line[73:89]) + [line[89:92]] + [line[92:94]] + [line[94:99]] + [line[99:102]] + [line[102:104]] + [line[104]]\n",
    "    transformed_records = [to_comma_delimited(line) for line in records]\n",
    "    with open('../source_data/C16B_PUF.csv', 'wb') as csv_file:\n",
    "        writer = csv.writer(csv_file)\n",
    "        writer.writerows(transformed_records)"
   ]
  },
  {
   "cell_type": "markdown",
   "metadata": {},
   "source": [
    "Let's verify this worked."
   ]
  },
  {
   "cell_type": "code",
   "execution_count": 61,
   "metadata": {
    "collapsed": false
   },
   "outputs": [
    {
     "name": "stdout",
     "output_type": "stream",
     "text": [
      "C01000060,3, ,2,1,1,1,4,1,1,4,4,3,3,3,4,5,5,4,3,3,1,1,1,2,2,1,1,1,1, 6, 0, 0,2,1,2,2,4,1,2,2,2,2,2,1,2,1,1,1,2,2,2,2, , , , , ,4,3, 6,1,1,4,3,2, , , ,1,1,2,2,1,1,1,1,M10,M1, 97.3,C16, 8,1\r",
      "\r\n"
     ]
    }
   ],
   "source": [
    "!head -n 1 ../source_data/C16B_PUF.csv"
   ]
  },
  {
   "cell_type": "markdown",
   "metadata": {},
   "source": [
    "Good.  So let's read it into pandas so we can begin our data inspection."
   ]
  },
  {
   "cell_type": "code",
   "execution_count": 62,
   "metadata": {
    "collapsed": false
   },
   "outputs": [],
   "source": [
    "columns = [u'ID', u'AGEGRP', u'RACE', u'GENDER', u'MRSTAT', u'EDUC', u'BMI', u'GENHTH', u'MODACT', u'CLMBSV', u'PACMPL', u'PLMTKW', u'EACMPL', u'ENTCRF', u'PNINTF', u'PCEFUL', u'ENERGY', u'BLSAD', u'SCLACT', u'ASHLTH', u'ASEHLTH', u'DIFBTH', u'DIFDRS', u'DIFEAT', u'DIFCHR', u'DIFWLK', u'DIFTOL', u'DIFPRM', u'DIFMON', u'DIFMED', u'PHYHTH', u'MENHTH', u'PORHTH', u'BLIND', u'DEAF', u'DIFCON', u'DIFERR', u'MEMINT', u'HIGHBP', u'ANGCAD', u'CHF', u'AMI', u'OTHHRT', u'STROKE', u'COPD_E', u'GI_ETC', u'ATHHIP', u'ATHHAN', u'OSTEOPO', u'SCIATC', u'DIABET', u'DEPRES', u'ANYCAN', u'COLNCA', u'LUNGCA', u'BRSTCA', u'PROSCA', u'OTHCAN', u'PNIACT', u'PNISOC', u'AVGPN', u'FELTNP', u'FELTSD', u'CMPHTH', u'SMKFRQ', u'URNLKG', u'URNMAG', u'URNDOC', u'URNTRT', u'PAOTLK', u'PAOADV', u'BALTLK', u'FELL12MO', u'BAL12MO', u'FALLTLK', u'OSTTEST', u'WHOCMP', u'SRVDSP', u'RNDNUM', u'PCTCMP', u'COHORT', u'PLREG', u'SVLANG']\n",
    "data = pd.read_csv('../source_data/C16B_PUF.csv', names=columns, na_values=' ')"
   ]
  },
  {
   "cell_type": "markdown",
   "metadata": {},
   "source": [
    "# 1 - DATA INSPECTION"
   ]
  },
  {
   "cell_type": "markdown",
   "metadata": {},
   "source": [
    "The data comes from an HOS Outcomes Survey from 2012. "
   ]
  },
  {
   "cell_type": "code",
   "execution_count": 14,
   "metadata": {
    "collapsed": true
   },
   "outputs": [],
   "source": [
    "#TODO #graphic of data dictionary - pre clean"
   ]
  },
  {
   "cell_type": "code",
   "execution_count": null,
   "metadata": {
    "collapsed": true
   },
   "outputs": [],
   "source": [
    "#TODO #graphic of data dictionary - post clean"
   ]
  },
  {
   "cell_type": "markdown",
   "metadata": {},
   "source": [
    "###Examine"
   ]
  },
  {
   "cell_type": "code",
   "execution_count": 64,
   "metadata": {
    "collapsed": false
   },
   "outputs": [
    {
     "data": {
      "text/plain": [
       "Index([u'ID', u'AGEGRP', u'RACE', u'GENDER', u'MRSTAT', u'EDUC', u'BMI', u'GENHTH', u'MODACT', u'CLMBSV', u'PACMPL', u'PLMTKW', u'EACMPL', u'ENTCRF', u'PNINTF', u'PCEFUL', u'ENERGY', u'BLSAD', u'SCLACT', u'ASHLTH', u'ASEHLTH', u'DIFBTH', u'DIFDRS', u'DIFEAT', u'DIFCHR', u'DIFWLK', u'DIFTOL', u'DIFPRM', u'DIFMON', u'DIFMED', u'PHYHTH', u'MENHTH', u'PORHTH', u'BLIND', u'DEAF', u'DIFCON', u'DIFERR', u'MEMINT', u'HIGHBP', u'ANGCAD', u'CHF', u'AMI', u'OTHHRT', u'STROKE', u'COPD_E', u'GI_ETC', u'ATHHIP', u'ATHHAN', u'OSTEOPO', u'SCIATC', u'DIABET', u'DEPRES', u'ANYCAN', u'COLNCA', u'LUNGCA', u'BRSTCA', u'PROSCA', u'OTHCAN', u'PNIACT', u'PNISOC', u'AVGPN', u'FELTNP', u'FELTSD', u'CMPHTH', u'SMKFRQ', u'URNLKG', u'URNMAG', u'URNDOC', u'URNTRT', u'PAOTLK', u'PAOADV', u'BALTLK', u'FELL12MO', u'BAL12MO', u'FALLTLK', u'OSTTEST', u'WHOCMP', u'SRVDSP', u'RNDNUM', u'PCTCMP', u'COHORT', u'PLREG', u'SVLANG'], dtype='object')"
      ]
     },
     "execution_count": 64,
     "metadata": {},
     "output_type": "execute_result"
    }
   ],
   "source": [
    "data.columns"
   ]
  },
  {
   "cell_type": "code",
   "execution_count": 65,
   "metadata": {
    "collapsed": false
   },
   "outputs": [
    {
     "data": {
      "text/html": [
       "<div style=\"max-height:1000px;max-width:1500px;overflow:auto;\">\n",
       "<table border=\"1\" class=\"dataframe\">\n",
       "  <thead>\n",
       "    <tr style=\"text-align: right;\">\n",
       "      <th></th>\n",
       "      <th>ID</th>\n",
       "      <th>AGEGRP</th>\n",
       "      <th>RACE</th>\n",
       "      <th>GENDER</th>\n",
       "      <th>MRSTAT</th>\n",
       "      <th>EDUC</th>\n",
       "      <th>BMI</th>\n",
       "      <th>GENHTH</th>\n",
       "      <th>MODACT</th>\n",
       "      <th>CLMBSV</th>\n",
       "      <th>...</th>\n",
       "      <th>BAL12MO</th>\n",
       "      <th>FALLTLK</th>\n",
       "      <th>OSTTEST</th>\n",
       "      <th>WHOCMP</th>\n",
       "      <th>SRVDSP</th>\n",
       "      <th>RNDNUM</th>\n",
       "      <th>PCTCMP</th>\n",
       "      <th>COHORT</th>\n",
       "      <th>PLREG</th>\n",
       "      <th>SVLANG</th>\n",
       "    </tr>\n",
       "  </thead>\n",
       "  <tbody>\n",
       "    <tr>\n",
       "      <th>0</th>\n",
       "      <td> C01000060</td>\n",
       "      <td> 3</td>\n",
       "      <td>NaN</td>\n",
       "      <td>  2</td>\n",
       "      <td>  1</td>\n",
       "      <td>  1</td>\n",
       "      <td>  1</td>\n",
       "      <td>  4</td>\n",
       "      <td>  1</td>\n",
       "      <td>  1</td>\n",
       "      <td>...</td>\n",
       "      <td>  1</td>\n",
       "      <td>  1</td>\n",
       "      <td>  1</td>\n",
       "      <td> 1</td>\n",
       "      <td> M10</td>\n",
       "      <td> M1</td>\n",
       "      <td>  97.3</td>\n",
       "      <td> C16</td>\n",
       "      <td>  8</td>\n",
       "      <td> 1</td>\n",
       "    </tr>\n",
       "    <tr>\n",
       "      <th>1</th>\n",
       "      <td> C01000361</td>\n",
       "      <td> 3</td>\n",
       "      <td>  1</td>\n",
       "      <td>  1</td>\n",
       "      <td>  1</td>\n",
       "      <td>  2</td>\n",
       "      <td>  1</td>\n",
       "      <td>  3</td>\n",
       "      <td>  2</td>\n",
       "      <td>  3</td>\n",
       "      <td>...</td>\n",
       "      <td>  2</td>\n",
       "      <td>  2</td>\n",
       "      <td>  2</td>\n",
       "      <td> 1</td>\n",
       "      <td> T10</td>\n",
       "      <td> T1</td>\n",
       "      <td>  98.7</td>\n",
       "      <td> C16</td>\n",
       "      <td>  9</td>\n",
       "      <td> 1</td>\n",
       "    </tr>\n",
       "    <tr>\n",
       "      <th>2</th>\n",
       "      <td> C01000455</td>\n",
       "      <td> 3</td>\n",
       "      <td>NaN</td>\n",
       "      <td>NaN</td>\n",
       "      <td>NaN</td>\n",
       "      <td>NaN</td>\n",
       "      <td>NaN</td>\n",
       "      <td>NaN</td>\n",
       "      <td>NaN</td>\n",
       "      <td>NaN</td>\n",
       "      <td>...</td>\n",
       "      <td>NaN</td>\n",
       "      <td>NaN</td>\n",
       "      <td>NaN</td>\n",
       "      <td> 2</td>\n",
       "      <td> T31</td>\n",
       "      <td> T3</td>\n",
       "      <td>   1.3</td>\n",
       "      <td> C16</td>\n",
       "      <td> 10</td>\n",
       "      <td> 1</td>\n",
       "    </tr>\n",
       "    <tr>\n",
       "      <th>3</th>\n",
       "      <td> C01000542</td>\n",
       "      <td> 3</td>\n",
       "      <td>  1</td>\n",
       "      <td>  2</td>\n",
       "      <td>  2</td>\n",
       "      <td>  3</td>\n",
       "      <td>  2</td>\n",
       "      <td>  3</td>\n",
       "      <td>  1</td>\n",
       "      <td>  1</td>\n",
       "      <td>...</td>\n",
       "      <td>  1</td>\n",
       "      <td>  1</td>\n",
       "      <td>  1</td>\n",
       "      <td> 1</td>\n",
       "      <td> M10</td>\n",
       "      <td> M1</td>\n",
       "      <td> 100.0</td>\n",
       "      <td> C16</td>\n",
       "      <td>  4</td>\n",
       "      <td> 1</td>\n",
       "    </tr>\n",
       "    <tr>\n",
       "      <th>4</th>\n",
       "      <td> C01000633</td>\n",
       "      <td> 3</td>\n",
       "      <td>  1</td>\n",
       "      <td>  1</td>\n",
       "      <td>  1</td>\n",
       "      <td>  2</td>\n",
       "      <td>  1</td>\n",
       "      <td>  5</td>\n",
       "      <td>  3</td>\n",
       "      <td>  3</td>\n",
       "      <td>...</td>\n",
       "      <td>  1</td>\n",
       "      <td>  1</td>\n",
       "      <td>  2</td>\n",
       "      <td> 1</td>\n",
       "      <td> M10</td>\n",
       "      <td> M1</td>\n",
       "      <td> 100.0</td>\n",
       "      <td> C16</td>\n",
       "      <td>  9</td>\n",
       "      <td> 1</td>\n",
       "    </tr>\n",
       "  </tbody>\n",
       "</table>\n",
       "<p>5 rows × 83 columns</p>\n",
       "</div>"
      ],
      "text/plain": [
       "          ID  AGEGRP  RACE  GENDER  MRSTAT  EDUC  BMI  GENHTH  MODACT  CLMBSV  \\\n",
       "0  C01000060       3   NaN       2       1     1    1       4       1       1   \n",
       "1  C01000361       3     1       1       1     2    1       3       2       3   \n",
       "2  C01000455       3   NaN     NaN     NaN   NaN  NaN     NaN     NaN     NaN   \n",
       "3  C01000542       3     1       2       2     3    2       3       1       1   \n",
       "4  C01000633       3     1       1       1     2    1       5       3       3   \n",
       "\n",
       "    ...    BAL12MO  FALLTLK  OSTTEST  WHOCMP  SRVDSP  RNDNUM  PCTCMP  COHORT  \\\n",
       "0   ...          1        1        1       1     M10      M1    97.3     C16   \n",
       "1   ...          2        2        2       1     T10      T1    98.7     C16   \n",
       "2   ...        NaN      NaN      NaN       2     T31      T3     1.3     C16   \n",
       "3   ...          1        1        1       1     M10      M1   100.0     C16   \n",
       "4   ...          1        1        2       1     M10      M1   100.0     C16   \n",
       "\n",
       "   PLREG  SVLANG  \n",
       "0      8       1  \n",
       "1      9       1  \n",
       "2     10       1  \n",
       "3      4       1  \n",
       "4      9       1  \n",
       "\n",
       "[5 rows x 83 columns]"
      ]
     },
     "execution_count": 65,
     "metadata": {},
     "output_type": "execute_result"
    }
   ],
   "source": [
    "data.head()"
   ]
  },
  {
   "cell_type": "markdown",
   "metadata": {},
   "source": [
    "###Prepare"
   ]
  },
  {
   "cell_type": "markdown",
   "metadata": {},
   "source": [
    "*Make PROFILE table: (1) demographics, (2) smoking (3) obesity (4) depression, (5) # CC*"
   ]
  },
  {
   "cell_type": "code",
   "execution_count": 70,
   "metadata": {
    "collapsed": false
   },
   "outputs": [],
   "source": [
    "data['MCC'] = (data[['HIGHBP', 'ANGCAD', 'CHF', 'AMI', 'OTHHRT', 'STROKE', 'COPD_E', 'GI_ETC', 'ATHHIP', 'ATHHAN', 'OSTEOPO', 'SCIATC', 'DIABET', 'COLNCA', 'LUNGCA', 'BRSTCA', 'PROSCA', 'OTHCAN']] == 1).sum(axis=1)"
   ]
  },
  {
   "cell_type": "code",
   "execution_count": 71,
   "metadata": {
    "collapsed": false,
    "scrolled": true
   },
   "outputs": [
    {
     "data": {
      "text/html": [
       "<div style=\"max-height:1000px;max-width:1500px;overflow:auto;\">\n",
       "<table border=\"1\" class=\"dataframe\">\n",
       "  <thead>\n",
       "    <tr style=\"text-align: right;\">\n",
       "      <th></th>\n",
       "      <th>ID</th>\n",
       "      <th>AGEGRP</th>\n",
       "      <th>RACE</th>\n",
       "      <th>GENDER</th>\n",
       "      <th>MRSTAT</th>\n",
       "      <th>EDUC</th>\n",
       "      <th>BMI</th>\n",
       "      <th>GENHTH</th>\n",
       "      <th>MODACT</th>\n",
       "      <th>CLMBSV</th>\n",
       "      <th>...</th>\n",
       "      <th>FALLTLK</th>\n",
       "      <th>OSTTEST</th>\n",
       "      <th>WHOCMP</th>\n",
       "      <th>SRVDSP</th>\n",
       "      <th>RNDNUM</th>\n",
       "      <th>PCTCMP</th>\n",
       "      <th>COHORT</th>\n",
       "      <th>PLREG</th>\n",
       "      <th>SVLANG</th>\n",
       "      <th>MCC</th>\n",
       "    </tr>\n",
       "  </thead>\n",
       "  <tbody>\n",
       "    <tr>\n",
       "      <th>0</th>\n",
       "      <td> C01000060</td>\n",
       "      <td> 3</td>\n",
       "      <td>NaN</td>\n",
       "      <td>  2</td>\n",
       "      <td>  1</td>\n",
       "      <td>  1</td>\n",
       "      <td>  1</td>\n",
       "      <td>  4</td>\n",
       "      <td>  1</td>\n",
       "      <td>  1</td>\n",
       "      <td>...</td>\n",
       "      <td>  1</td>\n",
       "      <td>  1</td>\n",
       "      <td> 1</td>\n",
       "      <td> M10</td>\n",
       "      <td> M1</td>\n",
       "      <td>  97.3</td>\n",
       "      <td> C16</td>\n",
       "      <td>  8</td>\n",
       "      <td> 1</td>\n",
       "      <td> 5</td>\n",
       "    </tr>\n",
       "    <tr>\n",
       "      <th>1</th>\n",
       "      <td> C01000361</td>\n",
       "      <td> 3</td>\n",
       "      <td>  1</td>\n",
       "      <td>  1</td>\n",
       "      <td>  1</td>\n",
       "      <td>  2</td>\n",
       "      <td>  1</td>\n",
       "      <td>  3</td>\n",
       "      <td>  2</td>\n",
       "      <td>  3</td>\n",
       "      <td>...</td>\n",
       "      <td>  2</td>\n",
       "      <td>  2</td>\n",
       "      <td> 1</td>\n",
       "      <td> T10</td>\n",
       "      <td> T1</td>\n",
       "      <td>  98.7</td>\n",
       "      <td> C16</td>\n",
       "      <td>  9</td>\n",
       "      <td> 1</td>\n",
       "      <td> 2</td>\n",
       "    </tr>\n",
       "    <tr>\n",
       "      <th>2</th>\n",
       "      <td> C01000455</td>\n",
       "      <td> 3</td>\n",
       "      <td>NaN</td>\n",
       "      <td>NaN</td>\n",
       "      <td>NaN</td>\n",
       "      <td>NaN</td>\n",
       "      <td>NaN</td>\n",
       "      <td>NaN</td>\n",
       "      <td>NaN</td>\n",
       "      <td>NaN</td>\n",
       "      <td>...</td>\n",
       "      <td>NaN</td>\n",
       "      <td>NaN</td>\n",
       "      <td> 2</td>\n",
       "      <td> T31</td>\n",
       "      <td> T3</td>\n",
       "      <td>   1.3</td>\n",
       "      <td> C16</td>\n",
       "      <td> 10</td>\n",
       "      <td> 1</td>\n",
       "      <td> 0</td>\n",
       "    </tr>\n",
       "    <tr>\n",
       "      <th>3</th>\n",
       "      <td> C01000542</td>\n",
       "      <td> 3</td>\n",
       "      <td>  1</td>\n",
       "      <td>  2</td>\n",
       "      <td>  2</td>\n",
       "      <td>  3</td>\n",
       "      <td>  2</td>\n",
       "      <td>  3</td>\n",
       "      <td>  1</td>\n",
       "      <td>  1</td>\n",
       "      <td>...</td>\n",
       "      <td>  1</td>\n",
       "      <td>  1</td>\n",
       "      <td> 1</td>\n",
       "      <td> M10</td>\n",
       "      <td> M1</td>\n",
       "      <td> 100.0</td>\n",
       "      <td> C16</td>\n",
       "      <td>  4</td>\n",
       "      <td> 1</td>\n",
       "      <td> 3</td>\n",
       "    </tr>\n",
       "    <tr>\n",
       "      <th>4</th>\n",
       "      <td> C01000633</td>\n",
       "      <td> 3</td>\n",
       "      <td>  1</td>\n",
       "      <td>  1</td>\n",
       "      <td>  1</td>\n",
       "      <td>  2</td>\n",
       "      <td>  1</td>\n",
       "      <td>  5</td>\n",
       "      <td>  3</td>\n",
       "      <td>  3</td>\n",
       "      <td>...</td>\n",
       "      <td>  1</td>\n",
       "      <td>  2</td>\n",
       "      <td> 1</td>\n",
       "      <td> M10</td>\n",
       "      <td> M1</td>\n",
       "      <td> 100.0</td>\n",
       "      <td> C16</td>\n",
       "      <td>  9</td>\n",
       "      <td> 1</td>\n",
       "      <td> 5</td>\n",
       "    </tr>\n",
       "  </tbody>\n",
       "</table>\n",
       "<p>5 rows × 84 columns</p>\n",
       "</div>"
      ],
      "text/plain": [
       "          ID  AGEGRP  RACE  GENDER  MRSTAT  EDUC  BMI  GENHTH  MODACT  CLMBSV  \\\n",
       "0  C01000060       3   NaN       2       1     1    1       4       1       1   \n",
       "1  C01000361       3     1       1       1     2    1       3       2       3   \n",
       "2  C01000455       3   NaN     NaN     NaN   NaN  NaN     NaN     NaN     NaN   \n",
       "3  C01000542       3     1       2       2     3    2       3       1       1   \n",
       "4  C01000633       3     1       1       1     2    1       5       3       3   \n",
       "\n",
       "  ...   FALLTLK  OSTTEST  WHOCMP  SRVDSP  RNDNUM  PCTCMP  COHORT  PLREG  \\\n",
       "0 ...         1        1       1     M10      M1    97.3     C16      8   \n",
       "1 ...         2        2       1     T10      T1    98.7     C16      9   \n",
       "2 ...       NaN      NaN       2     T31      T3     1.3     C16     10   \n",
       "3 ...         1        1       1     M10      M1   100.0     C16      4   \n",
       "4 ...         1        2       1     M10      M1   100.0     C16      9   \n",
       "\n",
       "   SVLANG  MCC  \n",
       "0       1    5  \n",
       "1       1    2  \n",
       "2       1    0  \n",
       "3       1    3  \n",
       "4       1    5  \n",
       "\n",
       "[5 rows x 84 columns]"
      ]
     },
     "execution_count": 71,
     "metadata": {},
     "output_type": "execute_result"
    }
   ],
   "source": [
    "data.head()"
   ]
  },
  {
   "cell_type": "code",
   "execution_count": 77,
   "metadata": {
    "collapsed": true
   },
   "outputs": [],
   "source": [
    "profile = data[['ID',\n",
    " 'AGEGRP',\n",
    " 'RACE',\n",
    " 'GENDER',\n",
    " 'MRSTAT',\n",
    " 'EDUC',\n",
    " 'PLREG',\n",
    " 'SVLANG',\n",
    " 'BMI',\n",
    " 'SMKFRQ',\n",
    " 'DEPRES',\n",
    " 'MCC']]"
   ]
  },
  {
   "cell_type": "code",
   "execution_count": 78,
   "metadata": {
    "collapsed": false
   },
   "outputs": [
    {
     "data": {
      "text/html": [
       "<div style=\"max-height:1000px;max-width:1500px;overflow:auto;\">\n",
       "<table border=\"1\" class=\"dataframe\">\n",
       "  <thead>\n",
       "    <tr style=\"text-align: right;\">\n",
       "      <th></th>\n",
       "      <th>ID</th>\n",
       "      <th>AGEGRP</th>\n",
       "      <th>RACE</th>\n",
       "      <th>GENDER</th>\n",
       "      <th>MRSTAT</th>\n",
       "      <th>EDUC</th>\n",
       "      <th>PLREG</th>\n",
       "      <th>SVLANG</th>\n",
       "      <th>BMI</th>\n",
       "      <th>SMKFRQ</th>\n",
       "      <th>DEPRES</th>\n",
       "      <th>MCC</th>\n",
       "    </tr>\n",
       "  </thead>\n",
       "  <tbody>\n",
       "    <tr>\n",
       "      <th>0</th>\n",
       "      <td> C01000060</td>\n",
       "      <td> 3</td>\n",
       "      <td>NaN</td>\n",
       "      <td>  2</td>\n",
       "      <td>  1</td>\n",
       "      <td>  1</td>\n",
       "      <td>  8</td>\n",
       "      <td> 1</td>\n",
       "      <td>  1</td>\n",
       "      <td>  3</td>\n",
       "      <td>  2</td>\n",
       "      <td> 5</td>\n",
       "    </tr>\n",
       "    <tr>\n",
       "      <th>1</th>\n",
       "      <td> C01000361</td>\n",
       "      <td> 3</td>\n",
       "      <td>  1</td>\n",
       "      <td>  1</td>\n",
       "      <td>  1</td>\n",
       "      <td>  2</td>\n",
       "      <td>  9</td>\n",
       "      <td> 1</td>\n",
       "      <td>  1</td>\n",
       "      <td>  2</td>\n",
       "      <td>  2</td>\n",
       "      <td> 2</td>\n",
       "    </tr>\n",
       "    <tr>\n",
       "      <th>2</th>\n",
       "      <td> C01000455</td>\n",
       "      <td> 3</td>\n",
       "      <td>NaN</td>\n",
       "      <td>NaN</td>\n",
       "      <td>NaN</td>\n",
       "      <td>NaN</td>\n",
       "      <td> 10</td>\n",
       "      <td> 1</td>\n",
       "      <td>NaN</td>\n",
       "      <td>NaN</td>\n",
       "      <td>NaN</td>\n",
       "      <td> 0</td>\n",
       "    </tr>\n",
       "    <tr>\n",
       "      <th>3</th>\n",
       "      <td> C01000542</td>\n",
       "      <td> 3</td>\n",
       "      <td>  1</td>\n",
       "      <td>  2</td>\n",
       "      <td>  2</td>\n",
       "      <td>  3</td>\n",
       "      <td>  4</td>\n",
       "      <td> 1</td>\n",
       "      <td>  2</td>\n",
       "      <td>  3</td>\n",
       "      <td>  2</td>\n",
       "      <td> 3</td>\n",
       "    </tr>\n",
       "    <tr>\n",
       "      <th>4</th>\n",
       "      <td> C01000633</td>\n",
       "      <td> 3</td>\n",
       "      <td>  1</td>\n",
       "      <td>  1</td>\n",
       "      <td>  1</td>\n",
       "      <td>  2</td>\n",
       "      <td>  9</td>\n",
       "      <td> 1</td>\n",
       "      <td>  1</td>\n",
       "      <td>  3</td>\n",
       "      <td>  2</td>\n",
       "      <td> 5</td>\n",
       "    </tr>\n",
       "  </tbody>\n",
       "</table>\n",
       "</div>"
      ],
      "text/plain": [
       "          ID  AGEGRP  RACE  GENDER  MRSTAT  EDUC  PLREG  SVLANG  BMI  SMKFRQ  \\\n",
       "0  C01000060       3   NaN       2       1     1      8       1    1       3   \n",
       "1  C01000361       3     1       1       1     2      9       1    1       2   \n",
       "2  C01000455       3   NaN     NaN     NaN   NaN     10       1  NaN     NaN   \n",
       "3  C01000542       3     1       2       2     3      4       1    2       3   \n",
       "4  C01000633       3     1       1       1     2      9       1    1       3   \n",
       "\n",
       "   DEPRES  MCC  \n",
       "0       2    5  \n",
       "1       2    2  \n",
       "2     NaN    0  \n",
       "3       2    3  \n",
       "4       2    5  "
      ]
     },
     "execution_count": 78,
     "metadata": {},
     "output_type": "execute_result"
    }
   ],
   "source": [
    "profile.head()"
   ]
  },
  {
   "cell_type": "code",
   "execution_count": 84,
   "metadata": {
    "collapsed": false,
    "scrolled": true
   },
   "outputs": [
    {
     "data": {
      "text/html": [
       "<div style=\"max-height:1000px;max-width:1500px;overflow:auto;\">\n",
       "<table border=\"1\" class=\"dataframe\">\n",
       "  <thead>\n",
       "    <tr style=\"text-align: right;\">\n",
       "      <th></th>\n",
       "      <th>AGE</th>\n",
       "      <th>RACE</th>\n",
       "      <th>GENDER</th>\n",
       "      <th>MARITALSTAT</th>\n",
       "      <th>EDUCATION</th>\n",
       "      <th>REGION</th>\n",
       "      <th>LANGUAGE</th>\n",
       "      <th>OBESE</th>\n",
       "      <th>SMOKER</th>\n",
       "      <th>DEPRESSION</th>\n",
       "      <th>MCC</th>\n",
       "    </tr>\n",
       "    <tr>\n",
       "      <th>ID</th>\n",
       "      <th></th>\n",
       "      <th></th>\n",
       "      <th></th>\n",
       "      <th></th>\n",
       "      <th></th>\n",
       "      <th></th>\n",
       "      <th></th>\n",
       "      <th></th>\n",
       "      <th></th>\n",
       "      <th></th>\n",
       "      <th></th>\n",
       "    </tr>\n",
       "  </thead>\n",
       "  <tbody>\n",
       "    <tr>\n",
       "      <th>C01000060</th>\n",
       "      <td> 3</td>\n",
       "      <td>NaN</td>\n",
       "      <td>  2</td>\n",
       "      <td>  1</td>\n",
       "      <td>  1</td>\n",
       "      <td>  8</td>\n",
       "      <td> 1</td>\n",
       "      <td>  1</td>\n",
       "      <td>  3</td>\n",
       "      <td>  2</td>\n",
       "      <td> 5</td>\n",
       "    </tr>\n",
       "    <tr>\n",
       "      <th>C01000361</th>\n",
       "      <td> 3</td>\n",
       "      <td>  1</td>\n",
       "      <td>  1</td>\n",
       "      <td>  1</td>\n",
       "      <td>  2</td>\n",
       "      <td>  9</td>\n",
       "      <td> 1</td>\n",
       "      <td>  1</td>\n",
       "      <td>  2</td>\n",
       "      <td>  2</td>\n",
       "      <td> 2</td>\n",
       "    </tr>\n",
       "    <tr>\n",
       "      <th>C01000455</th>\n",
       "      <td> 3</td>\n",
       "      <td>NaN</td>\n",
       "      <td>NaN</td>\n",
       "      <td>NaN</td>\n",
       "      <td>NaN</td>\n",
       "      <td> 10</td>\n",
       "      <td> 1</td>\n",
       "      <td>NaN</td>\n",
       "      <td>NaN</td>\n",
       "      <td>NaN</td>\n",
       "      <td> 0</td>\n",
       "    </tr>\n",
       "    <tr>\n",
       "      <th>C01000542</th>\n",
       "      <td> 3</td>\n",
       "      <td>  1</td>\n",
       "      <td>  2</td>\n",
       "      <td>  2</td>\n",
       "      <td>  3</td>\n",
       "      <td>  4</td>\n",
       "      <td> 1</td>\n",
       "      <td>  2</td>\n",
       "      <td>  3</td>\n",
       "      <td>  2</td>\n",
       "      <td> 3</td>\n",
       "    </tr>\n",
       "    <tr>\n",
       "      <th>C01000633</th>\n",
       "      <td> 3</td>\n",
       "      <td>  1</td>\n",
       "      <td>  1</td>\n",
       "      <td>  1</td>\n",
       "      <td>  2</td>\n",
       "      <td>  9</td>\n",
       "      <td> 1</td>\n",
       "      <td>  1</td>\n",
       "      <td>  3</td>\n",
       "      <td>  2</td>\n",
       "      <td> 5</td>\n",
       "    </tr>\n",
       "  </tbody>\n",
       "</table>\n",
       "</div>"
      ],
      "text/plain": [
       "           AGE  RACE  GENDER  MARITALSTAT  EDUCATION  REGION  LANGUAGE  OBESE  \\\n",
       "ID                                                                              \n",
       "C01000060    3   NaN       2            1          1       8         1      1   \n",
       "C01000361    3     1       1            1          2       9         1      1   \n",
       "C01000455    3   NaN     NaN          NaN        NaN      10         1    NaN   \n",
       "C01000542    3     1       2            2          3       4         1      2   \n",
       "C01000633    3     1       1            1          2       9         1      1   \n",
       "\n",
       "           SMOKER  DEPRESSION  MCC  \n",
       "ID                                  \n",
       "C01000060       3           2    5  \n",
       "C01000361       2           2    2  \n",
       "C01000455     NaN         NaN    0  \n",
       "C01000542       3           2    3  \n",
       "C01000633       3           2    5  "
      ]
     },
     "execution_count": 84,
     "metadata": {},
     "output_type": "execute_result"
    }
   ],
   "source": [
    "#renames\n",
    "new_col_names = {\n",
    " 'AGEGRP':'AGE',\n",
    " 'MRSTAT':'MARITALSTAT',\n",
    " 'EDUC':'EDUCATION',\n",
    " 'PLREG':'REGION',\n",
    " 'SVLANG':'LANGUAGE',\n",
    " 'BMI':'OBESE',\n",
    " 'SMKFRQ':'SMOKER',\n",
    " 'DEPRES':'DEPRESSION'}\n",
    "profile = profile.rename(columns = new_col_names).set_index('ID')\n",
    "profile.head()"
   ]
  },
  {
   "cell_type": "code",
   "execution_count": 85,
   "metadata": {
    "collapsed": true
   },
   "outputs": [],
   "source": [
    "values_to_labels = {'AGE':{1:'<65', 2: '65 to 74', 3:'>74'}, \n",
    "                    'RACE':{1:'White', 2:'Black', 3:'Other'}, \n",
    "                    'GENDER':{1:'M', 2:'F'}, \n",
    "                    'MARITALSTAT':{1:'Married', 2:'Non-Married'}, \n",
    "                    'EDUCATION':{1:'Less than HS/GED', 2:'HS/GED', 3:'Greater than HS/GED'},\n",
    "                    'REGION':{1:'Region 1 (Boston)', 2:'Region 2 (New York)', 3:'Region 3 (Philadelphia)', 4:'Region 4 (Atlanta)', 5:'Region 5 (Chicago)', 6:'Region 6 (Dallas)', 7:'Region 7 (Kansas City)', 8:'Region 8 (Denver)', 9:'Region 9 (San Francisco)', 10:'Region 10 (Seattle)'},\n",
    "                    'LANGUAGE':{1:'English', 2:'Spanish', 3:np.nan, 4:'Chinese'},\n",
    "                    'OBESE':{1:'Not obese (BMI < 30)', 2:'Obese (BMI ≥ 30)'},\n",
    "                    'SMOKER':{1:'Y', 2:'Y', 3:'N', 4:np.nan},\n",
    "                    'DEPRESSION':{1:'Y', 2:'N'}\n",
    "                    }\n",
    "\n",
    "profile = profile.replace(values_to_labels)"
   ]
  },
  {
   "cell_type": "code",
   "execution_count": 86,
   "metadata": {
    "collapsed": false,
    "scrolled": true
   },
   "outputs": [
    {
     "data": {
      "text/html": [
       "<div style=\"max-height:1000px;max-width:1500px;overflow:auto;\">\n",
       "<table border=\"1\" class=\"dataframe\">\n",
       "  <thead>\n",
       "    <tr style=\"text-align: right;\">\n",
       "      <th></th>\n",
       "      <th>AGE</th>\n",
       "      <th>RACE</th>\n",
       "      <th>GENDER</th>\n",
       "      <th>MARITALSTAT</th>\n",
       "      <th>EDUCATION</th>\n",
       "      <th>REGION</th>\n",
       "      <th>LANGUAGE</th>\n",
       "      <th>OBESE</th>\n",
       "      <th>SMOKER</th>\n",
       "      <th>DEPRESSION</th>\n",
       "      <th>MCC</th>\n",
       "    </tr>\n",
       "    <tr>\n",
       "      <th>ID</th>\n",
       "      <th></th>\n",
       "      <th></th>\n",
       "      <th></th>\n",
       "      <th></th>\n",
       "      <th></th>\n",
       "      <th></th>\n",
       "      <th></th>\n",
       "      <th></th>\n",
       "      <th></th>\n",
       "      <th></th>\n",
       "      <th></th>\n",
       "    </tr>\n",
       "  </thead>\n",
       "  <tbody>\n",
       "    <tr>\n",
       "      <th>C01000060</th>\n",
       "      <td> &gt;74</td>\n",
       "      <td>   NaN</td>\n",
       "      <td>   F</td>\n",
       "      <td>     Married</td>\n",
       "      <td>    Less than HS/GED</td>\n",
       "      <td>        Region 8 (Denver)</td>\n",
       "      <td> English</td>\n",
       "      <td> Not obese (BMI &lt; 30)</td>\n",
       "      <td>   N</td>\n",
       "      <td>   N</td>\n",
       "      <td> 5</td>\n",
       "    </tr>\n",
       "    <tr>\n",
       "      <th>C01000361</th>\n",
       "      <td> &gt;74</td>\n",
       "      <td> White</td>\n",
       "      <td>   M</td>\n",
       "      <td>     Married</td>\n",
       "      <td>              HS/GED</td>\n",
       "      <td> Region 9 (San Francisco)</td>\n",
       "      <td> English</td>\n",
       "      <td> Not obese (BMI &lt; 30)</td>\n",
       "      <td>   Y</td>\n",
       "      <td>   N</td>\n",
       "      <td> 2</td>\n",
       "    </tr>\n",
       "    <tr>\n",
       "      <th>C01000455</th>\n",
       "      <td> &gt;74</td>\n",
       "      <td>   NaN</td>\n",
       "      <td> NaN</td>\n",
       "      <td>         NaN</td>\n",
       "      <td>                 NaN</td>\n",
       "      <td>      Region 10 (Seattle)</td>\n",
       "      <td> English</td>\n",
       "      <td>                  NaN</td>\n",
       "      <td> NaN</td>\n",
       "      <td> NaN</td>\n",
       "      <td> 0</td>\n",
       "    </tr>\n",
       "    <tr>\n",
       "      <th>C01000542</th>\n",
       "      <td> &gt;74</td>\n",
       "      <td> White</td>\n",
       "      <td>   F</td>\n",
       "      <td> Non-Married</td>\n",
       "      <td> Greater than HS/GED</td>\n",
       "      <td>       Region 4 (Atlanta)</td>\n",
       "      <td> English</td>\n",
       "      <td>     Obese (BMI ≥ 30)</td>\n",
       "      <td>   N</td>\n",
       "      <td>   N</td>\n",
       "      <td> 3</td>\n",
       "    </tr>\n",
       "    <tr>\n",
       "      <th>C01000633</th>\n",
       "      <td> &gt;74</td>\n",
       "      <td> White</td>\n",
       "      <td>   M</td>\n",
       "      <td>     Married</td>\n",
       "      <td>              HS/GED</td>\n",
       "      <td> Region 9 (San Francisco)</td>\n",
       "      <td> English</td>\n",
       "      <td> Not obese (BMI &lt; 30)</td>\n",
       "      <td>   N</td>\n",
       "      <td>   N</td>\n",
       "      <td> 5</td>\n",
       "    </tr>\n",
       "  </tbody>\n",
       "</table>\n",
       "</div>"
      ],
      "text/plain": [
       "           AGE   RACE GENDER  MARITALSTAT            EDUCATION  \\\n",
       "ID                                                               \n",
       "C01000060  >74    NaN      F      Married     Less than HS/GED   \n",
       "C01000361  >74  White      M      Married               HS/GED   \n",
       "C01000455  >74    NaN    NaN          NaN                  NaN   \n",
       "C01000542  >74  White      F  Non-Married  Greater than HS/GED   \n",
       "C01000633  >74  White      M      Married               HS/GED   \n",
       "\n",
       "                             REGION LANGUAGE                 OBESE SMOKER  \\\n",
       "ID                                                                          \n",
       "C01000060         Region 8 (Denver)  English  Not obese (BMI < 30)      N   \n",
       "C01000361  Region 9 (San Francisco)  English  Not obese (BMI < 30)      Y   \n",
       "C01000455       Region 10 (Seattle)  English                   NaN    NaN   \n",
       "C01000542        Region 4 (Atlanta)  English      Obese (BMI ≥ 30)      N   \n",
       "C01000633  Region 9 (San Francisco)  English  Not obese (BMI < 30)      N   \n",
       "\n",
       "          DEPRESSION  MCC  \n",
       "ID                         \n",
       "C01000060          N    5  \n",
       "C01000361          N    2  \n",
       "C01000455        NaN    0  \n",
       "C01000542          N    3  \n",
       "C01000633          N    5  "
      ]
     },
     "execution_count": 86,
     "metadata": {},
     "output_type": "execute_result"
    }
   ],
   "source": [
    "profile.head()"
   ]
  },
  {
   "cell_type": "markdown",
   "metadata": {},
   "source": [
    "*Look for general patterns in data spread*"
   ]
  },
  {
   "cell_type": "code",
   "execution_count": 95,
   "metadata": {
    "collapsed": false
   },
   "outputs": [
    {
     "data": {
      "text/html": [
       "<div style=\"max-height:1000px;max-width:1500px;overflow:auto;\">\n",
       "<table border=\"1\" class=\"dataframe\">\n",
       "  <thead>\n",
       "    <tr style=\"text-align: right;\">\n",
       "      <th></th>\n",
       "      <th>MCC</th>\n",
       "    </tr>\n",
       "  </thead>\n",
       "  <tbody>\n",
       "    <tr>\n",
       "      <th>count</th>\n",
       "      <td> 303512.000000</td>\n",
       "    </tr>\n",
       "    <tr>\n",
       "      <th>mean</th>\n",
       "      <td>      2.841835</td>\n",
       "    </tr>\n",
       "    <tr>\n",
       "      <th>std</th>\n",
       "      <td>      2.313805</td>\n",
       "    </tr>\n",
       "    <tr>\n",
       "      <th>min</th>\n",
       "      <td>      0.000000</td>\n",
       "    </tr>\n",
       "    <tr>\n",
       "      <th>25%</th>\n",
       "      <td>      1.000000</td>\n",
       "    </tr>\n",
       "    <tr>\n",
       "      <th>50%</th>\n",
       "      <td>      3.000000</td>\n",
       "    </tr>\n",
       "    <tr>\n",
       "      <th>75%</th>\n",
       "      <td>      4.000000</td>\n",
       "    </tr>\n",
       "    <tr>\n",
       "      <th>max</th>\n",
       "      <td>     18.000000</td>\n",
       "    </tr>\n",
       "  </tbody>\n",
       "</table>\n",
       "</div>"
      ],
      "text/plain": [
       "                 MCC\n",
       "count  303512.000000\n",
       "mean        2.841835\n",
       "std         2.313805\n",
       "min         0.000000\n",
       "25%         1.000000\n",
       "50%         3.000000\n",
       "75%         4.000000\n",
       "max        18.000000"
      ]
     },
     "execution_count": 95,
     "metadata": {},
     "output_type": "execute_result"
    }
   ],
   "source": [
    "profile.describe()"
   ]
  },
  {
   "cell_type": "code",
   "execution_count": 96,
   "metadata": {
    "collapsed": false,
    "scrolled": true
   },
   "outputs": [
    {
     "data": {
      "text/plain": [
       "array([[<matplotlib.axes._subplots.AxesSubplot object at 0x11536fd50>]], dtype=object)"
      ]
     },
     "execution_count": 96,
     "metadata": {},
     "output_type": "execute_result"
    },
    {
     "data": {
      "image/png": "[encoded data removed]",
      "text/plain": [
       "<matplotlib.figure.Figure at 0x107660a10>"
      ]
     },
     "metadata": {},
     "output_type": "display_data"
    }
   ],
   "source": [
    "profile.hist()"
   ]
  },
  {
   "cell_type": "code",
   "execution_count": null,
   "metadata": {
    "collapsed": true
   },
   "outputs": [],
   "source": [
    "*Make WELLNESS table: (1) demographics, (2) smoking (3) obesity (4) depression, (5) # CC*"
   ]
  },
  {
   "cell_type": "code",
   "execution_count": 87,
   "metadata": {
    "collapsed": true
   },
   "outputs": [],
   "source": [
    "from sklearn import preprocessing\n",
    "le = preprocessing.LabelEncoder()\n",
    "\n",
    "def convert_labels(data):\n",
    "    for col_name in data.columns:\n",
    "        col = data[col_name]\n",
    "        if col.dtype == 'O':\n",
    "            labels = col.unique()\n",
    "            le.fit(labels)\n",
    "            data[col_name] = le.transform(col)\n",
    "    return data"
   ]
  },
  {
   "cell_type": "code",
   "execution_count": 92,
   "metadata": {
    "collapsed": false,
    "scrolled": false
   },
   "outputs": [
    {
     "name": "stderr",
     "output_type": "stream",
     "text": [
      "/Users/ceslee-work/anaconda/lib/python2.7/site-packages/IPython/kernel/__main__.py:10: SettingWithCopyWarning: \n",
      "A value is trying to be set on a copy of a slice from a DataFrame.\n",
      "Try using .loc[row_indexer,col_indexer] = value instead\n",
      "\n",
      "See the the caveats in the documentation: http://pandas.pydata.org/pandas-docs/stable/indexing.html#indexing-view-versus-copy\n"
     ]
    }
   ],
   "source": [
    "profiles_converted = convert_labels(profile.dropna())"
   ]
  },
  {
   "cell_type": "code",
   "execution_count": 93,
   "metadata": {
    "collapsed": false
   },
   "outputs": [
    {
     "data": {
      "text/html": [
       "<div style=\"max-height:1000px;max-width:1500px;overflow:auto;\">\n",
       "<table border=\"1\" class=\"dataframe\">\n",
       "  <thead>\n",
       "    <tr style=\"text-align: right;\">\n",
       "      <th></th>\n",
       "      <th>AGE</th>\n",
       "      <th>RACE</th>\n",
       "      <th>GENDER</th>\n",
       "      <th>MARITALSTAT</th>\n",
       "      <th>EDUCATION</th>\n",
       "      <th>REGION</th>\n",
       "      <th>LANGUAGE</th>\n",
       "      <th>OBESE</th>\n",
       "      <th>SMOKER</th>\n",
       "      <th>DEPRESSION</th>\n",
       "      <th>MCC</th>\n",
       "    </tr>\n",
       "    <tr>\n",
       "      <th>ID</th>\n",
       "      <th></th>\n",
       "      <th></th>\n",
       "      <th></th>\n",
       "      <th></th>\n",
       "      <th></th>\n",
       "      <th></th>\n",
       "      <th></th>\n",
       "      <th></th>\n",
       "      <th></th>\n",
       "      <th></th>\n",
       "      <th></th>\n",
       "    </tr>\n",
       "  </thead>\n",
       "  <tbody>\n",
       "    <tr>\n",
       "      <th>C01000361</th>\n",
       "      <td> 2</td>\n",
       "      <td> 2</td>\n",
       "      <td> 1</td>\n",
       "      <td> 0</td>\n",
       "      <td> 1</td>\n",
       "      <td> 9</td>\n",
       "      <td> 1</td>\n",
       "      <td> 0</td>\n",
       "      <td> 1</td>\n",
       "      <td> 0</td>\n",
       "      <td> 2</td>\n",
       "    </tr>\n",
       "    <tr>\n",
       "      <th>C01000542</th>\n",
       "      <td> 2</td>\n",
       "      <td> 2</td>\n",
       "      <td> 0</td>\n",
       "      <td> 1</td>\n",
       "      <td> 0</td>\n",
       "      <td> 4</td>\n",
       "      <td> 1</td>\n",
       "      <td> 1</td>\n",
       "      <td> 0</td>\n",
       "      <td> 0</td>\n",
       "      <td> 3</td>\n",
       "    </tr>\n",
       "    <tr>\n",
       "      <th>C01000633</th>\n",
       "      <td> 2</td>\n",
       "      <td> 2</td>\n",
       "      <td> 1</td>\n",
       "      <td> 0</td>\n",
       "      <td> 1</td>\n",
       "      <td> 9</td>\n",
       "      <td> 1</td>\n",
       "      <td> 0</td>\n",
       "      <td> 0</td>\n",
       "      <td> 0</td>\n",
       "      <td> 5</td>\n",
       "    </tr>\n",
       "    <tr>\n",
       "      <th>C01000819</th>\n",
       "      <td> 2</td>\n",
       "      <td> 2</td>\n",
       "      <td> 0</td>\n",
       "      <td> 1</td>\n",
       "      <td> 2</td>\n",
       "      <td> 7</td>\n",
       "      <td> 1</td>\n",
       "      <td> 0</td>\n",
       "      <td> 0</td>\n",
       "      <td> 0</td>\n",
       "      <td> 4</td>\n",
       "    </tr>\n",
       "    <tr>\n",
       "      <th>C01000988</th>\n",
       "      <td> 2</td>\n",
       "      <td> 2</td>\n",
       "      <td> 1</td>\n",
       "      <td> 1</td>\n",
       "      <td> 2</td>\n",
       "      <td> 0</td>\n",
       "      <td> 1</td>\n",
       "      <td> 0</td>\n",
       "      <td> 0</td>\n",
       "      <td> 0</td>\n",
       "      <td> 4</td>\n",
       "    </tr>\n",
       "  </tbody>\n",
       "</table>\n",
       "</div>"
      ],
      "text/plain": [
       "           AGE  RACE  GENDER  MARITALSTAT  EDUCATION  REGION  LANGUAGE  OBESE  \\\n",
       "ID                                                                              \n",
       "C01000361    2     2       1            0          1       9         1      0   \n",
       "C01000542    2     2       0            1          0       4         1      1   \n",
       "C01000633    2     2       1            0          1       9         1      0   \n",
       "C01000819    2     2       0            1          2       7         1      0   \n",
       "C01000988    2     2       1            1          2       0         1      0   \n",
       "\n",
       "           SMOKER  DEPRESSION  MCC  \n",
       "ID                                  \n",
       "C01000361       1           0    2  \n",
       "C01000542       0           0    3  \n",
       "C01000633       0           0    5  \n",
       "C01000819       0           0    4  \n",
       "C01000988       0           0    4  "
      ]
     },
     "execution_count": 93,
     "metadata": {},
     "output_type": "execute_result"
    }
   ],
   "source": [
    "profiles_converted.head()"
   ]
  },
  {
   "cell_type": "markdown",
   "metadata": {},
   "source": [
    "*Checking for profile (survey) completeness*"
   ]
  },
  {
   "cell_type": "code",
   "execution_count": 2,
   "metadata": {
    "collapsed": false,
    "scrolled": true
   },
   "outputs": [],
   "source": [
    "# profiles['PCTCMP'].describe()"
   ]
  },
  {
   "cell_type": "code",
   "execution_count": 3,
   "metadata": {
    "collapsed": true
   },
   "outputs": [],
   "source": [
    "# profiles.count().plot(kind='bar', figsize=(14, 2.5))"
   ]
  },
  {
   "cell_type": "markdown",
   "metadata": {},
   "source": [
    "# 2 - EXPLORE"
   ]
  },
  {
   "cell_type": "markdown",
   "metadata": {},
   "source": [
    "###Quality Control (Transform)"
   ]
  },
  {
   "cell_type": "code",
   "execution_count": 94,
   "metadata": {
    "collapsed": false
   },
   "outputs": [
    {
     "data": {
      "image/png": "[encoded data removed]",
      "text/plain": [
       "<matplotlib.figure.Figure at 0x11d035590>"
      ]
     },
     "metadata": {},
     "output_type": "display_data"
    }
   ],
   "source": [
    "f, ax = plt.subplots(figsize=(9, 9))\n",
    "cmap = sns.diverging_palette(220, 10, as_cmap=True)\n",
    "sns.corrplot(profiles_converted, annot=False, sig_stars=False,\n",
    "             diag_names=False, cmap=cmap, ax=ax)\n",
    "f.tight_layout()"
   ]
  },
  {
   "cell_type": "code",
   "execution_count": null,
   "metadata": {
    "collapsed": true
   },
   "outputs": [],
   "source": [
    "#@David\n",
    "#missing data\n",
    "#data completeness\n",
    "#data quality"
   ]
  },
  {
   "cell_type": "code",
   "execution_count": null,
   "metadata": {
    "collapsed": true
   },
   "outputs": [],
   "source": [
    "#transformation code"
   ]
  },
  {
   "cell_type": "code",
   "execution_count": 4,
   "metadata": {
    "collapsed": false
   },
   "outputs": [],
   "source": [
    "# profiles.columns"
   ]
  },
  {
   "cell_type": "markdown",
   "metadata": {},
   "source": [
    "Start simple.  Take each demographic variable and make a continuous variable for Multiple Chronic Conditions."
   ]
  },
  {
   "cell_type": "code",
   "execution_count": 6,
   "metadata": {
    "collapsed": false
   },
   "outputs": [],
   "source": [
    "# profiles['MCC'] = (profiles[['HIGHBP', 'ANGCAD', 'CHF', 'AMI', 'OTHHRT', 'STROKE', 'COPD_E', 'GI_ETC', 'ATHHIP', 'ATHHAN', 'OSTEOPO', 'SCIATC', 'DIABET', 'ANYCAN']] == 1).sum(axis=1)\n",
    "# profiles['ADL'] = (profiles[[u'DIFBTH', u'DIFDRS', u'DIFEAT', u'DIFCHR', u'DIFWLK', u'DIFTOL']] > 1).sum(axis=1)"
   ]
  },
  {
   "cell_type": "code",
   "execution_count": 7,
   "metadata": {
    "collapsed": true
   },
   "outputs": [],
   "source": [
    "# profiles_simple = profiles[['AGEGRP', 'RACE', 'GENDER', 'MRSTAT', 'EDUC', 'BMI', 'GENHTH', 'PLREG', 'ADL' , 'MCC' ]].set_index(profiles['CASE_ID'])\n",
    "\n",
    "# # # replace a column name\n",
    "# profiles_simple.rename(columns = {'PLREG' : 'REGION', 'DEPWK': 'DEP'}, inplace = True)"
   ]
  },
  {
   "cell_type": "code",
   "execution_count": 8,
   "metadata": {
    "collapsed": false
   },
   "outputs": [],
   "source": [
    "# profiles_simple.head()"
   ]
  },
  {
   "cell_type": "code",
   "execution_count": 11,
   "metadata": {
    "collapsed": false,
    "scrolled": true
   },
   "outputs": [],
   "source": [
    "# profiles_simple = profiles_simple.dropna()\n",
    "# profiles_simple.head()"
   ]
  },
  {
   "cell_type": "markdown",
   "metadata": {
    "collapsed": false
   },
   "source": [
    "*Distribution of Data Points*"
   ]
  },
  {
   "cell_type": "code",
   "execution_count": null,
   "metadata": {
    "collapsed": true
   },
   "outputs": [],
   "source": []
  }
 ],
 "metadata": {
  "kernelspec": {
   "display_name": "Python 2",
   "language": "python",
   "name": "python2"
  },
  "language_info": {
   "codemirror_mode": {
    "name": "ipython",
    "version": 2
   },
   "file_extension": ".py",
   "mimetype": "text/x-python",
   "name": "python",
   "nbconvert_exporter": "python",
   "pygments_lexer": "ipython2",
   "version": "2.7.9"
  }
 },
 "nbformat": 4,
 "nbformat_minor": 0
}
