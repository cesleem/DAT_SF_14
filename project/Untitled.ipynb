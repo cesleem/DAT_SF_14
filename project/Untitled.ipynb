{
 "cells": [
  {
   "cell_type": "code",
   "execution_count": 37,
   "metadata": {
    "collapsed": false
   },
   "outputs": [
    {
     "data": {
      "text/html": [
       "<!-- inspired by http://nbremer.blogspot.nl/2013/09/making-d3-radar-chart-look-bit-better.html -->\n",
       "<head>\n",
       "    <meta http-equiv=\"Content-Type\" content=\"text/html;charset=utf-8\"/>\n",
       "    <title>Radar chart</title>\n",
       "    <script src=\"http://d3js.org/d3.v3.min.js\"></script>\n",
       "    <script src=\"radar-chart/RadarChart.js\"></script>\n",
       "    <style>\n",
       "        body {\n",
       "            overflow: hidden;\n",
       "            margin: 0;\n",
       "            font-size: 14px;\n",
       "            font-family: \"Helvetica Neue\", Helvetica;\n",
       "        }\n",
       "        #chart {\n",
       "            position: floating;\n",
       "            top: 50px;\n",
       "            left: 100px;\n",
       "        }\n",
       "    </style>\n",
       "</head>\n",
       "<body>\n",
       "    <div id=\"body\">\n",
       "        <div id=\"chart\"></div>\n",
       "    </div>\n",
       "    <script src=\"radar-chart/script3.js\"></script>\n",
       "</body>"
      ],
      "text/plain": [
       "<IPython.core.display.HTML object>"
      ]
     },
     "metadata": {},
     "output_type": "display_data"
    }
   ],
   "source": [
    "%%html\n",
    "<!-- inspired by http://nbremer.blogspot.nl/2013/09/making-d3-radar-chart-look-bit-better.html -->\n",
    "<head>\n",
    "    <meta http-equiv=\"Content-Type\" content=\"text/html;charset=utf-8\"/>\n",
    "    <title>Radar chart</title>\n",
    "    <script src=\"http://d3js.org/d3.v3.min.js\"></script>\n",
    "    <script src=\"radar-chart/RadarChart.js\"></script>\n",
    "    <style>\n",
    "        body {\n",
    "            overflow: hidden;\n",
    "            margin: 0;\n",
    "            font-size: 14px;\n",
    "            font-family: \"Helvetica Neue\", Helvetica;\n",
    "        }\n",
    "        #chart {\n",
    "            position: floating;\n",
    "            top: 50px;\n",
    "            left: 100px;\n",
    "        }\n",
    "    </style>\n",
    "</head>\n",
    "<body>\n",
    "    <div id=\"body\">\n",
    "        <div id=\"chart\"></div>\n",
    "    </div>\n",
    "    <script src=\"radar-chart/script3.js\"></script>\n",
    "</body>"
   ]
  },
  {
   "cell_type": "code",
   "execution_count": null,
   "metadata": {
    "collapsed": true
   },
   "outputs": [],
   "source": []
  }
 ],
 "metadata": {
  "kernelspec": {
   "display_name": "Python 2",
   "language": "python",
   "name": "python2"
  },
  "language_info": {
   "codemirror_mode": {
    "name": "ipython",
    "version": 2
   },
   "file_extension": ".py",
   "mimetype": "text/x-python",
   "name": "python",
   "nbconvert_exporter": "python",
   "pygments_lexer": "ipython2",
   "version": "2.7.10"
  }
 },
 "nbformat": 4,
 "nbformat_minor": 0
}
