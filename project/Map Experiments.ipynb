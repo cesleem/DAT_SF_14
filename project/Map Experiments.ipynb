{
 "cells": [
  {
   "cell_type": "markdown",
   "metadata": {},
   "source": [
    "#TUTS: d3-less basic chloropleth map using Python (Viz Tuts: 1 of 6)\n",
    "##How to Make a US County Thematic Map Using Free Tools\n",
    "##From: [FlowingData](http://flowingdata.com/2009/11/12/how-to-make-a-us-county-thematic-map-using-free-tools/)\n",
    "##Downloaded: 4-May-2014"
   ]
  },
  {
   "cell_type": "markdown",
   "metadata": {},
   "source": [
    "##0. PRELIMINARIES"
   ]
  },
  {
   "cell_type": "code",
   "execution_count": 1,
   "metadata": {
    "collapsed": false
   },
   "outputs": [
    {
     "ename": "ImportError",
     "evalue": "No module named BeautifulSoup",
     "output_type": "error",
     "traceback": [
      "\u001b[0;31m---------------------------------------------------------------------------\u001b[0m",
      "\u001b[0;31mImportError\u001b[0m                               Traceback (most recent call last)",
      "\u001b[0;32m<ipython-input-1-4da9d05a7594>\u001b[0m in \u001b[0;36m<module>\u001b[0;34m()\u001b[0m\n\u001b[1;32m      1\u001b[0m \u001b[0;32mimport\u001b[0m \u001b[0mcsv\u001b[0m\u001b[0;34m\u001b[0m\u001b[0m\n\u001b[0;32m----> 2\u001b[0;31m \u001b[0;32mfrom\u001b[0m \u001b[0mBeautifulSoup\u001b[0m \u001b[0;32mimport\u001b[0m \u001b[0mBeautifulSoup\u001b[0m\u001b[0;34m\u001b[0m\u001b[0m\n\u001b[0m",
      "\u001b[0;31mImportError\u001b[0m: No module named BeautifulSoup"
     ]
    }
   ],
   "source": [
    "import csv\n",
    "from BeautifulSoup import BeautifulSoup"
   ]
  },
  {
   "cell_type": "code",
   "execution_count": null,
   "metadata": {
    "collapsed": false
   },
   "outputs": [],
   "source": [
    "unemployment = {}\n",
    "\n",
    "reader = csv.reader(open('processed_data/unemployment09.csv'), delimiter=',')\n",
    "for row in reader:\n",
    "    try:\n",
    "        full_fips = row[1] + row[2]\n",
    "        rate = float(row[8].strip())\n",
    "        unemployment[full_fips] = rate\n",
    "    except:\n",
    "        pass"
   ]
  },
  {
   "cell_type": "code",
   "execution_count": null,
   "metadata": {
    "collapsed": false
   },
   "outputs": [],
   "source": [
    "#head\n",
    "unemployment.iteritems().next()"
   ]
  },
  {
   "cell_type": "markdown",
   "metadata": {},
   "source": [
    "Luckily, we don't have to start from scratch. We can get a blank USA counties map from Wikimedia Commons. We want the SVG one. Download the SVG file onto your computer and save it as counties.svg."
   ]
  },
  {
   "cell_type": "code",
   "execution_count": null,
   "metadata": {
    "collapsed": false
   },
   "outputs": [],
   "source": [
    "#Load the SVG map\n",
    "svg = open('processed_data/counties.svg', 'r').read()\n",
    "\n",
    "#Load into BeautifulSoup\n",
    "soup = BeautifulSoup(svg, selfClosingTags=['defs','sodipodi:namedview'])"
   ]
  },
  {
   "cell_type": "code",
   "execution_count": null,
   "metadata": {
    "collapsed": false
   },
   "outputs": [],
   "source": [
    "# soup.prettify()"
   ]
  },
  {
   "cell_type": "markdown",
   "metadata": {},
   "source": [
    "Each path is a county. The long run of numbers are the coordinates for the county's boundary lines. We're not going to fuss with those numbers.\n",
    "\n",
    "We only care about the beginning and very end of the path tag. We're going to change the style attribute, namely fill color. We want the darkness of fill to correspond to the unemployment rate in each given county.\n",
    "\n",
    "We could change each one manually, but there are over 3,000 counties. That would take too long. Instead we'll use Beautiful Soup, an XML parsing Python library, to change colors accordingly.\n",
    "\n",
    "Each path also has an id, which is actually something called a FIPS code. FIPS stands for Federal Information Processing Standard. Every county has a unique FIPS code, and it's how we are going to associate each path with our unemployment data."
   ]
  },
  {
   "cell_type": "markdown",
   "metadata": {},
   "source": [
    "##Step 1. Find all the counties in the SVG"
   ]
  },
  {
   "cell_type": "markdown",
   "metadata": {},
   "source": [
    "Beautiful Soup has a nifty findAll() function that we can use to find all the counties in our SVG file.  All paths are stored in the paths array."
   ]
  },
  {
   "cell_type": "code",
   "execution_count": null,
   "metadata": {
    "collapsed": false
   },
   "outputs": [],
   "source": [
    "#Find counties\n",
    "paths = soup.findAll('path')"
   ]
  },
  {
   "cell_type": "markdown",
   "metadata": {},
   "source": [
    "##Step 2. Decide what colors to use for map"
   ]
  },
  {
   "cell_type": "markdown",
   "metadata": {},
   "source": [
    "There are plenty of color schemes to choose from, but if you don't want to think about it, give the ColorBrewer a whirl. It's a tool to help you decide your colors. For this particular map, I chose the PurpleRed scheme with six data classes.  In the bottom, left-hand corner, are our color codes. Select the hexadecimal option (HEX), and then create an array of those hexadecimal colors."
   ]
  },
  {
   "cell_type": "code",
   "execution_count": null,
   "metadata": {
    "collapsed": false
   },
   "outputs": [],
   "source": [
    "# Map colors\n",
    "colors = [\"#F1EEF6\", \"#D4B9DA\", \"#C994C7\", \"#DF65B0\", \"#DD1C77\", \"#980043\"]"
   ]
  },
  {
   "cell_type": "markdown",
   "metadata": {},
   "source": [
    "##Step 3. Prepare style for paths"
   ]
  },
  {
   "cell_type": "markdown",
   "metadata": {},
   "source": [
    "We're getting close to the climax. Like I said earlier, we're going to change the style attribute for each path in the SVG. We're just interested in fill color, but to make things easier we're going to replace the entire style instead of parsing to replace only the color.  Everything is the same as the previous style except we moved fill to the end and left the value blank. We're going to fill that in just a second. We also changed stroke to #FFFFFF to make county borders white. We didn't have to leave that value blank, because we want all borders to be white while fill depends on unemployment rate."
   ]
  },
  {
   "cell_type": "code",
   "execution_count": null,
   "metadata": {
    "collapsed": false
   },
   "outputs": [],
   "source": [
    "# County style\n",
    "path_style = 'font-size:12px;fill-rule:nonzero;stroke:#FFFFFF;stroke-opacity:1;stroke-width:0.1;stroke-miterlimit:4;stroke-dasharray:none;stroke-linecap:butt;marker-start:none;stroke-linejoin:bevel;fill:'"
   ]
  },
  {
   "cell_type": "markdown",
   "metadata": {},
   "source": [
    "##Step 4. Change color of counties"
   ]
  },
  {
   "cell_type": "markdown",
   "metadata": {},
   "source": [
    "We're ready to change colors now! Loop through all the paths, find the unemployment rate from the unemployment dictionary, and then select color class accordingly. Notice the if statement. I don't want to change the style of state lines or the line that separates Hawaii and Alaska from the rest of the states.\n",
    "\n",
    "I also hard-coded the conditions to decide the color class because I knew beforehand what the distribution is like. If however, you didn't know the distribution, you could use something like this: float(len(colors)-1) * float(rate - min_value) / float(max_value - min_value)."
   ]
  },
  {
   "cell_type": "code",
   "execution_count": null,
   "metadata": {
    "collapsed": false
   },
   "outputs": [],
   "source": [
    "# Color the counties based on unemployment rate\n",
    "for p in paths:\n",
    "     \n",
    "    if p['id'] not in [\"State_Lines\", \"separator\"]:\n",
    "        # pass\n",
    "        try:\n",
    "            rate = unemployment[p['id']]\n",
    "        except:\n",
    "            continue\n",
    "             \n",
    "        if rate > 10:\n",
    "            color_class = 5\n",
    "        elif rate > 8:\n",
    "            color_class = 4\n",
    "        elif rate > 6:\n",
    "            color_class = 3\n",
    "        elif rate > 4:\n",
    "            color_class = 2\n",
    "        elif rate > 2:\n",
    "            color_class = 1\n",
    "        else:\n",
    "            color_class = 0\n",
    " \n",
    "        color = colors[color_class]\n",
    "        p['style'] = path_style + color"
   ]
  },
  {
   "cell_type": "code",
   "execution_count": null,
   "metadata": {
    "collapsed": false
   },
   "outputs": [],
   "source": [
    "from IPython.display import SVG\n",
    "# SVG(filename='processed_data/counties.svg')\n",
    "SVG(data=soup.prettify())"
   ]
  },
  {
   "cell_type": "markdown",
   "metadata": {},
   "source": [
    "#TUTS: d3 chloropleth map with legend and interactive tooltip (Viz Tuts: 2 of 6)\n",
    "##Making a Simple Interactive Map Prototype with D3…For Total Beginners Who are Totally Impatient\n",
    "##From: [SUFFEN.US](https://suffenus.wordpress.com/2014/01/07/making-interactive-maps-with-d3-for-total-beginners/)\n",
    "##Downloaded: 4-May-2014"
   ]
  },
  {
   "cell_type": "code",
   "execution_count": 1,
   "metadata": {
    "collapsed": false
   },
   "outputs": [
    {
     "data": {
      "text/html": [
       "\n",
       "<div id=\"interactive-map\"></div>\n",
       "\n",
       "<style>\n",
       "    path {\n",
       "     stroke:white;\n",
       "     stroke-width: 1px;\n",
       "    }\n",
       "    \n",
       "    .legend {\n",
       "     font-size: 12px;\n",
       "    }\n",
       "\n",
       "    .city {\n",
       "     font: 10px sans-serif;\n",
       "     font-weight: bold;\n",
       "    }\n",
       "    \n",
       "    div.tooltip {\n",
       "     position: absolute;\n",
       "     text-align: center;\n",
       "     width: 150px;\n",
       "     height: 25px;\n",
       "     padding: 2px;\n",
       "     font-size: 10px;\n",
       "     background: #FFFFE0;\n",
       "     border: 1px;\n",
       "     border-radius: 8px;\n",
       "     pointer-events: none;\n",
       "    }\n",
       "\n",
       "</style>"
      ],
      "text/plain": [
       "<IPython.core.display.HTML object>"
      ]
     },
     "metadata": {},
     "output_type": "display_data"
    }
   ],
   "source": [
    "%%html\n",
    "\n",
    "<div id=\"interactive-map\"></div>\n",
    "\n",
    "<style>\n",
    "    path {\n",
    "     stroke:white;\n",
    "     stroke-width: 1px;\n",
    "    }\n",
    "    \n",
    "    .legend {\n",
    "     font-size: 12px;\n",
    "    }\n",
    "\n",
    "    .city {\n",
    "     font: 10px sans-serif;\n",
    "     font-weight: bold;\n",
    "    }\n",
    "    \n",
    "    div.tooltip {\n",
    "     position: absolute;\n",
    "     text-align: center;\n",
    "     width: 150px;\n",
    "     height: 25px;\n",
    "     padding: 2px;\n",
    "     font-size: 10px;\n",
    "     background: #FFFFE0;\n",
    "     border: 1px;\n",
    "     border-radius: 8px;\n",
    "     pointer-events: none;\n",
    "    }\n",
    "\n",
    "</style>"
   ]
  },
  {
   "cell_type": "code",
   "execution_count": 2,
   "metadata": {
    "collapsed": false
   },
   "outputs": [
    {
     "data": {
      "application/javascript": [
       "\n",
       "require.config({paths: {d3: \"http://d3js.org/d3.v3.min\", queue:\"http://d3js.org/queue.v1.min\", topojson:\"http://d3js.org/topojson.v1.min\"}});\n",
       "\n",
       "require([\"d3\", \"queue\", \"topojson\"], function(d3, queue, topojson) {\n",
       "    \n",
       "    var width = 960,\n",
       "        height = 500;\n",
       "    \n",
       "    var color_domain = [500, 1000, 1500, 2000, 2500, 3000, 3500, 4000, 4500, 5000, 5500, 6000]\n",
       "    var ext_color_domain = [0, 500, 1000, 1500, 2000, 2500, 3000, 3500, 4000, 4500, 5000, 5500, 6000]\n",
       "    var legend_labels = [\"< 500\", \"500+\", \"1000+\", \"1500+\", \"2000+\", \"2500+\", \"3000+\", \"3500+\", \"4000+\", \"4500+\", \"5000+\", \"5500+\", \"6000+\"]\n",
       "    var color = d3.scale.threshold()\n",
       "    .domain(color_domain)\n",
       "    .range([\"#dcdcdc\", \"#d0d6cd\", \"#bdc9be\", \"#aabdaf\", \"#97b0a0\", \"#84a491\", \"#719782\", \"#5e8b73\", \"#4b7e64\", \"#387255\", \"#256546\", \"#125937\", \"#004d28\"]);\n",
       "\n",
       "    var div = d3.select(\"#interactive-map\").append(\"div\")\n",
       "     .attr(\"class\", \"tooltip\")\n",
       "     .style(\"opacity\", 0);\n",
       "    \n",
       "    var svg = d3.select(\"#interactive-map\").append(\"svg\")\n",
       "     .attr(\"width\", width)\n",
       "     .attr(\"height\", height);\n",
       "     var path = d3.geo.path()\n",
       "     \n",
       "    queue()\n",
       "     .defer(d3.json, \"processed_data/usa.json\")\n",
       "     .defer(d3.csv, \"processed_data/data.csv\")\n",
       "     .await(ready);\n",
       "    \n",
       "    function ready(error, us, data) {\n",
       "        var pairRateWithId = {};\n",
       "        var pairNameWithId = {};\n",
       "\n",
       "        data.forEach(function(d) {\n",
       "         pairRateWithId[d.id] = +d.rate;\n",
       "         pairNameWithId[d.id] = d.name;\n",
       "         });\n",
       "        \n",
       "         svg.append(\"g\")\n",
       "         .attr(\"class\", \"county\")\n",
       "         .selectAll(\"path\")\n",
       "         .data(topojson.feature(us, us.objects.counties).features)\n",
       "         .enter().append(\"path\")\n",
       "         .attr(\"d\", path)\n",
       "         .style ( \"fill\" , function (d) {\n",
       "         return color (pairRateWithId[d.id]);\n",
       "         })\n",
       "         .style(\"opacity\", 0.8)\n",
       "         .on(\"mouseover\", function(d) {\n",
       "         d3.select(this).transition().duration(300).style(\"opacity\", 1);\n",
       "         div.transition().duration(300)\n",
       "         .style(\"opacity\", 1)\n",
       "         div.text(pairNameWithId[d.id] + \" : \" + pairRateWithId[d.id])\n",
       "         .style(\"left\", (d3.event.pageX) + \"px\")\n",
       "         .style(\"top\", (d3.event.pageY -30) + \"px\");\n",
       "         })\n",
       "         .on(\"mouseout\", function() {\n",
       "         d3.select(this)\n",
       "         .transition().duration(300)\n",
       "         .style(\"opacity\", 0.8);\n",
       "         div.transition().duration(300)\n",
       "         .style(\"opacity\", 0);\n",
       "         })\n",
       "    };\n",
       "    var legend = svg.selectAll(\"g.legend\")\n",
       "     .data(ext_color_domain)\n",
       "     .enter().append(\"g\")\n",
       "     .attr(\"class\", \"legend\");\n",
       "\n",
       "    var ls_w = 20, ls_h = 20;\n",
       "\n",
       "    legend.append(\"rect\")\n",
       "     .attr(\"x\", 20)\n",
       "     .attr(\"y\", function(d, i){ return height - (i*ls_h) - 2*ls_h;})\n",
       "     .attr(\"width\", ls_w)\n",
       "     .attr(\"height\", ls_h)\n",
       "     .style(\"fill\", function(d, i) { return color(d); })\n",
       "     .style(\"opacity\", 0.8);\n",
       "\n",
       "    legend.append(\"text\")\n",
       "     .attr(\"x\", 50)\n",
       "     .attr(\"y\", function(d, i){ return height - (i*ls_h) - ls_h - 4;})\n",
       "     .text(function(d, i){ return legend_labels[i]; });\n",
       "});"
      ],
      "text/plain": [
       "<IPython.core.display.Javascript object>"
      ]
     },
     "metadata": {},
     "output_type": "display_data"
    }
   ],
   "source": [
    "%%javascript\n",
    "\n",
    "require.config({paths: {d3: \"http://d3js.org/d3.v3.min\", queue:\"http://d3js.org/queue.v1.min\", topojson:\"http://d3js.org/topojson.v1.min\"}});\n",
    "\n",
    "require([\"d3\", \"queue\", \"topojson\"], function(d3, queue, topojson) {\n",
    "    \n",
    "    var width = 960,\n",
    "        height = 500;\n",
    "    \n",
    "    var color_domain = [500, 1000, 1500, 2000, 2500, 3000, 3500, 4000, 4500, 5000, 5500, 6000]\n",
    "    var ext_color_domain = [0, 500, 1000, 1500, 2000, 2500, 3000, 3500, 4000, 4500, 5000, 5500, 6000]\n",
    "    var legend_labels = [\"< 500\", \"500+\", \"1000+\", \"1500+\", \"2000+\", \"2500+\", \"3000+\", \"3500+\", \"4000+\", \"4500+\", \"5000+\", \"5500+\", \"6000+\"]\n",
    "    var color = d3.scale.threshold()\n",
    "    .domain(color_domain)\n",
    "    .range([\"#dcdcdc\", \"#d0d6cd\", \"#bdc9be\", \"#aabdaf\", \"#97b0a0\", \"#84a491\", \"#719782\", \"#5e8b73\", \"#4b7e64\", \"#387255\", \"#256546\", \"#125937\", \"#004d28\"]);\n",
    "\n",
    "    var div = d3.select(\"#interactive-map\").append(\"div\")\n",
    "     .attr(\"class\", \"tooltip\")\n",
    "     .style(\"opacity\", 0);\n",
    "    \n",
    "    var svg = d3.select(\"#interactive-map\").append(\"svg\")\n",
    "     .attr(\"width\", width)\n",
    "     .attr(\"height\", height);\n",
    "     var path = d3.geo.path()\n",
    "     \n",
    "    queue()\n",
    "     .defer(d3.json, \"processed_data/usa.json\")\n",
    "     .defer(d3.csv, \"processed_data/data.csv\")\n",
    "     .await(ready);\n",
    "    \n",
    "    function ready(error, us, data) {\n",
    "        var pairRateWithId = {};\n",
    "        var pairNameWithId = {};\n",
    "\n",
    "        data.forEach(function(d) {\n",
    "         pairRateWithId[d.id] = +d.rate;\n",
    "         pairNameWithId[d.id] = d.name;\n",
    "         });\n",
    "        \n",
    "         svg.append(\"g\")\n",
    "         .attr(\"class\", \"county\")\n",
    "         .selectAll(\"path\")\n",
    "         .data(topojson.feature(us, us.objects.counties).features)\n",
    "         .enter().append(\"path\")\n",
    "         .attr(\"d\", path)\n",
    "         .style ( \"fill\" , function (d) {\n",
    "         return color (pairRateWithId[d.id]);\n",
    "         })\n",
    "         .style(\"opacity\", 0.8)\n",
    "         .on(\"mouseover\", function(d) {\n",
    "         d3.select(this).transition().duration(300).style(\"opacity\", 1);\n",
    "         div.transition().duration(300)\n",
    "         .style(\"opacity\", 1)\n",
    "         div.text(pairNameWithId[d.id] + \" : \" + pairRateWithId[d.id])\n",
    "         .style(\"left\", (d3.event.pageX) + \"px\")\n",
    "         .style(\"top\", (d3.event.pageY -30) + \"px\");\n",
    "         })\n",
    "         .on(\"mouseout\", function() {\n",
    "         d3.select(this)\n",
    "         .transition().duration(300)\n",
    "         .style(\"opacity\", 0.8);\n",
    "         div.transition().duration(300)\n",
    "         .style(\"opacity\", 0);\n",
    "         })\n",
    "    };\n",
    "    var legend = svg.selectAll(\"g.legend\")\n",
    "     .data(ext_color_domain)\n",
    "     .enter().append(\"g\")\n",
    "     .attr(\"class\", \"legend\");\n",
    "\n",
    "    var ls_w = 20, ls_h = 20;\n",
    "\n",
    "    legend.append(\"rect\")\n",
    "     .attr(\"x\", 20)\n",
    "     .attr(\"y\", function(d, i){ return height - (i*ls_h) - 2*ls_h;})\n",
    "     .attr(\"width\", ls_w)\n",
    "     .attr(\"height\", ls_h)\n",
    "     .style(\"fill\", function(d, i) { return color(d); })\n",
    "     .style(\"opacity\", 0.8);\n",
    "\n",
    "    legend.append(\"text\")\n",
    "     .attr(\"x\", 50)\n",
    "     .attr(\"y\", function(d, i){ return height - (i*ls_h) - ls_h - 4;})\n",
    "     .text(function(d, i){ return legend_labels[i]; });\n",
    "});"
   ]
  },
  {
   "cell_type": "code",
   "execution_count": null,
   "metadata": {
    "collapsed": false
   },
   "outputs": [],
   "source": []
  }
 ],
 "metadata": {
  "kernelspec": {
   "display_name": "Python 2",
   "language": "python",
   "name": "python2"
  },
  "language_info": {
   "codemirror_mode": {
    "name": "ipython",
    "version": 2
   },
   "file_extension": ".py",
   "mimetype": "text/x-python",
   "name": "python",
   "nbconvert_exporter": "python",
   "pygments_lexer": "ipython2",
   "version": "2.7.10"
  }
 },
 "nbformat": 4,
 "nbformat_minor": 0
}
