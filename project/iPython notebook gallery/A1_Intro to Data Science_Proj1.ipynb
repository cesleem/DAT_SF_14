{
 "metadata": {
  "name": ""
 },
 "nbformat": 3,
 "nbformat_minor": 0,
 "worksheets": [
  {
   "cells": [
    {
     "cell_type": "heading",
     "level": 1,
     "metadata": {},
     "source": [
      "Project 1: Survival Predictor on Titanic Data"
     ]
    },
    {
     "cell_type": "heading",
     "level": 2,
     "metadata": {},
     "source": [
      "Problem Statement:"
     ]
    },
    {
     "cell_type": "markdown",
     "metadata": {},
     "source": [
      "    You are given a list of Titantic passengers and their associating\n",
      "    information. More information about the data can be seen at the link below:\n",
      "    http://www.kaggle.com/c/titanic-gettingStarted/data\n",
      "\n",
      "    For this exercise, you need to write your custom heuristic that will take\n",
      "    in some combination of the passenger's attributes and predict if the passenger\n",
      "    survived the titanic diaster. \n",
      "    Can your custom heuristic beat 80% accuracy?"
     ]
    },
    {
     "cell_type": "heading",
     "level": 2,
     "metadata": {},
     "source": [
      "Task:"
     ]
    },
    {
     "cell_type": "markdown",
     "metadata": {},
     "source": [
      "    Write your prediction back into the \"predictions\" dictionary. The\n",
      "    key of the dictionary should be the Passenger's id (which can be accessed\n",
      "    via passenger[\"PassengerId\"]) and the associating value should be 1 if the\n",
      "    passenger survied or 0 otherwise. \n",
      "\n",
      "    For example, if a passenger survived:\n",
      "    passenger_id = passenger['PassengerId']\n",
      "    predictions[passenger_id] = 1\n",
      "\n",
      "    Or if a passenger perished in the disaster:\n",
      "    passenger_id = passenger['PassengerId']\n",
      "    predictions[passenger_id] = 0\n",
      "    \n",
      "    You can also look at the titantic data that you will be working with\n",
      "    at the link below:\n",
      "    https://www.dropbox.com/s/r5f9aos8p9ri9sa/titanic_data.csv  "
     ]
    },
    {
     "cell_type": "heading",
     "level": 1,
     "metadata": {},
     "source": [
      "Code:"
     ]
    },
    {
     "cell_type": "code",
     "collapsed": false,
     "input": [
      "import numpy\n",
      "import pandas\n",
      "import statsmodels.api as sm\n",
      "\n",
      "def custom_heuristic(file_path):\n",
      "\n",
      "    predictions = {}\n",
      "    df = pandas.read_csv(file_path)\n",
      "    for passenger_index, passenger in df.iterrows():\n",
      "      passenger_id = passenger['PassengerId']\n",
      "      if passenger['Sex']==\"female\" or (passenger['Pclass']==1 and passenger['Age']<18) or (passenger['Pclass']==2 and passenger['Age']<15):\n",
      "            predictions[passenger_id] = 1\n",
      "      else:\n",
      "         predictions[passenger_id] = 0      \n",
      "    return predictions"
     ],
     "language": "python",
     "metadata": {},
     "outputs": [],
     "prompt_number": 2
    },
    {
     "cell_type": "heading",
     "level": 2,
     "metadata": {},
     "source": [
      "#Notes:"
     ]
    },
    {
     "cell_type": "markdown",
     "metadata": {},
     "source": [
      "    The available attributes are:\n",
      "    Pclass          Passenger Class\n",
      "                    (1 = 1st; 2 = 2nd; 3 = 3rd)\n",
      "    Name            Name\n",
      "    Sex             Sex\n",
      "    Age             Age\n",
      "    SibSp           Number of Siblings/Spouses Aboard\n",
      "    Parch           Number of Parents/Children Aboard\n",
      "    Ticket          Ticket Number\n",
      "    Fare            Passenger Fare\n",
      "    Cabin           Cabin\n",
      "    Embarked        Port of Embarkation\n",
      "                    (C = Cherbourg; Q = Queenstown; S = Southampton)\n",
      "                    \n",
      "    SPECIAL NOTES:\n",
      "    Pclass is a proxy for socio-economic status (SES)\n",
      "    1st ~ Upper; 2nd ~ Middle; 3rd ~ Lower\n",
      "\n",
      "    Age is in Years; Fractional if Age less than One (1)\n",
      "    If the Age is Estimated, it is in the form xx.5\n",
      "\n",
      "    With respect to the family relation variables (i.e. SibSp and Parch)\n",
      "    some relations were ignored.  The following are the definitions used\n",
      "    for SibSp and Parch.\n",
      "\n",
      "    Sibling:  Brother, Sister, Stepbrother, or Stepsister of Passenger Aboard Titanic\n",
      "    Spouse:   Husband or Wife of Passenger Aboard Titanic (Mistresses and Fiances Ignored)\n",
      "    Parent:   Mother or Father of Passenger Aboard Titanic\n",
      "    Child:    Son, Daughter, Stepson, or Stepdaughter of Passenger Aboard Titanic     "
     ]
    }
   ],
   "metadata": {}
  }
 ]
}