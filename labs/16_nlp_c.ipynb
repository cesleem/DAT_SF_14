{
 "cells": [
  {
   "cell_type": "markdown",
   "metadata": {},
   "source": [
    "# stop words, tf-idf\n",
    "\n",
    "Let's investigate one of the most useful feature weightings, and how stop words derive naturally from that. To start, let's load a set of small documents."
   ]
  },
  {
   "cell_type": "code",
   "execution_count": 1,
   "metadata": {
    "collapsed": false
   },
   "outputs": [],
   "source": [
    "import pandas as pd\n",
    "import numpy as np"
   ]
  },
  {
   "cell_type": "code",
   "execution_count": 2,
   "metadata": {
    "collapsed": false
   },
   "outputs": [],
   "source": [
    "# load data\n",
    "try:\n",
    "    df = pd.read_csv('data/rt_critics.csv')\n",
    "except IOError:\n",
    "    print 'cannot find file'"
   ]
  },
  {
   "cell_type": "code",
   "execution_count": 3,
   "metadata": {
    "collapsed": false
   },
   "outputs": [
    {
     "data": {
      "text/plain": [
       "['So ingenious in concept, design and execution that you could watch it on a postage stamp-sized screen and still be engulfed by its charm.',\n",
       " \"The year's most inventive comedy.\",\n",
       " 'A winning animated feature that has something for everyone on the age spectrum.',\n",
       " \"The film sports a provocative and appealing story that's every bit the equal of this technical achievement.\",\n",
       " \"An entertaining computer-generated, hyperrealist animation feature (1995) that's also in effect a toy catalog.\"]"
      ]
     },
     "execution_count": 3,
     "metadata": {},
     "output_type": "execute_result"
    }
   ],
   "source": [
    "# It seems silly to call such short blurbs 'documents', but we'll stick with the NLP nomenclature.\n",
    "\n",
    "documents = list(df['quote'])\n",
    "documents[:5]"
   ]
  },
  {
   "cell_type": "markdown",
   "metadata": {},
   "source": [
    "## Document Frequency\n",
    "\n",
    "Let's start by calculating the document frequency for words in these documents. For this task, let's also remove all the punctuation marks and make everything lower-case."
   ]
  },
  {
   "cell_type": "code",
   "execution_count": 4,
   "metadata": {
    "collapsed": false
   },
   "outputs": [],
   "source": [
    "from nltk.tokenize import wordpunct_tokenize  # for tokenizing our text\n",
    "import string  # helps with removing punctuation\n",
    "from collections import Counter  # great dict-like datastructure for counting things"
   ]
  },
  {
   "cell_type": "code",
   "execution_count": 5,
   "metadata": {
    "collapsed": false
   },
   "outputs": [
    {
     "name": "stdout",
     "output_type": "stream",
     "text": [
      "!\"#$%&'()*+,-./:;<=>?@[\\]^_`{|}~\n"
     ]
    }
   ],
   "source": [
    "print string.punctuation"
   ]
  },
  {
   "cell_type": "code",
   "execution_count": 6,
   "metadata": {
    "collapsed": false
   },
   "outputs": [
    {
     "name": "stdout",
     "output_type": "stream",
     "text": [
      "a few tokens: [['so', 'ingenious', 'in', 'concept', 'design', 'and', 'execution', 'that', 'you', 'could', 'watch', 'it', 'on', 'a', 'postage', 'stamp', 'sized', 'screen', 'and', 'still', 'be', 'engulfed', 'by', 'its', 'charm'], ['the', 'years', 'most', 'inventive', 'comedy'], ['a', 'winning', 'animated', 'feature', 'that', 'has', 'something', 'for', 'everyone', 'on', 'the', 'age', 'spectrum']]\n",
      "number of tokens: 280092\n",
      "number of unique tokens: 22424\n",
      "number of documents: 14072\n"
     ]
    }
   ],
   "source": [
    "# This is a bit of text cleanup\n",
    "word_bag_list = []\n",
    "for doc in documents:\n",
    "    cleaned = doc.lower().replace('-', ' ')  # make lowercase and split hyphenated words in two\n",
    "    for c in string.punctuation:  # strip punctuation marks.\n",
    "        cleaned = cleaned.replace(c, '')\n",
    "    word_bag_list.append(wordpunct_tokenize(cleaned))\n",
    "\n",
    "# How do things look?\n",
    "print 'a few tokens:', word_bag_list[:3]\n",
    "\n",
    "# this flattens the nested lists into one big list for some stats\n",
    "token_list = []\n",
    "for tokens in word_bag_list:\n",
    "    token_list.extend(tokens)\n",
    "print 'number of tokens:', len(token_list)\n",
    "print 'number of unique tokens:', len(set(token_list))\n",
    "print 'number of documents:', len(word_bag_list)"
   ]
  },
  {
   "cell_type": "code",
   "execution_count": 8,
   "metadata": {
    "collapsed": false
   },
   "outputs": [
    {
     "name": "stdout",
     "output_type": "stream",
     "text": [
      "['so', 'ingenious', 'in', 'concept', 'design', 'and', 'execution', 'that', 'you', 'could', 'watch', 'it', 'on', 'a', 'postage', 'stamp', 'sized', 'screen', 'and', 'still', 'be', 'engulfed', 'by', 'its', 'charm']\n"
     ]
    }
   ],
   "source": [
    "# calculate the document frequency of all the unique tokens in the bags of words.\n",
    "\n",
    "df = Counter()  # initialize this dict-like thing.\n",
    "\n",
    "for doc in word_bag_list:\n",
    "    # FILL IN CODE\n",
    "    # count up the times words appear in INDIVIDUAL documents (not the total across all documents)\n",
    "    count = Counter(doc)\n",
    "for token in df:  # edit this, obviously\n",
    "#         add one to the right key in df\n",
    "        df\n",
    "        \n",
    "\n",
    "# for token in df:\n",
    "    # normalize the counts by the number of documents (are you getting zeros? Think datatypes.)\n",
    "\n",
    "# this last line prints the 20 highest-scoring words and their scores\n",
    "# df.most_common(20)"
   ]
  },
  {
   "cell_type": "markdown",
   "metadata": {},
   "source": [
    "## Stop Words\n",
    "\n",
    "Which words are likely to be stop words? The ones that show up in the most documents! These terms with the largest document frequency are the stopwords! The threshold above which you call something a stopword is up to you."
   ]
  },
  {
   "cell_type": "markdown",
   "metadata": {},
   "source": [
    "## tf-idf\n",
    "\n",
    "More interesting than stop-words is the tf-idf score. This tells us which words are most discriminative between documents. Words that occur a lot in one document but doesn't occur in many documents will tell you something special about the document:\n",
    "\n",
    "$$\n",
    "\\text{tf-idf} = tf \\cdot \\log{idf} = tf \\cdot \\log{1 \\over df} = tf \\cdot -\\log{df}\n",
    "$$\n",
    "\n",
    "recall that:\n",
    "\n",
    "$$\n",
    "\\log{x} = -\\log{1 \\over x}\n",
    "$$\n",
    "\n",
    "What are the most discriminative words in the first few documents?"
   ]
  },
  {
   "cell_type": "code",
   "execution_count": 12,
   "metadata": {
    "collapsed": false
   },
   "outputs": [
    {
     "name": "stdout",
     "output_type": "stream",
     "text": [
      "[('ingenious', -0.0), ('and', -0.0), ('concept', -0.0), ('it', -0.0), ('design', -0.0)]\n",
      "[('most', -0.0), ('the', -0.0), ('inventive', -0.0), ('comedy', -0.0), ('years', -0.0)]\n",
      "[('a', -0.0), ('on', -0.0), ('everyone', -0.0), ('for', -0.0), ('that', -0.0)]\n",
      "[('a', -0.0), ('and', -0.0), ('story', -0.0), ('provocative', -0.0), ('this', -0.0)]\n",
      "[('a', -0.0), ('toy', -0.0), ('1995', -0.0), ('generated', -0.0), ('effect', -0.0)]\n",
      "[('and', -0.0), ('set', -0.0), ('art', -0.0), ('childrens', -0.0), ('it', -0.0)]\n",
      "[('and', -0.0), ('love', -0.0), ('adults', -0.0), ('verbal', -0.0), ('defined', -0.0)]\n",
      "[('enjoy', -0.0), ('and', -0.0), ('adults', -0.0), ('idea', -0.0), ('at', -0.0)]\n",
      "[('and', -0.0), ('major', -0.0), ('is', -0.0), ('bright', -0.0), ('computer', -0.0)]\n",
      "[('perfect', -0.0), ('funny', -0.0), ('and', -0.0), ('around', -0.0), ('for', -0.0)]\n",
      "[('a', -0.0), ('coaster', -0.0), ('of', -0.0), ('is', -0.0), ('visionary', -0.0)]\n",
      "[('and', -0.0), ('imaginative', -0.0), ('wondrously', -0.0), ('far', -0.0), ('of', -0.0)]\n",
      "[('a', -0.0), ('made', -0.0), ('eye', -0.0), ('d', -0.0), ('is', -0.0)]\n",
      "[('and', -0.0), ('docter', -0.0), ('is', -0.0), ('throats', -0.0), ('pete', -0.0)]\n",
      "[('about', -0.0), ('toy', -0.0), ('big', -0.0), ('negative', -0.0), ('one', -0.0)]\n",
      "[('story', -0.0), ('toy', -0.0), ('is', -0.0), ('flawless', -0.0), ('nearly', -0.0)]\n",
      "[('and', -0.0), ('century', -0.0), ('modern', -0.0), ('see', -0.0), ('its', -0.0)]\n",
      "[('produced', -0.0), ('computer', -0.0), ('at', -0.0), ('film', -0.0), ('story', -0.0)]\n",
      "[('great', -0.0), ('added', -0.0), ('all', -0.0), ('voice', -0.0), ('visual', -0.0)]\n",
      "[('a', -0.0), ('and', -0.0), ('generating', -0.0), ('special', -0.0), ('grotesque', -0.0)]\n",
      "[('a', -0.0), ('very', -0.0), ('calculated', -0.0), ('but', -0.0), ('effects', -0.0)]\n",
      "[('and', -0.0), ('sort', -0.0), ('good', -0.0), ('lemmon', -0.0), ('this', -0.0)]\n",
      "[('mediocre', -0.0), ('regrettably', -0.0)]\n",
      "[('and', -0.0), ('be', -0.0), ('simon', -0.0), ('neil', -0.0), ('dont', -0.0)]\n",
      "[('among', -0.0), ('right', -0.0), ('there', -0.0), ('it', -0.0), ('close', -0.0)]\n",
      "[('and', -0.0), ('screenplay', -0.0), ('is', -0.0), ('really', -0.0), ('relationships', -0.0)]\n",
      "[('grumpys', -0.0), ('a', -0.0), ('sentimentality', -0.0), ('poke', -0.0), ('picture', -0.0)]\n",
      "[('beautiful', -0.0), ('queasy', -0.0), ('just', -0.0), ('escapes', -0.0), ('of', -0.0)]\n",
      "[('diverting', -0.0), ('is', -0.0), ('it', -0.0), ('through', -0.0), ('rigorous', -0.0)]\n",
      "[('and', -0.0), ('flaring', -0.0), ('it', -0.0), ('meanders', -0.0), ('want', -0.0)]\n",
      "[('sister', -0.0), ('selling', -0.0), ('this', -0.0), ('of', -0.0), ('is', -0.0)]\n",
      "[('and', -0.0), ('is', -0.0), ('an', -0.0), ('psyche', -0.0), ('female', -0.0)]\n",
      "[('a', -0.0), ('be', -0.0), ('what', -0.0), ('mishandles', -0.0), ('de', -0.0)]\n",
      "[('seeing', -0.0), ('all', -0.0), ('is', -0.0), ('major', -0.0), ('an', -0.0)]\n",
      "[('bernadine', -0.0), ('sympathy', -0.0), ('as', -0.0), ('populating', -0.0), ('film', -0.0)]\n",
      "[('enjoy', -0.0), ('and', -0.0), ('figure', -0.0), ('house', -0.0), ('an', -0.0)]\n",
      "[('and', -0.0), ('fraker', -0.0), ('dont', -0.0), ('over', -0.0), ('want', -0.0)]\n",
      "[('and', -0.0), ('is', -0.0), ('them', -0.0), ('voices', -0.0), ('crook', -0.0)]\n",
      "[('and', -0.0), ('over', -0.0), ('share', -0.0), ('scene', -0.0), ('as', -0.0)]\n",
      "[('and', -0.0), ('satisfaction', -0.0), ('elegant', -0.0), ('doesnt', -0.0), ('its', -0.0)]\n",
      "[('sticks', -0.0), ('just', -0.0), ('in', -0.0), ('it', -0.0), ('one', -0.0)]\n",
      "[('and', -0.0), ('classic', -0.0), ('sense', -0.0), ('it', -0.0), ('an', -0.0)]\n",
      "[('and', -0.0), ('often', -0.0), ('asphalt', -0.0), ('an', -0.0), ('interpersonal', -0.0)]\n",
      "[('some', -0.0), ('it', -0.0), ('bring', -0.0), ('isnt', -0.0), ('at', -0.0)]\n",
      "[('on', -0.0), ('forges', -0.0), ('becomes', -0.0), ('it', -0.0), ('mark', -0.0)]\n",
      "[('among', -0.0), ('exalted', -0.0), ('occupies', -0.0), ('contemporary', -0.0), ('an', -0.0)]\n",
      "[('devoted', -0.0), ('great', -0.0), ('himself', -0.0), ('last', -0.0), ('robert', -0.0)]\n",
      "[('and', -0.0), ('a', -0.0), ('finest', -0.0), ('in', -0.0), ('this', -0.0)]\n",
      "[('and', -0.0), ('storytelling', -0.0), ('as', -0.0), ('looks', -0.0), ('mouse', -0.0)]\n",
      "[('and', -0.0), ('superlative', -0.0), ('classic', -0.0), ('into', -0.0), ('turned', -0.0)]\n",
      "[('and', -0.0), ('all', -0.0), ('own', -0.0), ('from', -0.0), ('banalities', -0.0)]\n",
      "[('and', -0.0), ('picture', -0.0), ('direction', -0.0), ('just', -0.0), ('this', -0.0)]\n",
      "[('a', -0.0), ('colossal', -0.0), ('disappointment', -0.0)]\n",
      "[('little', -0.0), ('off', -0.0), ('generates', -0.0), ('lots', -0.0), ('of', -0.0)]\n",
      "[('and', -0.0), ('major', -0.0), ('often', -0.0), ('point', -0.0), ('doing', -0.0)]\n",
      "[('and', -0.0), ('a', -0.0), ('pacino', -0.0), ('watertight', -0.0), ('this', -0.0)]\n",
      "[('and', -0.0), ('cop', -0.0), ('that', -0.0), ('of', -0.0), ('is', -0.0)]\n",
      "[('a', -0.0), ('lead', -0.0), ('less', -0.0), ('this', -0.0), ('certain', -0.0)]\n",
      "[('and', -0.0), ('heart', -0.0), ('played', -0.0), ('is', -0.0), ('dropped', -0.0)]\n",
      "[('major', -0.0), ('his', -0.0), ('tastelessness', -0.0), ('seems', -0.0), ('strength', -0.0)]\n",
      "[('and', -0.0), ('cinderella', -0.0), ('old', -0.0), ('turned', -0.0), ('down', -0.0)]\n",
      "[('unimaginative', -0.0), ('be', -0.0), ('story', -0.0), ('romantic', -0.0), ('script', -0.0)]\n",
      "[('and', -0.0), ('old', -0.0), ('is', -0.0), ('it', -0.0), ('society', -0.0)]\n",
      "[('a', -0.0), ('joyless', -0.0), ('lump', -0.0)]\n",
      "[('and', -0.0), ('limited', -0.0), ('abilities', -0.0), ('exploits', -0.0), ('nail', -0.0)]\n",
      "[('a', -0.0), ('body', -0.0), ('and', -0.0), ('pyrotechnics', -0.0), ('combat', -0.0)]\n",
      "[('is', -0.0), ('one', -0.0), ('sudden', -0.0), ('its', -0.0), ('film', -0.0)]\n",
      "[('and', -0.0), ('puck', -0.0), ('in', -0.0), ('go', -0.0), ('peter', -0.0)]\n",
      "[('and', -0.0), ('in', -0.0), ('loaded', -0.0), ('special', -0.0), ('superior', -0.0)]\n",
      "[('and', -0.0), ('sequences', -0.0), ('isnt', -0.0), ('sudden', -0.0), ('at', -0.0)]\n",
      "[('climactic', -0.0), ('just', -0.0), ('played', -0.0), ('being', -0.0), ('into', -0.0)]\n",
      "[('and', -0.0), ('all', -0.0), ('thwart', -0.0), ('just', -0.0), ('hyams', -0.0)]\n",
      "[('is', -0.0), ('choreographed', -0.0), ('are', -0.0), ('peter', -0.0), ('best', -0.0)]\n",
      "[('set', -0.0), ('sean', -0.0), ('hell', -0.0), ('connery', -0.0), ('young', -0.0)]\n",
      "[('dont', -0.0), ('series', -0.0), ('battle', -0.0), ('if', -0.0), ('onatopp', -0.0)]\n",
      "[('is', -0.0), ('hard', -0.0), ('one', -0.0), ('culture', -0.0), ('clinging', -0.0)]\n",
      "[('are', -0.0), ('you', -0.0), ('missed', -0.0), ('richard', -0.0), ('kiel', -0.0)]\n",
      "[('and', -0.0), ('among', -0.0), ('own', -0.0), ('todays', -0.0), ('series', -0.0)]\n",
      "[('and', -0.0), ('even', -0.0), ('look', -0.0), ('to', -0.0), ('of', -0.0)]\n",
      "[('blahs', -0.0), ('the', -0.0), ('suffers', -0.0)]\n",
      "[('fun', -0.0), ('spectacular', -0.0), ('brain', -0.0), ('supercharged', -0.0), ('thundering', -0.0)]\n",
      "[('old', -0.0), ('one', -0.0), ('have', -0.0), ('its', -0.0), ('given', -0.0)]\n",
      "[('a', -0.0), ('and', -0.0), ('kind', -0.0), ('unfold', -0.0), ('watching', -0.0)]\n",
      "[('and', -0.0), ('stunts', -0.0), ('goldeneye', -0.0), ('excels', -0.0), ('babes', -0.0)]\n",
      "[('directed', -0.0), ('and', -0.0), ('some', -0.0), ('top', -0.0), ('dollar', -0.0)]\n",
      "[('me', -0.0), ('spy', -0.0), ('who', -0.0), ('loved', -0.0), ('perhaps', -0.0)]\n",
      "[('and', -0.0), ('certain', -0.0), ('into', -0.0), ('modern', -0.0), ('observed', -0.0)]\n",
      "[('romantic', -0.0), ('this', -0.0), ('movie', -0.0), ('political', -0.0), ('it', -0.0)]\n",
      "[('screenplay', -0.0), ('and', -0.0), ('office', -0.0), ('zinger', -0.0), ('is', -0.0)]\n",
      "[('and', -0.0), ('genial', -0.0), ('inspired', -0.0), ('notably', -0.0), ('not', -0.0)]\n",
      "[('fare', -0.0), ('a', -0.0), ('genial', -0.0), ('stars', -0.0), ('that', -0.0)]\n",
      "[('and', -0.0), ('impassioned', -0.0), ('movies', -0.0), ('as', -0.0), ('bustling', -0.0)]\n",
      "[('american', -0.0), ('from', -0.0), ('nevertheless', -0.0), ('reiner', -0.0), ('is', -0.0)]\n",
      "[('wont', -0.0), ('be', -0.0), ('swept', -0.0), ('this', -0.0), ('movie', -0.0)]\n",
      "[('and', -0.0), ('wont', -0.0), ('make', -0.0), ('probably', -0.0), ('it', -0.0)]\n",
      "[('abundance', -0.0), ('heart', -0.0), ('and', -0.0), ('from', -0.0), ('political', -0.0)]\n",
      "[('great', -0.0), ('entertainment', -0.0)]\n",
      "[('a', -0.0), ('modulated', -0.0), ('well', -0.0), ('charmer', -0.0)]\n",
      "[('a', -0.0), ('and', -0.0), ('20', -0.0), ('simpering', -0.0), ('becomes', -0.0)]\n",
      "[('frothy', -0.0)]\n"
     ]
    }
   ],
   "source": [
    "# calculate the term frequency of all the unique tokens in all of the bags of words.\n",
    "\n",
    "for doc in word_bag_list[:100]:\n",
    "    tf = Counter()  # initialize this dict-like thing.\n",
    "    tfidf = Counter()\n",
    "    # calculate term frequencies\n",
    "    # this is similar to the document frequencies.\n",
    "    for token in set(doc):\n",
    "        tf[token] +=1\n",
    "        \n",
    "    # calculate tf-idf scores\n",
    "    for  in tf:\n",
    "        term_freq = tf[token]/sum(tf.values())\n",
    "        tfidf[token] = term_freq*(-np.log(tf[token]))\n",
    "\n",
    "    # this prints most significant words in the document\n",
    "    print tfidf.most_common(5)"
   ]
  },
  {
   "cell_type": "markdown",
   "metadata": {},
   "source": [
    "# Sci-Kit Learn\n",
    "\n",
    "Scikit-Learn comes with utilities to do these calculations for us. "
   ]
  },
  {
   "cell_type": "code",
   "execution_count": null,
   "metadata": {
    "collapsed": false
   },
   "outputs": [],
   "source": [
    "from sklearn.feature_extraction.text import TfidfVectorizer"
   ]
  },
  {
   "cell_type": "code",
   "execution_count": null,
   "metadata": {
    "collapsed": false
   },
   "outputs": [],
   "source": [
    "tfidf_vec = TfidfVectorizer(stop_words='english')\n",
    "output = tfidf_vec.fit_transform(documents)\n",
    "print output.toarray()[20:30, :10]"
   ]
  },
  {
   "cell_type": "code",
   "execution_count": null,
   "metadata": {
    "collapsed": false
   },
   "outputs": [],
   "source": [
    "print tfidf_vec.get_stop_words()"
   ]
  }
 ],
 "metadata": {
  "kernelspec": {
   "display_name": "Python 2",
   "language": "python",
   "name": "python2"
  },
  "language_info": {
   "codemirror_mode": {
    "name": "ipython",
    "version": 2
   },
   "file_extension": ".py",
   "mimetype": "text/x-python",
   "name": "python",
   "nbconvert_exporter": "python",
   "pygments_lexer": "ipython2",
   "version": "2.7.9"
  }
 },
 "nbformat": 4,
 "nbformat_minor": 0
}
