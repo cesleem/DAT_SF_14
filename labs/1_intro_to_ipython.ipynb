{
 "metadata": {
  "name": "",
  "signature": "sha256:28df2221f3e193d3972ac6c55b8184fbbb82aecd09b7434bc947eb02fdb8626a"
 },
 "nbformat": 3,
 "nbformat_minor": 0,
 "worksheets": [
  {
   "cells": [
    {
     "cell_type": "heading",
     "level": 1,
     "metadata": {},
     "source": [
      "GA Lab: iPython Notebook / Python"
     ]
    },
    {
     "cell_type": "heading",
     "level": 2,
     "metadata": {},
     "source": [
      "iPython Notebook"
     ]
    },
    {
     "cell_type": "markdown",
     "metadata": {},
     "source": [
      "- Shift + Enter executes the current highlight cell\n",
      "- Shift + Tab help for current command"
     ]
    },
    {
     "cell_type": "code",
     "collapsed": false,
     "input": [
      "from IPython.core.display import HTML\n",
      "HTML(\"<iframe src=http://www.nature.com/news/ipython-interactive-demo-7.21492 width=1000 height=800></iframe>\")"
     ],
     "language": "python",
     "metadata": {},
     "outputs": [
      {
       "html": [
        "<iframe src=http://www.nature.com/news/ipython-interactive-demo-7.21492 width=1000 height=800></iframe>"
       ],
       "metadata": {},
       "output_type": "pyout",
       "prompt_number": 1,
       "text": [
        "<IPython.core.display.HTML at 0x1063addd0>"
       ]
      }
     ],
     "prompt_number": 1
    },
    {
     "cell_type": "heading",
     "level": 3,
     "metadata": {},
     "source": [
      "import statements"
     ]
    },
    {
     "cell_type": "code",
     "collapsed": false,
     "input": [
      "import numpy as np\n",
      "import pandas as pd\n",
      "import matplotlib.pyplot as plt\n",
      "from scipy.optimize import curve_fit\n",
      "\n",
      "%matplotlib inline"
     ],
     "language": "python",
     "metadata": {},
     "outputs": [],
     "prompt_number": 2
    },
    {
     "cell_type": "heading",
     "level": 3,
     "metadata": {},
     "source": [
      "execute shell commands"
     ]
    },
    {
     "cell_type": "code",
     "collapsed": false,
     "input": [
      "!ls -lsh"
     ],
     "language": "python",
     "metadata": {},
     "outputs": [
      {
       "output_type": "stream",
       "stream": "stdout",
       "text": [
        "total 48\r\n",
        "40 -rw-r--r--  1 ceslee-work  staff    18K Apr 30 20:00 1_intro_to_ipython.ipynb\r\n",
        " 8 -rw-r--r--  1 ceslee-work  staff   1.3K Apr 30 18:13 2_simple_plot.ipynb\r\n"
       ]
      }
     ],
     "prompt_number": 3
    },
    {
     "cell_type": "heading",
     "level": 3,
     "metadata": {},
     "source": [
      "send shell commands to variable"
     ]
    },
    {
     "cell_type": "code",
     "collapsed": false,
     "input": [
      "home_drive = !ls ~\n",
      "home_drive"
     ],
     "language": "python",
     "metadata": {},
     "outputs": [
      {
       "metadata": {},
       "output_type": "pyout",
       "prompt_number": 4,
       "text": [
        "['Applications',\n",
        " 'Creative Cloud Files',\n",
        " 'Data',\n",
        " 'Desktop',\n",
        " 'Documents',\n",
        " 'Downloads',\n",
        " 'Dropbox',\n",
        " 'Google Drive',\n",
        " 'Library',\n",
        " 'Movies',\n",
        " 'Music',\n",
        " 'Pictures',\n",
        " 'Public',\n",
        " 'bin',\n",
        " 'ipythondev',\n",
        " 'nltk_data',\n",
        " 'node_modules',\n",
        " 'test.py',\n",
        " 'w']"
       ]
      }
     ],
     "prompt_number": 4
    },
    {
     "cell_type": "heading",
     "level": 4,
     "metadata": {},
     "source": [
      "Shell magic!"
     ]
    },
    {
     "cell_type": "code",
     "collapsed": false,
     "input": [
      "%lsmagic"
     ],
     "language": "python",
     "metadata": {},
     "outputs": [
      {
       "json": [
        "{\"cell\": {\"prun\": \"ExecutionMagics\", \"file\": \"Other\", \"!\": \"OSMagics\", \"capture\": \"ExecutionMagics\", \"timeit\": \"ExecutionMagics\", \"script\": \"ScriptMagics\", \"pypy\": \"Other\", \"system\": \"OSMagics\", \"perl\": \"Other\", \"HTML\": \"Other\", \"bash\": \"Other\", \"python\": \"Other\", \"SVG\": \"Other\", \"javascript\": \"DisplayMagics\", \"writefile\": \"OSMagics\", \"ruby\": \"Other\", \"python3\": \"Other\", \"python2\": \"Other\", \"latex\": \"DisplayMagics\", \"sx\": \"OSMagics\", \"svg\": \"DisplayMagics\", \"html\": \"DisplayMagics\", \"sh\": \"Other\", \"time\": \"ExecutionMagics\", \"debug\": \"ExecutionMagics\"}, \"line\": {\"psource\": \"NamespaceMagics\", \"logstart\": \"LoggingMagics\", \"popd\": \"OSMagics\", \"loadpy\": \"CodeMagics\", \"install_ext\": \"ExtensionMagics\", \"colors\": \"BasicMagics\", \"who_ls\": \"NamespaceMagics\", \"lf\": \"Other\", \"install_profiles\": \"DeprecatedMagics\", \"ll\": \"Other\", \"pprint\": \"BasicMagics\", \"lk\": \"Other\", \"ls\": \"Other\", \"save\": \"CodeMagics\", \"tb\": \"ExecutionMagics\", \"lx\": \"Other\", \"pylab\": \"PylabMagics\", \"killbgscripts\": \"ScriptMagics\", \"quickref\": \"BasicMagics\", \"magic\": \"BasicMagics\", \"dhist\": \"OSMagics\", \"edit\": \"KernelMagics\", \"logstop\": \"LoggingMagics\", \"gui\": \"BasicMagics\", \"alias_magic\": \"BasicMagics\", \"debug\": \"ExecutionMagics\", \"page\": \"BasicMagics\", \"logstate\": \"LoggingMagics\", \"ed\": \"Other\", \"pushd\": \"OSMagics\", \"timeit\": \"ExecutionMagics\", \"rehashx\": \"OSMagics\", \"hist\": \"Other\", \"qtconsole\": \"KernelMagics\", \"rm\": \"Other\", \"dirs\": \"OSMagics\", \"run\": \"ExecutionMagics\", \"reset_selective\": \"NamespaceMagics\", \"rep\": \"Other\", \"pinfo2\": \"NamespaceMagics\", \"matplotlib\": \"PylabMagics\", \"unload_ext\": \"ExtensionMagics\", \"doctest_mode\": \"KernelMagics\", \"logoff\": \"LoggingMagics\", \"reload_ext\": \"ExtensionMagics\", \"pdb\": \"ExecutionMagics\", \"load\": \"CodeMagics\", \"lsmagic\": \"BasicMagics\", \"autosave\": \"KernelMagics\", \"cd\": \"OSMagics\", \"pastebin\": \"CodeMagics\", \"prun\": \"ExecutionMagics\", \"cp\": \"Other\", \"autocall\": \"AutoMagics\", \"bookmark\": \"OSMagics\", \"connect_info\": \"KernelMagics\", \"mkdir\": \"Other\", \"system\": \"OSMagics\", \"whos\": \"NamespaceMagics\", \"rmdir\": \"Other\", \"automagic\": \"AutoMagics\", \"store\": \"StoreMagics\", \"more\": \"KernelMagics\", \"pdef\": \"NamespaceMagics\", \"precision\": \"BasicMagics\", \"pinfo\": \"NamespaceMagics\", \"pwd\": \"OSMagics\", \"psearch\": \"NamespaceMagics\", \"reset\": \"NamespaceMagics\", \"recall\": \"HistoryMagics\", \"xdel\": \"NamespaceMagics\", \"xmode\": \"BasicMagics\", \"cat\": \"Other\", \"mv\": \"Other\", \"rerun\": \"HistoryMagics\", \"logon\": \"LoggingMagics\", \"history\": \"HistoryMagics\", \"pycat\": \"OSMagics\", \"unalias\": \"OSMagics\", \"install_default_config\": \"DeprecatedMagics\", \"env\": \"OSMagics\", \"load_ext\": \"ExtensionMagics\", \"config\": \"ConfigMagics\", \"profile\": \"BasicMagics\", \"pfile\": \"NamespaceMagics\", \"less\": \"KernelMagics\", \"who\": \"NamespaceMagics\", \"notebook\": \"BasicMagics\", \"man\": \"KernelMagics\", \"sx\": \"OSMagics\", \"macro\": \"ExecutionMagics\", \"clear\": \"KernelMagics\", \"alias\": \"OSMagics\", \"time\": \"ExecutionMagics\", \"sc\": \"OSMagics\", \"ldir\": \"Other\", \"pdoc\": \"NamespaceMagics\"}}"
       ],
       "metadata": {},
       "output_type": "pyout",
       "prompt_number": 5,
       "text": [
        "Available line magics:\n",
        "%alias  %alias_magic  %autocall  %automagic  %autosave  %bookmark  %cat  %cd  %clear  %colors  %config  %connect_info  %cp  %debug  %dhist  %dirs  %doctest_mode  %ed  %edit  %env  %gui  %hist  %history  %install_default_config  %install_ext  %install_profiles  %killbgscripts  %ldir  %less  %lf  %lk  %ll  %load  %load_ext  %loadpy  %logoff  %logon  %logstart  %logstate  %logstop  %ls  %lsmagic  %lx  %macro  %magic  %man  %matplotlib  %mkdir  %more  %mv  %notebook  %page  %pastebin  %pdb  %pdef  %pdoc  %pfile  %pinfo  %pinfo2  %popd  %pprint  %precision  %profile  %prun  %psearch  %psource  %pushd  %pwd  %pycat  %pylab  %qtconsole  %quickref  %recall  %rehashx  %reload_ext  %rep  %rerun  %reset  %reset_selective  %rm  %rmdir  %run  %save  %sc  %store  %sx  %system  %tb  %time  %timeit  %unalias  %unload_ext  %who  %who_ls  %whos  %xdel  %xmode\n",
        "\n",
        "Available cell magics:\n",
        "%%!  %%HTML  %%SVG  %%bash  %%capture  %%debug  %%file  %%html  %%javascript  %%latex  %%perl  %%prun  %%pypy  %%python  %%python2  %%python3  %%ruby  %%script  %%sh  %%svg  %%sx  %%system  %%time  %%timeit  %%writefile\n",
        "\n",
        "Automagic is ON, % prefix IS NOT needed for line magics."
       ]
      }
     ],
     "prompt_number": 5
    },
    {
     "cell_type": "code",
     "collapsed": false,
     "input": [
      "%timeit a = np.random.rand(100, 100)"
     ],
     "language": "python",
     "metadata": {},
     "outputs": [
      {
       "output_type": "stream",
       "stream": "stdout",
       "text": [
        "10000 loops, best of 3: 122 \u00b5s per loop\n"
       ]
      }
     ],
     "prompt_number": 6
    },
    {
     "cell_type": "code",
     "collapsed": false,
     "input": [
      "a = 10\n",
      "print a\n",
      "%reset\n",
      "print a"
     ],
     "language": "python",
     "metadata": {},
     "outputs": [
      {
       "output_type": "stream",
       "stream": "stdout",
       "text": [
        "10\n"
       ]
      },
      {
       "name": "stdout",
       "output_type": "stream",
       "stream": "stdout",
       "text": [
        "Once deleted, variables cannot be recovered. Proceed (y/[n])? n\n"
       ]
      },
      {
       "output_type": "stream",
       "stream": "stdout",
       "text": [
        "Nothing done.\n",
        "10\n"
       ]
      }
     ],
     "prompt_number": 7
    },
    {
     "cell_type": "code",
     "collapsed": false,
     "input": [
      "%%time\n",
      "mu, sigma = 0, 0.1\n",
      "normal_dist = np.random.normal(mu, sigma, 1000)"
     ],
     "language": "python",
     "metadata": {},
     "outputs": [
      {
       "output_type": "stream",
       "stream": "stdout",
       "text": [
        "CPU times: user 91 \u00b5s, sys: 9 \u00b5s, total: 100 \u00b5s\n",
        "Wall time: 93 \u00b5s\n"
       ]
      }
     ],
     "prompt_number": 9
    },
    {
     "cell_type": "code",
     "collapsed": false,
     "input": [
      "%matplotlib inline\n",
      "print normal_dist[:10]\n",
      "# plt.plot(normal_dist)\n",
      "plt.hist(normal_dist, bins=100)\n",
      "# help(plt.hist)"
     ],
     "language": "python",
     "metadata": {},
     "outputs": [
      {
       "output_type": "stream",
       "stream": "stdout",
       "text": [
        "[ 0.12450879 -0.05519487  0.1566808  -0.0077298  -0.0813032  -0.15830875\n",
        " -0.03959636 -0.07129448  0.16407206 -0.09312033]\n"
       ]
      },
      {
       "metadata": {},
       "output_type": "pyout",
       "prompt_number": 19,
       "text": [
        "(array([  2.,   1.,   1.,   0.,   2.,   0.,   0.,   1.,   2.,   0.,   1.,\n",
        "          0.,   0.,   3.,   6.,   5.,   0.,   1.,   4.,   3.,   2.,   8.,\n",
        "          9.,   3.,   9.,   9.,   9.,  10.,  19.,   4.,  13.,  12.,  13.,\n",
        "         15.,  12.,  19.,  11.,  19.,  21.,  16.,  19.,  25.,  25.,  24.,\n",
        "         19.,  20.,  19.,  26.,  29.,  27.,  21.,  26.,  23.,  28.,  24.,\n",
        "         19.,  19.,  19.,  27.,  18.,  19.,  20.,  23.,  19.,  19.,  12.,\n",
        "         13.,  19.,  14.,   8.,   7.,   7.,   7.,   9.,   8.,   4.,   9.,\n",
        "          9.,   7.,   6.,   6.,   7.,   2.,   2.,   2.,   1.,   1.,   0.,\n",
        "          6.,   2.,   3.,   0.,   0.,   1.,   1.,   0.,   1.,   0.,   3.,\n",
        "          1.]),\n",
        " array([-0.31657685, -0.31033155, -0.30408625, -0.29784095, -0.29159565,\n",
        "        -0.28535035, -0.27910505, -0.27285975, -0.26661445, -0.26036915,\n",
        "        -0.25412385, -0.24787856, -0.24163326, -0.23538796, -0.22914266,\n",
        "        -0.22289736, -0.21665206, -0.21040676, -0.20416146, -0.19791616,\n",
        "        -0.19167086, -0.18542556, -0.17918026, -0.17293496, -0.16668966,\n",
        "        -0.16044436, -0.15419907, -0.14795377, -0.14170847, -0.13546317,\n",
        "        -0.12921787, -0.12297257, -0.11672727, -0.11048197, -0.10423667,\n",
        "        -0.09799137, -0.09174607, -0.08550077, -0.07925547, -0.07301017,\n",
        "        -0.06676488, -0.06051958, -0.05427428, -0.04802898, -0.04178368,\n",
        "        -0.03553838, -0.02929308, -0.02304778, -0.01680248, -0.01055718,\n",
        "        -0.00431188,  0.00193342,  0.00817872,  0.01442402,  0.02066932,\n",
        "         0.02691461,  0.03315991,  0.03940521,  0.04565051,  0.05189581,\n",
        "         0.05814111,  0.06438641,  0.07063171,  0.07687701,  0.08312231,\n",
        "         0.08936761,  0.09561291,  0.10185821,  0.10810351,  0.1143488 ,\n",
        "         0.1205941 ,  0.1268394 ,  0.1330847 ,  0.13933   ,  0.1455753 ,\n",
        "         0.1518206 ,  0.1580659 ,  0.1643112 ,  0.1705565 ,  0.1768018 ,\n",
        "         0.1830471 ,  0.1892924 ,  0.1955377 ,  0.20178299,  0.20802829,\n",
        "         0.21427359,  0.22051889,  0.22676419,  0.23300949,  0.23925479,\n",
        "         0.24550009,  0.25174539,  0.25799069,  0.26423599,  0.27048129,\n",
        "         0.27672659,  0.28297189,  0.28921719,  0.29546248,  0.30170778,\n",
        "         0.30795308]),\n",
        " <a list of 100 Patch objects>)"
       ]
      },
      {
       "metadata": {},
       "output_type": "display_data",
       "png": "[encoded data removed]",
       "text": [
        "<matplotlib.figure.Figure at 0x10b5da750>"
       ]
      }
     ],
     "prompt_number": 19
    },
    {
     "cell_type": "code",
     "collapsed": false,
     "input": [
      "plt.plot(normal_dist)"
     ],
     "language": "python",
     "metadata": {},
     "outputs": []
    },
    {
     "cell_type": "code",
     "collapsed": false,
     "input": [
      "import pandas.io.data\n",
      "import datetime\n",
      "aapl = pd.io.data.get_data_yahoo('TWTR', \n",
      "                                 start=datetime.datetime(2015, 4, 1), \n",
      "                                 end=datetime.datetime(2015, 4, 28))\n",
      "aapl"
     ],
     "language": "python",
     "metadata": {},
     "outputs": [
      {
       "html": [
        "<div style=\"max-height:1000px;max-width:1500px;overflow:auto;\">\n",
        "<table border=\"1\" class=\"dataframe\">\n",
        "  <thead>\n",
        "    <tr style=\"text-align: right;\">\n",
        "      <th></th>\n",
        "      <th>Open</th>\n",
        "      <th>High</th>\n",
        "      <th>Low</th>\n",
        "      <th>Close</th>\n",
        "      <th>Volume</th>\n",
        "      <th>Adj Close</th>\n",
        "    </tr>\n",
        "    <tr>\n",
        "      <th>Date</th>\n",
        "      <th></th>\n",
        "      <th></th>\n",
        "      <th></th>\n",
        "      <th></th>\n",
        "      <th></th>\n",
        "      <th></th>\n",
        "    </tr>\n",
        "  </thead>\n",
        "  <tbody>\n",
        "    <tr>\n",
        "      <th>2015-04-01</th>\n",
        "      <td>51.00</td>\n",
        "      <td>51.69</td>\n",
        "      <td>50.17</td>\n",
        "      <td>50.47</td>\n",
        "      <td>24299200</td>\n",
        "      <td>50.47</td>\n",
        "    </tr>\n",
        "    <tr>\n",
        "      <th>2015-04-02</th>\n",
        "      <td>50.64</td>\n",
        "      <td>50.95</td>\n",
        "      <td>49.88</td>\n",
        "      <td>50.42</td>\n",
        "      <td>13423900</td>\n",
        "      <td>50.42</td>\n",
        "    </tr>\n",
        "    <tr>\n",
        "      <th>2015-04-06</th>\n",
        "      <td>50.03</td>\n",
        "      <td>51.16</td>\n",
        "      <td>49.87</td>\n",
        "      <td>50.84</td>\n",
        "      <td>14539700</td>\n",
        "      <td>50.84</td>\n",
        "    </tr>\n",
        "    <tr>\n",
        "      <th>2015-04-07</th>\n",
        "      <td>51.01</td>\n",
        "      <td>53.28</td>\n",
        "      <td>50.86</td>\n",
        "      <td>52.87</td>\n",
        "      <td>37080800</td>\n",
        "      <td>52.87</td>\n",
        "    </tr>\n",
        "    <tr>\n",
        "      <th>2015-04-08</th>\n",
        "      <td>53.32</td>\n",
        "      <td>53.49</td>\n",
        "      <td>51.95</td>\n",
        "      <td>52.30</td>\n",
        "      <td>22368900</td>\n",
        "      <td>52.30</td>\n",
        "    </tr>\n",
        "    <tr>\n",
        "      <th>2015-04-09</th>\n",
        "      <td>52.15</td>\n",
        "      <td>52.99</td>\n",
        "      <td>51.54</td>\n",
        "      <td>52.17</td>\n",
        "      <td>17877700</td>\n",
        "      <td>52.17</td>\n",
        "    </tr>\n",
        "    <tr>\n",
        "      <th>2015-04-10</th>\n",
        "      <td>52.29</td>\n",
        "      <td>52.45</td>\n",
        "      <td>51.38</td>\n",
        "      <td>51.94</td>\n",
        "      <td>13271200</td>\n",
        "      <td>51.94</td>\n",
        "    </tr>\n",
        "    <tr>\n",
        "      <th>2015-04-13</th>\n",
        "      <td>51.99</td>\n",
        "      <td>52.29</td>\n",
        "      <td>51.45</td>\n",
        "      <td>51.62</td>\n",
        "      <td>12306500</td>\n",
        "      <td>51.62</td>\n",
        "    </tr>\n",
        "    <tr>\n",
        "      <th>2015-04-14</th>\n",
        "      <td>51.75</td>\n",
        "      <td>51.81</td>\n",
        "      <td>50.68</td>\n",
        "      <td>51.20</td>\n",
        "      <td>12231600</td>\n",
        "      <td>51.20</td>\n",
        "    </tr>\n",
        "    <tr>\n",
        "      <th>2015-04-15</th>\n",
        "      <td>51.33</td>\n",
        "      <td>51.87</td>\n",
        "      <td>50.91</td>\n",
        "      <td>51.30</td>\n",
        "      <td>13161400</td>\n",
        "      <td>51.30</td>\n",
        "    </tr>\n",
        "    <tr>\n",
        "      <th>2015-04-16</th>\n",
        "      <td>51.30</td>\n",
        "      <td>52.34</td>\n",
        "      <td>51.14</td>\n",
        "      <td>52.03</td>\n",
        "      <td>14244400</td>\n",
        "      <td>52.03</td>\n",
        "    </tr>\n",
        "    <tr>\n",
        "      <th>2015-04-17</th>\n",
        "      <td>51.71</td>\n",
        "      <td>52.16</td>\n",
        "      <td>50.19</td>\n",
        "      <td>50.66</td>\n",
        "      <td>16576000</td>\n",
        "      <td>50.66</td>\n",
        "    </tr>\n",
        "    <tr>\n",
        "      <th>2015-04-20</th>\n",
        "      <td>51.07</td>\n",
        "      <td>51.48</td>\n",
        "      <td>50.51</td>\n",
        "      <td>51.40</td>\n",
        "      <td>11004500</td>\n",
        "      <td>51.40</td>\n",
        "    </tr>\n",
        "    <tr>\n",
        "      <th>2015-04-21</th>\n",
        "      <td>51.68</td>\n",
        "      <td>51.85</td>\n",
        "      <td>51.10</td>\n",
        "      <td>51.32</td>\n",
        "      <td>8424900</td>\n",
        "      <td>51.32</td>\n",
        "    </tr>\n",
        "    <tr>\n",
        "      <th>2015-04-22</th>\n",
        "      <td>51.48</td>\n",
        "      <td>52.09</td>\n",
        "      <td>51.32</td>\n",
        "      <td>51.73</td>\n",
        "      <td>11364900</td>\n",
        "      <td>51.73</td>\n",
        "    </tr>\n",
        "    <tr>\n",
        "      <th>2015-04-23</th>\n",
        "      <td>51.87</td>\n",
        "      <td>52.20</td>\n",
        "      <td>51.22</td>\n",
        "      <td>51.41</td>\n",
        "      <td>11413500</td>\n",
        "      <td>51.41</td>\n",
        "    </tr>\n",
        "    <tr>\n",
        "      <th>2015-04-24</th>\n",
        "      <td>51.85</td>\n",
        "      <td>51.96</td>\n",
        "      <td>50.24</td>\n",
        "      <td>50.82</td>\n",
        "      <td>14633400</td>\n",
        "      <td>50.82</td>\n",
        "    </tr>\n",
        "    <tr>\n",
        "      <th>2015-04-27</th>\n",
        "      <td>50.84</td>\n",
        "      <td>52.54</td>\n",
        "      <td>50.82</td>\n",
        "      <td>51.66</td>\n",
        "      <td>23645200</td>\n",
        "      <td>51.66</td>\n",
        "    </tr>\n",
        "    <tr>\n",
        "      <th>2015-04-28</th>\n",
        "      <td>52.16</td>\n",
        "      <td>52.22</td>\n",
        "      <td>38.38</td>\n",
        "      <td>42.27</td>\n",
        "      <td>69342000</td>\n",
        "      <td>42.27</td>\n",
        "    </tr>\n",
        "  </tbody>\n",
        "</table>\n",
        "</div>"
       ],
       "metadata": {},
       "output_type": "pyout",
       "prompt_number": 21,
       "text": [
        "             Open   High    Low  Close    Volume  Adj Close\n",
        "Date                                                       \n",
        "2015-04-01  51.00  51.69  50.17  50.47  24299200      50.47\n",
        "2015-04-02  50.64  50.95  49.88  50.42  13423900      50.42\n",
        "2015-04-06  50.03  51.16  49.87  50.84  14539700      50.84\n",
        "2015-04-07  51.01  53.28  50.86  52.87  37080800      52.87\n",
        "2015-04-08  53.32  53.49  51.95  52.30  22368900      52.30\n",
        "2015-04-09  52.15  52.99  51.54  52.17  17877700      52.17\n",
        "2015-04-10  52.29  52.45  51.38  51.94  13271200      51.94\n",
        "2015-04-13  51.99  52.29  51.45  51.62  12306500      51.62\n",
        "2015-04-14  51.75  51.81  50.68  51.20  12231600      51.20\n",
        "2015-04-15  51.33  51.87  50.91  51.30  13161400      51.30\n",
        "2015-04-16  51.30  52.34  51.14  52.03  14244400      52.03\n",
        "2015-04-17  51.71  52.16  50.19  50.66  16576000      50.66\n",
        "2015-04-20  51.07  51.48  50.51  51.40  11004500      51.40\n",
        "2015-04-21  51.68  51.85  51.10  51.32   8424900      51.32\n",
        "2015-04-22  51.48  52.09  51.32  51.73  11364900      51.73\n",
        "2015-04-23  51.87  52.20  51.22  51.41  11413500      51.41\n",
        "2015-04-24  51.85  51.96  50.24  50.82  14633400      50.82\n",
        "2015-04-27  50.84  52.54  50.82  51.66  23645200      51.66\n",
        "2015-04-28  52.16  52.22  38.38  42.27  69342000      42.27"
       ]
      }
     ],
     "prompt_number": 21
    },
    {
     "cell_type": "heading",
     "level": 2,
     "metadata": {},
     "source": [
      "Plotting!"
     ]
    },
    {
     "cell_type": "code",
     "collapsed": false,
     "input": [
      "fig = plt.figure(figsize=(20,16))\n",
      "\n",
      "ax = fig.add_subplot(2,2,1)\n",
      "ax.plot(aapl.index, aapl['Close'])\n",
      "ax.set_title('Line plots', size=24)\n",
      "\n",
      "ax = fig.add_subplot(2,2,2)\n",
      "ax.plot(aapl['Close'], 'o')\n",
      "ax.set_title('Scatter plots', size=24)\n",
      "\n",
      "ax = fig.add_subplot(2,2,3)\n",
      "ax.hist(normal_dist, bins=50)\n",
      "ax.set_title('Histograms', size=24)\n",
      "ax.set_xlabel('count', size=16)\n",
      "\n",
      "ax = fig.add_subplot(2,2,4)\n",
      "ax.boxplot(normal_dist)\n",
      "ax.set_title('Boxplots', size=24)\n",
      "print"
     ],
     "language": "python",
     "metadata": {},
     "outputs": [
      {
       "output_type": "stream",
       "stream": "stdout",
       "text": [
        "\n"
       ]
      },
      {
       "metadata": {},
       "output_type": "display_data",
       "png": "[encoded data removed]",
       "text": [
        "<matplotlib.figure.Figure at 0x10bc03450>"
       ]
      }
     ],
     "prompt_number": 22
    },
    {
     "cell_type": "heading",
     "level": 2,
     "metadata": {},
     "source": [
      "1. Python Data types"
     ]
    },
    {
     "cell_type": "code",
     "collapsed": false,
     "input": [
      "type(42)"
     ],
     "language": "python",
     "metadata": {},
     "outputs": [
      {
       "metadata": {},
       "output_type": "pyout",
       "prompt_number": 25,
       "text": [
        "int"
       ]
      }
     ],
     "prompt_number": 25
    },
    {
     "cell_type": "code",
     "collapsed": false,
     "input": [
      "from math import pi\n",
      "type(pi)\n",
      "print pi"
     ],
     "language": "python",
     "metadata": {},
     "outputs": [
      {
       "output_type": "stream",
       "stream": "stdout",
       "text": [
        "3.14159265359\n"
       ]
      }
     ],
     "prompt_number": 26
    },
    {
     "cell_type": "code",
     "collapsed": false,
     "input": [
      "type('matt')"
     ],
     "language": "python",
     "metadata": {},
     "outputs": [
      {
       "metadata": {},
       "output_type": "pyout",
       "prompt_number": 27,
       "text": [
        "str"
       ]
      }
     ],
     "prompt_number": 27
    },
    {
     "cell_type": "code",
     "collapsed": false,
     "input": [
      "type(u'matt')"
     ],
     "language": "python",
     "metadata": {},
     "outputs": [
      {
       "metadata": {},
       "output_type": "pyout",
       "prompt_number": 28,
       "text": [
        "unicode"
       ]
      }
     ],
     "prompt_number": 28
    },
    {
     "cell_type": "heading",
     "level": 2,
     "metadata": {},
     "source": [
      "2. Basic Python execution"
     ]
    },
    {
     "cell_type": "code",
     "collapsed": false,
     "input": [
      "test_integer = 42\n",
      "test_float = pi\n",
      "test_string = 'matt'"
     ],
     "language": "python",
     "metadata": {},
     "outputs": [],
     "prompt_number": 29
    },
    {
     "cell_type": "heading",
     "level": 4,
     "metadata": {},
     "source": [
      "Basic print"
     ]
    },
    {
     "cell_type": "code",
     "collapsed": false,
     "input": [
      "print (test_integer, test_float, test_string)"
     ],
     "language": "python",
     "metadata": {},
     "outputs": [
      {
       "output_type": "stream",
       "stream": "stdout",
       "text": [
        "(42, 3.141592653589793, 'matt')\n"
       ]
      }
     ],
     "prompt_number": 31
    },
    {
     "cell_type": "heading",
     "level": 4,
     "metadata": {},
     "source": [
      "C-style formatting"
     ]
    },
    {
     "cell_type": "code",
     "collapsed": false,
     "input": [
      "print (\"%d %f %s\") % (test_integer, test_float, test_string)\n",
      "print (\"%d %.2f %s\") % (test_integer, test_float, test_string)"
     ],
     "language": "python",
     "metadata": {},
     "outputs": []
    },
    {
     "cell_type": "heading",
     "level": 4,
     "metadata": {},
     "source": [
      "Format - the pythonic way"
     ]
    },
    {
     "cell_type": "code",
     "collapsed": false,
     "input": [
      "print (\"{} {} {}\").format(test_integer, test_float, test_string)\n",
      "print (\"{} {:.2f} {}\").format(test_integer, test_float, test_string)"
     ],
     "language": "python",
     "metadata": {},
     "outputs": []
    },
    {
     "cell_type": "heading",
     "level": 2,
     "metadata": {},
     "source": [
      "Python operations"
     ]
    },
    {
     "cell_type": "code",
     "collapsed": false,
     "input": [
      "1 + 2.5"
     ],
     "language": "python",
     "metadata": {},
     "outputs": []
    },
    {
     "cell_type": "code",
     "collapsed": false,
     "input": [
      "'matt' + 1"
     ],
     "language": "python",
     "metadata": {},
     "outputs": []
    },
    {
     "cell_type": "heading",
     "level": 3,
     "metadata": {},
     "source": [
      "Python 2.7 division"
     ]
    },
    {
     "cell_type": "code",
     "collapsed": false,
     "input": [
      "numerator, denominator = 1,2"
     ],
     "language": "python",
     "metadata": {},
     "outputs": [],
     "prompt_number": 32
    },
    {
     "cell_type": "heading",
     "level": 4,
     "metadata": {},
     "source": [
      "Important to remember:"
     ]
    },
    {
     "cell_type": "code",
     "collapsed": false,
     "input": [
      "print (numerator / denominator)"
     ],
     "language": "python",
     "metadata": {},
     "outputs": [
      {
       "output_type": "stream",
       "stream": "stdout",
       "text": [
        "0\n"
       ]
      }
     ],
     "prompt_number": 36
    },
    {
     "cell_type": "code",
     "collapsed": false,
     "input": [
      "print (numerator / float(denominator))"
     ],
     "language": "python",
     "metadata": {},
     "outputs": []
    },
    {
     "cell_type": "code",
     "collapsed": false,
     "input": [
      "print 1/2\n",
      "from __future__ import division\n",
      "print 1/2"
     ],
     "language": "python",
     "metadata": {},
     "outputs": []
    },
    {
     "cell_type": "heading",
     "level": 3,
     "metadata": {},
     "source": [
      "3. Python Data Structures"
     ]
    },
    {
     "cell_type": "heading",
     "level": 2,
     "metadata": {},
     "source": [
      "Lists [ ]"
     ]
    },
    {
     "cell_type": "markdown",
     "metadata": {},
     "source": [
      "- aka arrays\n",
      "- ordered\n",
      "- mutable\n",
      "- mixed types "
     ]
    },
    {
     "cell_type": "code",
     "collapsed": false,
     "input": [
      "price_per_sq_foot = [300,324,220,976,347,888,134,95,567,1400,120]\n",
      "type(price_per_sq_foot)"
     ],
     "language": "python",
     "metadata": {},
     "outputs": []
    },
    {
     "cell_type": "heading",
     "level": 4,
     "metadata": {},
     "source": [
      "list operations:"
     ]
    },
    {
     "cell_type": "code",
     "collapsed": false,
     "input": [
      "#Number of elements in the list\n",
      "print \"There are {} elements in the list\".format(len(price_per_sq_foot))\n",
      "print\n",
      "\n",
      "#Add an item to the end of the list\n",
      "price_per_sq_foot.append(1000)\n",
      "print \"Updated price per square foot\"\n",
      "print (price_per_sq_foot)\n",
      "\n",
      "#Remove and return most recent element\n",
      "last_element = price_per_sq_foot.pop()\n",
      "print \"Last in, updated price per sq foot\"\n",
      "print (last_element, price_per_sq_foot)\n",
      "\n",
      "#Sort the array\n",
      "print \"Sorted list\"\n",
      "print sorted(price_per_sq_foot)\n",
      "\n",
      "#Reverse order\n",
      "print \"Reverse order\"\n",
      "print sorted(price_per_sq_foot)[::-1]"
     ],
     "language": "python",
     "metadata": {},
     "outputs": []
    },
    {
     "cell_type": "heading",
     "level": 4,
     "metadata": {},
     "source": [
      "List slicing"
     ]
    },
    {
     "cell_type": "code",
     "collapsed": false,
     "input": [
      "#First element\n",
      "sorted_ppsf = sorted(price_per_sq_foot)\n",
      "print \"First element\"\n",
      "print 'Cheapest: {}'.format(sorted_ppsf[0])\n",
      "print \n",
      "print \"Last element\"\n",
      "print 'Most expensive: {}'.format(sorted_ppsf[len(sorted_ppsf) - 1])\n",
      "#or\n",
      "print 'Most expensive: {}'.format(sorted_ppsf[-1])"
     ],
     "language": "python",
     "metadata": {},
     "outputs": []
    },
    {
     "cell_type": "heading",
     "level": 2,
     "metadata": {},
     "source": [
      "Tuples ( )"
     ]
    },
    {
     "cell_type": "markdown",
     "metadata": {},
     "source": [
      "- immutable\n",
      "- can't change / sort\n",
      "- functional programming"
     ]
    },
    {
     "cell_type": "code",
     "collapsed": false,
     "input": [
      "test = (1, 2)\n",
      "print test[0]\n",
      "print test[1]\n",
      "test[0] = test[1]"
     ],
     "language": "python",
     "metadata": {},
     "outputs": []
    },
    {
     "cell_type": "heading",
     "level": 2,
     "metadata": {},
     "source": [
      "Dictionary { }"
     ]
    },
    {
     "cell_type": "markdown",
     "metadata": {},
     "source": [
      "- aka associate arrays / key-value pairs\n",
      "- mutable\n",
      "- unordered"
     ]
    },
    {
     "cell_type": "code",
     "collapsed": false,
     "input": [
      "#Can contain multiple types\n",
      "employee_info = {'id': 123, 'name': 'Matthew', 'manages': [45,67,90], 'managed_by': 2}\n",
      "print \"Name {}: Headcount: {}\".format(employee_info['name'], len(employee_info['manages']))"
     ],
     "language": "python",
     "metadata": {},
     "outputs": []
    },
    {
     "cell_type": "code",
     "collapsed": false,
     "input": [
      "offensive_skill_dict = {'RB': 'Running Back', 'WR': 'Wide Receiver', 'QB': 'Quarterback', 'FB': 'Full back', 'TE': 'Tight End'}\n",
      "print offensive_skill_dict"
     ],
     "language": "python",
     "metadata": {},
     "outputs": []
    },
    {
     "cell_type": "code",
     "collapsed": false,
     "input": [
      "print offensive_skill_dict.keys()"
     ],
     "language": "python",
     "metadata": {},
     "outputs": []
    },
    {
     "cell_type": "heading",
     "level": 3,
     "metadata": {},
     "source": [
      "Sets"
     ]
    },
    {
     "cell_type": "markdown",
     "metadata": {},
     "source": [
      "- unique\n",
      "- cool operations"
     ]
    },
    {
     "cell_type": "code",
     "collapsed": false,
     "input": [
      "#remove redundant entries\n",
      "list_list = [1,1,2,4,6,8,3,1,2,4,5]\n",
      "set_list = set(list_list)\n",
      "print set_list"
     ],
     "language": "python",
     "metadata": {},
     "outputs": []
    },
    {
     "cell_type": "code",
     "collapsed": false,
     "input": [
      "#Set operations\n",
      "panel_a, panel_b = set(('BRCA1', 'BRCA2', 'TP53', 'CHEK2', 'MYC')), set(('CHEK2', 'SPHK1', 'MYCN', 'MYC'))\n",
      "\n",
      "print \"Genes in panel 1 but not in panel b: {}\\n\".format((panel_a - panel_b))\n",
      "print \"Genes in both panels (Intersection): {}\\n\".format(panel_a & panel_b)\n",
      "print \"All the genes: {}\\n\".format(panel_a | panel_b)\n",
      "print \"Genes in A that aren't in B, genes in B that aren't in A (symmetric difference): {}\\n\".format(panel_a ^ panel_b)\n"
     ],
     "language": "python",
     "metadata": {},
     "outputs": []
    },
    {
     "cell_type": "code",
     "collapsed": false,
     "input": [],
     "language": "python",
     "metadata": {},
     "outputs": []
    },
    {
     "cell_type": "heading",
     "level": 3,
     "metadata": {},
     "source": [
      "4. flow control"
     ]
    },
    {
     "cell_type": "heading",
     "level": 3,
     "metadata": {},
     "source": [
      "iterating through a list"
     ]
    },
    {
     "cell_type": "code",
     "collapsed": false,
     "input": [
      "my_list = ['Jimmy Carter','Ronald Regan','George Bush','Bill Clinton', 'George HW Bush', 'Barack Obama']"
     ],
     "language": "python",
     "metadata": {},
     "outputs": []
    },
    {
     "cell_type": "code",
     "collapsed": false,
     "input": [
      "#Not the best way\n",
      "for index in range(0, len(my_list)):\n",
      "    print my_list[index]"
     ],
     "language": "python",
     "metadata": {},
     "outputs": []
    },
    {
     "cell_type": "code",
     "collapsed": false,
     "input": [
      "#Better\n",
      "for president in my_list:\n",
      "    print (president)"
     ],
     "language": "python",
     "metadata": {},
     "outputs": []
    },
    {
     "cell_type": "code",
     "collapsed": false,
     "input": [
      "#what if I want the index too\n",
      "for index, president in enumerate(my_list):\n",
      "    print index, president"
     ],
     "language": "python",
     "metadata": {},
     "outputs": []
    },
    {
     "cell_type": "code",
     "collapsed": false,
     "input": [
      "#list comprehension - this is pythonic - and faster!\n",
      "[x for x in my_list]"
     ],
     "language": "python",
     "metadata": {},
     "outputs": []
    },
    {
     "cell_type": "heading",
     "level": 4,
     "metadata": {},
     "source": [
      "Faster?"
     ]
    },
    {
     "cell_type": "code",
     "collapsed": false,
     "input": [
      "%%timeit\n",
      "result = []\n",
      "for x in range(1,10000):\n",
      "    for y in range(1,10000):\n",
      "        result.append(x)\n",
      "len(result)"
     ],
     "language": "python",
     "metadata": {},
     "outputs": [
      {
       "output_type": "stream",
       "stream": "stdout",
       "text": [
        "1 loops, best of 3: 10.8 s per loop\n"
       ]
      }
     ],
     "prompt_number": 38
    },
    {
     "cell_type": "code",
     "collapsed": false,
     "input": [
      "%%timeit\n",
      "field = [x for x in range(1,10000) for y in range(1,10000)]\n",
      "len(field)"
     ],
     "language": "python",
     "metadata": {},
     "outputs": [
      {
       "output_type": "stream",
       "stream": "stdout",
       "text": [
        "1 loops, best of 3: 3.82 s per loop\n"
       ]
      }
     ],
     "prompt_number": 39
    },
    {
     "cell_type": "code",
     "collapsed": false,
     "input": [
      "zip"
     ],
     "language": "python",
     "metadata": {},
     "outputs": []
    },
    {
     "cell_type": "code",
     "collapsed": false,
     "input": [
      "map"
     ],
     "language": "python",
     "metadata": {},
     "outputs": []
    },
    {
     "cell_type": "code",
     "collapsed": false,
     "input": [
      "lambda"
     ],
     "language": "python",
     "metadata": {},
     "outputs": []
    },
    {
     "cell_type": "code",
     "collapsed": false,
     "input": [
      "comprehensions"
     ],
     "language": "python",
     "metadata": {},
     "outputs": []
    },
    {
     "cell_type": "heading",
     "level": 3,
     "metadata": {},
     "source": [
      "Additional Resources"
     ]
    },
    {
     "cell_type": "markdown",
     "metadata": {},
     "source": [
      "Web based viewer for ipython notebooks\n",
      "http://nbviewer.ipython.org/"
     ]
    }
   ],
   "metadata": {}
  }
 ]
}